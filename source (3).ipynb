{
 "cells": [
  {
   "cell_type": "markdown",
   "id": "a894cf5b",
   "metadata": {},
   "source": [
    "\n",
    "# 🚍 NYC Bus Reliability vs Weather, Traffic, and Service Alerts\n",
    "\n",
    "**Goal:** quantify how weather, traffic, and service disruptions relate to NYC bus **Wait Assessment (WA)**.\n",
    "\n",
    "> _Checkpoint 2 — Exploratory Data Analysis & Visualization (IT4063C)_\n"
   ]
  },
  {
   "cell_type": "markdown",
   "id": "10e481fa",
   "metadata": {},
   "source": [
    "\n",
    "## 🧭 Overview\n",
    "Street-running buses are exposed to weather and surface traffic, and riders feel it when reliability slips.\n",
    "This notebook pulls **three different data acquisition methods** (CSV files, JSON API, and a CSV API endpoint),\n",
    "cleans and aligns them at the monthly level, runs EDA, and builds visualizations. I keep comments brief and first-person,\n",
    "and I include light debugging prints so I can see what's going right (or not).\n"
   ]
  },
  {
   "cell_type": "markdown",
   "id": "3355fbeb",
   "metadata": {},
   "source": [
    "\n",
    "## 🗂️ Data Sources\n",
    "- **MTA Bus Performance (Wait Assessment)** — `data/bus_data.csv` (CSV)\n",
    "- **NOAA GHCN-Daily – Central Park (USW00094728)** — `data/weather_data.csv` (CSV)\n",
    "- **NYC DOT Traffic** — JSON API: `https://data.ny.gov/resource/7kct-peq7.json`\n",
    "- **MTA Alerts (Historical/Recent)** — JSON API: `https://data.ny.gov/api/v3/views/7kct-peq7/query.json`\n",
    "\n",
    "These cover **CSV files**, **JSON API**, and **Protocol Buffers / CSV API** acquisition methods.\n"
   ]
  },
  {
   "cell_type": "code",
   "execution_count": 1,
   "id": "aac83f61",
   "metadata": {},
   "outputs": [
    {
     "name": "stdout",
     "output_type": "stream",
     "text": [
      "[INFO] Notebook started. Python 3.11.9\n"
     ]
    }
   ],
   "source": [
    "\n",
    "# Imports + config\n",
    "import os, math, json, time, sys\n",
    "from datetime import datetime, timezone\n",
    "import numpy as np\n",
    "import pandas as pd\n",
    "import requests\n",
    "from requests.adapters import HTTPAdapter, Retry\n",
    "import matplotlib.pyplot as plt\n",
    "import plotly.express as px\n",
    "\n",
    "# Optional: GTFS-rt parsing (alerts)\n",
    "try:\n",
    "    from google.transit import gtfs_realtime_pb2\n",
    "    HAVE_GTFS = True\n",
    "except Exception:\n",
    "    HAVE_GTFS = False\n",
    "\n",
    "pd.set_option('display.max_columns', 200)\n",
    "pd.set_option('display.width', 140)\n",
    "print(\"[INFO] Notebook started. Python\", sys.version.split()[0])\n",
    "\n",
    "# Endpoints (kept separate so I can tweak easily)\n",
    "TRAFFIC_URL = \"https://data.cityofnewyork.us/resource/i4gi-tjb9.json\"\n",
    "ALERTS_CSV_URL = \"https://data.ny.gov/resource/7kct-peq7.csv\"\n",
    "GTFS_ALERTS_URL = \"https://api-endpoint.mta.info/Dataservice/mtagtfsfeeds/camsys%2Fbus-alerts\"\n"
   ]
  },
  {
   "cell_type": "code",
   "execution_count": 3,
   "id": "6a579516",
   "metadata": {},
   "outputs": [],
   "source": [
    "\n",
    "# Helper functions\n",
    "def pct(num, den):\n",
    "    return 0 if den == 0 else 100.0 * num / den\n",
    "\n",
    "def must_have_cols(df, cols, name):\n",
    "    missing = [c for c in cols if c not in df.columns]\n",
    "    if missing:\n",
    "        raise KeyError(f\"[FATAL] {name} missing required columns: {missing}\")\n",
    "\n",
    "def nonempty_df(df, name):\n",
    "    if df is None or len(df) == 0:\n",
    "        raise ValueError(f\"[FATAL] {name} is empty\")\n",
    "    print(f\"[OK] {name}: shape={df.shape}\")\n",
    "\n",
    "def to_month_start(ts):\n",
    "    s = pd.to_datetime(ts, errors='coerce')\n",
    "    return s.dt.to_period('M').dt.to_timestamp()\n",
    "\n",
    "def print_range(df, col, name):\n",
    "    if col not in df:\n",
    "        print(f\"[WARN] {name}.{col} missing\")\n",
    "        return\n",
    "    v = df[col].dropna()\n",
    "    if len(v):\n",
    "        print(f\"[DEBUG] {name}.{col} range: {v.min()} → {v.max()}\")\n",
    "    else:\n",
    "        print(f\"[WARN] {name}.{col} has no non-null values\")\n",
    "\n",
    "class Backoff:\n",
    "    @staticmethod\n",
    "    def sleep(i, base=1.2):\n",
    "        t = base ** i + np.random.random() * 0.3\n",
    "        time.sleep(t)\n",
    "        print(f\"[DEBUG] backoff ~{t:.2f}s\")\n",
    "\n",
    "def robust_session(total=5, backoff=0.8):\n",
    "    r = Retry(total=total, backoff_factor=backoff, status_forcelist=[429,500,502,503,504], allowed_methods=frozenset(['GET']))\n",
    "    s = requests.Session()\n",
    "    s.mount('https://', HTTPAdapter(max_retries=r))\n",
    "    return s\n"
   ]
  },
  {
   "cell_type": "code",
   "execution_count": 4,
   "id": "a4871ed6",
   "metadata": {},
   "outputs": [
    {
     "name": "stdout",
     "output_type": "stream",
     "text": [
      "[OK] bus_raw: shape=(71725, 9)\n",
      "[DEBUG] bus_raw bad date rows: 0/71725 (0.00%)\n",
      "[DEBUG] bus_raw.wait_assessment range: 0.0 → 1.0\n",
      "[OK] bus_monthly: shape=(60, 6)\n",
      "[DEBUG] bus_monthly.wa_weighted range: 0.6589725645682454 → 0.7833572224290885\n",
      "[OK] weather_raw: shape=(57269, 124)\n",
      "[DEBUG] weather_raw tavg filled count: 54621\n",
      "[OK] weather_monthly: shape=(1882, 7)\n",
      "[DEBUG] weather_monthly.tavg range: -6.7196428571428575 → 27.596774193548388\n",
      "[DEBUG] weather_monthly.prcp_mm range: 0.3 → 481.3\n"
     ]
    },
    {
     "name": "stderr",
     "output_type": "stream",
     "text": [
      "/var/folders/wq/653s0dfs6yq5kdj7glvqbz8w0000gn/T/ipykernel_43367/2307155281.py:37: DtypeWarning: Columns (17,19,21,23,25,27,29,31,33,35,37,39,41,43,45,47,49,51,53,55,57,59,61,63,65,67,69,71,73,75,77,79,81,83,85,87,89,91,93,95,97,99,101,103,105,107,109,111,113,115,117,119,121,123) have mixed types. Specify dtype option on import or set low_memory=False.\n",
      "  weather = pd.read_csv(weather_path)\n"
     ]
    }
   ],
   "source": [
    "\n",
    "# === CSV 1: MTA Bus Performance ===\n",
    "bus_path = 'data/bus_data.csv'\n",
    "if not os.path.exists(bus_path):\n",
    "    raise FileNotFoundError(f\"[FATAL] Missing {bus_path}\")\n",
    "bus = pd.read_csv(bus_path, na_values=['', ' ', 'null', 'NULL'])\n",
    "nonempty_df(bus, 'bus_raw')\n",
    "bus.columns = [c.strip().lower().replace(' ', '_') for c in bus.columns]\n",
    "must_have_cols(bus, ['month','wait_assessment','number_of_trips_passing_wait','number_of_scheduled_trips'], 'bus_raw')\n",
    "\n",
    "bus['date'] = pd.to_datetime(bus['month'], errors='coerce')\n",
    "bad = bus['date'].isna().sum()\n",
    "print(f\"[DEBUG] bus_raw bad date rows: {bad}/{len(bus)} ({pct(bad, len(bus)):.2f}%)\")\n",
    "bus = bus.dropna(subset=['date'])\n",
    "\n",
    "for c in ['number_of_trips_passing_wait','number_of_scheduled_trips']:\n",
    "    bus[c] = pd.to_numeric(bus[c].astype(str).str.replace(',','', regex=False), errors='coerce')\n",
    "bus['wait_assessment'] = pd.to_numeric(bus['wait_assessment'].astype(str).str.rstrip('%'), errors='coerce')/100.0\n",
    "print_range(bus, 'wait_assessment', 'bus_raw')\n",
    "\n",
    "# Monthly aggregation — weighted WA\n",
    "b = bus.copy()\n",
    "b['date'] = to_month_start(b['date'])\n",
    "b['wa_w'] = b['wait_assessment'] * b['number_of_scheduled_trips']\n",
    "bus_monthly = (b.groupby('date', as_index=False)\n",
    "                 .agg(wa_w=('wa_w','sum'),\n",
    "                      scheduled=('number_of_scheduled_trips','sum'),\n",
    "                      passing=('number_of_trips_passing_wait','sum'))\n",
    "                 .assign(wa_weighted=lambda x: x.wa_w/x.scheduled,\n",
    "                         pct_passing=lambda x: x.passing/x.scheduled))\n",
    "nonempty_df(bus_monthly, 'bus_monthly')\n",
    "print_range(bus_monthly, 'wa_weighted', 'bus_monthly')\n",
    "\n",
    "# === CSV 2: NOAA Weather (daily) ===\n",
    "weather_path = 'data/weather_data.csv'\n",
    "if not os.path.exists(weather_path):\n",
    "    raise FileNotFoundError(f\"[FATAL] Missing {weather_path}\")\n",
    "weather = pd.read_csv(weather_path)\n",
    "nonempty_df(weather, 'weather_raw')\n",
    "weather.columns = [c.strip().lower() for c in weather.columns]\n",
    "must_have_cols(weather, ['date'], 'weather_raw')\n",
    "weather['date'] = pd.to_datetime(weather['date'], errors='coerce')\n",
    "weather = weather.dropna(subset=['date'])\n",
    "\n",
    "for c in ['prcp','snow','snwd','tmax','tmin','tavg','awnd']:\n",
    "    if c in weather:\n",
    "        weather[c] = pd.to_numeric(weather[c], errors='coerce')\n",
    "    else:\n",
    "        print(f\"[WARN] weather_raw missing {c}\")\n",
    "\n",
    "# unit conversions (NOAA tenths)\n",
    "if 'tmax' in weather: weather['tmax'] = weather['tmax'] / 10.0\n",
    "if 'tmin' in weather: weather['tmin'] = weather['tmin'] / 10.0\n",
    "if 'tavg' in weather: weather['tavg'] = weather['tavg'] / 10.0\n",
    "if 'prcp' in weather: weather['prcp_mm'] = weather['prcp'] / 10.0\n",
    "if 'snow' in weather: weather['snow_mm'] = weather['snow'] / 10.0\n",
    "if 'awnd' in weather: weather['awnd_ms'] = weather['awnd'] / 10.0\n",
    "\n",
    "# backfill tavg from min/max\n",
    "if all(c in weather for c in ['tavg','tmin','tmax']):\n",
    "    missing_tavg = weather['tavg'].isna().sum()\n",
    "    weather.loc[weather['tavg'].isna(), 'tavg'] = (weather['tmin'] + weather['tmax'])/2\n",
    "    print(f\"[DEBUG] weather_raw tavg filled count: {missing_tavg}\")\n",
    "else:\n",
    "    print(\"[WARN] cannot backfill tavg (missing tmin/tmax)\")\n",
    "\n",
    "# Monthly weather\n",
    "w = weather.copy()\n",
    "w['date'] = to_month_start(w['date'])\n",
    "weather_monthly = (w.groupby('date', as_index=False)\n",
    "                     .agg(tavg=('tavg','mean'),\n",
    "                          tmax=('tmax','mean'),\n",
    "                          tmin=('tmin','mean'),\n",
    "                          prcp_mm=('prcp_mm','sum'),\n",
    "                          snow_mm=('snow_mm','sum'),\n",
    "                          awnd_ms=('awnd_ms','mean')))\n",
    "nonempty_df(weather_monthly, 'weather_monthly')\n",
    "print_range(weather_monthly, 'tavg', 'weather_monthly')\n",
    "print_range(weather_monthly, 'prcp_mm', 'weather_monthly')\n"
   ]
  },
  {
   "cell_type": "code",
   "execution_count": 5,
   "id": "b8aeefd3",
   "metadata": {},
   "outputs": [
    {
     "name": "stdout",
     "output_type": "stream",
     "text": [
      "[INFO] traffic page 1 (offset=0)\n",
      "[INFO] traffic page 2 (offset=4000)\n",
      "[INFO] traffic page 3 (offset=8000)\n",
      "[OK] traffic_monthly: shape=(1, 2)\n",
      "[DEBUG] traffic_monthly.mean_speed_mph range: 26.39502 → 26.39502\n"
     ]
    },
    {
     "name": "stderr",
     "output_type": "stream",
     "text": [
      "/var/folders/wq/653s0dfs6yq5kdj7glvqbz8w0000gn/T/ipykernel_43367/1166677574.py:41: UserWarning: Converting to PeriodArray/Index representation will drop timezone information.\n",
      "  traffic['date'] = traffic['data_as_of'].dt.tz_convert('America/New_York').dt.to_period('M').dt.to_timestamp()\n"
     ]
    }
   ],
   "source": [
    "\n",
    "# === JSON API: NYC DOT Traffic ===\n",
    "def fetch_traffic_df(url, limit=4000, max_pages=4, timeout=25):\n",
    "    s = robust_session(total=4, backoff=1.0)\n",
    "    cols = \"id,speed,travel_time,status,data_as_of,borough,link_id,link_name\"\n",
    "    frames = []\n",
    "    offset = 0\n",
    "    for i in range(max_pages):\n",
    "        params = {\n",
    "            \"$select\": cols,\n",
    "            \"$order\": \"data_as_of DESC\",\n",
    "            \"$limit\": limit,\n",
    "            \"$offset\": offset\n",
    "        }\n",
    "        try:\n",
    "            print(f\"[INFO] traffic page {i+1} (offset={offset})\")\n",
    "            r = s.get(url, params=params, timeout=timeout)\n",
    "            r.raise_for_status()\n",
    "            chunk = r.json()\n",
    "            if not chunk:\n",
    "                break\n",
    "            frames.append(pd.DataFrame(chunk))\n",
    "            if len(chunk) < limit:\n",
    "                break\n",
    "            offset += limit\n",
    "        except requests.RequestException as e:\n",
    "            print(\"[WARN] traffic fetch error:\", e)\n",
    "            Backoff.sleep(i)\n",
    "            continue\n",
    "    if not frames:\n",
    "        print(\"[WARN] no traffic rows\")\n",
    "        return pd.DataFrame(columns=cols.split(\",\"))\n",
    "    df = pd.concat(frames, ignore_index=True)\n",
    "    return df\n",
    "\n",
    "traffic = fetch_traffic_df(TRAFFIC_URL, limit=4000, max_pages=3, timeout=25)\n",
    "if len(traffic):\n",
    "    traffic = traffic[['id','speed','travel_time','status','data_as_of','borough','link_id','link_name']]\n",
    "    traffic['speed'] = pd.to_numeric(traffic['speed'], errors='coerce')\n",
    "    traffic['data_as_of'] = pd.to_datetime(traffic['data_as_of'], errors='coerce', utc=True)\n",
    "    traffic = traffic.dropna(subset=['data_as_of','speed'])\n",
    "    traffic['date'] = traffic['data_as_of'].dt.tz_convert('America/New_York').dt.to_period('M').dt.to_timestamp()\n",
    "    traffic_monthly = traffic.groupby('date', as_index=False).agg(mean_speed_mph=('speed','mean'))\n",
    "    nonempty_df(traffic_monthly, 'traffic_monthly')\n",
    "    print_range(traffic_monthly, 'mean_speed_mph', 'traffic_monthly')\n",
    "else:\n",
    "    traffic_monthly = pd.DataFrame(columns=['date','mean_speed_mph'])\n"
   ]
  },
  {
   "cell_type": "code",
   "execution_count": 7,
   "id": "fc9bbbd1",
   "metadata": {},
   "outputs": [
    {
     "name": "stdout",
     "output_type": "stream",
     "text": [
      "[OK] alerts_monthly: shape=(7, 2)\n",
      "[DEBUG] alerts_monthly.alert_count range: 3929 → 8536\n",
      "[OK] alerts_latest rows: 25\n"
     ]
    },
    {
     "data": {
      "text/html": [
       "<div>\n",
       "<style scoped>\n",
       "    .dataframe tbody tr th:only-of-type {\n",
       "        vertical-align: middle;\n",
       "    }\n",
       "\n",
       "    .dataframe tbody tr th {\n",
       "        vertical-align: top;\n",
       "    }\n",
       "\n",
       "    .dataframe thead th {\n",
       "        text-align: right;\n",
       "    }\n",
       "</style>\n",
       "<table border=\"1\" class=\"dataframe\">\n",
       "  <thead>\n",
       "    <tr style=\"text-align: right;\">\n",
       "      <th></th>\n",
       "      <th>alert_id</th>\n",
       "      <th>event_id</th>\n",
       "      <th>update_number</th>\n",
       "      <th>date</th>\n",
       "      <th>agency</th>\n",
       "      <th>status_label</th>\n",
       "      <th>affected</th>\n",
       "      <th>header</th>\n",
       "    </tr>\n",
       "  </thead>\n",
       "  <tbody>\n",
       "    <tr>\n",
       "      <th>0</th>\n",
       "      <td>442345</td>\n",
       "      <td>216525</td>\n",
       "      <td>4</td>\n",
       "      <td>2025-08-30 23:55:00</td>\n",
       "      <td>NYCT Subway</td>\n",
       "      <td>delays</td>\n",
       "      <td>2 | 3</td>\n",
       "      <td>2/3 trains are running with severe delays in b...</td>\n",
       "    </tr>\n",
       "    <tr>\n",
       "      <th>1</th>\n",
       "      <td>442344</td>\n",
       "      <td>216529</td>\n",
       "      <td>0</td>\n",
       "      <td>2025-08-30 23:49:00</td>\n",
       "      <td>NYCT Subway</td>\n",
       "      <td>delays</td>\n",
       "      <td>A | H</td>\n",
       "      <td>A/Rockaway Park Shuttle trains are delayed in ...</td>\n",
       "    </tr>\n",
       "    <tr>\n",
       "      <th>2</th>\n",
       "      <td>442343</td>\n",
       "      <td>216528</td>\n",
       "      <td>0</td>\n",
       "      <td>2025-08-30 23:48:00</td>\n",
       "      <td>NYCT Subway</td>\n",
       "      <td>express-to-local</td>\n",
       "      <td>E | F</td>\n",
       "      <td>Manhattan-bound E/F trains are running local f...</td>\n",
       "    </tr>\n",
       "    <tr>\n",
       "      <th>3</th>\n",
       "      <td>442342</td>\n",
       "      <td>216525</td>\n",
       "      <td>3</td>\n",
       "      <td>2025-08-30 23:35:00</td>\n",
       "      <td>NYCT Subway</td>\n",
       "      <td>reroute | part-suspended | delays</td>\n",
       "      <td>2 | 3 | 5</td>\n",
       "      <td>3 trains are suspended between Harlem-148 St t...</td>\n",
       "    </tr>\n",
       "    <tr>\n",
       "      <th>4</th>\n",
       "      <td>442341</td>\n",
       "      <td>216526</td>\n",
       "      <td>1</td>\n",
       "      <td>2025-08-30 23:23:00</td>\n",
       "      <td>NYCT Subway</td>\n",
       "      <td>delays</td>\n",
       "      <td>E</td>\n",
       "      <td>E trains are running with delays after we requ...</td>\n",
       "    </tr>\n",
       "  </tbody>\n",
       "</table>\n",
       "</div>"
      ],
      "text/plain": [
       "   alert_id  event_id  update_number                date       agency                       status_label   affected  \\\n",
       "0    442345    216525              4 2025-08-30 23:55:00  NYCT Subway                             delays      2 | 3   \n",
       "1    442344    216529              0 2025-08-30 23:49:00  NYCT Subway                             delays      A | H   \n",
       "2    442343    216528              0 2025-08-30 23:48:00  NYCT Subway                   express-to-local      E | F   \n",
       "3    442342    216525              3 2025-08-30 23:35:00  NYCT Subway  reroute | part-suspended | delays  2 | 3 | 5   \n",
       "4    442341    216526              1 2025-08-30 23:23:00  NYCT Subway                             delays          E   \n",
       "\n",
       "                                              header  \n",
       "0  2/3 trains are running with severe delays in b...  \n",
       "1  A/Rockaway Park Shuttle trains are delayed in ...  \n",
       "2  Manhattan-bound E/F trains are running local f...  \n",
       "3  3 trains are suspended between Harlem-148 St t...  \n",
       "4  E trains are running with delays after we requ...  "
      ]
     },
     "metadata": {},
     "output_type": "display_data"
    }
   ],
   "source": [
    "# === CSV API: MTA Alerts (data.ny.gov) \n",
    "import io\n",
    "\n",
    "def fetch_alerts_csv_counts(url, since=\"2020-01-01\", limit=50000):\n",
    "    s = robust_session(total=4, backoff=0.8)\n",
    "    params = {\n",
    "        \"$select\": \"date, agency, status_label\",\n",
    "        \"$where\": f\"date >= '{since}'\",\n",
    "        \"$order\": \"date DESC\",\n",
    "        \"$limit\": limit\n",
    "    }\n",
    "    try:\n",
    "        r = s.get(url, params=params, timeout=25)\n",
    "        r.raise_for_status()\n",
    "        # some endpoints return CSV text, not JSON\n",
    "        if r.headers.get(\"Content-Type\", \"\").startswith(\"text/csv\"):\n",
    "            df = pd.read_csv(io.StringIO(r.text))\n",
    "        else:\n",
    "            df = pd.DataFrame(r.json())\n",
    "    except Exception as e:\n",
    "        print(\"[WARN] alerts fetch failed:\", e)\n",
    "        return pd.DataFrame()\n",
    "\n",
    "    if df.empty:\n",
    "        print(\"[WARN] alerts_monthly: no data\")\n",
    "        return df\n",
    "\n",
    "    df['date'] = pd.to_datetime(df['date'], errors='coerce')\n",
    "    df = df.dropna(subset=['date'])\n",
    "    df['date'] = to_month_start(df['date'])\n",
    "    monthly = (df.groupby('date', as_index=False)\n",
    "                 .agg(alert_count=('status_label','count')))\n",
    "    return monthly\n",
    "\n",
    "\n",
    "def fetch_alerts_csv_latest(url, limit=40):\n",
    "    s = robust_session(total=4, backoff=0.8)\n",
    "    params = {\n",
    "        \"$select\": \"alert_id,event_id,update_number,date,agency,status_label,affected,header\",\n",
    "        \"$order\": \"date DESC\",\n",
    "        \"$limit\": limit\n",
    "    }\n",
    "    try:\n",
    "        r = s.get(url, params=params, timeout=25)\n",
    "        r.raise_for_status()\n",
    "        if r.headers.get(\"Content-Type\", \"\").startswith(\"text/csv\"):\n",
    "            df = pd.read_csv(io.StringIO(r.text))\n",
    "        else:\n",
    "            df = pd.DataFrame(r.json())\n",
    "    except Exception as e:\n",
    "        print(\"[WARN] alerts_latest fetch failed:\", e)\n",
    "        return pd.DataFrame()\n",
    "\n",
    "    if df.empty:\n",
    "        print(\"[WARN] alerts_latest: no rows\")\n",
    "        return df\n",
    "\n",
    "    df['date'] = pd.to_datetime(df['date'], errors='coerce')\n",
    "    df = df.dropna(subset=['date'])\n",
    "    return df\n",
    "\n",
    "\n",
    "# Pull counts + latest snapshot\n",
    "alerts_monthly = fetch_alerts_csv_counts(ALERTS_CSV_URL, since=\"2020-01-01\")\n",
    "if not alerts_monthly.empty:\n",
    "    nonempty_df(alerts_monthly, 'alerts_monthly')\n",
    "    print_range(alerts_monthly, 'alert_count', 'alerts_monthly')\n",
    "else:\n",
    "    print(\"[WARN] alerts_monthly empty after fetch\")\n",
    "\n",
    "alerts_latest = fetch_alerts_csv_latest(ALERTS_CSV_URL, limit=25)\n",
    "if not alerts_latest.empty:\n",
    "    print(f\"[OK] alerts_latest rows: {len(alerts_latest)}\")\n",
    "    display(alerts_latest.head(5))\n",
    "else:\n",
    "    print(\"[WARN] alerts_latest empty\")\n"
   ]
  },
  {
   "cell_type": "code",
   "execution_count": 10,
   "id": "d990b129",
   "metadata": {},
   "outputs": [
    {
     "name": "stdout",
     "output_type": "stream",
     "text": [
      "[INFO] Fetching GTFS-rt feed from https://api-endpoint.mta.info/Dataservice/mtagtfsfeeds/camsys%2Fbus-alerts\n",
      "[OK] Parsed 174 GTFS-rt alerts (timestamp: 2025-10-24 20:30:55+00:00)\n"
     ]
    },
    {
     "data": {
      "text/html": [
       "<div>\n",
       "<style scoped>\n",
       "    .dataframe tbody tr th:only-of-type {\n",
       "        vertical-align: middle;\n",
       "    }\n",
       "\n",
       "    .dataframe tbody tr th {\n",
       "        vertical-align: top;\n",
       "    }\n",
       "\n",
       "    .dataframe thead th {\n",
       "        text-align: right;\n",
       "    }\n",
       "</style>\n",
       "<table border=\"1\" class=\"dataframe\">\n",
       "  <thead>\n",
       "    <tr style=\"text-align: right;\">\n",
       "      <th></th>\n",
       "      <th>seen_utc</th>\n",
       "      <th>header_text</th>\n",
       "      <th>effect</th>\n",
       "      <th>cause</th>\n",
       "    </tr>\n",
       "  </thead>\n",
       "  <tbody>\n",
       "    <tr>\n",
       "      <th>0</th>\n",
       "      <td>2025-10-24 20:30:55+00:00</td>\n",
       "      <td>Westbound B25, B26, B38, B41  and B52 buses ar...</td>\n",
       "      <td>8</td>\n",
       "      <td>1</td>\n",
       "    </tr>\n",
       "    <tr>\n",
       "      <th>1</th>\n",
       "      <td>2025-10-24 20:30:55+00:00</td>\n",
       "      <td>X28 and X38 buses are detoured in both directi...</td>\n",
       "      <td>8</td>\n",
       "      <td>1</td>\n",
       "    </tr>\n",
       "    <tr>\n",
       "      <th>2</th>\n",
       "      <td>2025-10-24 20:30:55+00:00</td>\n",
       "      <td>The 3:46 PM SIM1 trip departing from Broadway/...</td>\n",
       "      <td>8</td>\n",
       "      <td>1</td>\n",
       "    </tr>\n",
       "    <tr>\n",
       "      <th>3</th>\n",
       "      <td>2025-10-24 20:30:55+00:00</td>\n",
       "      <td>The 3:40 PM SIM33 trip from Broadway/E 13th St...</td>\n",
       "      <td>8</td>\n",
       "      <td>1</td>\n",
       "    </tr>\n",
       "    <tr>\n",
       "      <th>4</th>\n",
       "      <td>2025-10-24 20:30:55+00:00</td>\n",
       "      <td>Northbound SIM1C, SIM3C, SIM4C, and SIM33C bus...</td>\n",
       "      <td>8</td>\n",
       "      <td>1</td>\n",
       "    </tr>\n",
       "    <tr>\n",
       "      <th>5</th>\n",
       "      <td>2025-10-24 20:30:55+00:00</td>\n",
       "      <td>The 4:40 PM BxM9 bus scheduled to depart from ...</td>\n",
       "      <td>8</td>\n",
       "      <td>1</td>\n",
       "    </tr>\n",
       "    <tr>\n",
       "      <th>6</th>\n",
       "      <td>2025-10-24 20:30:55+00:00</td>\n",
       "      <td>Northbound Q61 stop on Roosevelt Ave at Main S...</td>\n",
       "      <td>8</td>\n",
       "      <td>1</td>\n",
       "    </tr>\n",
       "    <tr>\n",
       "      <th>7</th>\n",
       "      <td>2025-10-24 20:30:55+00:00</td>\n",
       "      <td>Q90 stops on Roosevelt Ave at College Point Bl...</td>\n",
       "      <td>8</td>\n",
       "      <td>1</td>\n",
       "    </tr>\n",
       "    <tr>\n",
       "      <th>8</th>\n",
       "      <td>2025-10-24 20:30:55+00:00</td>\n",
       "      <td>Bx23 and Q50 stops on Bartow Ave/Hutchinson Ri...</td>\n",
       "      <td>8</td>\n",
       "      <td>1</td>\n",
       "    </tr>\n",
       "    <tr>\n",
       "      <th>9</th>\n",
       "      <td>2025-10-24 20:30:55+00:00</td>\n",
       "      <td>Eastbound QM2 and  QM4  stops on 6th Ave from ...</td>\n",
       "      <td>8</td>\n",
       "      <td>1</td>\n",
       "    </tr>\n",
       "  </tbody>\n",
       "</table>\n",
       "</div>"
      ],
      "text/plain": [
       "                   seen_utc                                        header_text  effect  cause\n",
       "0 2025-10-24 20:30:55+00:00  Westbound B25, B26, B38, B41  and B52 buses ar...       8      1\n",
       "1 2025-10-24 20:30:55+00:00  X28 and X38 buses are detoured in both directi...       8      1\n",
       "2 2025-10-24 20:30:55+00:00  The 3:46 PM SIM1 trip departing from Broadway/...       8      1\n",
       "3 2025-10-24 20:30:55+00:00  The 3:40 PM SIM33 trip from Broadway/E 13th St...       8      1\n",
       "4 2025-10-24 20:30:55+00:00  Northbound SIM1C, SIM3C, SIM4C, and SIM33C bus...       8      1\n",
       "5 2025-10-24 20:30:55+00:00  The 4:40 PM BxM9 bus scheduled to depart from ...       8      1\n",
       "6 2025-10-24 20:30:55+00:00  Northbound Q61 stop on Roosevelt Ave at Main S...       8      1\n",
       "7 2025-10-24 20:30:55+00:00  Q90 stops on Roosevelt Ave at College Point Bl...       8      1\n",
       "8 2025-10-24 20:30:55+00:00  Bx23 and Q50 stops on Bartow Ave/Hutchinson Ri...       8      1\n",
       "9 2025-10-24 20:30:55+00:00  Eastbound QM2 and  QM4  stops on 6th Ave from ...       8      1"
      ]
     },
     "metadata": {},
     "output_type": "display_data"
    }
   ],
   "source": [
    "# === GTFS-rt Bus Alerts Live Snapshot (no key required) ===\n",
    "def try_gtfs_alerts(url):\n",
    "    \"\"\"Fetch and parse the public GTFS-rt bus alerts feed (no key needed).\"\"\"\n",
    "    if not HAVE_GTFS:\n",
    "        print(\"[INFO] gtfs_realtime_pb2 not available; skipping GTFS-rt parsing.\")\n",
    "        return pd.DataFrame()\n",
    "\n",
    "    try:\n",
    "        s = robust_session(total=3, backoff=0.7)\n",
    "        print(f\"[INFO] Fetching GTFS-rt feed from {url}\")\n",
    "        r = s.get(url, timeout=25)\n",
    "        r.raise_for_status()\n",
    "\n",
    "        # Parse the feed\n",
    "        feed = gtfs_realtime_pb2.FeedMessage()\n",
    "        feed.ParseFromString(r.content)\n",
    "        ts = pd.Timestamp.utcfromtimestamp(feed.header.timestamp) if feed.header.timestamp else pd.Timestamp.utcnow()\n",
    "\n",
    "        ents = []\n",
    "        for e in feed.entity:\n",
    "            if e.HasField(\"alert\"):\n",
    "                # Safely extract translated header text\n",
    "                text = \"\"\n",
    "                if hasattr(e.alert, \"header_text\") and hasattr(e.alert.header_text, \"translation\"):\n",
    "                    translations = e.alert.header_text.translation\n",
    "                    if len(translations) > 0 and hasattr(translations[0], \"text\"):\n",
    "                        text = translations[0].text\n",
    "\n",
    "                ents.append({\n",
    "                    \"seen_utc\": ts,\n",
    "                    \"header_text\": text,\n",
    "                    \"effect\": getattr(e.alert, \"effect\", \"\"),\n",
    "                    \"cause\": getattr(e.alert, \"cause\", \"\")\n",
    "                })\n",
    "\n",
    "        if not ents:\n",
    "            print(\"[WARN] GTFS-rt feed parsed successfully but contains no active alerts.\")\n",
    "            return pd.DataFrame()\n",
    "\n",
    "        df = pd.DataFrame(ents)\n",
    "        print(f\"[OK] Parsed {len(df)} GTFS-rt alerts (timestamp: {ts})\")\n",
    "        return df\n",
    "\n",
    "    except Exception as ex:\n",
    "        print(\"[WARN] GTFS-rt fetch/parse failed:\", ex)\n",
    "        return pd.DataFrame()\n",
    "\n",
    "\n",
    "# Pull and preview the live alerts snapshot\n",
    "gtfs_snapshot = try_gtfs_alerts(GTFS_ALERTS_URL)\n",
    "\n",
    "if not gtfs_snapshot.empty:\n",
    "    display(gtfs_snapshot.head(10))\n",
    "else:\n",
    "    print(\"[INFO] No GTFS-rt alerts available or feed returned empty.\")\n"
   ]
  },
  {
   "cell_type": "markdown",
   "id": "eea05ce9",
   "metadata": {},
   "source": [
    "\n",
    "## 🔍 1) Exploratory Data Analysis (EDA)\n",
    "I keep an eye on distributions, correlations, and rough issues (missing values, ranges, duplicates).\n"
   ]
  },
  {
   "cell_type": "code",
   "execution_count": 11,
   "id": "2a626bec",
   "metadata": {},
   "outputs": [
    {
     "name": "stdout",
     "output_type": "stream",
     "text": [
      "\n",
      "========== EXPLORATORY DATA ANALYSIS (EDA) ==========\n",
      "\n",
      "[SCAN] bus_monthly — basic info\n",
      "[INFO] shape=(60, 6), columns=['date', 'wa_w', 'scheduled', 'passing', 'wa_weighted', 'pct_passing']\n",
      "[SCAN] dtypes:\n",
      "date           datetime64[ns]\n",
      "wa_w                  float64\n",
      "scheduled               int64\n",
      "passing                 int64\n",
      "wa_weighted           float64\n",
      "pct_passing           float64\n",
      "dtype: object\n",
      "\n",
      "[SCAN] top null counts:\n",
      "date           0\n",
      "wa_w           0\n",
      "scheduled      0\n",
      "passing        0\n",
      "wa_weighted    0\n",
      "pct_passing    0\n",
      "dtype: int64\n",
      "\n",
      "[SCAN] duplicated rows: 0\n",
      "[INFO] date range: 2020-01-01 00:00:00 → 2024-12-01 00:00:00\n",
      "[OK] dataframe scan complete.\n",
      "\n",
      "[SCAN] weather_monthly — basic info\n",
      "[INFO] shape=(1882, 7), columns=['date', 'tavg', 'tmax', 'tmin', 'prcp_mm', 'snow_mm', 'awnd_ms']\n",
      "[SCAN] dtypes:\n",
      "date       datetime64[ns]\n",
      "tavg              float64\n",
      "tmax              float64\n",
      "tmin              float64\n",
      "prcp_mm           float64\n",
      "snow_mm           float64\n",
      "awnd_ms           float64\n",
      "dtype: object\n",
      "\n",
      "[SCAN] top null counts:\n",
      "awnd_ms    1521\n",
      "date          0\n",
      "tavg          0\n",
      "tmax          0\n",
      "tmin          0\n",
      "prcp_mm       0\n",
      "snow_mm       0\n",
      "dtype: int64\n",
      "\n",
      "[SCAN] duplicated rows: 0\n",
      "[INFO] date range: 1869-01-01 00:00:00 → 2025-10-01 00:00:00\n",
      "[OK] dataframe scan complete.\n",
      "\n",
      "[SCAN] traffic_monthly — basic info\n",
      "[INFO] shape=(1, 2), columns=['date', 'mean_speed_mph']\n",
      "[SCAN] dtypes:\n",
      "date              datetime64[ns]\n",
      "mean_speed_mph           float64\n",
      "dtype: object\n",
      "\n",
      "[SCAN] top null counts:\n",
      "date              0\n",
      "mean_speed_mph    0\n",
      "dtype: int64\n",
      "\n",
      "[SCAN] duplicated rows: 0\n",
      "[INFO] date range: 2025-10-01 00:00:00 → 2025-10-01 00:00:00\n",
      "[OK] dataframe scan complete.\n",
      "\n",
      "[SCAN] alerts_monthly — basic info\n",
      "[INFO] shape=(7, 2), columns=['date', 'alert_count']\n",
      "[SCAN] dtypes:\n",
      "date           datetime64[ns]\n",
      "alert_count             int64\n",
      "dtype: object\n",
      "\n",
      "[SCAN] top null counts:\n",
      "date           0\n",
      "alert_count    0\n",
      "dtype: int64\n",
      "\n",
      "[SCAN] duplicated rows: 0\n",
      "[INFO] date range: 2025-02-01 00:00:00 → 2025-08-01 00:00:00\n",
      "[OK] dataframe scan complete.\n",
      "\n",
      "========== DATASET OVERLAP CHECKS ==========\n",
      "[INFO] BUS ∩ WEATHER: 60 overlapping months.\n",
      " sample: [Timestamp('2020-01-01 00:00:00'), Timestamp('2020-02-01 00:00:00'), Timestamp('2020-03-01 00:00:00')] ... [Timestamp('2024-10-01 00:00:00'), Timestamp('2024-11-01 00:00:00'), Timestamp('2024-12-01 00:00:00')]\n",
      "[INFO] BUS ∩ TRAFFIC: 0 overlapping months.\n",
      "[INFO] BUS ∩ ALERTS: 0 overlapping months.\n",
      "[INFO] BUS∩WEATHER∩TRAFFIC∩ALERTS = 0 overlapping months\n",
      "\n",
      "========== BASIC STATS ==========\n",
      "[STATS] bus_monthly numeric summary:\n"
     ]
    },
    {
     "data": {
      "text/html": [
       "<div>\n",
       "<style scoped>\n",
       "    .dataframe tbody tr th:only-of-type {\n",
       "        vertical-align: middle;\n",
       "    }\n",
       "\n",
       "    .dataframe tbody tr th {\n",
       "        vertical-align: top;\n",
       "    }\n",
       "\n",
       "    .dataframe thead th {\n",
       "        text-align: right;\n",
       "    }\n",
       "</style>\n",
       "<table border=\"1\" class=\"dataframe\">\n",
       "  <thead>\n",
       "    <tr style=\"text-align: right;\">\n",
       "      <th></th>\n",
       "      <th>count</th>\n",
       "      <th>mean</th>\n",
       "      <th>std</th>\n",
       "      <th>min</th>\n",
       "      <th>25%</th>\n",
       "      <th>50%</th>\n",
       "      <th>75%</th>\n",
       "      <th>max</th>\n",
       "    </tr>\n",
       "  </thead>\n",
       "  <tbody>\n",
       "    <tr>\n",
       "      <th>wa_w</th>\n",
       "      <td>60.0</td>\n",
       "      <td>4103269.867</td>\n",
       "      <td>401582.100</td>\n",
       "      <td>2064196.998</td>\n",
       "      <td>3935617.498</td>\n",
       "      <td>4117930.006</td>\n",
       "      <td>4318209.008</td>\n",
       "      <td>4730876.005</td>\n",
       "    </tr>\n",
       "    <tr>\n",
       "      <th>scheduled</th>\n",
       "      <td>60.0</td>\n",
       "      <td>5764126.533</td>\n",
       "      <td>507784.682</td>\n",
       "      <td>2780183.000</td>\n",
       "      <td>5727686.750</td>\n",
       "      <td>5889230.000</td>\n",
       "      <td>5974648.750</td>\n",
       "      <td>6271009.000</td>\n",
       "    </tr>\n",
       "    <tr>\n",
       "      <th>passing</th>\n",
       "      <td>60.0</td>\n",
       "      <td>4103269.867</td>\n",
       "      <td>401582.100</td>\n",
       "      <td>2064197.000</td>\n",
       "      <td>3935617.500</td>\n",
       "      <td>4117930.000</td>\n",
       "      <td>4318209.000</td>\n",
       "      <td>4730876.000</td>\n",
       "    </tr>\n",
       "    <tr>\n",
       "      <th>wa_weighted</th>\n",
       "      <td>60.0</td>\n",
       "      <td>0.712</td>\n",
       "      <td>0.030</td>\n",
       "      <td>0.659</td>\n",
       "      <td>0.688</td>\n",
       "      <td>0.709</td>\n",
       "      <td>0.735</td>\n",
       "      <td>0.783</td>\n",
       "    </tr>\n",
       "    <tr>\n",
       "      <th>pct_passing</th>\n",
       "      <td>60.0</td>\n",
       "      <td>0.712</td>\n",
       "      <td>0.030</td>\n",
       "      <td>0.659</td>\n",
       "      <td>0.688</td>\n",
       "      <td>0.709</td>\n",
       "      <td>0.735</td>\n",
       "      <td>0.783</td>\n",
       "    </tr>\n",
       "  </tbody>\n",
       "</table>\n",
       "</div>"
      ],
      "text/plain": [
       "             count         mean         std          min          25%          50%          75%          max\n",
       "wa_w          60.0  4103269.867  401582.100  2064196.998  3935617.498  4117930.006  4318209.008  4730876.005\n",
       "scheduled     60.0  5764126.533  507784.682  2780183.000  5727686.750  5889230.000  5974648.750  6271009.000\n",
       "passing       60.0  4103269.867  401582.100  2064197.000  3935617.500  4117930.000  4318209.000  4730876.000\n",
       "wa_weighted   60.0        0.712       0.030        0.659        0.688        0.709        0.735        0.783\n",
       "pct_passing   60.0        0.712       0.030        0.659        0.688        0.709        0.735        0.783"
      ]
     },
     "metadata": {},
     "output_type": "display_data"
    },
    {
     "name": "stdout",
     "output_type": "stream",
     "text": [
      "[STATS] weather_monthly numeric summary:\n"
     ]
    },
    {
     "data": {
      "text/html": [
       "<div>\n",
       "<style scoped>\n",
       "    .dataframe tbody tr th:only-of-type {\n",
       "        vertical-align: middle;\n",
       "    }\n",
       "\n",
       "    .dataframe tbody tr th {\n",
       "        vertical-align: top;\n",
       "    }\n",
       "\n",
       "    .dataframe thead th {\n",
       "        text-align: right;\n",
       "    }\n",
       "</style>\n",
       "<table border=\"1\" class=\"dataframe\">\n",
       "  <thead>\n",
       "    <tr style=\"text-align: right;\">\n",
       "      <th></th>\n",
       "      <th>count</th>\n",
       "      <th>mean</th>\n",
       "      <th>std</th>\n",
       "      <th>min</th>\n",
       "      <th>25%</th>\n",
       "      <th>50%</th>\n",
       "      <th>75%</th>\n",
       "      <th>max</th>\n",
       "    </tr>\n",
       "  </thead>\n",
       "  <tbody>\n",
       "    <tr>\n",
       "      <th>tavg</th>\n",
       "      <td>1882.0</td>\n",
       "      <td>12.286</td>\n",
       "      <td>8.947</td>\n",
       "      <td>-6.720</td>\n",
       "      <td>4.015</td>\n",
       "      <td>12.525</td>\n",
       "      <td>20.997</td>\n",
       "      <td>27.597</td>\n",
       "    </tr>\n",
       "    <tr>\n",
       "      <th>tmax</th>\n",
       "      <td>1882.0</td>\n",
       "      <td>16.368</td>\n",
       "      <td>9.331</td>\n",
       "      <td>-2.384</td>\n",
       "      <td>7.507</td>\n",
       "      <td>16.937</td>\n",
       "      <td>25.423</td>\n",
       "      <td>32.358</td>\n",
       "    </tr>\n",
       "    <tr>\n",
       "      <th>tmin</th>\n",
       "      <td>1882.0</td>\n",
       "      <td>8.198</td>\n",
       "      <td>8.606</td>\n",
       "      <td>-11.379</td>\n",
       "      <td>0.427</td>\n",
       "      <td>7.968</td>\n",
       "      <td>16.519</td>\n",
       "      <td>23.203</td>\n",
       "    </tr>\n",
       "    <tr>\n",
       "      <th>prcp_mm</th>\n",
       "      <td>1882.0</td>\n",
       "      <td>96.561</td>\n",
       "      <td>54.329</td>\n",
       "      <td>0.300</td>\n",
       "      <td>58.600</td>\n",
       "      <td>87.200</td>\n",
       "      <td>122.425</td>\n",
       "      <td>481.300</td>\n",
       "    </tr>\n",
       "    <tr>\n",
       "      <th>snow_mm</th>\n",
       "      <td>1882.0</td>\n",
       "      <td>5.650</td>\n",
       "      <td>12.243</td>\n",
       "      <td>0.000</td>\n",
       "      <td>0.000</td>\n",
       "      <td>0.000</td>\n",
       "      <td>4.900</td>\n",
       "      <td>93.700</td>\n",
       "    </tr>\n",
       "    <tr>\n",
       "      <th>awnd_ms</th>\n",
       "      <td>361.0</td>\n",
       "      <td>2.651</td>\n",
       "      <td>0.697</td>\n",
       "      <td>0.780</td>\n",
       "      <td>2.123</td>\n",
       "      <td>2.655</td>\n",
       "      <td>3.100</td>\n",
       "      <td>4.865</td>\n",
       "    </tr>\n",
       "  </tbody>\n",
       "</table>\n",
       "</div>"
      ],
      "text/plain": [
       "          count    mean     std     min     25%     50%      75%      max\n",
       "tavg     1882.0  12.286   8.947  -6.720   4.015  12.525   20.997   27.597\n",
       "tmax     1882.0  16.368   9.331  -2.384   7.507  16.937   25.423   32.358\n",
       "tmin     1882.0   8.198   8.606 -11.379   0.427   7.968   16.519   23.203\n",
       "prcp_mm  1882.0  96.561  54.329   0.300  58.600  87.200  122.425  481.300\n",
       "snow_mm  1882.0   5.650  12.243   0.000   0.000   0.000    4.900   93.700\n",
       "awnd_ms   361.0   2.651   0.697   0.780   2.123   2.655    3.100    4.865"
      ]
     },
     "metadata": {},
     "output_type": "display_data"
    },
    {
     "name": "stdout",
     "output_type": "stream",
     "text": [
      "[STATS] traffic_monthly numeric summary:\n"
     ]
    },
    {
     "data": {
      "text/html": [
       "<div>\n",
       "<style scoped>\n",
       "    .dataframe tbody tr th:only-of-type {\n",
       "        vertical-align: middle;\n",
       "    }\n",
       "\n",
       "    .dataframe tbody tr th {\n",
       "        vertical-align: top;\n",
       "    }\n",
       "\n",
       "    .dataframe thead th {\n",
       "        text-align: right;\n",
       "    }\n",
       "</style>\n",
       "<table border=\"1\" class=\"dataframe\">\n",
       "  <thead>\n",
       "    <tr style=\"text-align: right;\">\n",
       "      <th></th>\n",
       "      <th>count</th>\n",
       "      <th>mean</th>\n",
       "      <th>std</th>\n",
       "      <th>min</th>\n",
       "      <th>25%</th>\n",
       "      <th>50%</th>\n",
       "      <th>75%</th>\n",
       "      <th>max</th>\n",
       "    </tr>\n",
       "  </thead>\n",
       "  <tbody>\n",
       "    <tr>\n",
       "      <th>mean_speed_mph</th>\n",
       "      <td>1.0</td>\n",
       "      <td>26.395</td>\n",
       "      <td>NaN</td>\n",
       "      <td>26.395</td>\n",
       "      <td>26.395</td>\n",
       "      <td>26.395</td>\n",
       "      <td>26.395</td>\n",
       "      <td>26.395</td>\n",
       "    </tr>\n",
       "  </tbody>\n",
       "</table>\n",
       "</div>"
      ],
      "text/plain": [
       "                count    mean  std     min     25%     50%     75%     max\n",
       "mean_speed_mph    1.0  26.395  NaN  26.395  26.395  26.395  26.395  26.395"
      ]
     },
     "metadata": {},
     "output_type": "display_data"
    },
    {
     "name": "stdout",
     "output_type": "stream",
     "text": [
      "[STATS] alerts_monthly numeric summary:\n"
     ]
    },
    {
     "data": {
      "text/html": [
       "<div>\n",
       "<style scoped>\n",
       "    .dataframe tbody tr th:only-of-type {\n",
       "        vertical-align: middle;\n",
       "    }\n",
       "\n",
       "    .dataframe tbody tr th {\n",
       "        vertical-align: top;\n",
       "    }\n",
       "\n",
       "    .dataframe thead th {\n",
       "        text-align: right;\n",
       "    }\n",
       "</style>\n",
       "<table border=\"1\" class=\"dataframe\">\n",
       "  <thead>\n",
       "    <tr style=\"text-align: right;\">\n",
       "      <th></th>\n",
       "      <th>count</th>\n",
       "      <th>mean</th>\n",
       "      <th>std</th>\n",
       "      <th>min</th>\n",
       "      <th>25%</th>\n",
       "      <th>50%</th>\n",
       "      <th>75%</th>\n",
       "      <th>max</th>\n",
       "    </tr>\n",
       "  </thead>\n",
       "  <tbody>\n",
       "    <tr>\n",
       "      <th>alert_count</th>\n",
       "      <td>7.0</td>\n",
       "      <td>7142.857</td>\n",
       "      <td>1507.067</td>\n",
       "      <td>3929.0</td>\n",
       "      <td>7138.5</td>\n",
       "      <td>7381.0</td>\n",
       "      <td>7938.5</td>\n",
       "      <td>8536.0</td>\n",
       "    </tr>\n",
       "  </tbody>\n",
       "</table>\n",
       "</div>"
      ],
      "text/plain": [
       "             count      mean       std     min     25%     50%     75%     max\n",
       "alert_count    7.0  7142.857  1507.067  3929.0  7138.5  7381.0  7938.5  8536.0"
      ]
     },
     "metadata": {},
     "output_type": "display_data"
    },
    {
     "name": "stdout",
     "output_type": "stream",
     "text": [
      "\n",
      "========== EDA COMPLETE ==========\n"
     ]
    }
   ],
   "source": [
    "# === EXPLORATORY DATA ANALYSIS (EDA) SECTION ===\n",
    "\n",
    "print(\"\\n========== EXPLORATORY DATA ANALYSIS (EDA) ==========\")\n",
    "\n",
    "# quick sanity + diagnostics helper\n",
    "def scan_df(df, name):\n",
    "    print(f\"\\n[SCAN] {name} — basic info\")\n",
    "    if df.empty:\n",
    "        print(f\"[WARN] {name} is empty.\")\n",
    "        return\n",
    "    print(f\"[INFO] shape={df.shape}, columns={list(df.columns)}\")\n",
    "    print(f\"[SCAN] dtypes:\\n{df.dtypes}\\n\")\n",
    "\n",
    "    nulls = df.isna().sum().sort_values(ascending=False)\n",
    "    print(f\"[SCAN] top null counts:\\n{nulls.head(10)}\\n\")\n",
    "\n",
    "    dups = df.duplicated().sum()\n",
    "    print(f\"[SCAN] duplicated rows: {dups}\")\n",
    "    if 'date' in df:\n",
    "        print(f\"[INFO] date range: {df['date'].min()} → {df['date'].max()}\")\n",
    "    else:\n",
    "        print(\"[INFO] no date column found.\")\n",
    "\n",
    "    print(\"[OK] dataframe scan complete.\")\n",
    "\n",
    "# run scans\n",
    "scan_df(bus_monthly, 'bus_monthly')\n",
    "scan_df(weather_monthly, 'weather_monthly')\n",
    "scan_df(traffic_monthly, 'traffic_monthly')\n",
    "scan_df(alerts_monthly, 'alerts_monthly')\n",
    "\n",
    "# ====== DATA OVERLAP CHECKS ======\n",
    "print(\"\\n========== DATASET OVERLAP CHECKS ==========\")\n",
    "\n",
    "def overlap_months(df1, df2, n1, n2):\n",
    "    if 'date' not in df1 or 'date' not in df2:\n",
    "        print(f\"[WARN] Missing 'date' column in {n1} or {n2}\")\n",
    "        return set()\n",
    "    o = sorted(list(set(df1['date']).intersection(set(df2['date']))))\n",
    "    print(f\"[INFO] {n1} ∩ {n2}: {len(o)} overlapping months.\")\n",
    "    if len(o):\n",
    "        print(\" sample:\", o[:3], \"...\", o[-3:])\n",
    "    return set(o)\n",
    "\n",
    "overlap_bw = overlap_months(bus_monthly, weather_monthly, \"BUS\", \"WEATHER\")\n",
    "overlap_bt = overlap_months(bus_monthly, traffic_monthly, \"BUS\", \"TRAFFIC\")\n",
    "overlap_ba = overlap_months(bus_monthly, alerts_monthly, \"BUS\", \"ALERTS\")\n",
    "overlap_all = overlap_bw & overlap_bt & overlap_ba\n",
    "print(f\"[INFO] BUS∩WEATHER∩TRAFFIC∩ALERTS = {len(overlap_all)} overlapping months\")\n",
    "\n",
    "# ====== BASIC STATISTICS ======\n",
    "print(\"\\n========== BASIC STATS ==========\")\n",
    "\n",
    "def describe_numeric(df, name):\n",
    "    if df.empty:\n",
    "        print(f\"[WARN] {name} empty, skipping stats.\")\n",
    "        return\n",
    "    num_df = df.select_dtypes(include='number')\n",
    "    if num_df.empty:\n",
    "        print(f\"[INFO] {name} has no numeric columns.\")\n",
    "        return\n",
    "    print(f\"[STATS] {name} numeric summary:\")\n",
    "    display(num_df.describe().T.round(3))\n",
    "\n",
    "describe_numeric(bus_monthly, 'bus_monthly')\n",
    "describe_numeric(weather_monthly, 'weather_monthly')\n",
    "describe_numeric(traffic_monthly, 'traffic_monthly')\n",
    "describe_numeric(alerts_monthly, 'alerts_monthly')\n",
    "\n",
    "print(\"\\n========== EDA COMPLETE ==========\")\n"
   ]
  },
  {
   "cell_type": "markdown",
   "id": "129bc6b3",
   "metadata": {},
   "source": [
    "\n",
    "## 🧹 2) Data Cleaning & Transformation\n",
    "I normalize to month-start timestamps, coerce numeric types, backfill temperature where needed, clip clear outliers, and keep WA in \\[0,1].\n"
   ]
  },
  {
   "cell_type": "code",
   "execution_count": 12,
   "id": "a9887070",
   "metadata": {},
   "outputs": [
    {
     "name": "stdout",
     "output_type": "stream",
     "text": [
      "[INFO] merged rows: 60 | span: 2020-01-01 00:00:00 → 2024-12-01 00:00:00\n",
      "[CHECK] WA outside [0,1]: 0\n"
     ]
    },
    {
     "data": {
      "text/html": [
       "<div>\n",
       "<style scoped>\n",
       "    .dataframe tbody tr th:only-of-type {\n",
       "        vertical-align: middle;\n",
       "    }\n",
       "\n",
       "    .dataframe tbody tr th {\n",
       "        vertical-align: top;\n",
       "    }\n",
       "\n",
       "    .dataframe thead th {\n",
       "        text-align: right;\n",
       "    }\n",
       "</style>\n",
       "<table border=\"1\" class=\"dataframe\">\n",
       "  <thead>\n",
       "    <tr style=\"text-align: right;\">\n",
       "      <th></th>\n",
       "      <th>date</th>\n",
       "      <th>wa_w</th>\n",
       "      <th>scheduled</th>\n",
       "      <th>passing</th>\n",
       "      <th>wa_weighted</th>\n",
       "      <th>pct_passing</th>\n",
       "      <th>tavg</th>\n",
       "      <th>tmax</th>\n",
       "      <th>tmin</th>\n",
       "      <th>prcp_mm</th>\n",
       "      <th>snow_mm</th>\n",
       "      <th>awnd_ms</th>\n",
       "      <th>alert_count</th>\n",
       "      <th>mean_speed_mph</th>\n",
       "    </tr>\n",
       "  </thead>\n",
       "  <tbody>\n",
       "    <tr>\n",
       "      <th>0</th>\n",
       "      <td>2020-01-01</td>\n",
       "      <td>4.683535e+06</td>\n",
       "      <td>6154918</td>\n",
       "      <td>4683535</td>\n",
       "      <td>0.760942</td>\n",
       "      <td>0.760942</td>\n",
       "      <td>3.991935</td>\n",
       "      <td>7.354839</td>\n",
       "      <td>0.629032</td>\n",
       "      <td>49.1</td>\n",
       "      <td>0.0</td>\n",
       "      <td>2.900000</td>\n",
       "      <td>NaN</td>\n",
       "      <td>NaN</td>\n",
       "    </tr>\n",
       "    <tr>\n",
       "      <th>1</th>\n",
       "      <td>2020-02-01</td>\n",
       "      <td>4.369651e+06</td>\n",
       "      <td>5752953</td>\n",
       "      <td>4369651</td>\n",
       "      <td>0.759549</td>\n",
       "      <td>0.759549</td>\n",
       "      <td>4.536207</td>\n",
       "      <td>8.055172</td>\n",
       "      <td>1.017241</td>\n",
       "      <td>64.7</td>\n",
       "      <td>0.0</td>\n",
       "      <td>2.693103</td>\n",
       "      <td>NaN</td>\n",
       "      <td>NaN</td>\n",
       "    </tr>\n",
       "    <tr>\n",
       "      <th>2</th>\n",
       "      <td>2020-03-01</td>\n",
       "      <td>3.110765e+06</td>\n",
       "      <td>4050039</td>\n",
       "      <td>3110765</td>\n",
       "      <td>0.768083</td>\n",
       "      <td>0.768083</td>\n",
       "      <td>8.882258</td>\n",
       "      <td>12.841935</td>\n",
       "      <td>4.922581</td>\n",
       "      <td>96.1</td>\n",
       "      <td>0.0</td>\n",
       "      <td>3.100000</td>\n",
       "      <td>NaN</td>\n",
       "      <td>NaN</td>\n",
       "    </tr>\n",
       "    <tr>\n",
       "      <th>3</th>\n",
       "      <td>2020-04-01</td>\n",
       "      <td>2.064197e+06</td>\n",
       "      <td>2780183</td>\n",
       "      <td>2064197</td>\n",
       "      <td>0.742468</td>\n",
       "      <td>0.742468</td>\n",
       "      <td>10.188333</td>\n",
       "      <td>14.273333</td>\n",
       "      <td>6.103333</td>\n",
       "      <td>114.2</td>\n",
       "      <td>0.0</td>\n",
       "      <td>2.956667</td>\n",
       "      <td>NaN</td>\n",
       "      <td>NaN</td>\n",
       "    </tr>\n",
       "    <tr>\n",
       "      <th>4</th>\n",
       "      <td>2020-05-01</td>\n",
       "      <td>3.821663e+06</td>\n",
       "      <td>5085236</td>\n",
       "      <td>3821663</td>\n",
       "      <td>0.751521</td>\n",
       "      <td>0.751521</td>\n",
       "      <td>15.716129</td>\n",
       "      <td>20.661290</td>\n",
       "      <td>10.770968</td>\n",
       "      <td>42.0</td>\n",
       "      <td>0.0</td>\n",
       "      <td>2.452941</td>\n",
       "      <td>NaN</td>\n",
       "      <td>NaN</td>\n",
       "    </tr>\n",
       "    <tr>\n",
       "      <th>5</th>\n",
       "      <td>2020-06-01</td>\n",
       "      <td>4.290996e+06</td>\n",
       "      <td>5885941</td>\n",
       "      <td>4290996</td>\n",
       "      <td>0.729025</td>\n",
       "      <td>0.729025</td>\n",
       "      <td>23.166667</td>\n",
       "      <td>27.670000</td>\n",
       "      <td>18.663333</td>\n",
       "      <td>44.7</td>\n",
       "      <td>0.0</td>\n",
       "      <td>1.275000</td>\n",
       "      <td>NaN</td>\n",
       "      <td>NaN</td>\n",
       "    </tr>\n",
       "    <tr>\n",
       "      <th>6</th>\n",
       "      <td>2020-07-01</td>\n",
       "      <td>4.689560e+06</td>\n",
       "      <td>6195575</td>\n",
       "      <td>4689560</td>\n",
       "      <td>0.756921</td>\n",
       "      <td>0.756921</td>\n",
       "      <td>26.683871</td>\n",
       "      <td>30.790323</td>\n",
       "      <td>22.577419</td>\n",
       "      <td>167.1</td>\n",
       "      <td>0.0</td>\n",
       "      <td>1.600000</td>\n",
       "      <td>NaN</td>\n",
       "      <td>NaN</td>\n",
       "    </tr>\n",
       "    <tr>\n",
       "      <th>7</th>\n",
       "      <td>2020-08-01</td>\n",
       "      <td>4.524167e+06</td>\n",
       "      <td>6116502</td>\n",
       "      <td>4524167</td>\n",
       "      <td>0.739666</td>\n",
       "      <td>0.739666</td>\n",
       "      <td>24.925806</td>\n",
       "      <td>28.758065</td>\n",
       "      <td>21.093548</td>\n",
       "      <td>127.9</td>\n",
       "      <td>0.0</td>\n",
       "      <td>1.851613</td>\n",
       "      <td>NaN</td>\n",
       "      <td>NaN</td>\n",
       "    </tr>\n",
       "  </tbody>\n",
       "</table>\n",
       "</div>"
      ],
      "text/plain": [
       "        date          wa_w  scheduled  passing  wa_weighted  pct_passing       tavg       tmax       tmin  prcp_mm  snow_mm   awnd_ms  \\\n",
       "0 2020-01-01  4.683535e+06    6154918  4683535     0.760942     0.760942   3.991935   7.354839   0.629032     49.1      0.0  2.900000   \n",
       "1 2020-02-01  4.369651e+06    5752953  4369651     0.759549     0.759549   4.536207   8.055172   1.017241     64.7      0.0  2.693103   \n",
       "2 2020-03-01  3.110765e+06    4050039  3110765     0.768083     0.768083   8.882258  12.841935   4.922581     96.1      0.0  3.100000   \n",
       "3 2020-04-01  2.064197e+06    2780183  2064197     0.742468     0.742468  10.188333  14.273333   6.103333    114.2      0.0  2.956667   \n",
       "4 2020-05-01  3.821663e+06    5085236  3821663     0.751521     0.751521  15.716129  20.661290  10.770968     42.0      0.0  2.452941   \n",
       "5 2020-06-01  4.290996e+06    5885941  4290996     0.729025     0.729025  23.166667  27.670000  18.663333     44.7      0.0  1.275000   \n",
       "6 2020-07-01  4.689560e+06    6195575  4689560     0.756921     0.756921  26.683871  30.790323  22.577419    167.1      0.0  1.600000   \n",
       "7 2020-08-01  4.524167e+06    6116502  4524167     0.739666     0.739666  24.925806  28.758065  21.093548    127.9      0.0  1.851613   \n",
       "\n",
       "   alert_count  mean_speed_mph  \n",
       "0          NaN             NaN  \n",
       "1          NaN             NaN  \n",
       "2          NaN             NaN  \n",
       "3          NaN             NaN  \n",
       "4          NaN             NaN  \n",
       "5          NaN             NaN  \n",
       "6          NaN             NaN  \n",
       "7          NaN             NaN  "
      ]
     },
     "metadata": {},
     "output_type": "display_data"
    }
   ],
   "source": [
    "\n",
    "# final monthly merge (inner on bus+weather to ensure WA alignment)\n",
    "merged = (bus_monthly\n",
    "          .merge(weather_monthly, on='date', how='inner')\n",
    "          .merge(alerts_monthly, on='date', how='left')\n",
    "          .merge(traffic_monthly, on='date', how='left'))\n",
    "\n",
    "print(f\"[INFO] merged rows: {len(merged)} | span: {merged['date'].min()} → {merged['date'].max()}\")\n",
    "# ensure WA bounds\n",
    "if 'wa_weighted' in merged:\n",
    "    oob = merged[(merged['wa_weighted'] < 0) | (merged['wa_weighted'] > 1)]\n",
    "    print(f\"[CHECK] WA outside [0,1]: {len(oob)}\")\n",
    "    if len(oob):\n",
    "        display(oob.head())\n",
    "\n",
    "# clip extreme precip/snow to reduce plot skew (IQR rule)\n",
    "for c in ['prcp_mm','snow_mm']:\n",
    "    if c in merged:\n",
    "        q1, q3 = merged[c].quantile([0.25,0.75])\n",
    "        iqr = q3 - q1\n",
    "        lo, hi = q1 - 1.5*iqr, q3 + 1.5*iqr\n",
    "        merged[c] = merged[c].clip(lo, hi)\n",
    "\n",
    "display(merged.head(8))\n"
   ]
  },
  {
   "cell_type": "markdown",
   "id": "78a22f65",
   "metadata": {},
   "source": [
    "\n",
    "## 📊 3) Visualizations\n",
    "I use **Matplotlib** and **Plotly**. Each chart has a short note above it.\n"
   ]
  },
  {
   "cell_type": "code",
   "execution_count": 13,
   "id": "89341a13",
   "metadata": {},
   "outputs": [
    {
     "data": {
      "image/png": "[encoded data removed]",
      "text/plain": [
       "<Figure size 700x400 with 1 Axes>"
      ]
     },
     "metadata": {},
     "output_type": "display_data"
    },
    {
     "name": "stdout",
     "output_type": "stream",
     "text": [
      "Note: Most months cluster near the middle; thin tails suggest fewer extreme reliability months.\n"
     ]
    }
   ],
   "source": [
    "\n",
    "# (1) Distribution of monthly WA (Matplotlib)\n",
    "plt.figure(figsize=(7,4))\n",
    "vals = merged['wa_weighted'].dropna()\n",
    "plt.hist(vals, bins=20)\n",
    "plt.title('Distribution of Monthly Wait Assessment (Weighted)')\n",
    "plt.xlabel('Wait Assessment (0–1)'); plt.ylabel('Frequency')\n",
    "plt.grid(True, linewidth=0.4)\n",
    "plt.show()\n",
    "print(\"Note: Most months cluster near the middle; thin tails suggest fewer extreme reliability months.\")\n"
   ]
  },
  {
   "cell_type": "code",
   "execution_count": 17,
   "id": "f11dd956",
   "metadata": {},
   "outputs": [
    {
     "data": {
      "application/vnd.plotly.v1+json": {
       "config": {
        "plotlyServerURL": "https://plot.ly"
       },
       "data": [
        {
         "coloraxis": "coloraxis",
         "hovertemplate": "x: %{x}<br>y: %{y}<br>color: %{z}<extra></extra>",
         "name": "0",
         "texttemplate": "%{z}",
         "type": "heatmap",
         "x": [
          "wa_weighted",
          "tavg",
          "prcp_mm",
          "awnd_ms"
         ],
         "xaxis": "x",
         "y": [
          "wa_weighted",
          "tavg",
          "prcp_mm",
          "awnd_ms"
         ],
         "yaxis": "y",
         "z": {
          "bdata": "AAAAAAAA8D8zMzMzMzPDv6RwPQrXo8C/MzMzMzMz0z8zMzMzMzPDvwAAAAAAAPA/KVyPwvUozD97FK5H4Xrsv6RwPQrXo8C/KVyPwvUozD8AAAAAAADwP5qZmZmZmbm/MzMzMzMz0z97FK5H4Xrsv5qZmZmZmbm/AAAAAAAA8D8=",
          "dtype": "f8",
          "shape": "4, 4"
         }
        }
       ],
       "layout": {
        "coloraxis": {
         "colorscale": [
          [
           0,
           "#0d0887"
          ],
          [
           0.1111111111111111,
           "#46039f"
          ],
          [
           0.2222222222222222,
           "#7201a8"
          ],
          [
           0.3333333333333333,
           "#9c179e"
          ],
          [
           0.4444444444444444,
           "#bd3786"
          ],
          [
           0.5555555555555556,
           "#d8576b"
          ],
          [
           0.6666666666666666,
           "#ed7953"
          ],
          [
           0.7777777777777778,
           "#fb9f3a"
          ],
          [
           0.8888888888888888,
           "#fdca26"
          ],
          [
           1,
           "#f0f921"
          ]
         ]
        },
        "height": 520,
        "template": {
         "data": {
          "bar": [
           {
            "error_x": {
             "color": "#2a3f5f"
            },
            "error_y": {
             "color": "#2a3f5f"
            },
            "marker": {
             "line": {
              "color": "#E5ECF6",
              "width": 0.5
             },
             "pattern": {
              "fillmode": "overlay",
              "size": 10,
              "solidity": 0.2
             }
            },
            "type": "bar"
           }
          ],
          "barpolar": [
           {
            "marker": {
             "line": {
              "color": "#E5ECF6",
              "width": 0.5
             },
             "pattern": {
              "fillmode": "overlay",
              "size": 10,
              "solidity": 0.2
             }
            },
            "type": "barpolar"
           }
          ],
          "carpet": [
           {
            "aaxis": {
             "endlinecolor": "#2a3f5f",
             "gridcolor": "white",
             "linecolor": "white",
             "minorgridcolor": "white",
             "startlinecolor": "#2a3f5f"
            },
            "baxis": {
             "endlinecolor": "#2a3f5f",
             "gridcolor": "white",
             "linecolor": "white",
             "minorgridcolor": "white",
             "startlinecolor": "#2a3f5f"
            },
            "type": "carpet"
           }
          ],
          "choropleth": [
           {
            "colorbar": {
             "outlinewidth": 0,
             "ticks": ""
            },
            "type": "choropleth"
           }
          ],
          "contour": [
           {
            "colorbar": {
             "outlinewidth": 0,
             "ticks": ""
            },
            "colorscale": [
             [
              0,
              "#0d0887"
             ],
             [
              0.1111111111111111,
              "#46039f"
             ],
             [
              0.2222222222222222,
              "#7201a8"
             ],
             [
              0.3333333333333333,
              "#9c179e"
             ],
             [
              0.4444444444444444,
              "#bd3786"
             ],
             [
              0.5555555555555556,
              "#d8576b"
             ],
             [
              0.6666666666666666,
              "#ed7953"
             ],
             [
              0.7777777777777778,
              "#fb9f3a"
             ],
             [
              0.8888888888888888,
              "#fdca26"
             ],
             [
              1,
              "#f0f921"
             ]
            ],
            "type": "contour"
           }
          ],
          "contourcarpet": [
           {
            "colorbar": {
             "outlinewidth": 0,
             "ticks": ""
            },
            "type": "contourcarpet"
           }
          ],
          "heatmap": [
           {
            "colorbar": {
             "outlinewidth": 0,
             "ticks": ""
            },
            "colorscale": [
             [
              0,
              "#0d0887"
             ],
             [
              0.1111111111111111,
              "#46039f"
             ],
             [
              0.2222222222222222,
              "#7201a8"
             ],
             [
              0.3333333333333333,
              "#9c179e"
             ],
             [
              0.4444444444444444,
              "#bd3786"
             ],
             [
              0.5555555555555556,
              "#d8576b"
             ],
             [
              0.6666666666666666,
              "#ed7953"
             ],
             [
              0.7777777777777778,
              "#fb9f3a"
             ],
             [
              0.8888888888888888,
              "#fdca26"
             ],
             [
              1,
              "#f0f921"
             ]
            ],
            "type": "heatmap"
           }
          ],
          "histogram": [
           {
            "marker": {
             "pattern": {
              "fillmode": "overlay",
              "size": 10,
              "solidity": 0.2
             }
            },
            "type": "histogram"
           }
          ],
          "histogram2d": [
           {
            "colorbar": {
             "outlinewidth": 0,
             "ticks": ""
            },
            "colorscale": [
             [
              0,
              "#0d0887"
             ],
             [
              0.1111111111111111,
              "#46039f"
             ],
             [
              0.2222222222222222,
              "#7201a8"
             ],
             [
              0.3333333333333333,
              "#9c179e"
             ],
             [
              0.4444444444444444,
              "#bd3786"
             ],
             [
              0.5555555555555556,
              "#d8576b"
             ],
             [
              0.6666666666666666,
              "#ed7953"
             ],
             [
              0.7777777777777778,
              "#fb9f3a"
             ],
             [
              0.8888888888888888,
              "#fdca26"
             ],
             [
              1,
              "#f0f921"
             ]
            ],
            "type": "histogram2d"
           }
          ],
          "histogram2dcontour": [
           {
            "colorbar": {
             "outlinewidth": 0,
             "ticks": ""
            },
            "colorscale": [
             [
              0,
              "#0d0887"
             ],
             [
              0.1111111111111111,
              "#46039f"
             ],
             [
              0.2222222222222222,
              "#7201a8"
             ],
             [
              0.3333333333333333,
              "#9c179e"
             ],
             [
              0.4444444444444444,
              "#bd3786"
             ],
             [
              0.5555555555555556,
              "#d8576b"
             ],
             [
              0.6666666666666666,
              "#ed7953"
             ],
             [
              0.7777777777777778,
              "#fb9f3a"
             ],
             [
              0.8888888888888888,
              "#fdca26"
             ],
             [
              1,
              "#f0f921"
             ]
            ],
            "type": "histogram2dcontour"
           }
          ],
          "mesh3d": [
           {
            "colorbar": {
             "outlinewidth": 0,
             "ticks": ""
            },
            "type": "mesh3d"
           }
          ],
          "parcoords": [
           {
            "line": {
             "colorbar": {
              "outlinewidth": 0,
              "ticks": ""
             }
            },
            "type": "parcoords"
           }
          ],
          "pie": [
           {
            "automargin": true,
            "type": "pie"
           }
          ],
          "scatter": [
           {
            "fillpattern": {
             "fillmode": "overlay",
             "size": 10,
             "solidity": 0.2
            },
            "type": "scatter"
           }
          ],
          "scatter3d": [
           {
            "line": {
             "colorbar": {
              "outlinewidth": 0,
              "ticks": ""
             }
            },
            "marker": {
             "colorbar": {
              "outlinewidth": 0,
              "ticks": ""
             }
            },
            "type": "scatter3d"
           }
          ],
          "scattercarpet": [
           {
            "marker": {
             "colorbar": {
              "outlinewidth": 0,
              "ticks": ""
             }
            },
            "type": "scattercarpet"
           }
          ],
          "scattergeo": [
           {
            "marker": {
             "colorbar": {
              "outlinewidth": 0,
              "ticks": ""
             }
            },
            "type": "scattergeo"
           }
          ],
          "scattergl": [
           {
            "marker": {
             "colorbar": {
              "outlinewidth": 0,
              "ticks": ""
             }
            },
            "type": "scattergl"
           }
          ],
          "scattermap": [
           {
            "marker": {
             "colorbar": {
              "outlinewidth": 0,
              "ticks": ""
             }
            },
            "type": "scattermap"
           }
          ],
          "scattermapbox": [
           {
            "marker": {
             "colorbar": {
              "outlinewidth": 0,
              "ticks": ""
             }
            },
            "type": "scattermapbox"
           }
          ],
          "scatterpolar": [
           {
            "marker": {
             "colorbar": {
              "outlinewidth": 0,
              "ticks": ""
             }
            },
            "type": "scatterpolar"
           }
          ],
          "scatterpolargl": [
           {
            "marker": {
             "colorbar": {
              "outlinewidth": 0,
              "ticks": ""
             }
            },
            "type": "scatterpolargl"
           }
          ],
          "scatterternary": [
           {
            "marker": {
             "colorbar": {
              "outlinewidth": 0,
              "ticks": ""
             }
            },
            "type": "scatterternary"
           }
          ],
          "surface": [
           {
            "colorbar": {
             "outlinewidth": 0,
             "ticks": ""
            },
            "colorscale": [
             [
              0,
              "#0d0887"
             ],
             [
              0.1111111111111111,
              "#46039f"
             ],
             [
              0.2222222222222222,
              "#7201a8"
             ],
             [
              0.3333333333333333,
              "#9c179e"
             ],
             [
              0.4444444444444444,
              "#bd3786"
             ],
             [
              0.5555555555555556,
              "#d8576b"
             ],
             [
              0.6666666666666666,
              "#ed7953"
             ],
             [
              0.7777777777777778,
              "#fb9f3a"
             ],
             [
              0.8888888888888888,
              "#fdca26"
             ],
             [
              1,
              "#f0f921"
             ]
            ],
            "type": "surface"
           }
          ],
          "table": [
           {
            "cells": {
             "fill": {
              "color": "#EBF0F8"
             },
             "line": {
              "color": "white"
             }
            },
            "header": {
             "fill": {
              "color": "#C8D4E3"
             },
             "line": {
              "color": "white"
             }
            },
            "type": "table"
           }
          ]
         },
         "layout": {
          "annotationdefaults": {
           "arrowcolor": "#2a3f5f",
           "arrowhead": 0,
           "arrowwidth": 1
          },
          "autotypenumbers": "strict",
          "coloraxis": {
           "colorbar": {
            "outlinewidth": 0,
            "ticks": ""
           }
          },
          "colorscale": {
           "diverging": [
            [
             0,
             "#8e0152"
            ],
            [
             0.1,
             "#c51b7d"
            ],
            [
             0.2,
             "#de77ae"
            ],
            [
             0.3,
             "#f1b6da"
            ],
            [
             0.4,
             "#fde0ef"
            ],
            [
             0.5,
             "#f7f7f7"
            ],
            [
             0.6,
             "#e6f5d0"
            ],
            [
             0.7,
             "#b8e186"
            ],
            [
             0.8,
             "#7fbc41"
            ],
            [
             0.9,
             "#4d9221"
            ],
            [
             1,
             "#276419"
            ]
           ],
           "sequential": [
            [
             0,
             "#0d0887"
            ],
            [
             0.1111111111111111,
             "#46039f"
            ],
            [
             0.2222222222222222,
             "#7201a8"
            ],
            [
             0.3333333333333333,
             "#9c179e"
            ],
            [
             0.4444444444444444,
             "#bd3786"
            ],
            [
             0.5555555555555556,
             "#d8576b"
            ],
            [
             0.6666666666666666,
             "#ed7953"
            ],
            [
             0.7777777777777778,
             "#fb9f3a"
            ],
            [
             0.8888888888888888,
             "#fdca26"
            ],
            [
             1,
             "#f0f921"
            ]
           ],
           "sequentialminus": [
            [
             0,
             "#0d0887"
            ],
            [
             0.1111111111111111,
             "#46039f"
            ],
            [
             0.2222222222222222,
             "#7201a8"
            ],
            [
             0.3333333333333333,
             "#9c179e"
            ],
            [
             0.4444444444444444,
             "#bd3786"
            ],
            [
             0.5555555555555556,
             "#d8576b"
            ],
            [
             0.6666666666666666,
             "#ed7953"
            ],
            [
             0.7777777777777778,
             "#fb9f3a"
            ],
            [
             0.8888888888888888,
             "#fdca26"
            ],
            [
             1,
             "#f0f921"
            ]
           ]
          },
          "colorway": [
           "#636efa",
           "#EF553B",
           "#00cc96",
           "#ab63fa",
           "#FFA15A",
           "#19d3f3",
           "#FF6692",
           "#B6E880",
           "#FF97FF",
           "#FECB52"
          ],
          "font": {
           "color": "#2a3f5f"
          },
          "geo": {
           "bgcolor": "white",
           "lakecolor": "white",
           "landcolor": "#E5ECF6",
           "showlakes": true,
           "showland": true,
           "subunitcolor": "white"
          },
          "hoverlabel": {
           "align": "left"
          },
          "hovermode": "closest",
          "mapbox": {
           "style": "light"
          },
          "paper_bgcolor": "white",
          "plot_bgcolor": "#E5ECF6",
          "polar": {
           "angularaxis": {
            "gridcolor": "white",
            "linecolor": "white",
            "ticks": ""
           },
           "bgcolor": "#E5ECF6",
           "radialaxis": {
            "gridcolor": "white",
            "linecolor": "white",
            "ticks": ""
           }
          },
          "scene": {
           "xaxis": {
            "backgroundcolor": "#E5ECF6",
            "gridcolor": "white",
            "gridwidth": 2,
            "linecolor": "white",
            "showbackground": true,
            "ticks": "",
            "zerolinecolor": "white"
           },
           "yaxis": {
            "backgroundcolor": "#E5ECF6",
            "gridcolor": "white",
            "gridwidth": 2,
            "linecolor": "white",
            "showbackground": true,
            "ticks": "",
            "zerolinecolor": "white"
           },
           "zaxis": {
            "backgroundcolor": "#E5ECF6",
            "gridcolor": "white",
            "gridwidth": 2,
            "linecolor": "white",
            "showbackground": true,
            "ticks": "",
            "zerolinecolor": "white"
           }
          },
          "shapedefaults": {
           "line": {
            "color": "#2a3f5f"
           }
          },
          "ternary": {
           "aaxis": {
            "gridcolor": "white",
            "linecolor": "white",
            "ticks": ""
           },
           "baxis": {
            "gridcolor": "white",
            "linecolor": "white",
            "ticks": ""
           },
           "bgcolor": "#E5ECF6",
           "caxis": {
            "gridcolor": "white",
            "linecolor": "white",
            "ticks": ""
           }
          },
          "title": {
           "x": 0.05
          },
          "xaxis": {
           "automargin": true,
           "gridcolor": "white",
           "linecolor": "white",
           "ticks": "",
           "title": {
            "standoff": 15
           },
           "zerolinecolor": "white",
           "zerolinewidth": 2
          },
          "yaxis": {
           "automargin": true,
           "gridcolor": "white",
           "linecolor": "white",
           "ticks": "",
           "title": {
            "standoff": 15
           },
           "zerolinecolor": "white",
           "zerolinewidth": 2
          }
         }
        },
        "title": {
         "text": "Correlation Heatmap"
        },
        "width": 720,
        "xaxis": {
         "anchor": "y",
         "constrain": "domain",
         "domain": [
          0,
          1
         ],
         "scaleanchor": "y",
         "title": {
          "text": ""
         }
        },
        "yaxis": {
         "anchor": "x",
         "autorange": "reversed",
         "constrain": "domain",
         "domain": [
          0,
          1
         ],
         "title": {
          "text": ""
         }
        }
       }
      }
     },
     "metadata": {},
     "output_type": "display_data"
    },
    {
     "name": "stdout",
     "output_type": "stream",
     "text": [
      "[INFO] columns used: ['wa_weighted', 'tavg', 'prcp_mm', 'awnd_ms']\n",
      "[INFO] constant columns dropped: ['snow_mm', 'alert_count', 'mean_speed_mph']\n",
      "Note: directional only; no causal claims.\n"
     ]
    }
   ],
   "source": [
    "# (2) Correlation heatmap — weather/alerts/traffic vs reliability\n",
    "\n",
    "cand = ['wa_weighted','tavg','prcp_mm','snow_mm','awnd_ms','alert_count','mean_speed_mph']\n",
    "cols = [c for c in cand if c in merged.columns]\n",
    "dfc = merged[cols].copy()\n",
    "\n",
    "# make numeric + sanitize\n",
    "for c in dfc.columns:\n",
    "    dfc[c] = pd.to_numeric(dfc[c], errors='coerce')\n",
    "dfc = dfc.dropna(how='all')\n",
    "\n",
    "# drop zero-variance/constant columns (correlation undefined)\n",
    "const_cols = [c for c in dfc.columns if dfc[c].nunique(dropna=True) <= 1]\n",
    "if const_cols:\n",
    "    dfc = dfc.drop(columns=const_cols)\n",
    "\n",
    "# need at least 2 columns and 2 rows to compute a correlation matrix\n",
    "if dfc.shape[1] < 2 or len(dfc) < 2:\n",
    "    print(f\"[WARN] Not enough data for correlation heatmap (rows={len(dfc)}, cols={dfc.shape[1]}). \"\n",
    "          f\"Dropped constants: {const_cols}\")\n",
    "else:\n",
    "    corr = dfc.corr(numeric_only=True).round(2)\n",
    "\n",
    "    # try Plotly; fall back to seaborn if anything goes sideways\n",
    "    try:\n",
    "        fig = px.imshow(corr, text_auto=True, title='Correlation Heatmap')\n",
    "        fig.update_layout(xaxis_title='', yaxis_title='', width=720, height=520)\n",
    "        fig.show()\n",
    "    except Exception as e:\n",
    "        print(\"[WARN] Plotly heatmap failed; falling back to seaborn →\", e)\n",
    "        plt.figure(figsize=(8,6))\n",
    "        sns.heatmap(corr, annot=True, vmin=-1, vmax=1, cmap='coolwarm', square=True)\n",
    "        plt.title('Correlation Heatmap')\n",
    "        plt.tight_layout()\n",
    "        plt.show()\n",
    "\n",
    "    print(\"[INFO] columns used:\", list(corr.columns))\n",
    "    if const_cols:\n",
    "        print(\"[INFO] constant columns dropped:\", const_cols)\n",
    "    print(\"Note: directional only; no causal claims.\")\n"
   ]
  },
  {
   "cell_type": "code",
   "execution_count": 18,
   "id": "d48804f1",
   "metadata": {},
   "outputs": [
    {
     "data": {
      "image/png": "[encoded data removed]",
      "text/plain": [
       "<Figure size 800x450 with 2 Axes>"
      ]
     },
     "metadata": {},
     "output_type": "display_data"
    },
    {
     "name": "stdout",
     "output_type": "stream",
     "text": [
      "Note: Small seasonal co-movement can appear, but precipitation tends to matter more.\n"
     ]
    }
   ],
   "source": [
    "\n",
    "# (3) Dual-axis: WA vs Avg Temp (Matplotlib)\n",
    "if 'tavg' in merged:\n",
    "    fig, ax1 = plt.subplots(figsize=(8,4.5))\n",
    "    ax1.plot(merged['date'], merged['wa_weighted'], label='WA', linewidth=1.6)\n",
    "    ax1.set_ylabel('Wait Assessment (0–1)')\n",
    "    ax1.set_xlabel('Month')\n",
    "    ax1.grid(True, linewidth=0.4)\n",
    "\n",
    "    ax2 = ax1.twinx()\n",
    "    ax2.plot(merged['date'], merged['tavg'], label='Avg Temp (°C)', linewidth=1.2)\n",
    "    ax2.set_ylabel('Avg Temp (°C)')\n",
    "    plt.title('(3) WA vs Avg Temperature')\n",
    "    fig.tight_layout()\n",
    "    plt.show()\n",
    "    print(\"Note: Small seasonal co-movement can appear, but precipitation tends to matter more.\")\n",
    "else:\n",
    "    print(\"[WARN] missing tavg; skipping dual-axis chart\")\n"
   ]
  },
  {
   "cell_type": "code",
   "execution_count": 19,
   "id": "918f9755",
   "metadata": {},
   "outputs": [
    {
     "name": "stdout",
     "output_type": "stream",
     "text": [
      "[WARN] precip/alerts/WA join is empty (no overlapping months yet).\n"
     ]
    }
   ],
   "source": [
    "\n",
    "# (4) Scatter: Precipitation vs Alert Count (Plotly) colored by WA\n",
    "cols_needed = ['prcp_mm','alert_count','wa_weighted']\n",
    "have_all = all(c in merged.columns for c in cols_needed)\n",
    "if have_all:\n",
    "    plot_df = merged.dropna(subset=cols_needed)\n",
    "    if plot_df.empty:\n",
    "        print(\"[WARN] precip/alerts/WA join is empty (no overlapping months yet).\")\n",
    "    else:\n",
    "        fig2 = px.scatter(plot_df, x='prcp_mm', y='alert_count', color='wa_weighted',\n",
    "                          title='Precipitation vs Alerts (colored by WA)',\n",
    "                          labels={'prcp_mm':'Monthly Precip (mm)','alert_count':'Monthly Alert Count','wa_weighted':'WA'})\n",
    "        fig2.show()\n",
    "        print(\"Note: Heavier precipitation months often line up with more alerts and slightly lower WA.\")\n",
    "else:\n",
    "    print(\"[WARN] missing one of\", cols_needed, \"— skipping scatter\")\n"
   ]
  },
  {
   "cell_type": "markdown",
   "id": "5ad289ef",
   "metadata": {},
   "source": [
    "\n",
    "## 🧼 Cleaning Notes (brief)\n",
    "- Converted NOAA tenths-based units; backfilled `tavg` from min/max when needed.\n",
    "- Coerced bus counts to numeric and computed weighted WA.\n",
    "- Normalized dates to **month-start** for consistent joins.\n",
    "- Clipped extreme precip/snow with a simple IQR rule to reduce plot distortion.\n",
    "- Sanity checks: WA within \\[0,1], non-empty merges, basic range prints.\n"
   ]
  },
  {
   "cell_type": "markdown",
   "id": "47fd7df0",
   "metadata": {},
   "source": [
    "\n",
    "## 🤖 4) Machine Learning Plan (preview)\n",
    "- **Target:** `wa_weighted` (monthly)\n",
    "- **Features:** `tavg`, `prcp_mm`, `snow_mm`, `awnd_ms`, `alert_count`, (traffic KPI if aligned)\n",
    "- **Models:** start with Linear Regression; compare Ridge/Lasso and a tree model (Random Forest)\n",
    "- **Split:** time-based split; evaluate with MAE / RMSE / R²; preserve temporal order\n",
    "- **Risks:** sparse overlap with traffic; alerts are not purely exogenous; potential multicollinearity among weather vars\n"
   ]
  },
  {
   "cell_type": "markdown",
   "id": "2ac99ac4",
   "metadata": {},
   "source": [
    "\n",
    "## 🔄 5) Prior Feedback & Updates\n",
    "- Expanded beyond weather into **traffic** and **alerts**; added robust monthly normalization.\n",
    "- Replaced placeholders with **live API pulls** (JSON + CSV API) and local CSVs.\n",
    "- Added light debug prints so I can quickly confirm shapes, ranges, and overlaps.\n",
    "- Ensured 4+ visualizations across two libraries (Matplotlib + Plotly).\n"
   ]
  },
  {
   "cell_type": "code",
   "execution_count": null,
   "id": "f96aaa60",
   "metadata": {},
   "outputs": [],
   "source": [
    "\n",
    "# Styled \"current\" alerts (from CSV API latest rows) — quick glance\n",
    "if not alerts_latest.empty:\n",
    "    # light formatting\n",
    "    styled = (alerts_latest\n",
    "              .assign(date_local=lambda x: x['date'].dt.tz_localize('UTC', ambiguous='NaT', nonexistent='NaT')\n",
    "                      .dt.tz_convert('America/New_York')\n",
    "                      .dt.strftime('%Y-%m-%d %H:%M'))\n",
    "              [['date_local','agency','status_label','affected','header']]\n",
    "              .rename(columns={'date_local':'when (NYC)','status_label':'status'}))\n",
    "    display(styled.head(15))\n",
    "else:\n",
    "    print(\"[INFO] No latest alerts to style right now.\")\n"
   ]
  },
  {
   "cell_type": "markdown",
   "id": "3f3d1422",
   "metadata": {},
   "source": [
    "\n",
    "---\n",
    "\n",
    "> Keep this conversion cell last, per assignment instructions.\n"
   ]
  },
  {
   "cell_type": "code",
   "execution_count": null,
   "id": "73cc5fab",
   "metadata": {},
   "outputs": [],
   "source": [
    "\n",
    "!jupyter nbconvert --to python source.ipynb\n"
   ]
  }
 ],
 "metadata": {
  "kernelspec": {
   "display_name": "IT4063C",
   "language": "python",
   "name": "python3"
  },
  "language_info": {
   "codemirror_mode": {
    "name": "ipython",
    "version": 3
   },
   "file_extension": ".py",
   "mimetype": "text/x-python",
   "name": "python",
   "nbconvert_exporter": "python",
   "pygments_lexer": "ipython3",
   "version": "3.11.9"
  }
 },
 "nbformat": 4,
 "nbformat_minor": 5
}
