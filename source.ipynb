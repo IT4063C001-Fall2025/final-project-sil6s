{
 "cells": [
  {
   "attachments": {},
   "cell_type": "markdown",
   "metadata": {},
   "source": [
    "# Public Transit Reliability vs. Weather\n",
    "\n",
    "![Banner](./assets/banner.jpeg)"
   ]
  },
  {
   "attachments": {},
   "cell_type": "markdown",
   "metadata": {},
   "source": [
    "## Topic\n",
    "*What problem are you (or your stakeholder) trying to address?*\n",
    "\n",
    "\n",
    "Riders of public transportation and urban planners rely on consistent and trustworthy schedules. However, delays tend to increase during severe weather such as rain, snow, or extreme temperatures. This project examines how weather affects bus and train reliability in major cities. Understanding this relationship can help transit authorities improve scheduling, allocate resources, and communicate delays more effectively."
   ]
  },
  {
   "attachments": {},
   "cell_type": "markdown",
   "metadata": {},
   "source": [
    "## Project Question\n",
    "*What specific question are you seeking to answer with this project?*\n",
    "*This is not the same as the questions you ask to limit the scope of the project.*\n",
    "📝 <!-- Answer Below -->\n",
    "\n",
    "How do different weather conditions (rain, snow, temperature extremes) affect average transit delays and reliability in a major city?"
   ]
  },
  {
   "attachments": {},
   "cell_type": "markdown",
   "metadata": {},
   "source": [
    "## What would an answer look like?\n",
    "*What is your hypothesized answer to your question?*\n",
    "📝 <!-- Answer Below -->"
   ]
  },
  {
   "cell_type": "markdown",
   "metadata": {},
   "source": [
    "- A line chart showing average bus/train delays by temperature range (e.g., <32°F, 32–70°F, >90°F).\n",
    "\n",
    "- A bar chart comparing % of late arrivals on rainy vs. sunny vs. snowy days.\n",
    "\n",
    "- A heatmap of time-of-day delays under different weather conditions.\n",
    "\n",
    "\n",
    "Hypothesis: Delays will be significantly longer on snowy and rainy days, with extreme cold also contributing to service interruptions."
   ]
  },
  {
   "attachments": {},
   "cell_type": "markdown",
   "metadata": {},
   "source": [
    "## Data Sources\n",
    "*What 3 data sources have you identified for this project?*\n",
    "*How are you going to relate these datasets?*\n",
    "📝 <!-- Answer Below -->\n",
    "\n",
    "1. Transit Real-Time API (GTFS data) – Example: New York MTA, Chicago CTA, or Cincinnati Metro. Provides live bus/train arrival and departure times. (API)\n",
    "\n",
    "2. NOAA National Weather Service API – Daily and hourly weather data including precipitation, temperature, and conditions. (API)\n",
    "\n",
    "3. City Open Data Portal – Historical transit delay/performance reports (CSV/Excel). Many cities (NYC, Chicago, DC) publish this. (File dataset)\n",
    "\n",
    "How to relate datasets:\n",
    "\n",
    "- Join transit delay records with NOAA weather data using date and time.\n",
    "\n",
    "- Use city/stop ID or zip code for location-based matching if needed."
   ]
  },
  {
   "attachments": {},
   "cell_type": "markdown",
   "metadata": {},
   "source": [
    "## Approach and Analysis  \n",
    "1. **Data Import & Cleaning**  \n",
    "   - Pull historical transit data (delays, scheduled vs. actual times) via API or CSV.  \n",
    "   - Gather daily/hourly weather data for the same timeframe.  \n",
    "   - Clean and normalize timestamps to ensure alignment.  \n",
    "\n",
    "2. **Data Integration**  \n",
    "   - Merge datasets on **date/time** and **location**.  \n",
    "   - Create new variables such as “delay length in minutes” and “weather condition category.”  \n",
    "\n",
    "3. **Analysis**  \n",
    "   - Compute average delay times by weather category (clear, rain, snow, extreme heat/cold).  \n",
    "   - Visualize trends across time of day, day of week, and severity of weather.  \n",
    "   - Run simple correlation/regression analysis to see if precipitation levels or temperature extremes predict delay severity.  \n",
    "\n",
    "4. **Expected Outcome**  \n",
    "   - Quantifiable evidence that weather significantly increases delay times.  \n",
    "   - Visualizations showing the most impactful conditions.  "
   ]
  },
  {
   "attachments": {},
   "cell_type": "markdown",
   "metadata": {},
   "source": [
    "## Resources and References\n",
    "*What resources and references have you used for this project?*\n",
    "📝 <!-- Answer Below -->\n",
    "- [NOAA National Weather Service API](https://www.weather.gov/documentation/services-web-api)  \n",
    "- [GTFS Realtime Transit Data](https://developers.google.com/transit/gtfs-realtime)  \n",
    "- [NYC MTA Open Data](https://data.ny.gov/)\n",
    "- [Chicago CTA Performance Reports](https://www.transitchicago.com/performance/)  \n",
    "- Course Resources: Warm-Cool-Hard Feedback Protocol, Clean Code Practices "
   ]
  },
  {
   "cell_type": "code",
   "execution_count": 2,
   "metadata": {},
   "outputs": [
    {
     "name": "stdout",
     "output_type": "stream",
     "text": [
      "[NbConvertApp] Converting notebook source.ipynb to python\n",
      "[NbConvertApp] Writing 1271 bytes to source.py\n"
     ]
    }
   ],
   "source": [
    "# ⚠️ Make sure you run this cell at the end of your notebook before every submission!\n",
    "!jupyter nbconvert --to python source.ipynb"
   ]
  }
 ],
 "metadata": {
  "kernelspec": {
   "display_name": "Final-Project-Template-unx06iZ2",
   "language": "python",
   "name": "python3"
  },
  "language_info": {
   "codemirror_mode": {
    "name": "ipython",
    "version": 3
   },
   "file_extension": ".py",
   "mimetype": "text/x-python",
   "name": "python",
   "nbconvert_exporter": "python",
   "pygments_lexer": "ipython3",
   "version": "3.11.1"
  },
  "orig_nbformat": 4,
  "vscode": {
   "interpreter": {
    "hash": "8f59090b806211711d8ea6da25ee5b1ccb272a75a21b9536283520350d8dfda7"
   }
  }
 },
 "nbformat": 4,
 "nbformat_minor": 2
}
