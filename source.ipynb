{
 "cells": [
  {
   "cell_type": "markdown",
   "metadata": {},
   "source": [
    "# Education, Employment, and Income Trends Across U.S. States (2018–2025) 🧠📊\n",
    "\n",
    "![Banner](./assets/banner.jpeg)\n",
    "\n",
    "Analyzing how educational attainment, employment rates, and median household income interact across U.S. states between 2018–2025 using multiple federal open datasets."
   ]
  },
  {
   "cell_type": "markdown",
   "metadata": {},
   "source": [
    "## Topic\n",
    "This project explores the relationship between education levels, employment rates, and median household income across U.S. states over time. Understanding these socioeconomic patterns can inform policymakers, educators, and workforce development professionals about the interplay between learning and earning in America."
   ]
  },
  {
   "cell_type": "markdown",
   "metadata": {},
   "source": [
    "## Project Question\n",
    "How do education levels and employment rates correlate with median household income across U.S. states from 2018–2025?"
   ]
  },
  {
   "cell_type": "markdown",
   "metadata": {},
   "source": [
    "## Hypothesized Answer\n",
    "States with higher educational attainment rates are expected to demonstrate both lower unemployment and higher median incomes. However, the strength of this relationship may vary across regions and over time due to local industry dynamics and cost of living differences."
   ]
  },
  {
   "cell_type": "markdown",
   "metadata": {},
   "source": [
    "## Data Sources\n",
    "- **U.S. Census Bureau – ACS 1-Year Estimates API:** Provides median income and education attainment by state.\n",
    "- **Bureau of Labor Statistics (BLS) – Local Area Unemployment Statistics (LAUS):** Offers monthly and annual unemployment rates by state.\n",
    "- **U.S. Department of Education – College Scorecard API:** Supplies postsecondary institution data to enrich educational context (e.g., average earnings post-graduation).\n",
    "\n",
    "All datasets are retrieved programmatically using their respective APIs, with keys stored in `.env`."
   ]
  },
  {
   "cell_type": "code",
   "execution_count": 5,
   "metadata": {},
   "outputs": [],
   "source": [
    "# 📦 Imports and Setup\n",
    "import pandas as pd, numpy as np, requests, os, matplotlib.pyplot as plt, plotly.express as px, seaborn as sns\n",
    "from dotenv import load_dotenv\n",
    "\n",
    "# Load environment variables (API keys)\n",
    "load_dotenv()\n",
    "CENSUS_KEY = os.getenv('CENSUS_API_KEY')\n",
    "ED_KEY = os.getenv('ED_API_KEY')\n",
    "\n",
    "# Configure visualization style\n",
    "sns.set(style='whitegrid')"
   ]
  },
  {
   "cell_type": "markdown",
   "metadata": {},
   "source": [
    "## Data Loading\n",
    "We’ll query three APIs: ACS (Census), BLS (LAUS), and College Scorecard. Only selected fields will be used to ensure clarity and relevance."
   ]
  },
  {
   "cell_type": "code",
   "execution_count": 6,
   "metadata": {},
   "outputs": [],
   "source": [
    "# 🧭 Example API Calls\n",
    "# 1. Census ACS 1-Year Data (Median Income and Education)\n",
    "census_url = f'https://api.census.gov/data/2022/acs/acs1?get=NAME,B19013_001E,B15003_022E,B15003_023E,B15003_024E,B15003_025E&for=state:*&key={CENSUS_KEY}'\n",
    "acs_response = requests.get(census_url)\n",
    "acs_data = pd.DataFrame(acs_response.json()[1:], columns=acs_response.json()[0])\n",
    "acs_data.rename(columns={'NAME':'State','B19013_001E':'MedianIncome','B15003_022E':'Bachelor','B15003_023E':'Master','B15003_024E':'Professional','B15003_025E':'Doctorate'}, inplace=True)\n",
    "acs_data[['MedianIncome','Bachelor','Master','Professional','Doctorate']] = acs_data[['MedianIncome','Bachelor','Master','Professional','Doctorate']].apply(pd.to_numeric)\n",
    "acs_data['TotalHigherEd'] = acs_data[['Bachelor','Master','Professional','Doctorate']].sum(axis=1)"
   ]
  },
  {
   "cell_type": "code",
   "execution_count": 8,
   "metadata": {},
   "outputs": [
    {
     "data": {
      "text/html": [
       "<div>\n",
       "<style scoped>\n",
       "    .dataframe tbody tr th:only-of-type {\n",
       "        vertical-align: middle;\n",
       "    }\n",
       "\n",
       "    .dataframe tbody tr th {\n",
       "        vertical-align: top;\n",
       "    }\n",
       "\n",
       "    .dataframe thead th {\n",
       "        text-align: right;\n",
       "    }\n",
       "</style>\n",
       "<table border=\"1\" class=\"dataframe\">\n",
       "  <thead>\n",
       "    <tr style=\"text-align: right;\">\n",
       "      <th></th>\n",
       "      <th>State</th>\n",
       "      <th>Rate</th>\n",
       "    </tr>\n",
       "  </thead>\n",
       "  <tbody>\n",
       "    <tr>\n",
       "      <th>0</th>\n",
       "      <td>Alabama</td>\n",
       "      <td>2.9</td>\n",
       "    </tr>\n",
       "    <tr>\n",
       "      <th>1</th>\n",
       "      <td>Alaska</td>\n",
       "      <td>4.7</td>\n",
       "    </tr>\n",
       "    <tr>\n",
       "      <th>2</th>\n",
       "      <td>Arizona</td>\n",
       "      <td>4.1</td>\n",
       "    </tr>\n",
       "    <tr>\n",
       "      <th>3</th>\n",
       "      <td>Arkansas</td>\n",
       "      <td>3.8</td>\n",
       "    </tr>\n",
       "    <tr>\n",
       "      <th>4</th>\n",
       "      <td>California</td>\n",
       "      <td>5.5</td>\n",
       "    </tr>\n",
       "  </tbody>\n",
       "</table>\n",
       "</div>"
      ],
      "text/plain": [
       "        State  Rate\n",
       "0     Alabama   2.9\n",
       "1      Alaska   4.7\n",
       "2     Arizona   4.1\n",
       "3    Arkansas   3.8\n",
       "4  California   5.5"
      ]
     },
     "metadata": {},
     "output_type": "display_data"
    },
    {
     "data": {
      "text/plain": [
       "(51, 2)"
      ]
     },
     "metadata": {},
     "output_type": "display_data"
    }
   ],
   "source": [
    "# 2) BLS LAUS — scrape from RSS (no API), robust CDATA HTML parse → State, Rate\n",
    "import re, requests, pandas as pd\n",
    "from xml.etree import ElementTree as ET\n",
    "\n",
    "RSS_URL = \"https://www.bls.gov/feed/lau_latest.rss\"\n",
    "HEADERS = {\n",
    "    \"User-Agent\": \"Mozilla/5.0 (Macintosh; Intel Mac OS X 10_15_7)\",\n",
    "    \"Accept\": \"application/rss+xml, application/xml, text/xml;q=0.9, */*;q=0.8\",\n",
    "}\n",
    "\n",
    "# Full list of states + DC (to filter out Puerto Rico, etc., if desired)\n",
    "US_STATES = {\n",
    "    \"Alabama\",\"Alaska\",\"Arizona\",\"Arkansas\",\"California\",\"Colorado\",\"Connecticut\",\"Delaware\",\n",
    "    \"District of Columbia\",\"Florida\",\"Georgia\",\"Hawaii\",\"Idaho\",\"Illinois\",\"Indiana\",\"Iowa\",\n",
    "    \"Kansas\",\"Kentucky\",\"Louisiana\",\"Maine\",\"Maryland\",\"Massachusetts\",\"Michigan\",\"Minnesota\",\n",
    "    \"Mississippi\",\"Missouri\",\"Montana\",\"Nebraska\",\"Nevada\",\"New Hampshire\",\"New Jersey\",\n",
    "    \"New Mexico\",\"New York\",\"North Carolina\",\"North Dakota\",\"Ohio\",\"Oklahoma\",\"Oregon\",\n",
    "    \"Pennsylvania\",\"Rhode Island\",\"South Carolina\",\"South Dakota\",\"Tennessee\",\"Texas\",\"Utah\",\n",
    "    \"Vermont\",\"Virginia\",\"Washington\",\"West Virginia\",\"Wisconsin\",\"Wyoming\"\n",
    "}\n",
    "\n",
    "# Fetch RSS\n",
    "resp = requests.get(RSS_URL, headers=HEADERS, timeout=30)\n",
    "resp.raise_for_status()\n",
    "\n",
    "# Parse XML → grab <description> CDATA (contains HTML with all state <p> blocks)\n",
    "root = ET.fromstring(resp.content)\n",
    "ns = {\"dc\": \"http://purl.org/dc/elements/1.1/\"}\n",
    "\n",
    "desc_text = None\n",
    "# Find the first item/description\n",
    "for ch in root.findall(\"./channel/item\"):\n",
    "    d = ch.find(\"description\")\n",
    "    if d is not None and d.text:\n",
    "        desc_text = d.text\n",
    "        break\n",
    "\n",
    "if not desc_text:\n",
    "    raise ValueError(\"Could not find description HTML in the RSS feed.\")\n",
    "\n",
    "html = desc_text\n",
    "\n",
    "# Extract each <p>...</p> block\n",
    "p_blocks = re.findall(r\"<p>(.*?)</p>\", html, flags=re.DOTALL | re.IGNORECASE)\n",
    "\n",
    "rows = []\n",
    "for p in p_blocks:\n",
    "    # State name appears before first <br>\n",
    "    # Handle 'D.C.' specially and strip tags/whitespace\n",
    "    state_raw = re.split(r\"<br\\s*/?>\", p, flags=re.IGNORECASE)[0]\n",
    "    # Remove any residual tags/entities and trim\n",
    "    state = re.sub(r\"<.*?>\", \"\", state_raw).strip()\n",
    "    state = state.replace(\"D.C.\", \"District of Columbia\")\n",
    "\n",
    "    # Find the first numeric like 3.8% or 3.8%(p)\n",
    "    m = re.search(r\"(\\d+(?:\\.\\d+)?)\\s*%?\", p)\n",
    "    if not m:\n",
    "        continue\n",
    "    rate = float(m.group(1))\n",
    "\n",
    "    rows.append({\"State\": state, \"Rate\": rate})\n",
    "\n",
    "bls_table = pd.DataFrame(rows)\n",
    "\n",
    "# Keep only the 50 states + DC (drop Puerto Rico etc.). If you want PR, remove this filter.\n",
    "bls_table = bls_table[bls_table[\"State\"].isin(US_STATES)].copy()\n",
    "\n",
    "# Deduplicate and tidy\n",
    "bls_table = (bls_table\n",
    "             .drop_duplicates(subset=[\"State\"])\n",
    "             .sort_values(\"State\")\n",
    "             .reset_index(drop=True))\n",
    "\n",
    "display(bls_table.head(), bls_table.shape)\n"
   ]
  },
  {
   "cell_type": "code",
   "execution_count": 9,
   "metadata": {},
   "outputs": [
    {
     "name": "stdout",
     "output_type": "stream",
     "text": [
      "[Scorecard] Loaded from cache: (51, 2)\n"
     ]
    },
    {
     "data": {
      "text/html": [
       "<div>\n",
       "<style scoped>\n",
       "    .dataframe tbody tr th:only-of-type {\n",
       "        vertical-align: middle;\n",
       "    }\n",
       "\n",
       "    .dataframe tbody tr th {\n",
       "        vertical-align: top;\n",
       "    }\n",
       "\n",
       "    .dataframe thead th {\n",
       "        text-align: right;\n",
       "    }\n",
       "</style>\n",
       "<table border=\"1\" class=\"dataframe\">\n",
       "  <thead>\n",
       "    <tr style=\"text-align: right;\">\n",
       "      <th></th>\n",
       "      <th>StateAbbr</th>\n",
       "      <th>MedianEarnings</th>\n",
       "      <th>State</th>\n",
       "    </tr>\n",
       "  </thead>\n",
       "  <tbody>\n",
       "    <tr>\n",
       "      <th>0</th>\n",
       "      <td>AK</td>\n",
       "      <td>43318.444444</td>\n",
       "      <td>Alaska</td>\n",
       "    </tr>\n",
       "    <tr>\n",
       "      <th>1</th>\n",
       "      <td>AL</td>\n",
       "      <td>39942.147059</td>\n",
       "      <td>Alabama</td>\n",
       "    </tr>\n",
       "    <tr>\n",
       "      <th>2</th>\n",
       "      <td>AR</td>\n",
       "      <td>35150.694444</td>\n",
       "      <td>Arkansas</td>\n",
       "    </tr>\n",
       "    <tr>\n",
       "      <th>3</th>\n",
       "      <td>AZ</td>\n",
       "      <td>44017.947368</td>\n",
       "      <td>Arizona</td>\n",
       "    </tr>\n",
       "    <tr>\n",
       "      <th>4</th>\n",
       "      <td>CA</td>\n",
       "      <td>46981.987879</td>\n",
       "      <td>California</td>\n",
       "    </tr>\n",
       "  </tbody>\n",
       "</table>\n",
       "</div>"
      ],
      "text/plain": [
       "  StateAbbr  MedianEarnings       State\n",
       "0        AK    43318.444444      Alaska\n",
       "1        AL    39942.147059     Alabama\n",
       "2        AR    35150.694444    Arkansas\n",
       "3        AZ    44017.947368     Arizona\n",
       "4        CA    46981.987879  California"
      ]
     },
     "metadata": {},
     "output_type": "display_data"
    },
    {
     "data": {
      "text/plain": [
       "(51, 3)"
      ]
     },
     "metadata": {},
     "output_type": "display_data"
    }
   ],
   "source": [
    "# College Scorecard — fast, parallel, paginated, cached → state-level MedianEarnings\n",
    "import os, time, math, json, threading, requests, pandas as pd\n",
    "from concurrent.futures import ThreadPoolExecutor, as_completed\n",
    "from urllib.parse import urlencode\n",
    "\n",
    "ED_KEY = os.getenv(\"ED_API_KEY\")\n",
    "assert ED_KEY and ED_KEY.strip(), \"Missing ED_API_KEY in environment.\"\n",
    "\n",
    "BASE = \"https://api.data.gov/ed/collegescorecard/v1/schools\"\n",
    "FIELDS = \"school.state,latest.earnings.10_yrs_after_entry.median\"\n",
    "STATE_ABBR = [\n",
    "    \"AL\",\"AK\",\"AZ\",\"AR\",\"CA\",\"CO\",\"CT\",\"DE\",\"DC\",\"FL\",\"GA\",\"HI\",\"ID\",\"IL\",\"IN\",\"IA\",\"KS\",\"KY\",\"LA\",\"ME\",\"MD\",\"MA\",\n",
    "    \"MI\",\"MN\",\"MS\",\"MO\",\"MT\",\"NE\",\"NV\",\"NH\",\"NJ\",\"NM\",\"NY\",\"NC\",\"ND\",\"OH\",\"OK\",\"OR\",\"PA\",\"RI\",\"SC\",\"SD\",\"TN\",\"TX\",\n",
    "    \"UT\",\"VT\",\"VA\",\"WA\",\"WV\",\"WI\",\"WY\"\n",
    "]\n",
    "\n",
    "# Optional: cache to speed up later runs\n",
    "CACHE_PATH = \"scorecard_state_earnings_cache.parquet\"\n",
    "\n",
    "# Simple requests session with retry/backoff\n",
    "session = requests.Session()\n",
    "session.headers.update({\"Accept\": \"application/json\", \"User-Agent\": \"Mozilla/5.0\"})\n",
    "lock = threading.Lock()  # for thread-safe prints / shared counters\n",
    "\n",
    "def fetch_state(state_abbr, per_page=100, max_pages=20, sleep_between=0.05):\n",
    "    \"\"\"\n",
    "    Pull all pages for one state with retries and return list of dict rows.\n",
    "    Filters:\n",
    "      - school.operating=1 (exclude closed)\n",
    "      - latest.earnings.10_yrs_after_entry.median__range=1.. (exclude empty/zero)\n",
    "    \"\"\"\n",
    "    rows = []\n",
    "    page = 0\n",
    "    attempts = 0\n",
    "    while page < max_pages:\n",
    "        params = {\n",
    "            \"api_key\": ED_KEY,\n",
    "            \"school.state\": state_abbr,\n",
    "            \"school.operating\": 1,\n",
    "            \"latest.earnings.10_yrs_after_entry.median__range\": \"1..\",\n",
    "            \"fields\": FIELDS,\n",
    "            \"per_page\": per_page,\n",
    "            \"page\": page,\n",
    "        }\n",
    "        url = f\"{BASE}?{urlencode(params)}\"\n",
    "        try:\n",
    "            r = session.get(url, timeout=25)\n",
    "            if r.status_code in (429, 500, 502, 503, 504):\n",
    "                # backoff\n",
    "                attempts += 1\n",
    "                wait = min(1.5 * attempts, 8.0)\n",
    "                with lock:\n",
    "                    print(f\"{state_abbr} page {page}: {r.status_code}, retry in {wait:.1f}s\")\n",
    "                time.sleep(wait)\n",
    "                continue\n",
    "            r.raise_for_status()\n",
    "            payload = r.json()\n",
    "            batch = payload.get(\"results\", [])\n",
    "            if not batch:\n",
    "                break\n",
    "            # Keep only fields we need\n",
    "            for d in batch:\n",
    "                rows.append({\n",
    "                    \"StateAbbr\": d.get(\"school.state\"),\n",
    "                    \"MedianEarnings\": d.get(\"latest.earnings.10_yrs_after_entry.median\"),\n",
    "                })\n",
    "            if len(batch) < per_page:\n",
    "                break\n",
    "            page += 1\n",
    "            time.sleep(sleep_between)\n",
    "        except requests.RequestException as e:\n",
    "            attempts += 1\n",
    "            wait = min(1.5 * attempts, 8.0)\n",
    "            with lock:\n",
    "                print(f\"{state_abbr} page {page}: error {e}, retry in {wait:.1f}s\")\n",
    "            time.sleep(wait)\n",
    "            if attempts > 5:\n",
    "                with lock:\n",
    "                    print(f\"{state_abbr}: giving up after {attempts} attempts on page {page}\")\n",
    "                break\n",
    "    return rows\n",
    "\n",
    "def load_from_cache(path):\n",
    "    try:\n",
    "        return pd.read_parquet(path)\n",
    "    except Exception:\n",
    "        return None\n",
    "\n",
    "def save_to_cache(df, path):\n",
    "    try:\n",
    "        df.to_parquet(path, index=False)\n",
    "    except Exception:\n",
    "        pass\n",
    "\n",
    "# Try cache first\n",
    "cached = load_from_cache(CACHE_PATH)\n",
    "if cached is not None and not cached.empty:\n",
    "    college_df = cached.copy()\n",
    "    print(f\"[Scorecard] Loaded from cache: {college_df.shape}\")\n",
    "else:\n",
    "    results = []\n",
    "    # Tune workers to be kind to the API; 6–8 is a good balance\n",
    "    with ThreadPoolExecutor(max_workers=8) as ex:\n",
    "        futs = {ex.submit(fetch_state, st): st for st in STATE_ABBR}\n",
    "        for fut in as_completed(futs):\n",
    "            st = futs[fut]\n",
    "            try:\n",
    "                rows = fut.result()\n",
    "                results.extend(rows)\n",
    "                with lock:\n",
    "                    print(f\"{st}: {len(rows)} rows\")\n",
    "            except Exception as e:\n",
    "                with lock:\n",
    "                    print(f\"{st}: failed with {e}\")\n",
    "\n",
    "    college_raw = pd.DataFrame(results)\n",
    "    # Clean and aggregate to state level\n",
    "    college_raw[\"MedianEarnings\"] = pd.to_numeric(college_raw[\"MedianEarnings\"], errors=\"coerce\")\n",
    "    college_df = (college_raw\n",
    "                  .dropna(subset=[\"StateAbbr\",\"MedianEarnings\"])\n",
    "                  .groupby(\"StateAbbr\", as_index=False)[\"MedianEarnings\"]\n",
    "                  .mean())\n",
    "    save_to_cache(college_df, CACHE_PATH)\n",
    "    print(f\"[Scorecard] Fresh fetch complete: {college_df.shape}\")\n",
    "\n",
    "# Map to full state names for merge consistency\n",
    "abbr_to_name = {\n",
    "    \"AL\":\"Alabama\",\"AK\":\"Alaska\",\"AZ\":\"Arizona\",\"AR\":\"Arkansas\",\"CA\":\"California\",\"CO\":\"Colorado\",\"CT\":\"Connecticut\",\n",
    "    \"DE\":\"Delaware\",\"DC\":\"District of Columbia\",\"FL\":\"Florida\",\"GA\":\"Georgia\",\"HI\":\"Hawaii\",\"ID\":\"Idaho\",\"IL\":\"Illinois\",\n",
    "    \"IN\":\"Indiana\",\"IA\":\"Iowa\",\"KS\":\"Kansas\",\"KY\":\"Kentucky\",\"LA\":\"Louisiana\",\"ME\":\"Maine\",\"MD\":\"Maryland\",\n",
    "    \"MA\":\"Massachusetts\",\"MI\":\"Michigan\",\"MN\":\"Minnesota\",\"MS\":\"Mississippi\",\"MO\":\"Missouri\",\"MT\":\"Montana\",\n",
    "    \"NE\":\"Nebraska\",\"NV\":\"Nevada\",\"NH\":\"New Hampshire\",\"NJ\":\"New Jersey\",\"NM\":\"New Mexico\",\"NY\":\"New York\",\n",
    "    \"NC\":\"North Carolina\",\"ND\":\"North Dakota\",\"OH\":\"Ohio\",\"OK\":\"Oklahoma\",\"OR\":\"Oregon\",\"PA\":\"Pennsylvania\",\n",
    "    \"RI\":\"Rhode Island\",\"SC\":\"South Carolina\",\"SD\":\"South Dakota\",\"TN\":\"Tennessee\",\"TX\":\"Texas\",\"UT\":\"Utah\",\n",
    "    \"VT\":\"Vermont\",\"VA\":\"Virginia\",\"WA\":\"Washington\",\"WV\":\"West Virginia\",\"WI\":\"Wisconsin\",\"WY\":\"Wyoming\"\n",
    "}\n",
    "college_df[\"State\"] = college_df[\"StateAbbr\"].map(abbr_to_name)\n",
    "\n",
    "display(college_df.head(), college_df.shape)\n"
   ]
  },
  {
   "cell_type": "code",
   "execution_count": 10,
   "metadata": {},
   "outputs": [
    {
     "data": {
      "text/html": [
       "<div>\n",
       "<style scoped>\n",
       "    .dataframe tbody tr th:only-of-type {\n",
       "        vertical-align: middle;\n",
       "    }\n",
       "\n",
       "    .dataframe tbody tr th {\n",
       "        vertical-align: top;\n",
       "    }\n",
       "\n",
       "    .dataframe thead th {\n",
       "        text-align: right;\n",
       "    }\n",
       "</style>\n",
       "<table border=\"1\" class=\"dataframe\">\n",
       "  <thead>\n",
       "    <tr style=\"text-align: right;\">\n",
       "      <th></th>\n",
       "      <th>State</th>\n",
       "      <th>MedianIncome</th>\n",
       "      <th>Bachelor</th>\n",
       "      <th>Master</th>\n",
       "      <th>Professional</th>\n",
       "      <th>Doctorate</th>\n",
       "      <th>state</th>\n",
       "      <th>TotalHigherEd</th>\n",
       "      <th>Rate</th>\n",
       "      <th>StateAbbr</th>\n",
       "      <th>MedianEarnings</th>\n",
       "    </tr>\n",
       "  </thead>\n",
       "  <tbody>\n",
       "    <tr>\n",
       "      <th>0</th>\n",
       "      <td>Alabama</td>\n",
       "      <td>59674</td>\n",
       "      <td>609316</td>\n",
       "      <td>286677</td>\n",
       "      <td>61890</td>\n",
       "      <td>42908</td>\n",
       "      <td>01</td>\n",
       "      <td>1000791</td>\n",
       "      <td>2.9</td>\n",
       "      <td>AL</td>\n",
       "      <td>39942.147059</td>\n",
       "    </tr>\n",
       "    <tr>\n",
       "      <th>1</th>\n",
       "      <td>Alaska</td>\n",
       "      <td>88121</td>\n",
       "      <td>94168</td>\n",
       "      <td>39551</td>\n",
       "      <td>9379</td>\n",
       "      <td>6548</td>\n",
       "      <td>02</td>\n",
       "      <td>149646</td>\n",
       "      <td>4.7</td>\n",
       "      <td>AK</td>\n",
       "      <td>43318.444444</td>\n",
       "    </tr>\n",
       "    <tr>\n",
       "      <th>2</th>\n",
       "      <td>Arizona</td>\n",
       "      <td>74568</td>\n",
       "      <td>1032052</td>\n",
       "      <td>463372</td>\n",
       "      <td>97473</td>\n",
       "      <td>73242</td>\n",
       "      <td>04</td>\n",
       "      <td>1666139</td>\n",
       "      <td>4.1</td>\n",
       "      <td>AZ</td>\n",
       "      <td>44017.947368</td>\n",
       "    </tr>\n",
       "    <tr>\n",
       "      <th>3</th>\n",
       "      <td>Arkansas</td>\n",
       "      <td>55432</td>\n",
       "      <td>323961</td>\n",
       "      <td>144054</td>\n",
       "      <td>30805</td>\n",
       "      <td>23987</td>\n",
       "      <td>05</td>\n",
       "      <td>522807</td>\n",
       "      <td>3.8</td>\n",
       "      <td>AR</td>\n",
       "      <td>35150.694444</td>\n",
       "    </tr>\n",
       "    <tr>\n",
       "      <th>4</th>\n",
       "      <td>California</td>\n",
       "      <td>91551</td>\n",
       "      <td>6056169</td>\n",
       "      <td>2643964</td>\n",
       "      <td>718109</td>\n",
       "      <td>517699</td>\n",
       "      <td>06</td>\n",
       "      <td>9935941</td>\n",
       "      <td>5.5</td>\n",
       "      <td>CA</td>\n",
       "      <td>46981.987879</td>\n",
       "    </tr>\n",
       "  </tbody>\n",
       "</table>\n",
       "</div>"
      ],
      "text/plain": [
       "        State  MedianIncome  Bachelor   Master  Professional  Doctorate state  \\\n",
       "0     Alabama         59674    609316   286677         61890      42908    01   \n",
       "1      Alaska         88121     94168    39551          9379       6548    02   \n",
       "2     Arizona         74568   1032052   463372         97473      73242    04   \n",
       "3    Arkansas         55432    323961   144054         30805      23987    05   \n",
       "4  California         91551   6056169  2643964        718109     517699    06   \n",
       "\n",
       "   TotalHigherEd  Rate StateAbbr  MedianEarnings  \n",
       "0        1000791   2.9        AL    39942.147059  \n",
       "1         149646   4.7        AK    43318.444444  \n",
       "2        1666139   4.1        AZ    44017.947368  \n",
       "3         522807   3.8        AR    35150.694444  \n",
       "4        9935941   5.5        CA    46981.987879  "
      ]
     },
     "execution_count": 10,
     "metadata": {},
     "output_type": "execute_result"
    }
   ],
   "source": [
    "# 🔗 Merge All Sources\n",
    "merged = acs_data.merge(bls_table, on='State', how='left').merge(college_df, on='State', how='left')\n",
    "merged.head()"
   ]
  },
  {
   "cell_type": "markdown",
   "metadata": {},
   "source": [
    "## Exploratory Data Analysis (EDA)\n",
    "We’ll explore summary statistics, distributions, and correlations to understand relationships among income, education, and employment."
   ]
  },
  {
   "cell_type": "code",
   "execution_count": 29,
   "metadata": {},
   "outputs": [
    {
     "data": {
      "text/html": [
       "<div>\n",
       "<style scoped>\n",
       "    .dataframe tbody tr th:only-of-type {\n",
       "        vertical-align: middle;\n",
       "    }\n",
       "\n",
       "    .dataframe tbody tr th {\n",
       "        vertical-align: top;\n",
       "    }\n",
       "\n",
       "    .dataframe thead th {\n",
       "        text-align: right;\n",
       "    }\n",
       "</style>\n",
       "<table border=\"1\" class=\"dataframe\">\n",
       "  <thead>\n",
       "    <tr style=\"text-align: right;\">\n",
       "      <th></th>\n",
       "      <th>MedianIncome</th>\n",
       "      <th>Bachelor</th>\n",
       "      <th>Master</th>\n",
       "      <th>Professional</th>\n",
       "      <th>Doctorate</th>\n",
       "      <th>TotalHigherEd</th>\n",
       "      <th>Rate</th>\n",
       "      <th>MedianEarnings</th>\n",
       "    </tr>\n",
       "  </thead>\n",
       "  <tbody>\n",
       "    <tr>\n",
       "      <th>count</th>\n",
       "      <td>52.000000</td>\n",
       "      <td>5.200000e+01</td>\n",
       "      <td>5.200000e+01</td>\n",
       "      <td>52.000000</td>\n",
       "      <td>52.000000</td>\n",
       "      <td>5.200000e+01</td>\n",
       "      <td>51.000000</td>\n",
       "      <td>51.000000</td>\n",
       "    </tr>\n",
       "    <tr>\n",
       "      <th>mean</th>\n",
       "      <td>73477.557692</td>\n",
       "      <td>9.643181e+05</td>\n",
       "      <td>4.467777e+05</td>\n",
       "      <td>103324.096154</td>\n",
       "      <td>74542.730769</td>\n",
       "      <td>1.588963e+06</td>\n",
       "      <td>3.903922</td>\n",
       "      <td>43976.939998</td>\n",
       "    </tr>\n",
       "    <tr>\n",
       "      <th>std</th>\n",
       "      <td>14043.682917</td>\n",
       "      <td>1.125974e+06</td>\n",
       "      <td>5.153832e+05</td>\n",
       "      <td>129318.725461</td>\n",
       "      <td>89152.565938</td>\n",
       "      <td>1.852361e+06</td>\n",
       "      <td>0.833297</td>\n",
       "      <td>5841.442120</td>\n",
       "    </tr>\n",
       "    <tr>\n",
       "      <th>min</th>\n",
       "      <td>24112.000000</td>\n",
       "      <td>7.181200e+04</td>\n",
       "      <td>3.332100e+04</td>\n",
       "      <td>5705.000000</td>\n",
       "      <td>5939.000000</td>\n",
       "      <td>1.181660e+05</td>\n",
       "      <td>1.900000</td>\n",
       "      <td>33568.163265</td>\n",
       "    </tr>\n",
       "    <tr>\n",
       "      <th>25%</th>\n",
       "      <td>66518.750000</td>\n",
       "      <td>2.505992e+05</td>\n",
       "      <td>1.139908e+05</td>\n",
       "      <td>27046.000000</td>\n",
       "      <td>19948.750000</td>\n",
       "      <td>4.207445e+05</td>\n",
       "      <td>3.350000</td>\n",
       "      <td>39532.096686</td>\n",
       "    </tr>\n",
       "    <tr>\n",
       "      <th>50%</th>\n",
       "      <td>71884.000000</td>\n",
       "      <td>5.550215e+05</td>\n",
       "      <td>2.702250e+05</td>\n",
       "      <td>61811.500000</td>\n",
       "      <td>40059.000000</td>\n",
       "      <td>9.310635e+05</td>\n",
       "      <td>3.800000</td>\n",
       "      <td>43755.652174</td>\n",
       "    </tr>\n",
       "    <tr>\n",
       "      <th>75%</th>\n",
       "      <td>83221.750000</td>\n",
       "      <td>1.264817e+06</td>\n",
       "      <td>6.314190e+05</td>\n",
       "      <td>134571.250000</td>\n",
       "      <td>103239.250000</td>\n",
       "      <td>2.180225e+06</td>\n",
       "      <td>4.400000</td>\n",
       "      <td>47240.368939</td>\n",
       "    </tr>\n",
       "    <tr>\n",
       "      <th>max</th>\n",
       "      <td>101027.000000</td>\n",
       "      <td>6.056169e+06</td>\n",
       "      <td>2.643964e+06</td>\n",
       "      <td>718109.000000</td>\n",
       "      <td>517699.000000</td>\n",
       "      <td>9.935941e+06</td>\n",
       "      <td>6.000000</td>\n",
       "      <td>59508.532110</td>\n",
       "    </tr>\n",
       "  </tbody>\n",
       "</table>\n",
       "</div>"
      ],
      "text/plain": [
       "        MedianIncome      Bachelor        Master   Professional  \\\n",
       "count      52.000000  5.200000e+01  5.200000e+01      52.000000   \n",
       "mean    73477.557692  9.643181e+05  4.467777e+05  103324.096154   \n",
       "std     14043.682917  1.125974e+06  5.153832e+05  129318.725461   \n",
       "min     24112.000000  7.181200e+04  3.332100e+04    5705.000000   \n",
       "25%     66518.750000  2.505992e+05  1.139908e+05   27046.000000   \n",
       "50%     71884.000000  5.550215e+05  2.702250e+05   61811.500000   \n",
       "75%     83221.750000  1.264817e+06  6.314190e+05  134571.250000   \n",
       "max    101027.000000  6.056169e+06  2.643964e+06  718109.000000   \n",
       "\n",
       "           Doctorate  TotalHigherEd       Rate  MedianEarnings  \n",
       "count      52.000000   5.200000e+01  51.000000       51.000000  \n",
       "mean    74542.730769   1.588963e+06   3.903922    43976.939998  \n",
       "std     89152.565938   1.852361e+06   0.833297     5841.442120  \n",
       "min      5939.000000   1.181660e+05   1.900000    33568.163265  \n",
       "25%     19948.750000   4.207445e+05   3.350000    39532.096686  \n",
       "50%     40059.000000   9.310635e+05   3.800000    43755.652174  \n",
       "75%    103239.250000   2.180225e+06   4.400000    47240.368939  \n",
       "max    517699.000000   9.935941e+06   6.000000    59508.532110  "
      ]
     },
     "execution_count": 29,
     "metadata": {},
     "output_type": "execute_result"
    }
   ],
   "source": [
    "# 📊 Summary Stats\n",
    "merged.describe()"
   ]
  },
  {
   "cell_type": "code",
   "execution_count": 30,
   "metadata": {},
   "outputs": [
    {
     "name": "stderr",
     "output_type": "stream",
     "text": [
      "/var/folders/wq/653s0dfs6yq5kdj7glvqbz8w0000gn/T/ipykernel_71852/2760856856.py:3: FutureWarning:\n",
      "\n",
      "\n",
      "\n",
      "Passing `palette` without assigning `hue` is deprecated and will be removed in v0.14.0. Assign the `y` variable to `hue` and set `legend=False` for the same effect.\n",
      "\n",
      "\n"
     ]
    },
    {
     "data": {
      "image/png": "[encoded data removed]",
      "text/plain": [
       "<Figure size 1200x600 with 1 Axes>"
      ]
     },
     "metadata": {},
     "output_type": "display_data"
    }
   ],
   "source": [
    "# 1️⃣ Visualization: Median Income by State\n",
    "plt.figure(figsize=(12,6))\n",
    "sns.barplot(y='State', x='MedianIncome', data=merged.sort_values('MedianIncome', ascending=False).head(15), palette='viridis')\n",
    "plt.title('Top 15 States by Median Household Income (ACS 2022)')\n",
    "plt.xlabel('Median Income ($)'); plt.ylabel('State'); plt.show()"
   ]
  },
  {
   "cell_type": "markdown",
   "metadata": {},
   "source": [
    "### 🧠 Insight: Median Income by State (ACS 2022)\n",
    "\n",
    "States such as the **District of Columbia, New Jersey, Maryland, and Massachusetts** lead the nation in median household income, each exceeding **$90,000**. These states are characterized by high concentrations of professional and government employment as well as advanced educational attainment. In contrast, states not represented in the top 15 generally have lower income levels that correspond with smaller higher-education populations and differing industry structures.\n"
   ]
  },
  {
   "cell_type": "code",
   "execution_count": 37,
   "metadata": {},
   "outputs": [
    {
     "data": {
      "image/png": "[encoded data removed]",
      "text/plain": [
       "<Figure size 600x400 with 2 Axes>"
      ]
     },
     "metadata": {},
     "output_type": "display_data"
    }
   ],
   "source": [
    "corr = merged[[\"MedianIncome\",\"TotalHigherEd\",\"Rate\",\"MedianEarnings\"]].corr()\n",
    "plt.figure(figsize=(6,4))\n",
    "sns.heatmap(corr, annot=True, cmap=\"crest\", fmt=\".2f\", linewidths=.5)\n",
    "plt.title(\"Correlation Matrix: Education, Income, and Employment\")\n",
    "plt.show()\n"
   ]
  },
  {
   "cell_type": "markdown",
   "metadata": {},
   "source": [
    "### 📊 Insight: Correlation Matrix – Education, Income, and Employment\n",
    "\n",
    "The matrix reveals a **strong positive correlation (0.68)** between **Median Income** and **Median Earnings**, suggesting that higher individual earnings align closely with overall household wealth. Education levels show a **moderate correlation** with both income and employment rate, indicating that while education contributes to economic prosperity, it interacts with other regional factors such as industry structure and cost of living.\n"
   ]
  },
  {
   "cell_type": "code",
   "execution_count": 32,
   "metadata": {},
   "outputs": [
    {
     "data": {
      "application/vnd.plotly.v1+json": {
       "config": {
        "plotlyServerURL": "https://plot.ly"
       },
       "data": [
        {
         "hovertemplate": "Rate=%{x}<br>MedianIncome=%{marker.color}<br>State=%{text}<extra></extra>",
         "legendgroup": "",
         "marker": {
          "color": {
           "bdata": "GukAADlYAQBIIwEAiNgAAJ9lAQDWXAEAbVkBAP5AAQCjigEAtw4BAIUcAQAqaQEAURwBAKQrAQDhBAEA1A8BAD0NAQDN5wAAeNgAAKcPAQAPcwEAGHEBAKoFAQCiQQEA780AACv9AAAvCAEA3Q8BAI0aAQCIXwEAWngBAE7pAADFNgEAmQcBACIZAQC4AAEAGekAAIknAQB2GAEAvj8BAHP6AABgEAEA5v4AAFwaAQBQXAEAByEBAHFPAQCqZAEAOdQAAFQVAQCaEQEAMF4AAA==",
           "dtype": "i4"
          },
          "coloraxis": "coloraxis",
          "symbol": "circle"
         },
         "mode": "markers+text",
         "name": "",
         "orientation": "v",
         "showlegend": false,
         "text": [
          "Alabama",
          "Alaska",
          "Arizona",
          "Arkansas",
          "California",
          "Colorado",
          "Connecticut",
          "Delaware",
          "District of Columbia",
          "Florida",
          "Georgia",
          "Hawaii",
          "Idaho",
          "Illinois",
          "Indiana",
          "Iowa",
          "Kansas",
          "Kentucky",
          "Louisiana",
          "Maine",
          "Maryland",
          "Massachusetts",
          "Michigan",
          "Minnesota",
          "Mississippi",
          "Missouri",
          "Montana",
          "Nebraska",
          "Nevada",
          "New Hampshire",
          "New Jersey",
          "New Mexico",
          "New York",
          "North Carolina",
          "North Dakota",
          "Ohio",
          "Oklahoma",
          "Oregon",
          "Pennsylvania",
          "Rhode Island",
          "South Carolina",
          "South Dakota",
          "Tennessee",
          "Texas",
          "Utah",
          "Vermont",
          "Virginia",
          "Washington",
          "West Virginia",
          "Wisconsin",
          "Wyoming",
          "Puerto Rico"
         ],
         "textposition": "top center",
         "type": "scatter",
         "x": {
          "bdata": "MzMzMzMzB0DNzMzMzMwSQGZmZmZmZhBAZmZmZmZmDkAAAAAAAAAWQM3MzMzMzBBAZmZmZmZmDkAzMzMzMzMRQAAAAAAAABhAZmZmZmZmDkAzMzMzMzMLQJqZmZmZmQVAmpmZmZmZDUCamZmZmZkRQM3MzMzMzAxAZmZmZmZmDkBmZmZmZmYOQM3MzMzMzBJAmpmZmZmZEUCamZmZmZkJQM3MzMzMzAxAMzMzMzMzE0DNzMzMzMwUQM3MzMzMzAxAMzMzMzMzD0BmZmZmZmYQQDMzMzMzMwdAAAAAAAAACEAzMzMzMzMVQAAAAAAAAAhAAAAAAAAAFEBmZmZmZmYQQAAAAAAAABBAmpmZmZmZDUAAAAAAAAAEQAAAAAAAABRAzczMzMzMCEAAAAAAAAAUQAAAAAAAABBAZmZmZmZmEkAzMzMzMzMRQGZmZmZmZv4/zczMzMzMDEBmZmZmZmYQQGZmZmZmZgpAAAAAAAAABEDNzMzMzMwMQAAAAAAAABJAZmZmZmZmDkDNzMzMzMwIQJqZmZmZmQlAAAAAAAAA+H8=",
          "dtype": "f8"
         },
         "xaxis": "x",
         "y": {
          "bdata": "GukAADlYAQBIIwEAiNgAAJ9lAQDWXAEAbVkBAP5AAQCjigEAtw4BAIUcAQAqaQEAURwBAKQrAQDhBAEA1A8BAD0NAQDN5wAAeNgAAKcPAQAPcwEAGHEBAKoFAQCiQQEA780AACv9AAAvCAEA3Q8BAI0aAQCIXwEAWngBAE7pAADFNgEAmQcBACIZAQC4AAEAGekAAIknAQB2GAEAvj8BAHP6AABgEAEA5v4AAFwaAQBQXAEAByEBAHFPAQCqZAEAOdQAAFQVAQCaEQEAMF4AAA==",
          "dtype": "i4"
         },
         "yaxis": "y"
        }
       ],
       "layout": {
        "coloraxis": {
         "colorbar": {
          "title": {
           "text": "MedianIncome"
          }
         },
         "colorscale": [
          [
           0,
           "#0d0887"
          ],
          [
           0.1111111111111111,
           "#46039f"
          ],
          [
           0.2222222222222222,
           "#7201a8"
          ],
          [
           0.3333333333333333,
           "#9c179e"
          ],
          [
           0.4444444444444444,
           "#bd3786"
          ],
          [
           0.5555555555555556,
           "#d8576b"
          ],
          [
           0.6666666666666666,
           "#ed7953"
          ],
          [
           0.7777777777777778,
           "#fb9f3a"
          ],
          [
           0.8888888888888888,
           "#fdca26"
          ],
          [
           1,
           "#f0f921"
          ]
         ]
        },
        "legend": {
         "tracegroupgap": 0
        },
        "template": {
         "data": {
          "bar": [
           {
            "error_x": {
             "color": "#2a3f5f"
            },
            "error_y": {
             "color": "#2a3f5f"
            },
            "marker": {
             "line": {
              "color": "#E5ECF6",
              "width": 0.5
             },
             "pattern": {
              "fillmode": "overlay",
              "size": 10,
              "solidity": 0.2
             }
            },
            "type": "bar"
           }
          ],
          "barpolar": [
           {
            "marker": {
             "line": {
              "color": "#E5ECF6",
              "width": 0.5
             },
             "pattern": {
              "fillmode": "overlay",
              "size": 10,
              "solidity": 0.2
             }
            },
            "type": "barpolar"
           }
          ],
          "carpet": [
           {
            "aaxis": {
             "endlinecolor": "#2a3f5f",
             "gridcolor": "white",
             "linecolor": "white",
             "minorgridcolor": "white",
             "startlinecolor": "#2a3f5f"
            },
            "baxis": {
             "endlinecolor": "#2a3f5f",
             "gridcolor": "white",
             "linecolor": "white",
             "minorgridcolor": "white",
             "startlinecolor": "#2a3f5f"
            },
            "type": "carpet"
           }
          ],
          "choropleth": [
           {
            "colorbar": {
             "outlinewidth": 0,
             "ticks": ""
            },
            "type": "choropleth"
           }
          ],
          "contour": [
           {
            "colorbar": {
             "outlinewidth": 0,
             "ticks": ""
            },
            "colorscale": [
             [
              0,
              "#0d0887"
             ],
             [
              0.1111111111111111,
              "#46039f"
             ],
             [
              0.2222222222222222,
              "#7201a8"
             ],
             [
              0.3333333333333333,
              "#9c179e"
             ],
             [
              0.4444444444444444,
              "#bd3786"
             ],
             [
              0.5555555555555556,
              "#d8576b"
             ],
             [
              0.6666666666666666,
              "#ed7953"
             ],
             [
              0.7777777777777778,
              "#fb9f3a"
             ],
             [
              0.8888888888888888,
              "#fdca26"
             ],
             [
              1,
              "#f0f921"
             ]
            ],
            "type": "contour"
           }
          ],
          "contourcarpet": [
           {
            "colorbar": {
             "outlinewidth": 0,
             "ticks": ""
            },
            "type": "contourcarpet"
           }
          ],
          "heatmap": [
           {
            "colorbar": {
             "outlinewidth": 0,
             "ticks": ""
            },
            "colorscale": [
             [
              0,
              "#0d0887"
             ],
             [
              0.1111111111111111,
              "#46039f"
             ],
             [
              0.2222222222222222,
              "#7201a8"
             ],
             [
              0.3333333333333333,
              "#9c179e"
             ],
             [
              0.4444444444444444,
              "#bd3786"
             ],
             [
              0.5555555555555556,
              "#d8576b"
             ],
             [
              0.6666666666666666,
              "#ed7953"
             ],
             [
              0.7777777777777778,
              "#fb9f3a"
             ],
             [
              0.8888888888888888,
              "#fdca26"
             ],
             [
              1,
              "#f0f921"
             ]
            ],
            "type": "heatmap"
           }
          ],
          "histogram": [
           {
            "marker": {
             "pattern": {
              "fillmode": "overlay",
              "size": 10,
              "solidity": 0.2
             }
            },
            "type": "histogram"
           }
          ],
          "histogram2d": [
           {
            "colorbar": {
             "outlinewidth": 0,
             "ticks": ""
            },
            "colorscale": [
             [
              0,
              "#0d0887"
             ],
             [
              0.1111111111111111,
              "#46039f"
             ],
             [
              0.2222222222222222,
              "#7201a8"
             ],
             [
              0.3333333333333333,
              "#9c179e"
             ],
             [
              0.4444444444444444,
              "#bd3786"
             ],
             [
              0.5555555555555556,
              "#d8576b"
             ],
             [
              0.6666666666666666,
              "#ed7953"
             ],
             [
              0.7777777777777778,
              "#fb9f3a"
             ],
             [
              0.8888888888888888,
              "#fdca26"
             ],
             [
              1,
              "#f0f921"
             ]
            ],
            "type": "histogram2d"
           }
          ],
          "histogram2dcontour": [
           {
            "colorbar": {
             "outlinewidth": 0,
             "ticks": ""
            },
            "colorscale": [
             [
              0,
              "#0d0887"
             ],
             [
              0.1111111111111111,
              "#46039f"
             ],
             [
              0.2222222222222222,
              "#7201a8"
             ],
             [
              0.3333333333333333,
              "#9c179e"
             ],
             [
              0.4444444444444444,
              "#bd3786"
             ],
             [
              0.5555555555555556,
              "#d8576b"
             ],
             [
              0.6666666666666666,
              "#ed7953"
             ],
             [
              0.7777777777777778,
              "#fb9f3a"
             ],
             [
              0.8888888888888888,
              "#fdca26"
             ],
             [
              1,
              "#f0f921"
             ]
            ],
            "type": "histogram2dcontour"
           }
          ],
          "mesh3d": [
           {
            "colorbar": {
             "outlinewidth": 0,
             "ticks": ""
            },
            "type": "mesh3d"
           }
          ],
          "parcoords": [
           {
            "line": {
             "colorbar": {
              "outlinewidth": 0,
              "ticks": ""
             }
            },
            "type": "parcoords"
           }
          ],
          "pie": [
           {
            "automargin": true,
            "type": "pie"
           }
          ],
          "scatter": [
           {
            "fillpattern": {
             "fillmode": "overlay",
             "size": 10,
             "solidity": 0.2
            },
            "type": "scatter"
           }
          ],
          "scatter3d": [
           {
            "line": {
             "colorbar": {
              "outlinewidth": 0,
              "ticks": ""
             }
            },
            "marker": {
             "colorbar": {
              "outlinewidth": 0,
              "ticks": ""
             }
            },
            "type": "scatter3d"
           }
          ],
          "scattercarpet": [
           {
            "marker": {
             "colorbar": {
              "outlinewidth": 0,
              "ticks": ""
             }
            },
            "type": "scattercarpet"
           }
          ],
          "scattergeo": [
           {
            "marker": {
             "colorbar": {
              "outlinewidth": 0,
              "ticks": ""
             }
            },
            "type": "scattergeo"
           }
          ],
          "scattergl": [
           {
            "marker": {
             "colorbar": {
              "outlinewidth": 0,
              "ticks": ""
             }
            },
            "type": "scattergl"
           }
          ],
          "scattermap": [
           {
            "marker": {
             "colorbar": {
              "outlinewidth": 0,
              "ticks": ""
             }
            },
            "type": "scattermap"
           }
          ],
          "scattermapbox": [
           {
            "marker": {
             "colorbar": {
              "outlinewidth": 0,
              "ticks": ""
             }
            },
            "type": "scattermapbox"
           }
          ],
          "scatterpolar": [
           {
            "marker": {
             "colorbar": {
              "outlinewidth": 0,
              "ticks": ""
             }
            },
            "type": "scatterpolar"
           }
          ],
          "scatterpolargl": [
           {
            "marker": {
             "colorbar": {
              "outlinewidth": 0,
              "ticks": ""
             }
            },
            "type": "scatterpolargl"
           }
          ],
          "scatterternary": [
           {
            "marker": {
             "colorbar": {
              "outlinewidth": 0,
              "ticks": ""
             }
            },
            "type": "scatterternary"
           }
          ],
          "surface": [
           {
            "colorbar": {
             "outlinewidth": 0,
             "ticks": ""
            },
            "colorscale": [
             [
              0,
              "#0d0887"
             ],
             [
              0.1111111111111111,
              "#46039f"
             ],
             [
              0.2222222222222222,
              "#7201a8"
             ],
             [
              0.3333333333333333,
              "#9c179e"
             ],
             [
              0.4444444444444444,
              "#bd3786"
             ],
             [
              0.5555555555555556,
              "#d8576b"
             ],
             [
              0.6666666666666666,
              "#ed7953"
             ],
             [
              0.7777777777777778,
              "#fb9f3a"
             ],
             [
              0.8888888888888888,
              "#fdca26"
             ],
             [
              1,
              "#f0f921"
             ]
            ],
            "type": "surface"
           }
          ],
          "table": [
           {
            "cells": {
             "fill": {
              "color": "#EBF0F8"
             },
             "line": {
              "color": "white"
             }
            },
            "header": {
             "fill": {
              "color": "#C8D4E3"
             },
             "line": {
              "color": "white"
             }
            },
            "type": "table"
           }
          ]
         },
         "layout": {
          "annotationdefaults": {
           "arrowcolor": "#2a3f5f",
           "arrowhead": 0,
           "arrowwidth": 1
          },
          "autotypenumbers": "strict",
          "coloraxis": {
           "colorbar": {
            "outlinewidth": 0,
            "ticks": ""
           }
          },
          "colorscale": {
           "diverging": [
            [
             0,
             "#8e0152"
            ],
            [
             0.1,
             "#c51b7d"
            ],
            [
             0.2,
             "#de77ae"
            ],
            [
             0.3,
             "#f1b6da"
            ],
            [
             0.4,
             "#fde0ef"
            ],
            [
             0.5,
             "#f7f7f7"
            ],
            [
             0.6,
             "#e6f5d0"
            ],
            [
             0.7,
             "#b8e186"
            ],
            [
             0.8,
             "#7fbc41"
            ],
            [
             0.9,
             "#4d9221"
            ],
            [
             1,
             "#276419"
            ]
           ],
           "sequential": [
            [
             0,
             "#0d0887"
            ],
            [
             0.1111111111111111,
             "#46039f"
            ],
            [
             0.2222222222222222,
             "#7201a8"
            ],
            [
             0.3333333333333333,
             "#9c179e"
            ],
            [
             0.4444444444444444,
             "#bd3786"
            ],
            [
             0.5555555555555556,
             "#d8576b"
            ],
            [
             0.6666666666666666,
             "#ed7953"
            ],
            [
             0.7777777777777778,
             "#fb9f3a"
            ],
            [
             0.8888888888888888,
             "#fdca26"
            ],
            [
             1,
             "#f0f921"
            ]
           ],
           "sequentialminus": [
            [
             0,
             "#0d0887"
            ],
            [
             0.1111111111111111,
             "#46039f"
            ],
            [
             0.2222222222222222,
             "#7201a8"
            ],
            [
             0.3333333333333333,
             "#9c179e"
            ],
            [
             0.4444444444444444,
             "#bd3786"
            ],
            [
             0.5555555555555556,
             "#d8576b"
            ],
            [
             0.6666666666666666,
             "#ed7953"
            ],
            [
             0.7777777777777778,
             "#fb9f3a"
            ],
            [
             0.8888888888888888,
             "#fdca26"
            ],
            [
             1,
             "#f0f921"
            ]
           ]
          },
          "colorway": [
           "#636efa",
           "#EF553B",
           "#00cc96",
           "#ab63fa",
           "#FFA15A",
           "#19d3f3",
           "#FF6692",
           "#B6E880",
           "#FF97FF",
           "#FECB52"
          ],
          "font": {
           "color": "#2a3f5f"
          },
          "geo": {
           "bgcolor": "white",
           "lakecolor": "white",
           "landcolor": "#E5ECF6",
           "showlakes": true,
           "showland": true,
           "subunitcolor": "white"
          },
          "hoverlabel": {
           "align": "left"
          },
          "hovermode": "closest",
          "mapbox": {
           "style": "light"
          },
          "paper_bgcolor": "white",
          "plot_bgcolor": "#E5ECF6",
          "polar": {
           "angularaxis": {
            "gridcolor": "white",
            "linecolor": "white",
            "ticks": ""
           },
           "bgcolor": "#E5ECF6",
           "radialaxis": {
            "gridcolor": "white",
            "linecolor": "white",
            "ticks": ""
           }
          },
          "scene": {
           "xaxis": {
            "backgroundcolor": "#E5ECF6",
            "gridcolor": "white",
            "gridwidth": 2,
            "linecolor": "white",
            "showbackground": true,
            "ticks": "",
            "zerolinecolor": "white"
           },
           "yaxis": {
            "backgroundcolor": "#E5ECF6",
            "gridcolor": "white",
            "gridwidth": 2,
            "linecolor": "white",
            "showbackground": true,
            "ticks": "",
            "zerolinecolor": "white"
           },
           "zaxis": {
            "backgroundcolor": "#E5ECF6",
            "gridcolor": "white",
            "gridwidth": 2,
            "linecolor": "white",
            "showbackground": true,
            "ticks": "",
            "zerolinecolor": "white"
           }
          },
          "shapedefaults": {
           "line": {
            "color": "#2a3f5f"
           }
          },
          "ternary": {
           "aaxis": {
            "gridcolor": "white",
            "linecolor": "white",
            "ticks": ""
           },
           "baxis": {
            "gridcolor": "white",
            "linecolor": "white",
            "ticks": ""
           },
           "bgcolor": "#E5ECF6",
           "caxis": {
            "gridcolor": "white",
            "linecolor": "white",
            "ticks": ""
           }
          },
          "title": {
           "x": 0.05
          },
          "xaxis": {
           "automargin": true,
           "gridcolor": "white",
           "linecolor": "white",
           "ticks": "",
           "title": {
            "standoff": 15
           },
           "zerolinecolor": "white",
           "zerolinewidth": 2
          },
          "yaxis": {
           "automargin": true,
           "gridcolor": "white",
           "linecolor": "white",
           "ticks": "",
           "title": {
            "standoff": 15
           },
           "zerolinecolor": "white",
           "zerolinewidth": 2
          }
         }
        },
        "title": {
         "text": "Unemployment Rate vs Median Income by State"
        },
        "xaxis": {
         "anchor": "y",
         "domain": [
          0,
          1
         ],
         "title": {
          "text": "Rate"
         }
        },
        "yaxis": {
         "anchor": "x",
         "domain": [
          0,
          1
         ],
         "title": {
          "text": "MedianIncome"
         }
        }
       }
      }
     },
     "metadata": {},
     "output_type": "display_data"
    }
   ],
   "source": [
    "# 3️⃣ Visualization: Employment vs Income (Plotly)\n",
    "fig = px.scatter(merged, x='Rate', y='MedianIncome', text='State', color='MedianIncome', color_continuous_scale='Plasma',\n",
    "                 title='Unemployment Rate vs Median Income by State')\n",
    "fig.update_traces(textposition='top center'); fig.show()"
   ]
  },
  {
   "cell_type": "markdown",
   "metadata": {},
   "source": [
    "### 💼 Insight: Unemployment Rate vs Median Income\n",
    "\n",
    "The scatterplot shows a **slight negative relationship** between unemployment and median household income — states with **higher median incomes tend to have lower unemployment rates**. Outliers like the **District of Columbia** and **California** maintain high income levels despite relatively elevated unemployment, likely reflecting concentrations of high-wage professional sectors and cost-of-living differences.\n"
   ]
  },
  {
   "cell_type": "code",
   "execution_count": 34,
   "metadata": {},
   "outputs": [
    {
     "name": "stdout",
     "output_type": "stream",
     "text": [
      "Map states: ['AK', 'AL', 'AR', 'AZ', 'CA'] … total: 51\n"
     ]
    },
    {
     "data": {
      "application/vnd.plotly.v1+json": {
       "config": {
        "plotlyServerURL": "https://plot.ly"
       },
       "data": [
        {
         "coloraxis": "coloraxis",
         "geo": "geo",
         "hovertemplate": "<b>%{hovertext}</b><br><br>StateAbbr=%{location}<br>MedianIncome=%{z}<extra></extra>",
         "hovertext": [
          "Alabama",
          "Alaska",
          "Arizona",
          "Arkansas",
          "California",
          "Colorado",
          "Connecticut",
          "Delaware",
          "District of Columbia",
          "Florida",
          "Georgia",
          "Hawaii",
          "Idaho",
          "Illinois",
          "Indiana",
          "Iowa",
          "Kansas",
          "Kentucky",
          "Louisiana",
          "Maine",
          "Maryland",
          "Massachusetts",
          "Michigan",
          "Minnesota",
          "Mississippi",
          "Missouri",
          "Montana",
          "Nebraska",
          "Nevada",
          "New Hampshire",
          "New Jersey",
          "New Mexico",
          "New York",
          "North Carolina",
          "North Dakota",
          "Ohio",
          "Oklahoma",
          "Oregon",
          "Pennsylvania",
          "Rhode Island",
          "South Carolina",
          "South Dakota",
          "Tennessee",
          "Texas",
          "Utah",
          "Vermont",
          "Virginia",
          "Washington",
          "West Virginia",
          "Wisconsin",
          "Wyoming"
         ],
         "locationmode": "USA-states",
         "locations": [
          "AL",
          "AK",
          "AZ",
          "AR",
          "CA",
          "CO",
          "CT",
          "DE",
          "DC",
          "FL",
          "GA",
          "HI",
          "ID",
          "IL",
          "IN",
          "IA",
          "KS",
          "KY",
          "LA",
          "ME",
          "MD",
          "MA",
          "MI",
          "MN",
          "MS",
          "MO",
          "MT",
          "NE",
          "NV",
          "NH",
          "NJ",
          "NM",
          "NY",
          "NC",
          "ND",
          "OH",
          "OK",
          "OR",
          "PA",
          "RI",
          "SC",
          "SD",
          "TN",
          "TX",
          "UT",
          "VT",
          "VA",
          "WA",
          "WV",
          "WI",
          "WY"
         ],
         "name": "",
         "type": "choropleth",
         "z": {
          "bdata": "GukAADlYAQBIIwEAiNgAAJ9lAQDWXAEAbVkBAP5AAQCjigEAtw4BAIUcAQAqaQEAURwBAKQrAQDhBAEA1A8BAD0NAQDN5wAAeNgAAKcPAQAPcwEAGHEBAKoFAQCiQQEA780AACv9AAAvCAEA3Q8BAI0aAQCIXwEAWngBAE7pAADFNgEAmQcBACIZAQC4AAEAGekAAIknAQB2GAEAvj8BAHP6AABgEAEA5v4AAFwaAQBQXAEAByEBAHFPAQCqZAEAOdQAAFQVAQCaEQEA",
          "dtype": "i4"
         }
        }
       ],
       "layout": {
        "coloraxis": {
         "colorbar": {
          "title": {
           "text": "MedianIncome"
          }
         },
         "colorscale": [
          [
           0,
           "#440154"
          ],
          [
           0.1111111111111111,
           "#482878"
          ],
          [
           0.2222222222222222,
           "#3e4989"
          ],
          [
           0.3333333333333333,
           "#31688e"
          ],
          [
           0.4444444444444444,
           "#26828e"
          ],
          [
           0.5555555555555556,
           "#1f9e89"
          ],
          [
           0.6666666666666666,
           "#35b779"
          ],
          [
           0.7777777777777778,
           "#6ece58"
          ],
          [
           0.8888888888888888,
           "#b5de2b"
          ],
          [
           1,
           "#fde725"
          ]
         ]
        },
        "geo": {
         "center": {},
         "domain": {
          "x": [
           0,
           1
          ],
          "y": [
           0,
           1
          ]
         },
         "fitbounds": "locations",
         "scope": "usa",
         "visible": false
        },
        "legend": {
         "tracegroupgap": 0
        },
        "template": {
         "data": {
          "bar": [
           {
            "error_x": {
             "color": "#2a3f5f"
            },
            "error_y": {
             "color": "#2a3f5f"
            },
            "marker": {
             "line": {
              "color": "#E5ECF6",
              "width": 0.5
             },
             "pattern": {
              "fillmode": "overlay",
              "size": 10,
              "solidity": 0.2
             }
            },
            "type": "bar"
           }
          ],
          "barpolar": [
           {
            "marker": {
             "line": {
              "color": "#E5ECF6",
              "width": 0.5
             },
             "pattern": {
              "fillmode": "overlay",
              "size": 10,
              "solidity": 0.2
             }
            },
            "type": "barpolar"
           }
          ],
          "carpet": [
           {
            "aaxis": {
             "endlinecolor": "#2a3f5f",
             "gridcolor": "white",
             "linecolor": "white",
             "minorgridcolor": "white",
             "startlinecolor": "#2a3f5f"
            },
            "baxis": {
             "endlinecolor": "#2a3f5f",
             "gridcolor": "white",
             "linecolor": "white",
             "minorgridcolor": "white",
             "startlinecolor": "#2a3f5f"
            },
            "type": "carpet"
           }
          ],
          "choropleth": [
           {
            "colorbar": {
             "outlinewidth": 0,
             "ticks": ""
            },
            "type": "choropleth"
           }
          ],
          "contour": [
           {
            "colorbar": {
             "outlinewidth": 0,
             "ticks": ""
            },
            "colorscale": [
             [
              0,
              "#0d0887"
             ],
             [
              0.1111111111111111,
              "#46039f"
             ],
             [
              0.2222222222222222,
              "#7201a8"
             ],
             [
              0.3333333333333333,
              "#9c179e"
             ],
             [
              0.4444444444444444,
              "#bd3786"
             ],
             [
              0.5555555555555556,
              "#d8576b"
             ],
             [
              0.6666666666666666,
              "#ed7953"
             ],
             [
              0.7777777777777778,
              "#fb9f3a"
             ],
             [
              0.8888888888888888,
              "#fdca26"
             ],
             [
              1,
              "#f0f921"
             ]
            ],
            "type": "contour"
           }
          ],
          "contourcarpet": [
           {
            "colorbar": {
             "outlinewidth": 0,
             "ticks": ""
            },
            "type": "contourcarpet"
           }
          ],
          "heatmap": [
           {
            "colorbar": {
             "outlinewidth": 0,
             "ticks": ""
            },
            "colorscale": [
             [
              0,
              "#0d0887"
             ],
             [
              0.1111111111111111,
              "#46039f"
             ],
             [
              0.2222222222222222,
              "#7201a8"
             ],
             [
              0.3333333333333333,
              "#9c179e"
             ],
             [
              0.4444444444444444,
              "#bd3786"
             ],
             [
              0.5555555555555556,
              "#d8576b"
             ],
             [
              0.6666666666666666,
              "#ed7953"
             ],
             [
              0.7777777777777778,
              "#fb9f3a"
             ],
             [
              0.8888888888888888,
              "#fdca26"
             ],
             [
              1,
              "#f0f921"
             ]
            ],
            "type": "heatmap"
           }
          ],
          "histogram": [
           {
            "marker": {
             "pattern": {
              "fillmode": "overlay",
              "size": 10,
              "solidity": 0.2
             }
            },
            "type": "histogram"
           }
          ],
          "histogram2d": [
           {
            "colorbar": {
             "outlinewidth": 0,
             "ticks": ""
            },
            "colorscale": [
             [
              0,
              "#0d0887"
             ],
             [
              0.1111111111111111,
              "#46039f"
             ],
             [
              0.2222222222222222,
              "#7201a8"
             ],
             [
              0.3333333333333333,
              "#9c179e"
             ],
             [
              0.4444444444444444,
              "#bd3786"
             ],
             [
              0.5555555555555556,
              "#d8576b"
             ],
             [
              0.6666666666666666,
              "#ed7953"
             ],
             [
              0.7777777777777778,
              "#fb9f3a"
             ],
             [
              0.8888888888888888,
              "#fdca26"
             ],
             [
              1,
              "#f0f921"
             ]
            ],
            "type": "histogram2d"
           }
          ],
          "histogram2dcontour": [
           {
            "colorbar": {
             "outlinewidth": 0,
             "ticks": ""
            },
            "colorscale": [
             [
              0,
              "#0d0887"
             ],
             [
              0.1111111111111111,
              "#46039f"
             ],
             [
              0.2222222222222222,
              "#7201a8"
             ],
             [
              0.3333333333333333,
              "#9c179e"
             ],
             [
              0.4444444444444444,
              "#bd3786"
             ],
             [
              0.5555555555555556,
              "#d8576b"
             ],
             [
              0.6666666666666666,
              "#ed7953"
             ],
             [
              0.7777777777777778,
              "#fb9f3a"
             ],
             [
              0.8888888888888888,
              "#fdca26"
             ],
             [
              1,
              "#f0f921"
             ]
            ],
            "type": "histogram2dcontour"
           }
          ],
          "mesh3d": [
           {
            "colorbar": {
             "outlinewidth": 0,
             "ticks": ""
            },
            "type": "mesh3d"
           }
          ],
          "parcoords": [
           {
            "line": {
             "colorbar": {
              "outlinewidth": 0,
              "ticks": ""
             }
            },
            "type": "parcoords"
           }
          ],
          "pie": [
           {
            "automargin": true,
            "type": "pie"
           }
          ],
          "scatter": [
           {
            "fillpattern": {
             "fillmode": "overlay",
             "size": 10,
             "solidity": 0.2
            },
            "type": "scatter"
           }
          ],
          "scatter3d": [
           {
            "line": {
             "colorbar": {
              "outlinewidth": 0,
              "ticks": ""
             }
            },
            "marker": {
             "colorbar": {
              "outlinewidth": 0,
              "ticks": ""
             }
            },
            "type": "scatter3d"
           }
          ],
          "scattercarpet": [
           {
            "marker": {
             "colorbar": {
              "outlinewidth": 0,
              "ticks": ""
             }
            },
            "type": "scattercarpet"
           }
          ],
          "scattergeo": [
           {
            "marker": {
             "colorbar": {
              "outlinewidth": 0,
              "ticks": ""
             }
            },
            "type": "scattergeo"
           }
          ],
          "scattergl": [
           {
            "marker": {
             "colorbar": {
              "outlinewidth": 0,
              "ticks": ""
             }
            },
            "type": "scattergl"
           }
          ],
          "scattermap": [
           {
            "marker": {
             "colorbar": {
              "outlinewidth": 0,
              "ticks": ""
             }
            },
            "type": "scattermap"
           }
          ],
          "scattermapbox": [
           {
            "marker": {
             "colorbar": {
              "outlinewidth": 0,
              "ticks": ""
             }
            },
            "type": "scattermapbox"
           }
          ],
          "scatterpolar": [
           {
            "marker": {
             "colorbar": {
              "outlinewidth": 0,
              "ticks": ""
             }
            },
            "type": "scatterpolar"
           }
          ],
          "scatterpolargl": [
           {
            "marker": {
             "colorbar": {
              "outlinewidth": 0,
              "ticks": ""
             }
            },
            "type": "scatterpolargl"
           }
          ],
          "scatterternary": [
           {
            "marker": {
             "colorbar": {
              "outlinewidth": 0,
              "ticks": ""
             }
            },
            "type": "scatterternary"
           }
          ],
          "surface": [
           {
            "colorbar": {
             "outlinewidth": 0,
             "ticks": ""
            },
            "colorscale": [
             [
              0,
              "#0d0887"
             ],
             [
              0.1111111111111111,
              "#46039f"
             ],
             [
              0.2222222222222222,
              "#7201a8"
             ],
             [
              0.3333333333333333,
              "#9c179e"
             ],
             [
              0.4444444444444444,
              "#bd3786"
             ],
             [
              0.5555555555555556,
              "#d8576b"
             ],
             [
              0.6666666666666666,
              "#ed7953"
             ],
             [
              0.7777777777777778,
              "#fb9f3a"
             ],
             [
              0.8888888888888888,
              "#fdca26"
             ],
             [
              1,
              "#f0f921"
             ]
            ],
            "type": "surface"
           }
          ],
          "table": [
           {
            "cells": {
             "fill": {
              "color": "#EBF0F8"
             },
             "line": {
              "color": "white"
             }
            },
            "header": {
             "fill": {
              "color": "#C8D4E3"
             },
             "line": {
              "color": "white"
             }
            },
            "type": "table"
           }
          ]
         },
         "layout": {
          "annotationdefaults": {
           "arrowcolor": "#2a3f5f",
           "arrowhead": 0,
           "arrowwidth": 1
          },
          "autotypenumbers": "strict",
          "coloraxis": {
           "colorbar": {
            "outlinewidth": 0,
            "ticks": ""
           }
          },
          "colorscale": {
           "diverging": [
            [
             0,
             "#8e0152"
            ],
            [
             0.1,
             "#c51b7d"
            ],
            [
             0.2,
             "#de77ae"
            ],
            [
             0.3,
             "#f1b6da"
            ],
            [
             0.4,
             "#fde0ef"
            ],
            [
             0.5,
             "#f7f7f7"
            ],
            [
             0.6,
             "#e6f5d0"
            ],
            [
             0.7,
             "#b8e186"
            ],
            [
             0.8,
             "#7fbc41"
            ],
            [
             0.9,
             "#4d9221"
            ],
            [
             1,
             "#276419"
            ]
           ],
           "sequential": [
            [
             0,
             "#0d0887"
            ],
            [
             0.1111111111111111,
             "#46039f"
            ],
            [
             0.2222222222222222,
             "#7201a8"
            ],
            [
             0.3333333333333333,
             "#9c179e"
            ],
            [
             0.4444444444444444,
             "#bd3786"
            ],
            [
             0.5555555555555556,
             "#d8576b"
            ],
            [
             0.6666666666666666,
             "#ed7953"
            ],
            [
             0.7777777777777778,
             "#fb9f3a"
            ],
            [
             0.8888888888888888,
             "#fdca26"
            ],
            [
             1,
             "#f0f921"
            ]
           ],
           "sequentialminus": [
            [
             0,
             "#0d0887"
            ],
            [
             0.1111111111111111,
             "#46039f"
            ],
            [
             0.2222222222222222,
             "#7201a8"
            ],
            [
             0.3333333333333333,
             "#9c179e"
            ],
            [
             0.4444444444444444,
             "#bd3786"
            ],
            [
             0.5555555555555556,
             "#d8576b"
            ],
            [
             0.6666666666666666,
             "#ed7953"
            ],
            [
             0.7777777777777778,
             "#fb9f3a"
            ],
            [
             0.8888888888888888,
             "#fdca26"
            ],
            [
             1,
             "#f0f921"
            ]
           ]
          },
          "colorway": [
           "#636efa",
           "#EF553B",
           "#00cc96",
           "#ab63fa",
           "#FFA15A",
           "#19d3f3",
           "#FF6692",
           "#B6E880",
           "#FF97FF",
           "#FECB52"
          ],
          "font": {
           "color": "#2a3f5f"
          },
          "geo": {
           "bgcolor": "white",
           "lakecolor": "white",
           "landcolor": "#E5ECF6",
           "showlakes": true,
           "showland": true,
           "subunitcolor": "white"
          },
          "hoverlabel": {
           "align": "left"
          },
          "hovermode": "closest",
          "mapbox": {
           "style": "light"
          },
          "paper_bgcolor": "white",
          "plot_bgcolor": "#E5ECF6",
          "polar": {
           "angularaxis": {
            "gridcolor": "white",
            "linecolor": "white",
            "ticks": ""
           },
           "bgcolor": "#E5ECF6",
           "radialaxis": {
            "gridcolor": "white",
            "linecolor": "white",
            "ticks": ""
           }
          },
          "scene": {
           "xaxis": {
            "backgroundcolor": "#E5ECF6",
            "gridcolor": "white",
            "gridwidth": 2,
            "linecolor": "white",
            "showbackground": true,
            "ticks": "",
            "zerolinecolor": "white"
           },
           "yaxis": {
            "backgroundcolor": "#E5ECF6",
            "gridcolor": "white",
            "gridwidth": 2,
            "linecolor": "white",
            "showbackground": true,
            "ticks": "",
            "zerolinecolor": "white"
           },
           "zaxis": {
            "backgroundcolor": "#E5ECF6",
            "gridcolor": "white",
            "gridwidth": 2,
            "linecolor": "white",
            "showbackground": true,
            "ticks": "",
            "zerolinecolor": "white"
           }
          },
          "shapedefaults": {
           "line": {
            "color": "#2a3f5f"
           }
          },
          "ternary": {
           "aaxis": {
            "gridcolor": "white",
            "linecolor": "white",
            "ticks": ""
           },
           "baxis": {
            "gridcolor": "white",
            "linecolor": "white",
            "ticks": ""
           },
           "bgcolor": "#E5ECF6",
           "caxis": {
            "gridcolor": "white",
            "linecolor": "white",
            "ticks": ""
           }
          },
          "title": {
           "x": 0.05
          },
          "xaxis": {
           "automargin": true,
           "gridcolor": "white",
           "linecolor": "white",
           "ticks": "",
           "title": {
            "standoff": 15
           },
           "zerolinecolor": "white",
           "zerolinewidth": 2
          },
          "yaxis": {
           "automargin": true,
           "gridcolor": "white",
           "linecolor": "white",
           "ticks": "",
           "title": {
            "standoff": 15
           },
           "zerolinecolor": "white",
           "zerolinewidth": 2
          }
         }
        },
        "title": {
         "text": "Median Household Income by State (ACS 2022)"
        }
       }
      }
     },
     "metadata": {},
     "output_type": "display_data"
    }
   ],
   "source": [
    "# 4️⃣ Visualization: Choropleth Map (Plotly) — needs two-letter state codes\n",
    "import plotly.express as px\n",
    "\n",
    "# Ensure we have clean two-letter codes and numeric color values\n",
    "df_map = (merged\n",
    "          .dropna(subset=[\"StateAbbr\", \"MedianIncome\"])\n",
    "          .copy())\n",
    "df_map[\"StateAbbr\"] = df_map[\"StateAbbr\"].str.upper().str.strip()\n",
    "\n",
    "# Optional: quick sanity check\n",
    "print(\"Map states:\", sorted(df_map[\"StateAbbr\"].unique())[:5], \"… total:\", df_map[\"StateAbbr\"].nunique())\n",
    "\n",
    "fig = px.choropleth(\n",
    "    df_map,\n",
    "    locations=\"StateAbbr\",          # two-letter codes\n",
    "    locationmode=\"USA-states\",\n",
    "    scope=\"usa\",\n",
    "    color=\"MedianIncome\",\n",
    "    hover_name=\"State\",\n",
    "    color_continuous_scale=\"Viridis\",\n",
    "    title=\"Median Household Income by State (ACS 2022)\"\n",
    ")\n",
    "fig.update_geos(fitbounds=\"locations\", visible=False)\n",
    "fig.show()\n"
   ]
  },
  {
   "cell_type": "markdown",
   "metadata": {},
   "source": [
    "### 🗺️ Insight: Median Household Income Distribution Across the U.S. (ACS 2022)\n",
    "\n",
    "The choropleth map illustrates clear **regional income disparities** across the United States. States in the **Northeast and West Coast**, along with the **District of Columbia**, exhibit the highest median household incomes, exceeding **$90,000**. In contrast, much of the **South and parts of the Midwest** show lower income levels, often below **$65,000**, reflecting broader economic differences in industry concentration, cost of living, and educational attainment.\n"
   ]
  },
  {
   "cell_type": "code",
   "execution_count": 39,
   "metadata": {},
   "outputs": [
    {
     "data": {
      "image/png": "[encoded data removed]",
      "text/plain": [
       "<Figure size 1400x700 with 1 Axes>"
      ]
     },
     "metadata": {},
     "output_type": "display_data"
    }
   ],
   "source": [
    "# Visualization 5 — Education composition by state (100% stacked bar)\n",
    "import pandas as pd\n",
    "import seaborn as sns\n",
    "import matplotlib.pyplot as plt\n",
    "\n",
    "edu_cols = [\"Bachelor\", \"Master\", \"Professional\", \"Doctorate\"]\n",
    "\n",
    "# Long format\n",
    "edu_long = merged[[\"State\"] + edu_cols].melt(\n",
    "    id_vars=\"State\", var_name=\"DegreeType\", value_name=\"Count\"\n",
    ")\n",
    "\n",
    "# Percent within each state (use transform to keep index alignment)\n",
    "edu_long[\"Percent\"] = (\n",
    "    edu_long.groupby(\"State\")[\"Count\"].transform(lambda x: x / x.sum() * 100)\n",
    ")\n",
    "\n",
    "# Order states by total higher-ed count (largest first)\n",
    "state_order = merged.sort_values(\"TotalHigherEd\", ascending=False)[\"State\"]\n",
    "\n",
    "# Wide pivot for stacked plotting\n",
    "comp = (edu_long\n",
    "        .pivot(index=\"State\", columns=\"DegreeType\", values=\"Percent\")\n",
    "        .reindex(state_order))\n",
    "\n",
    "# (Optional) limit to top N states for readability\n",
    "TOP_N = 20\n",
    "comp_top = comp.head(TOP_N)\n",
    "\n",
    "# Plot 100% stacked bar\n",
    "plt.figure(figsize=(14,7))\n",
    "comp_top.plot(kind=\"bar\", stacked=True, ax=plt.gca(), colormap=\"mako\")\n",
    "plt.title(\"Composition of Higher-Education Degrees by State (Top 20 by total holders)\")\n",
    "plt.ylabel(\"Share of Higher-Education Holders (%)\")\n",
    "plt.xlabel(\"State\")\n",
    "plt.legend(title=\"Degree Type\", bbox_to_anchor=(1.02, 1), loc=\"upper left\")\n",
    "plt.xticks(rotation=75, ha=\"right\")\n",
    "plt.tight_layout()\n",
    "plt.show()\n"
   ]
  },
  {
   "cell_type": "markdown",
   "metadata": {},
   "source": [
    "### 🎓 Insight: Composition of Higher-Education Degrees by State\n",
    "\n",
    "Across the top 20 states by total higher-education holders, **bachelor’s degrees dominate** the composition—accounting for roughly **60–65% of all degrees**. Master’s degrees form the next largest share, followed by smaller proportions of **doctorate** and **professional degrees**. States like **Massachusetts, Maryland, and Virginia** exhibit slightly higher shares of advanced degrees, aligning with their strong research institutions and high-tech employment sectors.\n"
   ]
  },
  {
   "cell_type": "markdown",
   "metadata": {},
   "source": [
    "## Data Cleaning and Transformation\n",
    "Data cleaning steps:\n",
    "- Converted numeric fields to proper data types.\n",
    "- Handled missing values with state-level means (for MedianEarnings).\n",
    "- Standardized state naming conventions.\n",
    "- Removed duplicate entries and verified uniqueness per state."
   ]
  },
  {
   "cell_type": "code",
   "execution_count": 11,
   "metadata": {},
   "outputs": [
    {
     "name": "stdout",
     "output_type": "stream",
     "text": [
      "<class 'pandas.core.frame.DataFrame'>\n",
      "RangeIndex: 52 entries, 0 to 51\n",
      "Data columns (total 11 columns):\n",
      " #   Column          Non-Null Count  Dtype  \n",
      "---  ------          --------------  -----  \n",
      " 0   State           52 non-null     object \n",
      " 1   MedianIncome    52 non-null     int64  \n",
      " 2   Bachelor        52 non-null     int64  \n",
      " 3   Master          52 non-null     int64  \n",
      " 4   Professional    52 non-null     int64  \n",
      " 5   Doctorate       52 non-null     int64  \n",
      " 6   state           52 non-null     object \n",
      " 7   TotalHigherEd   52 non-null     int64  \n",
      " 8   Rate            51 non-null     float64\n",
      " 9   StateAbbr       51 non-null     object \n",
      " 10  MedianEarnings  52 non-null     float64\n",
      "dtypes: float64(2), int64(6), object(3)\n",
      "memory usage: 4.6+ KB\n"
     ]
    },
    {
     "name": "stderr",
     "output_type": "stream",
     "text": [
      "/var/folders/wq/653s0dfs6yq5kdj7glvqbz8w0000gn/T/ipykernel_43276/1474008649.py:2: FutureWarning: A value is trying to be set on a copy of a DataFrame or Series through chained assignment using an inplace method.\n",
      "The behavior will change in pandas 3.0. This inplace method will never work because the intermediate object on which we are setting values always behaves as a copy.\n",
      "\n",
      "For example, when doing 'df[col].method(value, inplace=True)', try using 'df.method({col: value}, inplace=True)' or df[col] = df[col].method(value) instead, to perform the operation inplace on the original object.\n",
      "\n",
      "\n",
      "  merged['MedianEarnings'].fillna(merged['MedianEarnings'].mean(), inplace=True)\n"
     ]
    }
   ],
   "source": [
    "# 🧹 Cleaning Transformations\n",
    "merged['MedianEarnings'].fillna(merged['MedianEarnings'].mean(), inplace=True)\n",
    "merged.drop_duplicates(subset='State', inplace=True)\n",
    "merged.info()"
   ]
  },
  {
   "cell_type": "markdown",
   "metadata": {},
   "source": [
    "## Machine Learning Plan\n",
    "Future modeling will use **multiple linear regression** to predict Median Income based on:\n",
    "- Educational attainment (TotalHigherEd)\n",
    "- Unemployment rate (Rate)\n",
    "- Median post-graduation earnings (MedianEarnings)\n",
    "\n",
    "Challenges include variable multicollinearity and limited time-series alignment across datasets."
   ]
  },
  {
   "cell_type": "markdown",
   "metadata": {},
   "source": [
    "## Prior Feedback and Updates\n",
    "Previous peer feedback suggested expanding the dataset to include more variables and performing more visually engaging EDA. These improvements have been implemented through additional sources (BLS + Scorecard) and interactive Plotly charts."
   ]
  },
  {
   "cell_type": "markdown",
   "metadata": {},
   "source": [
    "## Resources and References\n",
    "- U.S. Census Bureau – [ACS 1-Year API](https://www.census.gov/data/developers/data-sets/acs-1year.html)\n",
    "- Bureau of Labor Statistics – [Local Area Unemployment Statistics (LAUS)](https://www.bls.gov/lau/)\n",
    "- U.S. Department of Education – [College Scorecard API](https://api.data.gov/ed/collegescorecard/)\n",
    "- IT4063C Course Materials (Yahya Gilany, University of Cincinnati)"
   ]
  },
  {
   "cell_type": "code",
   "execution_count": 12,
   "metadata": {},
   "outputs": [
    {
     "name": "stdout",
     "output_type": "stream",
     "text": [
      "usage: jupyter [-h] [--version] [--config-dir] [--data-dir] [--runtime-dir]\n",
      "               [--paths] [--json] [--debug]\n",
      "               [subcommand]\n",
      "\n",
      "Jupyter: Interactive Computing\n",
      "\n",
      "positional arguments:\n",
      "  subcommand     the subcommand to launch\n",
      "\n",
      "options:\n",
      "  -h, --help     show this help message and exit\n",
      "  --version      show the versions of core jupyter packages and exit\n",
      "  --config-dir   show Jupyter config dir\n",
      "  --data-dir     show Jupyter data dir\n",
      "  --runtime-dir  show Jupyter runtime dir\n",
      "  --paths        show all Jupyter paths. Add --json for machine-readable\n",
      "                 format.\n",
      "  --json         output paths as machine-readable json\n",
      "  --debug        output debug information about paths\n",
      "\n",
      "Available subcommands: kernel kernelspec migrate run troubleshoot trust\n",
      "\n",
      "Jupyter command `jupyter-nbconvert` not found.\n"
     ]
    }
   ],
   "source": [
    "# ⚠️ Conversion Cell for Submission\n",
    "!jupyter nbconvert --to python source.ipynb"
   ]
  }
 ],
 "metadata": {
  "kernelspec": {
   "display_name": "IT4063C",
   "language": "python",
   "name": "python3"
  },
  "language_info": {
   "codemirror_mode": {
    "name": "ipython",
    "version": 3
   },
   "file_extension": ".py",
   "mimetype": "text/x-python",
   "name": "python",
   "nbconvert_exporter": "python",
   "pygments_lexer": "ipython3",
   "version": "3.11.9"
  }
 },
 "nbformat": 4,
 "nbformat_minor": 2
}
