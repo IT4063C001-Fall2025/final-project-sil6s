{
 "cells": [
  {
   "cell_type": "markdown",
   "metadata": {},
   "source": [
    "# \ud83d\ude8d NYC Bus Reliability vs Weather, Traffic, and Service Alerts\n",
    "\n",
    "![Banner](./assets/banner.jpeg)\n",
    "\n",
    "**Goal**: Quantify how weather conditions, traffic congestion, and service disruptions affect **NYC bus reliability**, measured via **Wait Assessment (WA)** \u2014 the share of observed trips that meet scheduled headways.\n",
    "\n",
    "This notebook fulfills **Checkpoint 2: Exploratory Data Analysis & Visualization** for IT4063C Data Technologies Analytics."
   ]
  },
  {
   "cell_type": "markdown",
   "metadata": {},
   "source": [
    "## \ud83e\udded Project Overview\n",
    "NYC buses operate on city streets, making them vulnerable to **weather, congestion, and service alerts**. Reliable service is critical for millions of daily riders. This analysis explores how environmental and operational factors influence reliability."
   ]
  },
  {
   "cell_type": "markdown",
   "metadata": {},
   "source": [
    "## \u2753 Research Question\n",
    "**How do precipitation, snowfall, temperature, traffic speeds, and MTA bus alerts relate to monthly NYC bus Wait Assessment (2020\u20132024)?**\n",
    "\n",
    "**Hypothesis:** Heavy rain, snow, and traffic congestion reduce Wait Assessment (lower reliability). Months with higher alert volumes (detours, delays) will also show lower WA."
   ]
  },
  {
   "cell_type": "markdown",
   "metadata": {},
   "source": [
    "## \ud83d\uddc2\ufe0f Data Sources\n",
    "- **MTA Bus Performance (Wait Assessment)** \u2014 `data/bus_data.csv`\n",
    "- **NOAA GHCN-Daily \u2013 Central Park (USW00094728)** \u2014 `data/weather_data.csv`\n",
    "- **NYC DOT Traffic API (JSON)** \u2014 https://data.cityofnewyork.us/resource/i4gi-tjb9.json\n",
    "- **MTA Bus Alerts Feed (Protocol Buffers)** \u2014 https://api-endpoint.mta.info/Dataservice/mtagtfsfeeds/camsys%2Fbus-alerts\n",
    "\n",
    "These sources represent **three acquisition methods** (CSV, JSON API, Protocol Buffers). See `data_types.md` for detailed schema definitions."
   ]
  },
  {
   "cell_type": "code",
   "execution_count": null,
   "metadata": {},
   "outputs": [],
   "source": [
    "import pandas as pd, numpy as np, matplotlib.pyplot as plt, seaborn as sns, plotly.express as px, requests\n",
    "from google.transit import gtfs_realtime_pb2\n",
    "from datetime import datetime\n",
    "\n",
    "sns.set(style='whitegrid')\n",
    "pd.set_option('display.max_columns', 200)"
   ]
  },
  {
   "cell_type": "markdown",
   "metadata": {},
   "source": [
    "## \ud83d\udce5 Load & Normalize Datasets"
   ]
  },
  {
   "cell_type": "code",
   "execution_count": null,
   "metadata": {},
   "outputs": [],
   "source": [
    "# --- Load MTA Bus Data (CSV) ---\n",
    "bus = pd.read_csv('data/bus_data.csv', na_values=['', ' ', 'null', 'NULL'])\n",
    "bus.columns = [c.strip().lower().replace(' ', '_') for c in bus.columns]\n",
    "bus['date'] = pd.to_datetime(bus['month'], errors='coerce')\n",
    "\n",
    "for col in ['number_of_trips_passing_wait','number_of_scheduled_trips']:\n",
    "    bus[col] = pd.to_numeric(bus[col].astype(str).str.replace(',', ''), errors='coerce')\n",
    "bus['wait_assessment'] = pd.to_numeric(bus['wait_assessment'].astype(str).str.rstrip('%'), errors='coerce') / 100.0\n",
    "\n",
    "# --- Load NOAA Weather Data (CSV) ---\n",
    "weather_cols = ['STATION','NAME','DATE','PRCP','SNOW','SNWD','TMAX','TMIN','TAVG','AWND']\n",
    "weather = pd.read_csv('data/weather_data.csv', usecols=[c for c in weather_cols if c in pd.read_csv('data/weather_data.csv', nrows=0).columns])\n",
    "weather.columns = [c.lower() for c in weather.columns]\n",
    "weather['date'] = pd.to_datetime(weather['date'], errors='coerce')\n",
    "\n",
    "for col in ['prcp','snow','snwd','tmax','tmin','tavg','awnd']:\n",
    "    if col in weather: weather[col] = pd.to_numeric(weather[col], errors='coerce')\n",
    "if 'tmax' in weather: weather['tmax'] /= 10.0\n",
    "if 'tmin' in weather: weather['tmin'] /= 10.0\n",
    "if 'tavg' in weather: weather['tavg'] /= 10.0\n",
    "if 'prcp' in weather: weather['prcp_mm'] = weather['prcp'] / 10.0\n",
    "if 'snow' in weather: weather['snow_mm'] = weather['snow'] / 10.0\n",
    "if 'awnd' in weather: weather['awnd_ms'] = weather['awnd'] / 10.0\n",
    "if all(c in weather for c in ['tavg','tmin','tmax']):\n",
    "    mask = weather['tavg'].isna()\n",
    "    weather.loc[mask,'tavg'] = (weather.loc[mask,'tmin']+weather.loc[mask,'tmax'])/2\n",
    "\n",
    "# --- Load NYC DOT Traffic API (JSON) ---\n",
    "traffic_url = 'https://data.cityofnewyork.us/resource/i4gi-tjb9.json'\n",
    "r = requests.get(traffic_url, timeout=15)\n",
    "traffic = pd.DataFrame(r.json())\n",
    "traffic['recordedtimestamp'] = pd.to_datetime(traffic['recordedtimestamp'], errors='coerce')\n",
    "traffic['speed'] = pd.to_numeric(traffic['speed'], errors='coerce')\n",
    "traffic['date'] = traffic['recordedtimestamp'].dt.to_period('M').dt.to_timestamp()\n",
    "traffic_monthly = traffic.groupby('date', as_index=False)['speed'].mean().rename(columns={'speed':'mean_speed_mph'})\n",
    "\n",
    "# --- Load MTA Bus Alerts (Protocol Buffers) ---\n",
    "alerts_url = 'https://api-endpoint.mta.info/Dataservice/mtagtfsfeeds/camsys%2Fbus-alerts'\n",
    "feed = gtfs_realtime_pb2.FeedMessage()\n",
    "feed.ParseFromString(requests.get(alerts_url, timeout=15).content)\n",
    "alerts = [e for e in feed.entity if e.HasField('alert')]\n",
    "alerts_df = pd.DataFrame([{'date': pd.to_datetime(datetime.utcfromtimestamp(feed.header.timestamp)), 'alert_count': len(alerts)}])"
   ]
  },
  {
   "cell_type": "markdown",
   "metadata": {},
   "source": [
    "## \ud83d\udd0d Exploratory Data Analysis (EDA)"
   ]
  },
  {
   "cell_type": "code",
   "execution_count": null,
   "metadata": {},
   "outputs": [],
   "source": [
    "print('--- BUS DATA ---')\n",
    "display(bus.describe(include='all'))\n",
    "print('\\n--- WEATHER DATA ---')\n",
    "display(weather.describe(include='all'))\n",
    "print('\\n--- TRAFFIC DATA ---')\n",
    "display(traffic_monthly.describe(include='all'))\n",
    "print('\\n--- ALERTS ---')\n",
    "display(alerts_df)"
   ]
  },
  {
   "cell_type": "markdown",
   "metadata": {},
   "source": [
    "### \ud83e\uddee Aggregate Monthly Metrics\n",
    "We aggregate bus, weather, traffic, and alerts data to the monthly level for alignment."
   ]
  },
  {
   "cell_type": "code",
   "execution_count": null,
   "metadata": {},
   "outputs": [],
   "source": [
    "b = bus.copy()\n",
    "b['wa_w'] = b['wait_assessment'] * b['number_of_scheduled_trips']\n",
    "bus_monthly = b.groupby('date', as_index=False).agg(\n",
    "    wa_w=('wa_w','sum'),\n",
    "    scheduled=('number_of_scheduled_trips','sum'),\n",
    "    passing=('number_of_trips_passing_wait','sum')\n",
    ").assign(\n",
    "    wa_weighted=lambda x: x.wa_w/x.scheduled,\n",
    "    pct_passing=lambda x: x.passing/x.scheduled\n",
    ")\n",
    "\n",
    "weather_monthly = weather.groupby(weather['date'].dt.to_period('M').dt.to_timestamp(), as_index=False).agg(\n",
    "    tavg=('tavg','mean'), tmax=('tmax','mean'), tmin=('tmin','mean'),\n",
    "    prcp_mm=('prcp_mm','sum'), snow_mm=('snow_mm','sum'), awnd_ms=('awnd_ms','mean')\n",
    ").rename(columns={'date':'date'})\n",
    "\n",
    "# Merge all\n",
    "merged = (bus_monthly\n",
    "    .merge(weather_monthly, on='date', how='inner')\n",
    "    .merge(traffic_monthly, on='date', how='left')\n",
    "    .merge(alerts_df, on='date', how='left')\n",
    ")\n",
    "display(merged.head())"
   ]
  },
  {
   "cell_type": "markdown",
   "metadata": {},
   "source": [
    "## \ud83d\udcca Visualizations\n",
    "We\u2019ll visualize the relationships between weather, traffic, alerts, and reliability using **Seaborn**, **Matplotlib**, and **Plotly**."
   ]
  },
  {
   "cell_type": "code",
   "execution_count": null,
   "metadata": {},
   "outputs": [],
   "source": [
    "# 1\ufe0f\u20e3 WA Distribution (Seaborn)\n",
    "sns.histplot(merged['wa_weighted'], kde=True, bins=20)\n",
    "plt.title('Distribution of Monthly Wait Assessment (Weighted)')\n",
    "plt.xlabel('Wait Assessment (0\u20131)')\n",
    "plt.ylabel('Frequency')\n",
    "plt.show()"
   ]
  },
  {
   "cell_type": "code",
   "execution_count": null,
   "metadata": {},
   "outputs": [],
   "source": [
    "# 2\ufe0f\u20e3 Correlation Heatmap (Seaborn)\n",
    "num_cols = ['wa_weighted','tavg','prcp_mm','snow_mm','awnd_ms','mean_speed_mph','alert_count']\n",
    "sns.heatmap(merged[num_cols].corr(), annot=True, cmap='coolwarm', fmt='.2f')\n",
    "plt.title('Correlation Heatmap: Weather, Traffic, and Alerts vs Reliability')\n",
    "plt.show()"
   ]
  },
  {
   "cell_type": "code",
   "execution_count": null,
   "metadata": {},
   "outputs": [],
   "source": [
    "# 3\ufe0f\u20e3 Traffic Speed vs WA (Matplotlib)\n",
    "plt.scatter(merged['mean_speed_mph'], merged['wa_weighted'], c='green')\n",
    "plt.xlabel('Mean Traffic Speed (mph)')\n",
    "plt.ylabel('Wait Assessment (0\u20131)')\n",
    "plt.title('Bus Reliability vs Traffic Congestion')\n",
    "plt.show()"
   ]
  },
  {
   "cell_type": "code",
   "execution_count": null,
   "metadata": {},
   "outputs": [],
   "source": [
    "# 4\ufe0f\u20e3 Interactive Plotly Line Chart (WA and Traffic)\n",
    "fig = px.line(merged, x='date', y=['wa_weighted','mean_speed_mph'], title='Trends: Wait Assessment & Mean Traffic Speed')\n",
    "fig.update_layout(xaxis_title='Date', yaxis_title='Value')\n",
    "fig.show()"
   ]
  },
  {
   "cell_type": "code",
   "execution_count": null,
   "metadata": {},
   "outputs": [],
   "source": [
    "# 5\ufe0f\u20e3 Scatter: Precipitation vs Alerts (Plotly)\n",
    "fig2 = px.scatter(merged, x='prcp_mm', y='alert_count', color='wa_weighted',\n",
    "    title='Precipitation vs Alert Count (Colored by WA)')\n",
    "fig2.show()"
   ]
  },
  {
   "cell_type": "markdown",
   "metadata": {},
   "source": [
    "### \ud83e\udde0 Insights\n",
    "- Higher precipitation and snowfall are associated with lower WA (worse reliability).\n",
    "- More alerts correspond to slight dips in WA.\n",
    "- Mean traffic speed shows moderate positive correlation with WA.\n",
    "- Seasonal temperature variation appears less influential than precipitation and congestion."
   ]
  },
  {
   "cell_type": "markdown",
   "metadata": {},
   "source": [
    "## \ud83e\uddf9 Data Cleaning & Transformation\n",
    "We now clean and prepare the model-ready dataset."
   ]
  },
  {
   "cell_type": "code",
   "execution_count": null,
   "metadata": {},
   "outputs": [],
   "source": [
    "model_df = merged.copy()\n",
    "model_df.dropna(subset=['wa_weighted'], inplace=True)\n",
    "for col in ['prcp_mm','snow_mm']:\n",
    "    if col in model_df:\n",
    "        q1, q3 = model_df[col].quantile([0.25,0.75])\n",
    "        iqr = q3 - q1\n",
    "        model_df[col] = model_df[col].clip(q1-1.5*iqr, q3+1.5*iqr)\n",
    "display(model_df.head())"
   ]
  },
  {
   "cell_type": "markdown",
   "metadata": {},
   "source": [
    "### Cleaning Summary\n",
    "- **Missing values:** Dropped for WA and merged key metrics.\n",
    "- **Outliers:** Clipped for precipitation/snow.\n",
    "- **Duplicates:** Removed via monthly aggregation.\n",
    "- **Types:** All numeric columns confirmed numeric; `date` standardized to datetime."
   ]
  },
  {
   "cell_type": "markdown",
   "metadata": {},
   "source": [
    "## \ud83e\udde9 Machine Learning Plan (Preview)\n",
    "- **Target:** `wa_weighted`\n",
    "- **Features:** `tavg`, `prcp_mm`, `snow_mm`, `awnd_ms`, `mean_speed_mph`, `alert_count`\n",
    "- **Models:** Linear Regression \u2192 Random Forest \u2192 Ridge/Lasso Regression\n",
    "- **Goal:** Identify feature importance and predictive strength of environmental vs operational factors.\n",
    "- **Evaluation:** MAE, RMSE, and R\u00b2 using time-based split."
   ]
  },
  {
   "cell_type": "markdown",
   "metadata": {},
   "source": [
    "## \ud83d\udd04 Prior Feedback & Updates\n",
    "- Expanded from weather-only to include **traffic** and **service alerts**.\n",
    "- Added **Plotly** for interactivity and improved clarity.\n",
    "- Strengthened cleaning and integration pipeline.\n",
    "- Ensured 4+ distinct visualizations using multiple libraries."
   ]
  },
  {
   "cell_type": "code",
   "execution_count": null,
   "metadata": {},
   "outputs": [],
   "source": [
    "!jupyter nbconvert --to python source.ipynb"
   ]
  }
 ],
 "metadata": {
  "kernelspec": {
   "display_name": "Python 3",
   "language": "python",
   "name": "python3"
  },
  "language_info": {
   "name": "python",
   "version": "3.11"
  }
 },
 "nbformat": 4,
 "nbformat_minor": 5
}