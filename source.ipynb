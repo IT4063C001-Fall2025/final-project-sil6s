{
 "cells": [
  {
   "cell_type": "markdown",
   "metadata": {},
   "source": [
    "# NYC Bus Reliability vs. Weather\n",
    "\n",
    "![Banner](./assets/banner.jpeg)\n",
    "\n",
    "**Goal**: Quantify how weather conditions (temperature, precipitation, snow) are associated with **NYC bus reliability**, measured via **Wait Assessment** (share of observed trips that meet scheduled headways)."
   ]
  },
  {
   "cell_type": "markdown",
   "metadata": {},
   "source": [
    "## Topic\n",
    "Bus riders and planners need reliable headways to avoid long waits and bunching. Buses operate on streets, so they are **directly exposed** to weather (rain, snow, wind) and road conditions. This project tests whether bus reliability declines during adverse weather and which conditions matter most."
   ]
  },
  {
   "cell_type": "markdown",
   "metadata": {},
   "source": [
    "## Project Question\n",
    "**How do precipitation, snowfall, and temperature bands relate to monthly NYC bus Wait Assessment (2020–2024)?**\n",
    "\n",
    "**Hypothesis**: Rain and snow correlate with **lower** Wait Assessment (worse reliability). Extremely cold or hot months show additional degradation."
   ]
  },
  {
   "cell_type": "markdown",
   "metadata": {},
   "source": [
    "## Data Sources\n",
    "- **MTA Bus Performance (Wait Assessment)** — file CSV → `data/bus_data.csv`\n",
    "- **NOAA GHCN-Daily – Central Park (USW00094728)** — file CSV → `data/weather_data.csv`\n",
    "- **OpenWeatherMap API (Current NYC weather)** — optional live API demo (JSON) to satisfy multi-source requirement\n",
    "\n",
    "See `data_sources.md` for field documentation and provenance."
   ]
  },
  {
   "cell_type": "markdown",
   "metadata": {},
   "source": [
    "## Setup & Imports"
   ]
  },
  {
   "cell_type": "code",
   "execution_count": null,
   "metadata": {},
   "outputs": [],
   "source": [
    "import os\n",
    "import pandas as pd\n",
    "import numpy as np\n",
    "import matplotlib.pyplot as plt\n",
    "import seaborn as sns\n",
    "from datetime import datetime\n",
    "import requests\n",
    "\n",
    "pd.set_option('display.max_columns', 200)\n",
    "sns.set(style='whitegrid')"
   ]
  },
  {
   "cell_type": "markdown",
   "metadata": {},
   "source": [
    "## Load & Normalize Datasets\n",
    "We parse the bus CSV (commas in counts, percent strings), clean the weather CSV (NOAA units), and create useful flags and categories. **All sanity checks are explicit**."
   ]
  },
  {
   "cell_type": "code",
   "execution_count": null,
   "metadata": {},
   "outputs": [],
   "source": [
    "# =========================\n",
    "# Load & Normalize Datasets\n",
    "# =========================\n",
    "# ---------- Load BUS ----------\n",
    "bus = pd.read_csv(\n",
    "    'data/bus_data.csv',\n",
    "    na_values=['', ' ', 'null', 'NULL'],\n",
    "    low_memory=False\n",
    ")\n",
    "\n",
    "# Normalize column names\n",
    "bus.columns = [c.strip().lower().replace(' ', '_') for c in bus.columns]\n",
    "\n",
    "expected_bus_cols = {\n",
    "    'month','borough','day_type','trip_type','route_id','period',\n",
    "    'number_of_trips_passing_wait','number_of_scheduled_trips','wait_assessment'\n",
    "}\n",
    "missing = expected_bus_cols - set(bus.columns)\n",
    "assert not missing, f\"Missing bus columns: {missing}\"\n",
    "\n",
    "# Parse date (these are monthly stamps like 2020-01-01)\n",
    "bus['date'] = pd.to_datetime(bus['month'], errors='coerce')\n",
    "assert bus['date'].notna().all(), 'Some bus dates failed to parse.'\n",
    "\n",
    "# Clean numeric fields: remove commas from counts; strip % and convert to float in [0,1]\n",
    "for col in ['number_of_trips_passing_wait','number_of_scheduled_trips']:\n",
    "    bus[col] = bus[col].astype(str).str.replace(',', '', regex=False)\n",
    "    bus[col] = pd.to_numeric(bus[col], errors='coerce')\n",
    "\n",
    "bus['wait_assessment'] = (\n",
    "    bus['wait_assessment']\n",
    "        .astype(str)\n",
    "        .str.strip()\n",
    "        .str.rstrip('%')\n",
    ")\n",
    "bus['wait_assessment'] = pd.to_numeric(bus['wait_assessment'], errors='coerce') / 100.0\n",
    "\n",
    "# Sanity checks\n",
    "assert (bus['number_of_scheduled_trips'] >= 0).all(), 'Negative scheduled trips found.'\n",
    "assert (bus['number_of_trips_passing_wait'] >= 0).all(), 'Negative passing trips found.'\n",
    "assert bus['wait_assessment'].between(0,1).all(), 'Wait assessment must be in [0,1].'\n",
    "\n",
    "# ---------- Load NOAA Weather ----------\n",
    "wanted = ['STATION','NAME','DATE','PRCP','SNOW','SNWD','TMAX','TMIN','TAVG','AWND']\n",
    "available_cols = pd.read_csv('data/weather_data.csv', nrows=0).columns.tolist()\n",
    "usecols = [c for c in wanted if c in available_cols]\n",
    "\n",
    "weather = pd.read_csv(\n",
    "    'data/weather_data.csv',\n",
    "    usecols=usecols,\n",
    "    na_values=['', ' ', 'null', 'NULL'],\n",
    "    low_memory=False\n",
    ")\n",
    "\n",
    "weather.columns = [c.lower() for c in weather.columns]\n",
    "weather['date'] = pd.to_datetime(weather['date'], errors='coerce')\n",
    "\n",
    "for col in ['prcp','snow','snwd','tmax','tmin','tavg','awnd']:\n",
    "    if col in weather.columns:\n",
    "        weather[col] = pd.to_numeric(weather[col], errors='coerce')\n",
    "\n",
    "# NOAA units: tenths (°C, mm, m/s)\n",
    "if 'tmax' in weather: weather['tmax'] = weather['tmax'] / 10.0\n",
    "if 'tmin' in weather: weather['tmin'] = weather['tmin'] / 10.0\n",
    "if 'tavg' in weather: weather['tavg'] = weather['tavg'] / 10.0\n",
    "if 'prcp' in weather: weather['prcp_mm'] = weather['prcp'] / 10.0\n",
    "if 'snow' in weather: weather['snow_mm'] = weather['snow'] / 10.0\n",
    "if 'awnd' in weather: weather['awnd_ms'] = weather['awnd'] / 10.0\n",
    "\n",
    "# Impute tavg if missing but tmin/tmax exist\n",
    "if all(c in weather.columns for c in ['tavg','tmin','tmax']):\n",
    "    na_tavg = weather['tavg'].isna() & weather['tmin'].notna() & weather['tmax'].notna()\n",
    "    weather.loc[na_tavg, 'tavg'] = (weather.loc[na_tavg, 'tmin'] + weather.loc[na_tavg, 'tmax'])/2.0\n",
    "\n",
    "weather['is_rain'] = weather.get('prcp_mm', 0).fillna(0) > 0.1\n",
    "weather['is_snow'] = weather.get('snow_mm', 0).fillna(0) > 0.1\n",
    "\n",
    "def temp_band_from_tavg(t):\n",
    "    if pd.isna(t): return 'unknown'\n",
    "    if t < 0:     return '<0°C'\n",
    "    if t < 10:    return '0–10°C'\n",
    "    if t < 20:    return '10–20°C'\n",
    "    if t < 30:    return '20–30°C'\n",
    "    return '≥30°C'\n",
    "\n",
    "weather['temp_band'] = weather.get('tavg', np.nan).apply(temp_band_from_tavg)\n",
    "\n",
    "# Checks\n",
    "assert weather['date'].notna().any(), 'Weather dates failed to parse.'\n",
    "bus.head(), weather.head()"
   ]
  },
  {
   "cell_type": "markdown",
   "metadata": {},
   "source": [
    "## Exploratory Data Analysis (EDA)\n",
    "We provide dtype summaries, missingness, and then aggregate to **monthly** rider-weighted KPIs to align with the bus dataset."
   ]
  },
  {
   "cell_type": "code",
   "execution_count": null,
   "metadata": {},
   "outputs": [],
   "source": [
    "# =========================\n",
    "# EDA: dtypes, summaries, nulls\n",
    "# =========================\n",
    "print('— Bus dtypes —')\n",
    "bus.info()\n",
    "print('\\n— Weather dtypes —')\n",
    "weather.info()\n",
    "\n",
    "print('\\n— Bus describe (numeric) —')\n",
    "display(bus.select_dtypes(include=[np.number]).describe().T)\n",
    "print('\\nNulls in bus:')\n",
    "display(bus.isnull().sum())\n",
    "\n",
    "print('\\n— Weather describe (numeric) —')\n",
    "display(weather.select_dtypes(include=[np.number]).describe().T)\n",
    "print('\\nNulls in weather:')\n",
    "display(weather.isnull().sum())"
   ]
  },
  {
   "cell_type": "markdown",
   "metadata": {},
   "source": [
    "### Build Monthly Bus KPIs (Weighted by Scheduled Trips)\n",
    "MTA defines Wait Assessment as a **share**. To avoid small-sample bias, we compute a **route/period-level** weighted average by **number_of_scheduled_trips** and then aggregate to monthly system KPIs."
   ]
  },
  {
   "cell_type": "code",
   "execution_count": null,
   "metadata": {},
   "outputs": [],
   "source": [
    "# Weighted sums at the most granular level available\n",
    "b = bus.copy()\n",
    "b['wa_w'] = b['wait_assessment'] * b['number_of_scheduled_trips']\n",
    "\n",
    "# Monthly total across all routes/periods/boroughs\n",
    "bus_monthly = (\n",
    "    b.groupby('date', as_index=False)\n",
    "     .agg(\n",
    "         wa_w=('wa_w','sum'),\n",
    "         scheduled=('number_of_scheduled_trips','sum'),\n",
    "         passing=('number_of_trips_passing_wait','sum')\n",
    "     )\n",
    ")\n",
    "bus_monthly['wa_weighted'] = bus_monthly['wa_w'] / bus_monthly['scheduled']\n",
    "bus_monthly['pct_passing'] = bus_monthly['passing'] / bus_monthly['scheduled']\n",
    "\n",
    "# Sanity: wa_weighted and pct_passing in [0,1]\n",
    "assert bus_monthly['wa_weighted'].between(0,1).all(), 'Monthly WA out of range.'\n",
    "assert bus_monthly['pct_passing'].between(0,1).all(), 'Monthly pct_passing out of range.'\n",
    "\n",
    "display(bus_monthly.head())\n",
    "print('Monthly rows:', len(bus_monthly), '| Range:', bus_monthly['date'].min(), '→', bus_monthly['date'].max())"
   ]
  },
  {
   "cell_type": "markdown",
   "metadata": {},
   "source": [
    "### Convert Daily Weather → Monthly\n",
    "We convert daily NOAA observations to **monthly** means/sums to align with bus months."
   ]
  },
  {
   "cell_type": "code",
   "execution_count": null,
   "metadata": {},
   "outputs": [],
   "source": [
    "w = weather.copy()\n",
    "w['year_month'] = w['date'].dt.to_period('M').dt.to_timestamp()\n",
    "\n",
    "agg_map = {}\n",
    "if 'tavg'   in w: agg_map['tavg']    = 'mean'\n",
    "if 'tmin'   in w: agg_map['tmin']    = 'mean'\n",
    "if 'tmax'   in w: agg_map['tmax']    = 'mean'\n",
    "if 'prcp_mm'in w: agg_map['prcp_mm'] = 'sum'   # total precip in month\n",
    "if 'snow_mm'in w: agg_map['snow_mm'] = 'sum'   # total snow in month\n",
    "if 'awnd_ms'in w: agg_map['awnd_ms'] = 'mean'\n",
    "\n",
    "weather_monthly = (\n",
    "    w.groupby('year_month', as_index=False)\n",
    "     .agg(agg_map)\n",
    "     .rename(columns={'year_month':'date'})\n",
    ")\n",
    "display(weather_monthly.head())\n",
    "print('Weather monthly rows:', len(weather_monthly))"
   ]
  },
  {
   "cell_type": "markdown",
   "metadata": {},
   "source": [
    "### Merge Bus (Monthly) with Weather (Monthly)\n",
    "We use an inner join on the monthly `date` to align bus reliability with weather conditions."
   ]
  },
  {
   "cell_type": "code",
   "execution_count": null,
   "metadata": {},
   "outputs": [],
   "source": [
    "merged = pd.merge(bus_monthly, weather_monthly, on='date', how='inner')\n",
    "merged = merged.sort_values('date')\n",
    "display(merged.head())\n",
    "print(merged.shape)"
   ]
  },
  {
   "cell_type": "markdown",
   "metadata": {},
   "source": [
    "## Visualizations (≥ 4; matplotlib + seaborn)\n",
    "Each chart includes a short interpretation per the rubric."
   ]
  },
  {
   "cell_type": "code",
   "execution_count": null,
   "metadata": {"scrolled": false},
   "outputs": [],
   "source": [
    "# 1) Distribution of monthly Wait Assessment (weighted)\n",
    "sns.histplot(merged['wa_weighted'].dropna(), bins=20, kde=True)\n",
    "plt.title('Distribution of Monthly Wait Assessment (Weighted)')\n",
    "plt.xlabel('Wait Assessment (0–1)')\n",
    "plt.ylabel('Months')\n",
    "plt.show()\n",
    "print('Interpretation: Most months cluster at relatively high WA, with a lower tail indicating worse reliability months.')"
   ]
  },
  {
   "cell_type": "code",
   "execution_count": null,
   "metadata": {"scrolled": false},
   "outputs": [],
   "source": [
    "# 2) Wait Assessment over time\n",
    "plt.plot(merged['date'], merged['wa_weighted'])\n",
    "plt.title('Monthly Wait Assessment Over Time')\n",
    "plt.xlabel('Date')\n",
    "plt.ylabel('WA (0–1)')\n",
    "plt.show()\n",
    "print('Interpretation: Visual check for seasonality and long-run shifts in reliability.')"
   ]
  },
  {
   "cell_type": "code",
   "execution_count": null,
   "metadata": {"scrolled": false},
   "outputs": [],
   "source": [
    "# 3) Precipitation vs Wait Assessment (scatter)\n",
    "if 'prcp_mm' in merged.columns:\n",
    "    plt.scatter(merged['prcp_mm'], merged['wa_weighted'])\n",
    "    plt.title('Monthly Precipitation vs Wait Assessment')\n",
    "    plt.xlabel('Monthly Total Precipitation (mm)')\n",
    "    plt.ylabel('Wait Assessment (0–1)')\n",
    "    plt.show()\n",
    "    # quick correlation print\n",
    "    print('Pearson corr (precip, WA):', merged[['prcp_mm','wa_weighted']].corr().iloc[0,1])\n",
    "else:\n",
    "    print('No precipitation column present.')"
   ]
  },
  {
   "cell_type": "code",
   "execution_count": null,
   "metadata": {"scrolled": false},
   "outputs": [],
   "source": [
    "# 4) Temperature band vs Wait Assessment (via categorical bands from tavg)\n",
    "def band(t):\n",
    "    if pd.isna(t): return 'unknown'\n",
    "    if t < 0: return '<0°C'\n",
    "    if t < 10: return '0–10°C'\n",
    "    if t < 20: return '10–20°C'\n",
    "    if t < 30: return '20–30°C'\n",
    "    return '≥30°C'\n",
    "\n",
    "if 'tavg' in merged.columns:\n",
    "    merged['temp_band'] = merged['tavg'].apply(band)\n",
    "    order = ['<0°C','0–10°C','10–20°C','20–30°C','≥30°C','unknown']\n",
    "    sns.barplot(data=merged, x='temp_band', y='wa_weighted', order=[o for o in order if o in merged['temp_band'].unique()])\n",
    "    plt.title('Wait Assessment by Temperature Band')\n",
    "    plt.xlabel('Avg Monthly Temp Band')\n",
    "    plt.ylabel('WA (0–1)')\n",
    "    plt.show()\n",
    "    print('Interpretation: Compare bands to see whether colder/hotter months systematically reduce WA.')\n",
    "else:\n",
    "    print('No tavg column present.')"
   ]
  },
  {
   "cell_type": "code",
   "execution_count": null,
   "metadata": {"scrolled": false},
   "outputs": [],
   "source": [
    "# 5) Correlation heatmap\n",
    "num_cols = [c for c in ['wa_weighted','pct_passing','tavg','tmin','tmax','prcp_mm','snow_mm','awnd_ms'] if c in merged.columns]\n",
    "corr = merged[num_cols].corr()\n",
    "sns.heatmap(corr, annot=True, fmt='.2f', linewidths=0.5)\n",
    "plt.title('Correlation Heatmap: Weather vs Bus Reliability')\n",
    "plt.show()\n",
    "print('Interpretation: Expect negative correlation between precip/snow and WA; wind/temperature effects may be weaker but present.')"
   ]
  },
  {
   "cell_type": "markdown",
   "metadata": {},
   "source": [
    "## Data Issues Noted So Far\n",
    "- **Missing values**: NOAA `tavg` occasionally missing; imputed from `(tmin+tmax)/2`. Bus WA parsed from percent strings; counts had commas.\n",
    "- **Outliers**: High precipitation/snow months may depress WA; we will avoid dropping and instead rely on robust stats.\n",
    "- **Types**: All dates normalized to monthly; NOAA units converted to metric; WA constrained to [0,1].\n",
    "- **Duplicates**: Aggregations remove route/period duplication by weighted averaging."
   ]
  },
  {
   "cell_type": "markdown",
   "metadata": {},
   "source": [
    "## Data Cleaning & Transformation (Applied)\n",
    "We already performed conversions, imputations, and monthly alignment above. Here we assemble a **model-ready** table and add simple caps for extreme outliers (optional)."
   ]
  },
  {
   "cell_type": "code",
   "execution_count": null,
   "metadata": {},
   "outputs": [],
   "source": [
    "# Model-ready frame\n",
    "model_df = merged[['date','wa_weighted','pct_passing']].copy()\n",
    "for col in ['tavg','tmin','tmax','prcp_mm','snow_mm','awnd_ms']:\n",
    "    if col in merged.columns:\n",
    "        model_df[col] = merged[col]\n",
    "\n",
    "# Optional: cap extreme weather to reduce undue leverage in simple models\n",
    "for col in ['prcp_mm','snow_mm']:\n",
    "    if col in model_df:\n",
    "        q1, q3 = model_df[col].quantile([0.25, 0.75])\n",
    "        iqr = q3 - q1\n",
    "        lower, upper = q1 - 1.5*iqr, q3 + 1.5*iqr\n",
    "        model_df[col] = model_df[col].clip(lower, upper)\n",
    "\n",
    "display(model_df.head())\n",
    "assert model_df['wa_weighted'].between(0,1).all(), 'WA out of range after processing.'"
   ]
  },
  {
   "cell_type": "markdown",
   "metadata": {},
   "source": [
    "### Cleaning Rationale (Write-up)\n",
    "- **Parsing**: Converted percent strings and comma-formatted counts to numeric; enforced WA in [0,1].\n",
    "- **Alignment**: Aggregated route/period records to **monthly** weighted WA using scheduled trips as weights; converted daily NOAA to monthly to match.\n",
    "- **Imputation**: Filled `tavg` from `(tmin+tmax)/2` when present; avoided imputing precip/snow (true zeros are informative).\n",
    "- **Outliers**: Extreme precip/snow months capped for modeling stability; original values retained elsewhere for transparency.\n",
    "- **Sanity checks**: Assertions on ranges and parsed dates to fail fast if inputs change."
   ]
  },
  {
   "cell_type": "markdown",
   "metadata": {},
   "source": [
    "## Optional Third Source: OpenWeatherMap (Live Snapshot)\n",
    "Small demo of API ingestion to satisfy the “3 sources / 2 types” requirement. Use an env var `OWM_API_KEY` locally. If offline, the cell prints a friendly message and continues."
   ]
  },
  {
   "cell_type": "code",
   "execution_count": null,
   "metadata": {},
   "outputs": [],
   "source": [
    "API_KEY = os.getenv('OWM_API_KEY')\n",
    "CITY = 'New York'\n",
    "if API_KEY:\n",
    "    url = f'http://api.openweathermap.org/data/2.5/weather?q={CITY}&appid={API_KEY}&units=metric'\n",
    "    try:\n",
    "        r = requests.get(url, timeout=8)\n",
    "        d = r.json()\n",
    "        df_api = pd.DataFrame([{\n",
    "            'city': d.get('name'),\n",
    "            'date_time_utc': datetime.utcfromtimestamp(d.get('dt', 0)),\n",
    "            'temp_c': d.get('main',{}).get('temp'),\n",
    "            'humidity_pct': d.get('main',{}).get('humidity'),\n",
    "            'wind_mps': d.get('wind',{}).get('speed'),\n",
    "            'condition': (d.get('weather') or [{}])[0].get('description')\n",
    "        }])\n",
    "        display(df_api)\n",
    "    except Exception as e:\n",
    "        print('OpenWeatherMap call failed:', e)\n",
    "else:\n",
    "    print('No OWM_API_KEY set; skipping live API demo.')"
   ]
  },
  {
   "cell_type": "markdown",
   "metadata": {},
   "source": [
    "## Prior Feedback & Updates\n",
    "- Scope narrowed to **bus reliability** (more weather-exposed than subway). Data sources finalized (bus CSV + NOAA CSV + optional OWM API).\n",
    "- Clear monthly alignment and weighted WA calculation documented.\n",
    "- Added sanity checks and explicit cleaning rationale to aid peer review."
   ]
  },
  {
   "cell_type": "markdown",
   "metadata": {},
   "source": [
    "## Machine Learning Plan (Preview)\n",
    "- **Target**: `wa_weighted` (monthly). Secondary: `pct_passing`.\n",
    "- **Features**: `tavg`, `tmin`, `tmax`, `prcp_mm`, `snow_mm`, `awnd_ms` + month index/season dummies.\n",
    "- **Models**: Linear regression baseline; tree ensembles (Random Forest/GBM) for nonlinearities; regularized linear (Ridge/Lasso) to manage collinearity.\n",
    "- **Challenges**: Limited monthly sample size; potential confounders (service changes); multicollinearity across temperature metrics; seasonality.\n",
    "- **Next steps**: Time-series split; MAE/RMSE; SHAP/feature importance; sensitivity analysis with/without outlier capping."
   ]
  },
  {
   "cell_type": "markdown",
   "metadata": {},
   "source": [
    "## Conclusions (So Far)\n",
    "- Monthly WA distribution shows variability across months.\n",
    "- Scatter suggests **precipitation** is associated with **lower** Wait Assessment (negative correlation expected).\n",
    "- Temperature band comparison offers weaker but plausible effects (extreme cold/hot bands underperform).\n",
    "- Cleaning choices (weighted monthly WA, NOAA unit conversions, imputations) provide a robust base for modeling."
   ]
  },
  {
   "cell_type": "markdown",
   "metadata": {},
   "source": [
    "## Convert Notebook to Python Script\n",
    "Run this cell before submission to generate `source.py` for peer review."
   ]
  },
  {
   "cell_type": "code",
   "execution_count": null,
   "metadata": {},
   "outputs": [],
   "source": [
    "!jupyter nbconvert --to python source.ipynb"
   ]
  }
 ],
 "metadata": {
  "kernelspec": {
   "display_name": "Python 3",
   "language": "python",
   "name": "python3"
  },
  "language_info": {
   "name": "python",
   "version": "3.11"
  }
 },
 "nbformat": 4,
 "nbformat_minor": 5
}
