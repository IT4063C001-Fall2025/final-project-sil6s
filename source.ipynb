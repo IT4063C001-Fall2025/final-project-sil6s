{
 "cells": [
  {
   "cell_type": "markdown",
   "metadata": {},
   "source": [
    "# 🚍 NYC Bus Reliability vs Weather, Traffic, and Service Alerts\n",
    "\n",
    "![Banner](./assets/banner.jpeg)\n",
    "\n",
    "**Goal**: Quantify how weather conditions, traffic congestion, and service disruptions affect **NYC bus reliability**, measured via **Wait Assessment (WA)** — the share of observed trips that meet scheduled headways.\n",
    "\n",
    "This notebook fulfills **Checkpoint 2: Exploratory Data Analysis & Visualization** for IT4063C Data Technologies Analytics."
   ]
  },
  {
   "cell_type": "markdown",
   "id": "339b5caf",
   "metadata": {},
   "source": [
    "## 🧭 Project Overview\n",
    "NYC buses operate on city streets, making them vulnerable to **weather**, **congestion**, and **service alerts**. Reliable service is critical for millions of daily riders. This analysis explores how environmental and operational factors influence reliability."
   ]
  },
  {
   "cell_type": "markdown",
   "id": "09920034",
   "metadata": {},
   "source": [
    "## ❓ Research Question\n",
    "**How do precipitation, snowfall, temperature, traffic speeds, and MTA bus alerts relate to monthly NYC bus Wait Assessment (2020–2024)?**\n",
    "\n",
    "**Hypothesis:** Heavy rain, snow, and traffic congestion reduce Wait Assessment (lower reliability). Months with higher alert volumes (detours, delays) will also show lower WA."
   ]
  },
  {
   "cell_type": "markdown",
   "id": "f184303c",
   "metadata": {},
   "source": [
    "## 🗂️ Data Sources\n",
    "- **MTA Bus Performance (Wait Assessment)** — `data/bus_data.csv`\n",
    "- **NOAA GHCN-Daily – Central Park (USW00094728)** — `data/weather_data.csv`\n",
    "- **NYC DOT Traffic API (JSON)** — https://data.cityofnewyork.us/resource/i4gi-tjb9.json\n",
    "- **MTA Bus Alerts Feed (Protocol Buffers)** — https://api-endpoint.mta.info/Dataservice/mtagtfsfeeds/camsys%2Fbus-alerts\n",
    "\n",
    "These sources represent **three acquisition methods**: CSV, JSON API, and Protocol Buffers. See `data_types.md` for detailed schema definitions."
   ]
  },
  {
   "cell_type": "code",
   "execution_count": 23,
   "id": "09e4bf8f",
   "metadata": {},
   "outputs": [
    {
     "name": "stdout",
     "output_type": "stream",
     "text": [
      "[INFO] Notebook start at: 2025-10-23 22:08:56\n",
      "[INFO] Python: 3.11.9 | packaged by conda-forge | (main, Apr 19 2024, 18:34:54) [Clang 16.0.6 ]\n",
      "[INFO] Pandas: 2.3.3\n",
      "[INFO] Using working directory: /Users/silascurry/Documents/GitHub/final-project-sil6s\n"
     ]
    }
   ],
   "source": [
    "import os, sys, json, math, textwrap, time, warnings\n",
    "from datetime import datetime, timedelta\n",
    "\n",
    "import numpy as np\n",
    "import pandas as pd\n",
    "import matplotlib.pyplot as plt\n",
    "import seaborn as sns\n",
    "import plotly.express as px\n",
    "import requests\n",
    "\n",
    "from google.transit import gtfs_realtime_pb2\n",
    "\n",
    "warnings.filterwarnings('ignore')\n",
    "pd.set_option('display.max_columns', 200)\n",
    "sns.set(style='whitegrid')\n",
    "\n",
    "print(\"[INFO] Notebook start at:\", datetime.now().strftime('%Y-%m-%d %H:%M:%S'))\n",
    "print(\"[INFO] Python:\", sys.version)\n",
    "print(\"[INFO] Pandas:\", pd.__version__)\n",
    "print(\"[INFO] Using working directory:\", os.getcwd())"
   ]
  },
  {
   "cell_type": "markdown",
   "id": "91c805d4",
   "metadata": {},
   "source": [
    "## ⚙️ Configuration & Utility Helpers\n",
    "Config lives here to centralize retry/backoff, URLs, and required environment variables. The helper functions add explicit debug prints and hard assertions so failures are self-explanatory."
   ]
  },
  {
   "cell_type": "code",
   "execution_count": 24,
   "id": "d3884967",
   "metadata": {},
   "outputs": [],
   "source": [
    "class Backoff:\n",
    "    @staticmethod\n",
    "    def sleep(i):\n",
    "        # Exponential backoff with jitter\n",
    "        delay = min(2 ** i + np.random.rand(), 10)\n",
    "        print(f\"[DEBUG] Backoff sleeping {delay:.2f}s before retry {i+1}\")\n",
    "        time.sleep(delay)\n",
    "\n",
    "CFG = {\n",
    "    'traffic_url': 'https://data.cityofnewyork.us/resource/i4gi-tjb9.json',\n",
    "    'mta_alerts_url': 'https://api-endpoint.mta.info/Dataservice/mtagtfsfeeds/camsys%2Fbus-alerts',\n",
    "    'months_back_for_traffic': 24,\n",
    "    'csv_bus': 'data/bus_data.csv',\n",
    "    'csv_weather': 'data/weather_data.csv'\n",
    "}\n",
    "\n",
    "def require_file(path):\n",
    "    assert os.path.exists(path), f\"[FATAL] Required file missing: {path}. Place it in the repo (see Data Sources).\"\n",
    "    print(f\"[OK] Found file: {path}\")\n",
    "\n",
    "def require_env(varname, optional=False):\n",
    "    val = os.getenv(varname)\n",
    "    if not val:\n",
    "        msg = f\"[{'WARN' if optional else 'FATAL'}] Env var {varname} is {'recommended' if optional else 'required'}\"\n",
    "        if optional:\n",
    "            print(msg)\n",
    "        else:\n",
    "            raise EnvironmentError(msg)\n",
    "    else:\n",
    "        print(f\"[OK] Env var {varname} present ({'optional' if optional else 'required'})\")\n",
    "    return val\n",
    "\n",
    "def nonempty_df(df, name=\"<df>\"):\n",
    "    assert isinstance(df, pd.DataFrame), f\"[FATAL] {name} is not a DataFrame\"\n",
    "    assert len(df) > 0, f\"[FATAL] {name} is empty\"\n",
    "    print(f\"[OK] {name}: shape={df.shape}\")\n",
    "    return df\n",
    "\n",
    "def must_have_cols(df, cols, name=\"<df>\"):\n",
    "    missing = [c for c in cols if c not in df.columns]\n",
    "    assert not missing, f\"[FATAL] {name} is missing columns: {missing}\\nAvailable: {list(df.columns)}\"\n",
    "    print(f\"[OK] {name} has required columns: {cols}\")\n",
    "    return df\n",
    "\n",
    "def print_range(df, col, name):\n",
    "    if col in df:\n",
    "        m, M = df[col].min(), df[col].max()\n",
    "        print(f\"[DEBUG] {name}.{col} range: {m} → {M}\")\n",
    "    else:\n",
    "        print(f\"[WARN] {name} missing column for range: {col}\")\n",
    "\n",
    "def pct(n, d):\n",
    "    return (n / d) * 100 if d else float('nan')"
   ]
  },
  {
   "cell_type": "markdown",
   "id": "4ce78e59",
   "metadata": {},
   "source": [
    "## 📥 Load & Normalize Datasets\n",
    "Three distinct ingestion methods:\n",
    "1) **CSV**: Bus performance, Weather\n",
    "2) **JSON API**: NYC DOT traffic\n",
    "3) **Protocol Buffers**: MTA bus alerts"
   ]
  },
  {
   "cell_type": "code",
   "execution_count": 25,
   "id": "2a85266b",
   "metadata": {
    "scrolled": false
   },
   "outputs": [
    {
     "name": "stdout",
     "output_type": "stream",
     "text": [
      "[OK] Found file: data/bus_data.csv\n",
      "[OK] bus_raw: shape=(71725, 9)\n",
      "[OK] bus_raw has required columns: ['month', 'wait_assessment', 'number_of_trips_passing_wait', 'number_of_scheduled_trips']\n",
      "[DEBUG] bus_raw bad date rows: 0 / 71725 (0.00%)\n",
      "[DEBUG] bus_raw number_of_trips_passing_wait NaN after numeric coercion: 0\n",
      "[DEBUG] bus_raw number_of_scheduled_trips NaN after numeric coercion: 0\n",
      "[DEBUG] bus_raw.wait_assessment range: 0.0 → 1.0\n",
      "[OK] Found file: data/weather_data.csv\n",
      "[OK] weather_raw: shape=(57269, 124)\n",
      "[OK] weather_raw has required columns: ['date']\n",
      "[DEBUG] weather_raw prcp NaN: 0\n",
      "[DEBUG] weather_raw snow NaN: 166\n",
      "[DEBUG] weather_raw snwd NaN: 16559\n",
      "[DEBUG] weather_raw tmax NaN: 7\n",
      "[DEBUG] weather_raw tmin NaN: 7\n",
      "[DEBUG] weather_raw tavg NaN: 54621\n",
      "[DEBUG] weather_raw awnd NaN: 46430\n",
      "[DEBUG] weather_raw tavg filled from tmin/tmax: 54621\n",
      "[DEBUG] weather_raw.tavg range: -20.85 → 34.45\n",
      "[DEBUG] weather_raw.prcp_mm range: 0.0 → 210.3\n",
      "[DEBUG] weather_raw.snow_mm range: 0.0 → 69.3\n"
     ]
    }
   ],
   "source": [
    "# --- CSV 1: MTA Bus Performance ---\n",
    "require_file(CFG['csv_bus'])\n",
    "bus = pd.read_csv(CFG['csv_bus'], na_values=['', ' ', 'null', 'NULL'])\n",
    "nonempty_df(bus, 'bus_raw')\n",
    "bus.columns = [c.strip().lower().replace(' ', '_') for c in bus.columns]\n",
    "must_have_cols(bus, ['month','wait_assessment','number_of_trips_passing_wait','number_of_scheduled_trips'], 'bus_raw')\n",
    "\n",
    "bus['date'] = pd.to_datetime(bus['month'], errors='coerce')\n",
    "bad_dates = bus['date'].isna().sum()\n",
    "print(f\"[DEBUG] bus_raw bad date rows: {bad_dates} / {len(bus)} ({pct(bad_dates, len(bus)):.2f}%)\")\n",
    "bus = bus.dropna(subset=['date'])\n",
    "for col in ['number_of_trips_passing_wait','number_of_scheduled_trips']:\n",
    "    bus[col] = pd.to_numeric(bus[col].astype(str).str.replace(',', '', regex=False), errors='coerce')\n",
    "    na_cnt = bus[col].isna().sum()\n",
    "    print(f\"[DEBUG] bus_raw {col} NaN after numeric coercion: {na_cnt}\")\n",
    "bus['wait_assessment'] = pd.to_numeric(\n",
    "    bus['wait_assessment'].astype(str).str.rstrip('%'), errors='coerce') / 100.0\n",
    "print_range(bus, 'wait_assessment', 'bus_raw')\n",
    "\n",
    "# --- CSV 2: NOAA Weather ---\n",
    "require_file(CFG['csv_weather'])\n",
    "weather = pd.read_csv(CFG['csv_weather'])\n",
    "nonempty_df(weather, 'weather_raw')\n",
    "weather.columns = [c.strip().lower() for c in weather.columns]\n",
    "must_have_cols(weather, ['date'], 'weather_raw')\n",
    "weather['date'] = pd.to_datetime(weather['date'], errors='coerce')\n",
    "weather = weather.dropna(subset=['date'])\n",
    "\n",
    "num_cols = ['prcp','snow','snwd','tmax','tmin','tavg','awnd']\n",
    "for col in num_cols:\n",
    "    if col in weather:\n",
    "        weather[col] = pd.to_numeric(weather[col], errors='coerce')\n",
    "        print(f\"[DEBUG] weather_raw {col} NaN: {weather[col].isna().sum()}\")\n",
    "    else:\n",
    "        print(f\"[WARN] weather_raw missing optional column: {col}\")\n",
    "\n",
    "# Convert tenths-based NOAA values if present\n",
    "if 'tmax' in weather: weather['tmax'] = weather['tmax'] / 10.0\n",
    "if 'tmin' in weather: weather['tmin'] = weather['tmin'] / 10.0\n",
    "if 'tavg' in weather: weather['tavg'] = weather['tavg'] / 10.0\n",
    "if 'prcp' in weather: weather['prcp_mm'] = weather['prcp'] / 10.0\n",
    "if 'snow' in weather: weather['snow_mm'] = weather['snow'] / 10.0\n",
    "if 'awnd' in weather: weather['awnd_ms'] = weather['awnd'] / 10.0\n",
    "\n",
    "# Fill missing TAVG from min/max if possible\n",
    "if all(c in weather for c in ['tavg','tmin','tmax']):\n",
    "    mask = weather['tavg'].isna()\n",
    "    filled = mask.sum()\n",
    "    weather.loc[mask, 'tavg'] = (weather.loc[mask, 'tmin'] + weather.loc[mask, 'tmax']) / 2\n",
    "    print(f\"[DEBUG] weather_raw tavg filled from tmin/tmax: {filled}\")\n",
    "\n",
    "print_range(weather, 'tavg', 'weather_raw')\n",
    "print_range(weather, 'prcp_mm', 'weather_raw')\n",
    "print_range(weather, 'snow_mm', 'weather_raw')"
   ]
  },
  {
   "cell_type": "code",
   "execution_count": 27,
   "id": "7b660a0f",
   "metadata": {},
   "outputs": [
    {
     "name": "stdout",
     "output_type": "stream",
     "text": [
      "[INFO] Fetching traffic JSON (attempt 1) from https://data.cityofnewyork.us/resource/i4gi-tjb9.json\n",
      "[OK] Traffic fetched: 50000 rows\n",
      "[OK] Traffic JSON has expected fields\n",
      "[OK] traffic: shape=(50000, 7)\n",
      "[DEBUG] traffic columns: ['borough', 'data_as_of', 'id', 'link_name', 'speed', 'status', 'travel_time']\n",
      "[DEBUG] traffic bad timestamps (data_as_of): 0 / 50000 (0.00%)\n",
      "[DEBUG] traffic speed NaN after numeric coercion: 0\n",
      "[DEBUG] traffic travel_time NaN after numeric coercion: 0\n",
      "[DEBUG] traffic status NaN after numeric coercion: 0\n",
      "[DEBUG] traffic.speed range: 0.0 → 73.94\n",
      "[DEBUG] traffic.travel_time range: 0 → 9479\n",
      "[DEBUG] traffic.status range: -101 → 0\n",
      "[OK] traffic_monthly: shape=(1, 2)\n",
      "[DEBUG] traffic_monthly date span: 2025-10-01 → 2025-10-01\n",
      "[DEBUG] traffic_monthly.mean_speed_mph range: 28.7265034 → 28.7265034\n"
     ]
    }
   ],
   "source": [
    "# --- NYC DOT Traffic API (JSON) ---\n",
    "import time\n",
    "import requests\n",
    "\n",
    "TRAFFIC_URL = \"https://data.cityofnewyork.us/resource/i4gi-tjb9.json\"\n",
    "\n",
    "def fetch_traffic_json(max_attempts=4, base_backoff=1.5):\n",
    "    params = {\n",
    "        # don't refer to non-existent columns; pull only what is needed\n",
    "        \"$select\": \"id,speed,travel_time,status,data_as_of,borough,link_name\",\n",
    "        \"$limit\": 50000,           # pull a good chunk; adjust if needed\n",
    "        \"$order\": \"data_as_of DESC\"\n",
    "    }\n",
    "    for attempt in range(1, max_attempts + 1):\n",
    "        print(f\"[INFO] Fetching traffic JSON (attempt {attempt}) from {TRAFFIC_URL}\")\n",
    "        try:\n",
    "            r = requests.get(TRAFFIC_URL, params=params, timeout=20)\n",
    "            if r.status_code != 200:\n",
    "                print(f\"[WARN] Traffic attempt {attempt} failed → HTTP {r.status_code}: {r.text[:220]}\")\n",
    "                if attempt < max_attempts:\n",
    "                    sleep_for = base_backoff ** attempt + (0.25 * attempt)\n",
    "                    print(f\"[DEBUG] Backoff sleeping {sleep_for:.2f}s before retry {attempt}\")\n",
    "                    time.sleep(sleep_for)\n",
    "                continue\n",
    "            data = r.json()\n",
    "            if not isinstance(data, list):\n",
    "                raise ValueError(\"Traffic response is not a JSON array\")\n",
    "            print(f\"[OK] Traffic fetched: {len(data)} rows\")\n",
    "            return data\n",
    "        except requests.RequestException as e:\n",
    "            print(f\"[WARN] Traffic attempt {attempt} raised {type(e).__name__}: {e}\")\n",
    "            if attempt < max_attempts:\n",
    "                sleep_for = base_backoff ** attempt + (0.25 * attempt)\n",
    "                print(f\"[DEBUG] Backoff sleeping {sleep_for:.2f}s before retry {attempt}\")\n",
    "                time.sleep(sleep_for)\n",
    "    raise RuntimeError(\"Traffic fetch failed after retries\")\n",
    "\n",
    "traffic_raw = fetch_traffic_json()\n",
    "\n",
    "# Basic schema sanity check (reflects your sample)\n",
    "required_traffic_cols = {\"id\",\"speed\",\"travel_time\",\"status\",\"data_as_of\",\"borough\",\"link_name\"}\n",
    "missing_cols = required_traffic_cols.difference({k for row in traffic_raw for k in row.keys()})\n",
    "if missing_cols:\n",
    "    print(f\"[WARN] Traffic JSON missing some expected fields: {sorted(missing_cols)}\")\n",
    "else:\n",
    "    print(\"[OK] Traffic JSON has expected fields\")\n",
    "\n",
    "import pandas as pd\n",
    "traffic = pd.DataFrame(traffic_raw)\n",
    "print(f\"[OK] traffic: shape={traffic.shape}\")\n",
    "print(f\"[DEBUG] traffic columns: {sorted(traffic.columns.tolist())}\")\n",
    "\n",
    "# Parse types\n",
    "traffic[\"data_as_of\"] = pd.to_datetime(traffic[\"data_as_of\"], errors=\"coerce\")\n",
    "bad_ts = traffic[\"data_as_of\"].isna().sum()\n",
    "print(f\"[DEBUG] traffic bad timestamps (data_as_of): {bad_ts} / {len(traffic)} ({100*bad_ts/len(traffic):.2f}%)\")\n",
    "traffic = traffic.dropna(subset=[\"data_as_of\"])\n",
    "\n",
    "for col in [\"speed\", \"travel_time\", \"status\"]:\n",
    "    if col in traffic:\n",
    "        traffic[col] = pd.to_numeric(traffic[col], errors=\"coerce\")\n",
    "        nan_cnt = traffic[col].isna().sum()\n",
    "        print(f\"[DEBUG] traffic {col} NaN after numeric coercion: {nan_cnt}\")\n",
    "\n",
    "# Quick ranges\n",
    "def _print_range(df, col, name):\n",
    "    if col in df and df[col].notna().any():\n",
    "        print(f\"[DEBUG] {name}.{col} range: {df[col].min()} → {df[col].max()}\")\n",
    "_print_range(traffic, \"speed\", \"traffic\")\n",
    "_print_range(traffic, \"travel_time\", \"traffic\")\n",
    "_print_range(traffic, \"status\", \"traffic\")\n",
    "\n",
    "# Monthly aggregation by data_as_of\n",
    "traffic[\"date\"] = traffic[\"data_as_of\"].dt.to_period(\"M\").dt.to_timestamp()\n",
    "traffic_monthly = (traffic\n",
    "    .groupby(\"date\", as_index=False)[\"speed\"]\n",
    "    .mean()\n",
    "    .rename(columns={\"speed\": \"mean_speed_mph\"}))\n",
    "\n",
    "print(f\"[OK] traffic_monthly: shape={traffic_monthly.shape}\")\n",
    "if not traffic_monthly.empty:\n",
    "    print(f\"[DEBUG] traffic_monthly date span: {traffic_monthly['date'].min().date()} → {traffic_monthly['date'].max().date()}\")\n",
    "    _print_range(traffic_monthly, \"mean_speed_mph\", \"traffic_monthly\")\n"
   ]
  },
  {
   "cell_type": "code",
   "execution_count": 29,
   "id": "831badd5",
   "metadata": {
    "scrolled": false
   },
   "outputs": [
    {
     "name": "stdout",
     "output_type": "stream",
     "text": [
      "[INFO] Fetching MTA GTFS-rt alerts (attempt 1)\n",
      "[OK] Alerts entities fetched: 145\n",
      "[OK] alerts_df: (1, 2)\n"
     ]
    },
    {
     "data": {
      "text/html": [
       "<div>\n",
       "<style scoped>\n",
       "    .dataframe tbody tr th:only-of-type {\n",
       "        vertical-align: middle;\n",
       "    }\n",
       "\n",
       "    .dataframe tbody tr th {\n",
       "        vertical-align: top;\n",
       "    }\n",
       "\n",
       "    .dataframe thead th {\n",
       "        text-align: right;\n",
       "    }\n",
       "</style>\n",
       "<table border=\"1\" class=\"dataframe\">\n",
       "  <thead>\n",
       "    <tr style=\"text-align: right;\">\n",
       "      <th></th>\n",
       "      <th>date</th>\n",
       "      <th>alert_count</th>\n",
       "    </tr>\n",
       "  </thead>\n",
       "  <tbody>\n",
       "    <tr>\n",
       "      <th>0</th>\n",
       "      <td>2025-10-23 00:00:00-04:00</td>\n",
       "      <td>145</td>\n",
       "    </tr>\n",
       "  </tbody>\n",
       "</table>\n",
       "</div>"
      ],
      "text/plain": [
       "                       date  alert_count\n",
       "0 2025-10-23 00:00:00-04:00          145"
      ]
     },
     "metadata": {},
     "output_type": "display_data"
    }
   ],
   "source": [
    "# --- Protocol Buffers: MTA Bus Alerts (no API key required) ---\n",
    "from google.transit import gtfs_realtime_pb2\n",
    "import requests\n",
    "\n",
    "MTA_ALERTS_URL = \"https://api-endpoint.mta.info/Dataservice/mtagtfsfeeds/camsys%2Fbus-alerts\"\n",
    "\n",
    "def fetch_mta_alerts_feed(url):\n",
    "    for i in range(4):\n",
    "        try:\n",
    "            print(f\"[INFO] Fetching MTA GTFS-rt alerts (attempt {i+1})\")\n",
    "            r = requests.get(url, timeout=25)\n",
    "            if r.status_code != 200:\n",
    "                print(f\"[WARN] Alerts attempt {i+1} HTTP {r.status_code}: {r.text[:160]}\")\n",
    "                Backoff.sleep(i)\n",
    "                continue\n",
    "            feed = gtfs_realtime_pb2.FeedMessage()\n",
    "            feed.ParseFromString(r.content)\n",
    "            print(f\"[OK] Alerts entities fetched: {len(feed.entity)}\")\n",
    "            return feed\n",
    "        except Exception as e:\n",
    "            print(f\"[WARN] Alerts attempt {i+1} error → {e}\")\n",
    "            Backoff.sleep(i)\n",
    "    raise RuntimeError(\"Failed to fetch/parse MTA GTFS-rt alerts after retries\")\n",
    "\n",
    "alerts_feed = fetch_mta_alerts_feed(MTA_ALERTS_URL)\n",
    "\n",
    "# Convert header timestamp and count alerts\n",
    "header_ts = pd.to_datetime(\n",
    "    datetime.utcfromtimestamp(alerts_feed.header.timestamp),\n",
    "    utc=True\n",
    ").tz_convert(\"America/New_York\") if alerts_feed.header.timestamp else pd.Timestamp.utcnow()\n",
    "\n",
    "alerts = [e for e in alerts_feed.entity if e.HasField(\"alert\")]\n",
    "alerts_df = pd.DataFrame([\n",
    "    {\n",
    "        \"date\": header_ts.normalize(),\n",
    "        \"alert_count\": len(alerts)\n",
    "    }\n",
    "])\n",
    "\n",
    "print(f\"[OK] alerts_df: {alerts_df.shape}\")\n",
    "display(alerts_df)\n"
   ]
  },
  {
   "cell_type": "markdown",
   "id": "7445af31",
   "metadata": {},
   "source": [
    "## 🔍 Exploratory Data Analysis (EDA)\n",
    "Quick statistical summaries, distribution checks, correlations, and basic data health scans."
   ]
  },
  {
   "cell_type": "code",
   "execution_count": null,
   "id": "1650d27e",
   "metadata": {},
   "outputs": [
    {
     "name": "stdout",
     "output_type": "stream",
     "text": [
      "\n",
      "==============\n",
      "BUS DATA (raw)\n",
      "==============\n",
      "[INFO] bus: shape=(71725, 10)\n",
      "[INFO] bus: date range = 2020-01-01 00:00:00 → 2024-12-01 00:00:00\n",
      "[WARN] describe(include='all') failed for bus: NDFrame.describe() got an unexpected keyword argument 'datetime_is_numeric'\n",
      "[WARN] numeric describe failed for bus: NDFrame.describe() got an unexpected keyword argument 'datetime_is_numeric'\n",
      "[PREVIEW] bus.head(3)\n"
     ]
    },
    {
     "data": {
      "text/html": [
       "<div>\n",
       "<style scoped>\n",
       "    .dataframe tbody tr th:only-of-type {\n",
       "        vertical-align: middle;\n",
       "    }\n",
       "\n",
       "    .dataframe tbody tr th {\n",
       "        vertical-align: top;\n",
       "    }\n",
       "\n",
       "    .dataframe thead th {\n",
       "        text-align: right;\n",
       "    }\n",
       "</style>\n",
       "<table border=\"1\" class=\"dataframe\">\n",
       "  <thead>\n",
       "    <tr style=\"text-align: right;\">\n",
       "      <th></th>\n",
       "      <th>month</th>\n",
       "      <th>borough</th>\n",
       "      <th>day_type</th>\n",
       "      <th>trip_type</th>\n",
       "      <th>route_id</th>\n",
       "      <th>period</th>\n",
       "      <th>number_of_trips_passing_wait</th>\n",
       "      <th>number_of_scheduled_trips</th>\n",
       "      <th>wait_assessment</th>\n",
       "      <th>date</th>\n",
       "    </tr>\n",
       "  </thead>\n",
       "  <tbody>\n",
       "    <tr>\n",
       "      <th>0</th>\n",
       "      <td>2020-01-01</td>\n",
       "      <td>Bronx</td>\n",
       "      <td>1</td>\n",
       "      <td>LCL/LTD</td>\n",
       "      <td>BX1</td>\n",
       "      <td>Off-Peak</td>\n",
       "      <td>16464</td>\n",
       "      <td>21728</td>\n",
       "      <td>0.757732</td>\n",
       "      <td>2020-01-01</td>\n",
       "    </tr>\n",
       "    <tr>\n",
       "      <th>1</th>\n",
       "      <td>2020-01-01</td>\n",
       "      <td>Bronx</td>\n",
       "      <td>1</td>\n",
       "      <td>LCL/LTD</td>\n",
       "      <td>BX1</td>\n",
       "      <td>Peak</td>\n",
       "      <td>6845</td>\n",
       "      <td>10902</td>\n",
       "      <td>0.627866</td>\n",
       "      <td>2020-01-01</td>\n",
       "    </tr>\n",
       "    <tr>\n",
       "      <th>2</th>\n",
       "      <td>2020-01-01</td>\n",
       "      <td>Bronx</td>\n",
       "      <td>2</td>\n",
       "      <td>LCL/LTD</td>\n",
       "      <td>BX1</td>\n",
       "      <td>Off-Peak</td>\n",
       "      <td>5817</td>\n",
       "      <td>7896</td>\n",
       "      <td>0.736702</td>\n",
       "      <td>2020-01-01</td>\n",
       "    </tr>\n",
       "  </tbody>\n",
       "</table>\n",
       "</div>"
      ],
      "text/plain": [
       "        month borough  day_type trip_type route_id    period  number_of_trips_passing_wait  number_of_scheduled_trips  \\\n",
       "0  2020-01-01   Bronx         1   LCL/LTD      BX1  Off-Peak                         16464                      21728   \n",
       "1  2020-01-01   Bronx         1   LCL/LTD      BX1      Peak                          6845                      10902   \n",
       "2  2020-01-01   Bronx         2   LCL/LTD      BX1  Off-Peak                          5817                       7896   \n",
       "\n",
       "   wait_assessment       date  \n",
       "0         0.757732 2020-01-01  \n",
       "1         0.627866 2020-01-01  \n",
       "2         0.736702 2020-01-01  "
      ]
     },
     "metadata": {},
     "output_type": "display_data"
    },
    {
     "name": "stdout",
     "output_type": "stream",
     "text": [
      "[PREVIEW] bus.tail(3)\n"
     ]
    },
    {
     "data": {
      "text/html": [
       "<div>\n",
       "<style scoped>\n",
       "    .dataframe tbody tr th:only-of-type {\n",
       "        vertical-align: middle;\n",
       "    }\n",
       "\n",
       "    .dataframe tbody tr th {\n",
       "        vertical-align: top;\n",
       "    }\n",
       "\n",
       "    .dataframe thead th {\n",
       "        text-align: right;\n",
       "    }\n",
       "</style>\n",
       "<table border=\"1\" class=\"dataframe\">\n",
       "  <thead>\n",
       "    <tr style=\"text-align: right;\">\n",
       "      <th></th>\n",
       "      <th>month</th>\n",
       "      <th>borough</th>\n",
       "      <th>day_type</th>\n",
       "      <th>trip_type</th>\n",
       "      <th>route_id</th>\n",
       "      <th>period</th>\n",
       "      <th>number_of_trips_passing_wait</th>\n",
       "      <th>number_of_scheduled_trips</th>\n",
       "      <th>wait_assessment</th>\n",
       "      <th>date</th>\n",
       "    </tr>\n",
       "  </thead>\n",
       "  <tbody>\n",
       "    <tr>\n",
       "      <th>71722</th>\n",
       "      <td>2024-12-01</td>\n",
       "      <td>Staten Island</td>\n",
       "      <td>1</td>\n",
       "      <td>EXP</td>\n",
       "      <td>SIM8X</td>\n",
       "      <td>Peak</td>\n",
       "      <td>106</td>\n",
       "      <td>308</td>\n",
       "      <td>0.344156</td>\n",
       "      <td>2024-12-01</td>\n",
       "    </tr>\n",
       "    <tr>\n",
       "      <th>71723</th>\n",
       "      <td>2024-12-01</td>\n",
       "      <td>Staten Island</td>\n",
       "      <td>1</td>\n",
       "      <td>EXP</td>\n",
       "      <td>SIM9</td>\n",
       "      <td>Off-Peak</td>\n",
       "      <td>552</td>\n",
       "      <td>713</td>\n",
       "      <td>0.774193</td>\n",
       "      <td>2024-12-01</td>\n",
       "    </tr>\n",
       "    <tr>\n",
       "      <th>71724</th>\n",
       "      <td>2024-12-01</td>\n",
       "      <td>Staten Island</td>\n",
       "      <td>1</td>\n",
       "      <td>EXP</td>\n",
       "      <td>SIM9</td>\n",
       "      <td>Peak</td>\n",
       "      <td>583</td>\n",
       "      <td>1040</td>\n",
       "      <td>0.560577</td>\n",
       "      <td>2024-12-01</td>\n",
       "    </tr>\n",
       "  </tbody>\n",
       "</table>\n",
       "</div>"
      ],
      "text/plain": [
       "            month        borough  day_type trip_type route_id    period  number_of_trips_passing_wait  \\\n",
       "71722  2024-12-01  Staten Island         1       EXP    SIM8X      Peak                           106   \n",
       "71723  2024-12-01  Staten Island         1       EXP     SIM9  Off-Peak                           552   \n",
       "71724  2024-12-01  Staten Island         1       EXP     SIM9      Peak                           583   \n",
       "\n",
       "       number_of_scheduled_trips  wait_assessment       date  \n",
       "71722                        308         0.344156 2024-12-01  \n",
       "71723                        713         0.774193 2024-12-01  \n",
       "71724                       1040         0.560577 2024-12-01  "
      ]
     },
     "metadata": {},
     "output_type": "display_data"
    },
    {
     "name": "stdout",
     "output_type": "stream",
     "text": [
      "\n",
      "==================\n",
      "WEATHER DATA (raw)\n",
      "==================\n",
      "[INFO] weather: shape=(57269, 127)\n",
      "[INFO] weather: date range = 1869-01-01 00:00:00 → 2025-10-18 00:00:00\n",
      "[WARN] describe(include='all') failed for weather: NDFrame.describe() got an unexpected keyword argument 'datetime_is_numeric'\n",
      "[WARN] numeric describe failed for weather: NDFrame.describe() got an unexpected keyword argument 'datetime_is_numeric'\n",
      "[PREVIEW] weather.head(3)\n"
     ]
    },
    {
     "data": {
      "text/html": [
       "<div>\n",
       "<style scoped>\n",
       "    .dataframe tbody tr th:only-of-type {\n",
       "        vertical-align: middle;\n",
       "    }\n",
       "\n",
       "    .dataframe tbody tr th {\n",
       "        vertical-align: top;\n",
       "    }\n",
       "\n",
       "    .dataframe thead th {\n",
       "        text-align: right;\n",
       "    }\n",
       "</style>\n",
       "<table border=\"1\" class=\"dataframe\">\n",
       "  <thead>\n",
       "    <tr style=\"text-align: right;\">\n",
       "      <th></th>\n",
       "      <th>station</th>\n",
       "      <th>date</th>\n",
       "      <th>latitude</th>\n",
       "      <th>longitude</th>\n",
       "      <th>elevation</th>\n",
       "      <th>name</th>\n",
       "      <th>prcp</th>\n",
       "      <th>prcp_attributes</th>\n",
       "      <th>snow</th>\n",
       "      <th>snow_attributes</th>\n",
       "      <th>snwd</th>\n",
       "      <th>snwd_attributes</th>\n",
       "      <th>tmax</th>\n",
       "      <th>tmax_attributes</th>\n",
       "      <th>tmin</th>\n",
       "      <th>tmin_attributes</th>\n",
       "      <th>acmh</th>\n",
       "      <th>acmh_attributes</th>\n",
       "      <th>acsh</th>\n",
       "      <th>acsh_attributes</th>\n",
       "      <th>adpt</th>\n",
       "      <th>adpt_attributes</th>\n",
       "      <th>aslp</th>\n",
       "      <th>aslp_attributes</th>\n",
       "      <th>astp</th>\n",
       "      <th>astp_attributes</th>\n",
       "      <th>awbt</th>\n",
       "      <th>awbt_attributes</th>\n",
       "      <th>awnd</th>\n",
       "      <th>awnd_attributes</th>\n",
       "      <th>daev</th>\n",
       "      <th>daev_attributes</th>\n",
       "      <th>dasf</th>\n",
       "      <th>dasf_attributes</th>\n",
       "      <th>dawm</th>\n",
       "      <th>dawm_attributes</th>\n",
       "      <th>evap</th>\n",
       "      <th>evap_attributes</th>\n",
       "      <th>fmtm</th>\n",
       "      <th>fmtm_attributes</th>\n",
       "      <th>mdev</th>\n",
       "      <th>mdev_attributes</th>\n",
       "      <th>mdsf</th>\n",
       "      <th>mdsf_attributes</th>\n",
       "      <th>mdwm</th>\n",
       "      <th>mdwm_attributes</th>\n",
       "      <th>pgtm</th>\n",
       "      <th>pgtm_attributes</th>\n",
       "      <th>psun</th>\n",
       "      <th>psun_attributes</th>\n",
       "      <th>rhav</th>\n",
       "      <th>rhav_attributes</th>\n",
       "      <th>rhmn</th>\n",
       "      <th>rhmn_attributes</th>\n",
       "      <th>rhmx</th>\n",
       "      <th>rhmx_attributes</th>\n",
       "      <th>tavg</th>\n",
       "      <th>tavg_attributes</th>\n",
       "      <th>tobs</th>\n",
       "      <th>tobs_attributes</th>\n",
       "      <th>tsun</th>\n",
       "      <th>tsun_attributes</th>\n",
       "      <th>wdf1</th>\n",
       "      <th>wdf1_attributes</th>\n",
       "      <th>wdf2</th>\n",
       "      <th>wdf2_attributes</th>\n",
       "      <th>wdf5</th>\n",
       "      <th>wdf5_attributes</th>\n",
       "      <th>wdfg</th>\n",
       "      <th>wdfg_attributes</th>\n",
       "      <th>wdfm</th>\n",
       "      <th>wdfm_attributes</th>\n",
       "      <th>wdmv</th>\n",
       "      <th>wdmv_attributes</th>\n",
       "      <th>wesd</th>\n",
       "      <th>wesd_attributes</th>\n",
       "      <th>wsf1</th>\n",
       "      <th>wsf1_attributes</th>\n",
       "      <th>wsf2</th>\n",
       "      <th>wsf2_attributes</th>\n",
       "      <th>wsf5</th>\n",
       "      <th>wsf5_attributes</th>\n",
       "      <th>wsfg</th>\n",
       "      <th>wsfg_attributes</th>\n",
       "      <th>wsfm</th>\n",
       "      <th>wsfm_attributes</th>\n",
       "      <th>wt01</th>\n",
       "      <th>wt01_attributes</th>\n",
       "      <th>wt02</th>\n",
       "      <th>wt02_attributes</th>\n",
       "      <th>wt03</th>\n",
       "      <th>wt03_attributes</th>\n",
       "      <th>wt04</th>\n",
       "      <th>wt04_attributes</th>\n",
       "      <th>wt05</th>\n",
       "      <th>wt05_attributes</th>\n",
       "      <th>wt06</th>\n",
       "      <th>wt06_attributes</th>\n",
       "      <th>wt07</th>\n",
       "      <th>wt07_attributes</th>\n",
       "      <th>wt08</th>\n",
       "      <th>wt08_attributes</th>\n",
       "      <th>wt09</th>\n",
       "      <th>wt09_attributes</th>\n",
       "      <th>wt11</th>\n",
       "      <th>wt11_attributes</th>\n",
       "      <th>wt13</th>\n",
       "      <th>wt13_attributes</th>\n",
       "      <th>wt14</th>\n",
       "      <th>wt14_attributes</th>\n",
       "      <th>wt15</th>\n",
       "      <th>wt15_attributes</th>\n",
       "      <th>wt16</th>\n",
       "      <th>wt16_attributes</th>\n",
       "      <th>wt17</th>\n",
       "      <th>wt17_attributes</th>\n",
       "      <th>wt18</th>\n",
       "      <th>wt18_attributes</th>\n",
       "      <th>wt19</th>\n",
       "      <th>wt19_attributes</th>\n",
       "      <th>wt21</th>\n",
       "      <th>wt21_attributes</th>\n",
       "      <th>wt22</th>\n",
       "      <th>wt22_attributes</th>\n",
       "      <th>prcp_mm</th>\n",
       "      <th>snow_mm</th>\n",
       "      <th>awnd_ms</th>\n",
       "    </tr>\n",
       "  </thead>\n",
       "  <tbody>\n",
       "    <tr>\n",
       "      <th>0</th>\n",
       "      <td>USW00094728</td>\n",
       "      <td>1869-01-01</td>\n",
       "      <td>40.77898</td>\n",
       "      <td>-73.96925</td>\n",
       "      <td>42.7</td>\n",
       "      <td>NY CITY CENTRAL PARK, NY US</td>\n",
       "      <td>191</td>\n",
       "      <td>,,Z,</td>\n",
       "      <td>229.0</td>\n",
       "      <td>,,Z,</td>\n",
       "      <td>NaN</td>\n",
       "      <td>NaN</td>\n",
       "      <td>-1.7</td>\n",
       "      <td>,,Z</td>\n",
       "      <td>-7.2</td>\n",
       "      <td>,,Z</td>\n",
       "      <td>NaN</td>\n",
       "      <td>NaN</td>\n",
       "      <td>NaN</td>\n",
       "      <td>NaN</td>\n",
       "      <td>NaN</td>\n",
       "      <td>NaN</td>\n",
       "      <td>NaN</td>\n",
       "      <td>NaN</td>\n",
       "      <td>NaN</td>\n",
       "      <td>NaN</td>\n",
       "      <td>NaN</td>\n",
       "      <td>NaN</td>\n",
       "      <td>NaN</td>\n",
       "      <td>NaN</td>\n",
       "      <td>NaN</td>\n",
       "      <td>NaN</td>\n",
       "      <td>NaN</td>\n",
       "      <td>NaN</td>\n",
       "      <td>NaN</td>\n",
       "      <td>NaN</td>\n",
       "      <td>NaN</td>\n",
       "      <td>NaN</td>\n",
       "      <td>NaN</td>\n",
       "      <td>NaN</td>\n",
       "      <td>NaN</td>\n",
       "      <td>NaN</td>\n",
       "      <td>NaN</td>\n",
       "      <td>NaN</td>\n",
       "      <td>NaN</td>\n",
       "      <td>NaN</td>\n",
       "      <td>NaN</td>\n",
       "      <td>NaN</td>\n",
       "      <td>NaN</td>\n",
       "      <td>NaN</td>\n",
       "      <td>NaN</td>\n",
       "      <td>NaN</td>\n",
       "      <td>NaN</td>\n",
       "      <td>NaN</td>\n",
       "      <td>NaN</td>\n",
       "      <td>NaN</td>\n",
       "      <td>-4.45</td>\n",
       "      <td>NaN</td>\n",
       "      <td>NaN</td>\n",
       "      <td>NaN</td>\n",
       "      <td>NaN</td>\n",
       "      <td>NaN</td>\n",
       "      <td>NaN</td>\n",
       "      <td>NaN</td>\n",
       "      <td>NaN</td>\n",
       "      <td>NaN</td>\n",
       "      <td>NaN</td>\n",
       "      <td>NaN</td>\n",
       "      <td>NaN</td>\n",
       "      <td>NaN</td>\n",
       "      <td>NaN</td>\n",
       "      <td>NaN</td>\n",
       "      <td>NaN</td>\n",
       "      <td>NaN</td>\n",
       "      <td>NaN</td>\n",
       "      <td>NaN</td>\n",
       "      <td>NaN</td>\n",
       "      <td>NaN</td>\n",
       "      <td>NaN</td>\n",
       "      <td>NaN</td>\n",
       "      <td>NaN</td>\n",
       "      <td>NaN</td>\n",
       "      <td>NaN</td>\n",
       "      <td>NaN</td>\n",
       "      <td>NaN</td>\n",
       "      <td>NaN</td>\n",
       "      <td>NaN</td>\n",
       "      <td>NaN</td>\n",
       "      <td>NaN</td>\n",
       "      <td>NaN</td>\n",
       "      <td>NaN</td>\n",
       "      <td>NaN</td>\n",
       "      <td>NaN</td>\n",
       "      <td>NaN</td>\n",
       "      <td>NaN</td>\n",
       "      <td>NaN</td>\n",
       "      <td>NaN</td>\n",
       "      <td>NaN</td>\n",
       "      <td>NaN</td>\n",
       "      <td>NaN</td>\n",
       "      <td>NaN</td>\n",
       "      <td>NaN</td>\n",
       "      <td>NaN</td>\n",
       "      <td>NaN</td>\n",
       "      <td>NaN</td>\n",
       "      <td>NaN</td>\n",
       "      <td>NaN</td>\n",
       "      <td>NaN</td>\n",
       "      <td>NaN</td>\n",
       "      <td>NaN</td>\n",
       "      <td>NaN</td>\n",
       "      <td>NaN</td>\n",
       "      <td>NaN</td>\n",
       "      <td>NaN</td>\n",
       "      <td>NaN</td>\n",
       "      <td>NaN</td>\n",
       "      <td>NaN</td>\n",
       "      <td>NaN</td>\n",
       "      <td>NaN</td>\n",
       "      <td>NaN</td>\n",
       "      <td>NaN</td>\n",
       "      <td>NaN</td>\n",
       "      <td>NaN</td>\n",
       "      <td>NaN</td>\n",
       "      <td>19.1</td>\n",
       "      <td>22.9</td>\n",
       "      <td>NaN</td>\n",
       "    </tr>\n",
       "    <tr>\n",
       "      <th>1</th>\n",
       "      <td>USW00094728</td>\n",
       "      <td>1869-01-02</td>\n",
       "      <td>40.77898</td>\n",
       "      <td>-73.96925</td>\n",
       "      <td>42.7</td>\n",
       "      <td>NY CITY CENTRAL PARK, NY US</td>\n",
       "      <td>8</td>\n",
       "      <td>,,Z,null</td>\n",
       "      <td>0.0</td>\n",
       "      <td>,,Z,</td>\n",
       "      <td>NaN</td>\n",
       "      <td>NaN</td>\n",
       "      <td>-2.8</td>\n",
       "      <td>,,Z</td>\n",
       "      <td>-6.1</td>\n",
       "      <td>,,Z</td>\n",
       "      <td>NaN</td>\n",
       "      <td>NaN</td>\n",
       "      <td>NaN</td>\n",
       "      <td>NaN</td>\n",
       "      <td>NaN</td>\n",
       "      <td>NaN</td>\n",
       "      <td>NaN</td>\n",
       "      <td>NaN</td>\n",
       "      <td>NaN</td>\n",
       "      <td>NaN</td>\n",
       "      <td>NaN</td>\n",
       "      <td>NaN</td>\n",
       "      <td>NaN</td>\n",
       "      <td>NaN</td>\n",
       "      <td>NaN</td>\n",
       "      <td>NaN</td>\n",
       "      <td>NaN</td>\n",
       "      <td>NaN</td>\n",
       "      <td>NaN</td>\n",
       "      <td>NaN</td>\n",
       "      <td>NaN</td>\n",
       "      <td>NaN</td>\n",
       "      <td>NaN</td>\n",
       "      <td>NaN</td>\n",
       "      <td>NaN</td>\n",
       "      <td>NaN</td>\n",
       "      <td>NaN</td>\n",
       "      <td>NaN</td>\n",
       "      <td>NaN</td>\n",
       "      <td>NaN</td>\n",
       "      <td>NaN</td>\n",
       "      <td>NaN</td>\n",
       "      <td>NaN</td>\n",
       "      <td>NaN</td>\n",
       "      <td>NaN</td>\n",
       "      <td>NaN</td>\n",
       "      <td>NaN</td>\n",
       "      <td>NaN</td>\n",
       "      <td>NaN</td>\n",
       "      <td>NaN</td>\n",
       "      <td>-4.45</td>\n",
       "      <td>NaN</td>\n",
       "      <td>NaN</td>\n",
       "      <td>NaN</td>\n",
       "      <td>NaN</td>\n",
       "      <td>NaN</td>\n",
       "      <td>NaN</td>\n",
       "      <td>NaN</td>\n",
       "      <td>NaN</td>\n",
       "      <td>NaN</td>\n",
       "      <td>NaN</td>\n",
       "      <td>NaN</td>\n",
       "      <td>NaN</td>\n",
       "      <td>NaN</td>\n",
       "      <td>NaN</td>\n",
       "      <td>NaN</td>\n",
       "      <td>NaN</td>\n",
       "      <td>NaN</td>\n",
       "      <td>NaN</td>\n",
       "      <td>NaN</td>\n",
       "      <td>NaN</td>\n",
       "      <td>NaN</td>\n",
       "      <td>NaN</td>\n",
       "      <td>NaN</td>\n",
       "      <td>NaN</td>\n",
       "      <td>NaN</td>\n",
       "      <td>NaN</td>\n",
       "      <td>NaN</td>\n",
       "      <td>NaN</td>\n",
       "      <td>NaN</td>\n",
       "      <td>NaN</td>\n",
       "      <td>NaN</td>\n",
       "      <td>NaN</td>\n",
       "      <td>NaN</td>\n",
       "      <td>NaN</td>\n",
       "      <td>NaN</td>\n",
       "      <td>NaN</td>\n",
       "      <td>NaN</td>\n",
       "      <td>NaN</td>\n",
       "      <td>NaN</td>\n",
       "      <td>NaN</td>\n",
       "      <td>NaN</td>\n",
       "      <td>NaN</td>\n",
       "      <td>NaN</td>\n",
       "      <td>NaN</td>\n",
       "      <td>NaN</td>\n",
       "      <td>NaN</td>\n",
       "      <td>NaN</td>\n",
       "      <td>NaN</td>\n",
       "      <td>NaN</td>\n",
       "      <td>NaN</td>\n",
       "      <td>NaN</td>\n",
       "      <td>NaN</td>\n",
       "      <td>NaN</td>\n",
       "      <td>NaN</td>\n",
       "      <td>NaN</td>\n",
       "      <td>NaN</td>\n",
       "      <td>NaN</td>\n",
       "      <td>NaN</td>\n",
       "      <td>NaN</td>\n",
       "      <td>NaN</td>\n",
       "      <td>NaN</td>\n",
       "      <td>NaN</td>\n",
       "      <td>NaN</td>\n",
       "      <td>NaN</td>\n",
       "      <td>NaN</td>\n",
       "      <td>NaN</td>\n",
       "      <td>NaN</td>\n",
       "      <td>0.8</td>\n",
       "      <td>0.0</td>\n",
       "      <td>NaN</td>\n",
       "    </tr>\n",
       "    <tr>\n",
       "      <th>2</th>\n",
       "      <td>USW00094728</td>\n",
       "      <td>1869-01-03</td>\n",
       "      <td>40.77898</td>\n",
       "      <td>-73.96925</td>\n",
       "      <td>42.7</td>\n",
       "      <td>NY CITY CENTRAL PARK, NY US</td>\n",
       "      <td>0</td>\n",
       "      <td>T,,Z,null</td>\n",
       "      <td>0.0</td>\n",
       "      <td>,,Z,</td>\n",
       "      <td>NaN</td>\n",
       "      <td>NaN</td>\n",
       "      <td>1.7</td>\n",
       "      <td>,,Z</td>\n",
       "      <td>-2.8</td>\n",
       "      <td>,,Z</td>\n",
       "      <td>NaN</td>\n",
       "      <td>NaN</td>\n",
       "      <td>NaN</td>\n",
       "      <td>NaN</td>\n",
       "      <td>NaN</td>\n",
       "      <td>NaN</td>\n",
       "      <td>NaN</td>\n",
       "      <td>NaN</td>\n",
       "      <td>NaN</td>\n",
       "      <td>NaN</td>\n",
       "      <td>NaN</td>\n",
       "      <td>NaN</td>\n",
       "      <td>NaN</td>\n",
       "      <td>NaN</td>\n",
       "      <td>NaN</td>\n",
       "      <td>NaN</td>\n",
       "      <td>NaN</td>\n",
       "      <td>NaN</td>\n",
       "      <td>NaN</td>\n",
       "      <td>NaN</td>\n",
       "      <td>NaN</td>\n",
       "      <td>NaN</td>\n",
       "      <td>NaN</td>\n",
       "      <td>NaN</td>\n",
       "      <td>NaN</td>\n",
       "      <td>NaN</td>\n",
       "      <td>NaN</td>\n",
       "      <td>NaN</td>\n",
       "      <td>NaN</td>\n",
       "      <td>NaN</td>\n",
       "      <td>NaN</td>\n",
       "      <td>NaN</td>\n",
       "      <td>NaN</td>\n",
       "      <td>NaN</td>\n",
       "      <td>NaN</td>\n",
       "      <td>NaN</td>\n",
       "      <td>NaN</td>\n",
       "      <td>NaN</td>\n",
       "      <td>NaN</td>\n",
       "      <td>NaN</td>\n",
       "      <td>-0.55</td>\n",
       "      <td>NaN</td>\n",
       "      <td>NaN</td>\n",
       "      <td>NaN</td>\n",
       "      <td>NaN</td>\n",
       "      <td>NaN</td>\n",
       "      <td>NaN</td>\n",
       "      <td>NaN</td>\n",
       "      <td>NaN</td>\n",
       "      <td>NaN</td>\n",
       "      <td>NaN</td>\n",
       "      <td>NaN</td>\n",
       "      <td>NaN</td>\n",
       "      <td>NaN</td>\n",
       "      <td>NaN</td>\n",
       "      <td>NaN</td>\n",
       "      <td>NaN</td>\n",
       "      <td>NaN</td>\n",
       "      <td>NaN</td>\n",
       "      <td>NaN</td>\n",
       "      <td>NaN</td>\n",
       "      <td>NaN</td>\n",
       "      <td>NaN</td>\n",
       "      <td>NaN</td>\n",
       "      <td>NaN</td>\n",
       "      <td>NaN</td>\n",
       "      <td>NaN</td>\n",
       "      <td>NaN</td>\n",
       "      <td>NaN</td>\n",
       "      <td>NaN</td>\n",
       "      <td>NaN</td>\n",
       "      <td>NaN</td>\n",
       "      <td>NaN</td>\n",
       "      <td>NaN</td>\n",
       "      <td>NaN</td>\n",
       "      <td>NaN</td>\n",
       "      <td>NaN</td>\n",
       "      <td>NaN</td>\n",
       "      <td>NaN</td>\n",
       "      <td>NaN</td>\n",
       "      <td>NaN</td>\n",
       "      <td>NaN</td>\n",
       "      <td>NaN</td>\n",
       "      <td>NaN</td>\n",
       "      <td>NaN</td>\n",
       "      <td>NaN</td>\n",
       "      <td>NaN</td>\n",
       "      <td>NaN</td>\n",
       "      <td>NaN</td>\n",
       "      <td>NaN</td>\n",
       "      <td>NaN</td>\n",
       "      <td>NaN</td>\n",
       "      <td>NaN</td>\n",
       "      <td>NaN</td>\n",
       "      <td>NaN</td>\n",
       "      <td>NaN</td>\n",
       "      <td>NaN</td>\n",
       "      <td>NaN</td>\n",
       "      <td>NaN</td>\n",
       "      <td>NaN</td>\n",
       "      <td>NaN</td>\n",
       "      <td>NaN</td>\n",
       "      <td>NaN</td>\n",
       "      <td>NaN</td>\n",
       "      <td>NaN</td>\n",
       "      <td>NaN</td>\n",
       "      <td>NaN</td>\n",
       "      <td>NaN</td>\n",
       "      <td>0.0</td>\n",
       "      <td>0.0</td>\n",
       "      <td>NaN</td>\n",
       "    </tr>\n",
       "  </tbody>\n",
       "</table>\n",
       "</div>"
      ],
      "text/plain": [
       "       station       date  latitude  longitude  elevation                         name  prcp prcp_attributes   snow  \\\n",
       "0  USW00094728 1869-01-01  40.77898  -73.96925       42.7  NY CITY CENTRAL PARK, NY US   191            ,,Z,  229.0   \n",
       "1  USW00094728 1869-01-02  40.77898  -73.96925       42.7  NY CITY CENTRAL PARK, NY US     8        ,,Z,null    0.0   \n",
       "2  USW00094728 1869-01-03  40.77898  -73.96925       42.7  NY CITY CENTRAL PARK, NY US     0       T,,Z,null    0.0   \n",
       "\n",
       "  snow_attributes  snwd snwd_attributes  tmax tmax_attributes  tmin tmin_attributes  acmh acmh_attributes  acsh  \\\n",
       "0            ,,Z,   NaN             NaN  -1.7             ,,Z  -7.2             ,,Z   NaN             NaN   NaN   \n",
       "1            ,,Z,   NaN             NaN  -2.8             ,,Z  -6.1             ,,Z   NaN             NaN   NaN   \n",
       "2            ,,Z,   NaN             NaN   1.7             ,,Z  -2.8             ,,Z   NaN             NaN   NaN   \n",
       "\n",
       "  acsh_attributes  adpt adpt_attributes  aslp aslp_attributes  astp astp_attributes  awbt awbt_attributes  awnd  \\\n",
       "0             NaN   NaN             NaN   NaN             NaN   NaN             NaN   NaN             NaN   NaN   \n",
       "1             NaN   NaN             NaN   NaN             NaN   NaN             NaN   NaN             NaN   NaN   \n",
       "2             NaN   NaN             NaN   NaN             NaN   NaN             NaN   NaN             NaN   NaN   \n",
       "\n",
       "  awnd_attributes  daev daev_attributes  dasf dasf_attributes  dawm dawm_attributes  evap evap_attributes  fmtm  \\\n",
       "0             NaN   NaN             NaN   NaN             NaN   NaN             NaN   NaN             NaN   NaN   \n",
       "1             NaN   NaN             NaN   NaN             NaN   NaN             NaN   NaN             NaN   NaN   \n",
       "2             NaN   NaN             NaN   NaN             NaN   NaN             NaN   NaN             NaN   NaN   \n",
       "\n",
       "  fmtm_attributes  mdev mdev_attributes  mdsf mdsf_attributes  mdwm mdwm_attributes  pgtm pgtm_attributes  psun  \\\n",
       "0             NaN   NaN             NaN   NaN             NaN   NaN             NaN   NaN             NaN   NaN   \n",
       "1             NaN   NaN             NaN   NaN             NaN   NaN             NaN   NaN             NaN   NaN   \n",
       "2             NaN   NaN             NaN   NaN             NaN   NaN             NaN   NaN             NaN   NaN   \n",
       "\n",
       "  psun_attributes  rhav rhav_attributes  rhmn rhmn_attributes  rhmx rhmx_attributes  tavg tavg_attributes  tobs  \\\n",
       "0             NaN   NaN             NaN   NaN             NaN   NaN             NaN -4.45             NaN   NaN   \n",
       "1             NaN   NaN             NaN   NaN             NaN   NaN             NaN -4.45             NaN   NaN   \n",
       "2             NaN   NaN             NaN   NaN             NaN   NaN             NaN -0.55             NaN   NaN   \n",
       "\n",
       "  tobs_attributes  tsun tsun_attributes  wdf1 wdf1_attributes  wdf2 wdf2_attributes  wdf5 wdf5_attributes  wdfg  \\\n",
       "0             NaN   NaN             NaN   NaN             NaN   NaN             NaN   NaN             NaN   NaN   \n",
       "1             NaN   NaN             NaN   NaN             NaN   NaN             NaN   NaN             NaN   NaN   \n",
       "2             NaN   NaN             NaN   NaN             NaN   NaN             NaN   NaN             NaN   NaN   \n",
       "\n",
       "  wdfg_attributes  wdfm wdfm_attributes  wdmv wdmv_attributes  wesd wesd_attributes  wsf1 wsf1_attributes  wsf2  \\\n",
       "0             NaN   NaN             NaN   NaN             NaN   NaN             NaN   NaN             NaN   NaN   \n",
       "1             NaN   NaN             NaN   NaN             NaN   NaN             NaN   NaN             NaN   NaN   \n",
       "2             NaN   NaN             NaN   NaN             NaN   NaN             NaN   NaN             NaN   NaN   \n",
       "\n",
       "  wsf2_attributes  wsf5 wsf5_attributes  wsfg wsfg_attributes  wsfm wsfm_attributes  wt01 wt01_attributes  wt02  \\\n",
       "0             NaN   NaN             NaN   NaN             NaN   NaN             NaN   NaN             NaN   NaN   \n",
       "1             NaN   NaN             NaN   NaN             NaN   NaN             NaN   NaN             NaN   NaN   \n",
       "2             NaN   NaN             NaN   NaN             NaN   NaN             NaN   NaN             NaN   NaN   \n",
       "\n",
       "  wt02_attributes  wt03 wt03_attributes  wt04 wt04_attributes  wt05 wt05_attributes  wt06 wt06_attributes  wt07  \\\n",
       "0             NaN   NaN             NaN   NaN             NaN   NaN             NaN   NaN             NaN   NaN   \n",
       "1             NaN   NaN             NaN   NaN             NaN   NaN             NaN   NaN             NaN   NaN   \n",
       "2             NaN   NaN             NaN   NaN             NaN   NaN             NaN   NaN             NaN   NaN   \n",
       "\n",
       "  wt07_attributes  wt08 wt08_attributes  wt09 wt09_attributes  wt11 wt11_attributes  wt13 wt13_attributes  wt14  \\\n",
       "0             NaN   NaN             NaN   NaN             NaN   NaN             NaN   NaN             NaN   NaN   \n",
       "1             NaN   NaN             NaN   NaN             NaN   NaN             NaN   NaN             NaN   NaN   \n",
       "2             NaN   NaN             NaN   NaN             NaN   NaN             NaN   NaN             NaN   NaN   \n",
       "\n",
       "  wt14_attributes  wt15 wt15_attributes  wt16 wt16_attributes  wt17 wt17_attributes  wt18 wt18_attributes  wt19  \\\n",
       "0             NaN   NaN             NaN   NaN             NaN   NaN             NaN   NaN             NaN   NaN   \n",
       "1             NaN   NaN             NaN   NaN             NaN   NaN             NaN   NaN             NaN   NaN   \n",
       "2             NaN   NaN             NaN   NaN             NaN   NaN             NaN   NaN             NaN   NaN   \n",
       "\n",
       "  wt19_attributes  wt21 wt21_attributes  wt22 wt22_attributes  prcp_mm  snow_mm  awnd_ms  \n",
       "0             NaN   NaN             NaN   NaN             NaN     19.1     22.9      NaN  \n",
       "1             NaN   NaN             NaN   NaN             NaN      0.8      0.0      NaN  \n",
       "2             NaN   NaN             NaN   NaN             NaN      0.0      0.0      NaN  "
      ]
     },
     "metadata": {},
     "output_type": "display_data"
    },
    {
     "name": "stdout",
     "output_type": "stream",
     "text": [
      "[PREVIEW] weather.tail(3)\n"
     ]
    },
    {
     "data": {
      "text/html": [
       "<div>\n",
       "<style scoped>\n",
       "    .dataframe tbody tr th:only-of-type {\n",
       "        vertical-align: middle;\n",
       "    }\n",
       "\n",
       "    .dataframe tbody tr th {\n",
       "        vertical-align: top;\n",
       "    }\n",
       "\n",
       "    .dataframe thead th {\n",
       "        text-align: right;\n",
       "    }\n",
       "</style>\n",
       "<table border=\"1\" class=\"dataframe\">\n",
       "  <thead>\n",
       "    <tr style=\"text-align: right;\">\n",
       "      <th></th>\n",
       "      <th>station</th>\n",
       "      <th>date</th>\n",
       "      <th>latitude</th>\n",
       "      <th>longitude</th>\n",
       "      <th>elevation</th>\n",
       "      <th>name</th>\n",
       "      <th>prcp</th>\n",
       "      <th>prcp_attributes</th>\n",
       "      <th>snow</th>\n",
       "      <th>snow_attributes</th>\n",
       "      <th>snwd</th>\n",
       "      <th>snwd_attributes</th>\n",
       "      <th>tmax</th>\n",
       "      <th>tmax_attributes</th>\n",
       "      <th>tmin</th>\n",
       "      <th>tmin_attributes</th>\n",
       "      <th>acmh</th>\n",
       "      <th>acmh_attributes</th>\n",
       "      <th>acsh</th>\n",
       "      <th>acsh_attributes</th>\n",
       "      <th>adpt</th>\n",
       "      <th>adpt_attributes</th>\n",
       "      <th>aslp</th>\n",
       "      <th>aslp_attributes</th>\n",
       "      <th>astp</th>\n",
       "      <th>astp_attributes</th>\n",
       "      <th>awbt</th>\n",
       "      <th>awbt_attributes</th>\n",
       "      <th>awnd</th>\n",
       "      <th>awnd_attributes</th>\n",
       "      <th>daev</th>\n",
       "      <th>daev_attributes</th>\n",
       "      <th>dasf</th>\n",
       "      <th>dasf_attributes</th>\n",
       "      <th>dawm</th>\n",
       "      <th>dawm_attributes</th>\n",
       "      <th>evap</th>\n",
       "      <th>evap_attributes</th>\n",
       "      <th>fmtm</th>\n",
       "      <th>fmtm_attributes</th>\n",
       "      <th>mdev</th>\n",
       "      <th>mdev_attributes</th>\n",
       "      <th>mdsf</th>\n",
       "      <th>mdsf_attributes</th>\n",
       "      <th>mdwm</th>\n",
       "      <th>mdwm_attributes</th>\n",
       "      <th>pgtm</th>\n",
       "      <th>pgtm_attributes</th>\n",
       "      <th>psun</th>\n",
       "      <th>psun_attributes</th>\n",
       "      <th>rhav</th>\n",
       "      <th>rhav_attributes</th>\n",
       "      <th>rhmn</th>\n",
       "      <th>rhmn_attributes</th>\n",
       "      <th>rhmx</th>\n",
       "      <th>rhmx_attributes</th>\n",
       "      <th>tavg</th>\n",
       "      <th>tavg_attributes</th>\n",
       "      <th>tobs</th>\n",
       "      <th>tobs_attributes</th>\n",
       "      <th>tsun</th>\n",
       "      <th>tsun_attributes</th>\n",
       "      <th>wdf1</th>\n",
       "      <th>wdf1_attributes</th>\n",
       "      <th>wdf2</th>\n",
       "      <th>wdf2_attributes</th>\n",
       "      <th>wdf5</th>\n",
       "      <th>wdf5_attributes</th>\n",
       "      <th>wdfg</th>\n",
       "      <th>wdfg_attributes</th>\n",
       "      <th>wdfm</th>\n",
       "      <th>wdfm_attributes</th>\n",
       "      <th>wdmv</th>\n",
       "      <th>wdmv_attributes</th>\n",
       "      <th>wesd</th>\n",
       "      <th>wesd_attributes</th>\n",
       "      <th>wsf1</th>\n",
       "      <th>wsf1_attributes</th>\n",
       "      <th>wsf2</th>\n",
       "      <th>wsf2_attributes</th>\n",
       "      <th>wsf5</th>\n",
       "      <th>wsf5_attributes</th>\n",
       "      <th>wsfg</th>\n",
       "      <th>wsfg_attributes</th>\n",
       "      <th>wsfm</th>\n",
       "      <th>wsfm_attributes</th>\n",
       "      <th>wt01</th>\n",
       "      <th>wt01_attributes</th>\n",
       "      <th>wt02</th>\n",
       "      <th>wt02_attributes</th>\n",
       "      <th>wt03</th>\n",
       "      <th>wt03_attributes</th>\n",
       "      <th>wt04</th>\n",
       "      <th>wt04_attributes</th>\n",
       "      <th>wt05</th>\n",
       "      <th>wt05_attributes</th>\n",
       "      <th>wt06</th>\n",
       "      <th>wt06_attributes</th>\n",
       "      <th>wt07</th>\n",
       "      <th>wt07_attributes</th>\n",
       "      <th>wt08</th>\n",
       "      <th>wt08_attributes</th>\n",
       "      <th>wt09</th>\n",
       "      <th>wt09_attributes</th>\n",
       "      <th>wt11</th>\n",
       "      <th>wt11_attributes</th>\n",
       "      <th>wt13</th>\n",
       "      <th>wt13_attributes</th>\n",
       "      <th>wt14</th>\n",
       "      <th>wt14_attributes</th>\n",
       "      <th>wt15</th>\n",
       "      <th>wt15_attributes</th>\n",
       "      <th>wt16</th>\n",
       "      <th>wt16_attributes</th>\n",
       "      <th>wt17</th>\n",
       "      <th>wt17_attributes</th>\n",
       "      <th>wt18</th>\n",
       "      <th>wt18_attributes</th>\n",
       "      <th>wt19</th>\n",
       "      <th>wt19_attributes</th>\n",
       "      <th>wt21</th>\n",
       "      <th>wt21_attributes</th>\n",
       "      <th>wt22</th>\n",
       "      <th>wt22_attributes</th>\n",
       "      <th>prcp_mm</th>\n",
       "      <th>snow_mm</th>\n",
       "      <th>awnd_ms</th>\n",
       "    </tr>\n",
       "  </thead>\n",
       "  <tbody>\n",
       "    <tr>\n",
       "      <th>57266</th>\n",
       "      <td>USW00094728</td>\n",
       "      <td>2025-10-16</td>\n",
       "      <td>40.77898</td>\n",
       "      <td>-73.96925</td>\n",
       "      <td>42.7</td>\n",
       "      <td>NY CITY CENTRAL PARK, NY US</td>\n",
       "      <td>0</td>\n",
       "      <td>,,D,2400</td>\n",
       "      <td>0.0</td>\n",
       "      <td>,,D,2400</td>\n",
       "      <td>0.0</td>\n",
       "      <td>,,D,2400</td>\n",
       "      <td>16.1</td>\n",
       "      <td>,,D</td>\n",
       "      <td>7.8</td>\n",
       "      <td>,,D</td>\n",
       "      <td>NaN</td>\n",
       "      <td>NaN</td>\n",
       "      <td>NaN</td>\n",
       "      <td>NaN</td>\n",
       "      <td>NaN</td>\n",
       "      <td>NaN</td>\n",
       "      <td>NaN</td>\n",
       "      <td>NaN</td>\n",
       "      <td>NaN</td>\n",
       "      <td>NaN</td>\n",
       "      <td>NaN</td>\n",
       "      <td>NaN</td>\n",
       "      <td>NaN</td>\n",
       "      <td>NaN</td>\n",
       "      <td>NaN</td>\n",
       "      <td>NaN</td>\n",
       "      <td>NaN</td>\n",
       "      <td>NaN</td>\n",
       "      <td>NaN</td>\n",
       "      <td>NaN</td>\n",
       "      <td>NaN</td>\n",
       "      <td>NaN</td>\n",
       "      <td>NaN</td>\n",
       "      <td>NaN</td>\n",
       "      <td>NaN</td>\n",
       "      <td>NaN</td>\n",
       "      <td>NaN</td>\n",
       "      <td>NaN</td>\n",
       "      <td>NaN</td>\n",
       "      <td>NaN</td>\n",
       "      <td>NaN</td>\n",
       "      <td>NaN</td>\n",
       "      <td>NaN</td>\n",
       "      <td>NaN</td>\n",
       "      <td>NaN</td>\n",
       "      <td>NaN</td>\n",
       "      <td>NaN</td>\n",
       "      <td>NaN</td>\n",
       "      <td>NaN</td>\n",
       "      <td>NaN</td>\n",
       "      <td>11.95</td>\n",
       "      <td>NaN</td>\n",
       "      <td>NaN</td>\n",
       "      <td>NaN</td>\n",
       "      <td>NaN</td>\n",
       "      <td>NaN</td>\n",
       "      <td>NaN</td>\n",
       "      <td>NaN</td>\n",
       "      <td>NaN</td>\n",
       "      <td>NaN</td>\n",
       "      <td>NaN</td>\n",
       "      <td>NaN</td>\n",
       "      <td>NaN</td>\n",
       "      <td>NaN</td>\n",
       "      <td>NaN</td>\n",
       "      <td>NaN</td>\n",
       "      <td>NaN</td>\n",
       "      <td>NaN</td>\n",
       "      <td>NaN</td>\n",
       "      <td>NaN</td>\n",
       "      <td>NaN</td>\n",
       "      <td>NaN</td>\n",
       "      <td>NaN</td>\n",
       "      <td>NaN</td>\n",
       "      <td>NaN</td>\n",
       "      <td>NaN</td>\n",
       "      <td>NaN</td>\n",
       "      <td>NaN</td>\n",
       "      <td>NaN</td>\n",
       "      <td>NaN</td>\n",
       "      <td>NaN</td>\n",
       "      <td>NaN</td>\n",
       "      <td>NaN</td>\n",
       "      <td>NaN</td>\n",
       "      <td>NaN</td>\n",
       "      <td>NaN</td>\n",
       "      <td>NaN</td>\n",
       "      <td>NaN</td>\n",
       "      <td>NaN</td>\n",
       "      <td>NaN</td>\n",
       "      <td>NaN</td>\n",
       "      <td>NaN</td>\n",
       "      <td>NaN</td>\n",
       "      <td>NaN</td>\n",
       "      <td>NaN</td>\n",
       "      <td>NaN</td>\n",
       "      <td>NaN</td>\n",
       "      <td>NaN</td>\n",
       "      <td>NaN</td>\n",
       "      <td>NaN</td>\n",
       "      <td>NaN</td>\n",
       "      <td>NaN</td>\n",
       "      <td>NaN</td>\n",
       "      <td>NaN</td>\n",
       "      <td>NaN</td>\n",
       "      <td>NaN</td>\n",
       "      <td>NaN</td>\n",
       "      <td>NaN</td>\n",
       "      <td>NaN</td>\n",
       "      <td>NaN</td>\n",
       "      <td>NaN</td>\n",
       "      <td>NaN</td>\n",
       "      <td>NaN</td>\n",
       "      <td>NaN</td>\n",
       "      <td>NaN</td>\n",
       "      <td>NaN</td>\n",
       "      <td>NaN</td>\n",
       "      <td>NaN</td>\n",
       "      <td>0.0</td>\n",
       "      <td>0.0</td>\n",
       "      <td>NaN</td>\n",
       "    </tr>\n",
       "    <tr>\n",
       "      <th>57267</th>\n",
       "      <td>USW00094728</td>\n",
       "      <td>2025-10-17</td>\n",
       "      <td>40.77898</td>\n",
       "      <td>-73.96925</td>\n",
       "      <td>42.7</td>\n",
       "      <td>NY CITY CENTRAL PARK, NY US</td>\n",
       "      <td>0</td>\n",
       "      <td>,,D,2400</td>\n",
       "      <td>0.0</td>\n",
       "      <td>,,D,2400</td>\n",
       "      <td>0.0</td>\n",
       "      <td>,,D,2400</td>\n",
       "      <td>17.2</td>\n",
       "      <td>,,D</td>\n",
       "      <td>8.3</td>\n",
       "      <td>,,D</td>\n",
       "      <td>NaN</td>\n",
       "      <td>NaN</td>\n",
       "      <td>NaN</td>\n",
       "      <td>NaN</td>\n",
       "      <td>NaN</td>\n",
       "      <td>NaN</td>\n",
       "      <td>NaN</td>\n",
       "      <td>NaN</td>\n",
       "      <td>NaN</td>\n",
       "      <td>NaN</td>\n",
       "      <td>NaN</td>\n",
       "      <td>NaN</td>\n",
       "      <td>NaN</td>\n",
       "      <td>NaN</td>\n",
       "      <td>NaN</td>\n",
       "      <td>NaN</td>\n",
       "      <td>NaN</td>\n",
       "      <td>NaN</td>\n",
       "      <td>NaN</td>\n",
       "      <td>NaN</td>\n",
       "      <td>NaN</td>\n",
       "      <td>NaN</td>\n",
       "      <td>NaN</td>\n",
       "      <td>NaN</td>\n",
       "      <td>NaN</td>\n",
       "      <td>NaN</td>\n",
       "      <td>NaN</td>\n",
       "      <td>NaN</td>\n",
       "      <td>NaN</td>\n",
       "      <td>NaN</td>\n",
       "      <td>NaN</td>\n",
       "      <td>NaN</td>\n",
       "      <td>NaN</td>\n",
       "      <td>NaN</td>\n",
       "      <td>NaN</td>\n",
       "      <td>NaN</td>\n",
       "      <td>NaN</td>\n",
       "      <td>NaN</td>\n",
       "      <td>NaN</td>\n",
       "      <td>NaN</td>\n",
       "      <td>12.75</td>\n",
       "      <td>NaN</td>\n",
       "      <td>NaN</td>\n",
       "      <td>NaN</td>\n",
       "      <td>NaN</td>\n",
       "      <td>NaN</td>\n",
       "      <td>NaN</td>\n",
       "      <td>NaN</td>\n",
       "      <td>NaN</td>\n",
       "      <td>NaN</td>\n",
       "      <td>NaN</td>\n",
       "      <td>NaN</td>\n",
       "      <td>NaN</td>\n",
       "      <td>NaN</td>\n",
       "      <td>NaN</td>\n",
       "      <td>NaN</td>\n",
       "      <td>NaN</td>\n",
       "      <td>NaN</td>\n",
       "      <td>NaN</td>\n",
       "      <td>NaN</td>\n",
       "      <td>NaN</td>\n",
       "      <td>NaN</td>\n",
       "      <td>NaN</td>\n",
       "      <td>NaN</td>\n",
       "      <td>NaN</td>\n",
       "      <td>NaN</td>\n",
       "      <td>NaN</td>\n",
       "      <td>NaN</td>\n",
       "      <td>NaN</td>\n",
       "      <td>NaN</td>\n",
       "      <td>NaN</td>\n",
       "      <td>NaN</td>\n",
       "      <td>NaN</td>\n",
       "      <td>NaN</td>\n",
       "      <td>NaN</td>\n",
       "      <td>NaN</td>\n",
       "      <td>NaN</td>\n",
       "      <td>NaN</td>\n",
       "      <td>NaN</td>\n",
       "      <td>NaN</td>\n",
       "      <td>NaN</td>\n",
       "      <td>NaN</td>\n",
       "      <td>NaN</td>\n",
       "      <td>NaN</td>\n",
       "      <td>NaN</td>\n",
       "      <td>NaN</td>\n",
       "      <td>NaN</td>\n",
       "      <td>NaN</td>\n",
       "      <td>NaN</td>\n",
       "      <td>NaN</td>\n",
       "      <td>NaN</td>\n",
       "      <td>NaN</td>\n",
       "      <td>NaN</td>\n",
       "      <td>NaN</td>\n",
       "      <td>NaN</td>\n",
       "      <td>NaN</td>\n",
       "      <td>NaN</td>\n",
       "      <td>NaN</td>\n",
       "      <td>NaN</td>\n",
       "      <td>NaN</td>\n",
       "      <td>NaN</td>\n",
       "      <td>NaN</td>\n",
       "      <td>NaN</td>\n",
       "      <td>NaN</td>\n",
       "      <td>NaN</td>\n",
       "      <td>NaN</td>\n",
       "      <td>NaN</td>\n",
       "      <td>NaN</td>\n",
       "      <td>0.0</td>\n",
       "      <td>0.0</td>\n",
       "      <td>NaN</td>\n",
       "    </tr>\n",
       "    <tr>\n",
       "      <th>57268</th>\n",
       "      <td>USW00094728</td>\n",
       "      <td>2025-10-18</td>\n",
       "      <td>40.77898</td>\n",
       "      <td>-73.96925</td>\n",
       "      <td>42.7</td>\n",
       "      <td>NY CITY CENTRAL PARK, NY US</td>\n",
       "      <td>0</td>\n",
       "      <td>,,D,2400</td>\n",
       "      <td>0.0</td>\n",
       "      <td>,,D,2400</td>\n",
       "      <td>0.0</td>\n",
       "      <td>,,D,2400</td>\n",
       "      <td>18.3</td>\n",
       "      <td>,,D</td>\n",
       "      <td>8.9</td>\n",
       "      <td>,,D</td>\n",
       "      <td>NaN</td>\n",
       "      <td>NaN</td>\n",
       "      <td>NaN</td>\n",
       "      <td>NaN</td>\n",
       "      <td>NaN</td>\n",
       "      <td>NaN</td>\n",
       "      <td>NaN</td>\n",
       "      <td>NaN</td>\n",
       "      <td>NaN</td>\n",
       "      <td>NaN</td>\n",
       "      <td>NaN</td>\n",
       "      <td>NaN</td>\n",
       "      <td>NaN</td>\n",
       "      <td>NaN</td>\n",
       "      <td>NaN</td>\n",
       "      <td>NaN</td>\n",
       "      <td>NaN</td>\n",
       "      <td>NaN</td>\n",
       "      <td>NaN</td>\n",
       "      <td>NaN</td>\n",
       "      <td>NaN</td>\n",
       "      <td>NaN</td>\n",
       "      <td>NaN</td>\n",
       "      <td>NaN</td>\n",
       "      <td>NaN</td>\n",
       "      <td>NaN</td>\n",
       "      <td>NaN</td>\n",
       "      <td>NaN</td>\n",
       "      <td>NaN</td>\n",
       "      <td>NaN</td>\n",
       "      <td>NaN</td>\n",
       "      <td>NaN</td>\n",
       "      <td>NaN</td>\n",
       "      <td>NaN</td>\n",
       "      <td>NaN</td>\n",
       "      <td>NaN</td>\n",
       "      <td>NaN</td>\n",
       "      <td>NaN</td>\n",
       "      <td>NaN</td>\n",
       "      <td>NaN</td>\n",
       "      <td>13.60</td>\n",
       "      <td>NaN</td>\n",
       "      <td>NaN</td>\n",
       "      <td>NaN</td>\n",
       "      <td>NaN</td>\n",
       "      <td>NaN</td>\n",
       "      <td>NaN</td>\n",
       "      <td>NaN</td>\n",
       "      <td>NaN</td>\n",
       "      <td>NaN</td>\n",
       "      <td>NaN</td>\n",
       "      <td>NaN</td>\n",
       "      <td>NaN</td>\n",
       "      <td>NaN</td>\n",
       "      <td>NaN</td>\n",
       "      <td>NaN</td>\n",
       "      <td>NaN</td>\n",
       "      <td>NaN</td>\n",
       "      <td>NaN</td>\n",
       "      <td>NaN</td>\n",
       "      <td>NaN</td>\n",
       "      <td>NaN</td>\n",
       "      <td>NaN</td>\n",
       "      <td>NaN</td>\n",
       "      <td>NaN</td>\n",
       "      <td>NaN</td>\n",
       "      <td>NaN</td>\n",
       "      <td>NaN</td>\n",
       "      <td>NaN</td>\n",
       "      <td>NaN</td>\n",
       "      <td>NaN</td>\n",
       "      <td>NaN</td>\n",
       "      <td>NaN</td>\n",
       "      <td>NaN</td>\n",
       "      <td>NaN</td>\n",
       "      <td>NaN</td>\n",
       "      <td>NaN</td>\n",
       "      <td>NaN</td>\n",
       "      <td>NaN</td>\n",
       "      <td>NaN</td>\n",
       "      <td>NaN</td>\n",
       "      <td>NaN</td>\n",
       "      <td>NaN</td>\n",
       "      <td>NaN</td>\n",
       "      <td>NaN</td>\n",
       "      <td>NaN</td>\n",
       "      <td>NaN</td>\n",
       "      <td>NaN</td>\n",
       "      <td>NaN</td>\n",
       "      <td>NaN</td>\n",
       "      <td>NaN</td>\n",
       "      <td>NaN</td>\n",
       "      <td>NaN</td>\n",
       "      <td>NaN</td>\n",
       "      <td>NaN</td>\n",
       "      <td>NaN</td>\n",
       "      <td>NaN</td>\n",
       "      <td>NaN</td>\n",
       "      <td>NaN</td>\n",
       "      <td>NaN</td>\n",
       "      <td>NaN</td>\n",
       "      <td>NaN</td>\n",
       "      <td>NaN</td>\n",
       "      <td>NaN</td>\n",
       "      <td>NaN</td>\n",
       "      <td>NaN</td>\n",
       "      <td>NaN</td>\n",
       "      <td>NaN</td>\n",
       "      <td>0.0</td>\n",
       "      <td>0.0</td>\n",
       "      <td>NaN</td>\n",
       "    </tr>\n",
       "  </tbody>\n",
       "</table>\n",
       "</div>"
      ],
      "text/plain": [
       "           station       date  latitude  longitude  elevation                         name  prcp prcp_attributes  \\\n",
       "57266  USW00094728 2025-10-16  40.77898  -73.96925       42.7  NY CITY CENTRAL PARK, NY US     0        ,,D,2400   \n",
       "57267  USW00094728 2025-10-17  40.77898  -73.96925       42.7  NY CITY CENTRAL PARK, NY US     0        ,,D,2400   \n",
       "57268  USW00094728 2025-10-18  40.77898  -73.96925       42.7  NY CITY CENTRAL PARK, NY US     0        ,,D,2400   \n",
       "\n",
       "       snow snow_attributes  snwd snwd_attributes  tmax tmax_attributes  tmin tmin_attributes  acmh acmh_attributes  \\\n",
       "57266   0.0        ,,D,2400   0.0        ,,D,2400  16.1             ,,D   7.8             ,,D   NaN             NaN   \n",
       "57267   0.0        ,,D,2400   0.0        ,,D,2400  17.2             ,,D   8.3             ,,D   NaN             NaN   \n",
       "57268   0.0        ,,D,2400   0.0        ,,D,2400  18.3             ,,D   8.9             ,,D   NaN             NaN   \n",
       "\n",
       "       acsh acsh_attributes  adpt adpt_attributes  aslp aslp_attributes  astp astp_attributes  awbt awbt_attributes  \\\n",
       "57266   NaN             NaN   NaN             NaN   NaN             NaN   NaN             NaN   NaN             NaN   \n",
       "57267   NaN             NaN   NaN             NaN   NaN             NaN   NaN             NaN   NaN             NaN   \n",
       "57268   NaN             NaN   NaN             NaN   NaN             NaN   NaN             NaN   NaN             NaN   \n",
       "\n",
       "       awnd awnd_attributes  daev daev_attributes  dasf dasf_attributes  dawm dawm_attributes  evap evap_attributes  \\\n",
       "57266   NaN             NaN   NaN             NaN   NaN             NaN   NaN             NaN   NaN             NaN   \n",
       "57267   NaN             NaN   NaN             NaN   NaN             NaN   NaN             NaN   NaN             NaN   \n",
       "57268   NaN             NaN   NaN             NaN   NaN             NaN   NaN             NaN   NaN             NaN   \n",
       "\n",
       "       fmtm fmtm_attributes  mdev mdev_attributes  mdsf mdsf_attributes  mdwm mdwm_attributes  pgtm pgtm_attributes  \\\n",
       "57266   NaN             NaN   NaN             NaN   NaN             NaN   NaN             NaN   NaN             NaN   \n",
       "57267   NaN             NaN   NaN             NaN   NaN             NaN   NaN             NaN   NaN             NaN   \n",
       "57268   NaN             NaN   NaN             NaN   NaN             NaN   NaN             NaN   NaN             NaN   \n",
       "\n",
       "       psun psun_attributes  rhav rhav_attributes  rhmn rhmn_attributes  rhmx rhmx_attributes   tavg tavg_attributes  \\\n",
       "57266   NaN             NaN   NaN             NaN   NaN             NaN   NaN             NaN  11.95             NaN   \n",
       "57267   NaN             NaN   NaN             NaN   NaN             NaN   NaN             NaN  12.75             NaN   \n",
       "57268   NaN             NaN   NaN             NaN   NaN             NaN   NaN             NaN  13.60             NaN   \n",
       "\n",
       "       tobs tobs_attributes  tsun tsun_attributes  wdf1 wdf1_attributes  wdf2 wdf2_attributes  wdf5 wdf5_attributes  \\\n",
       "57266   NaN             NaN   NaN             NaN   NaN             NaN   NaN             NaN   NaN             NaN   \n",
       "57267   NaN             NaN   NaN             NaN   NaN             NaN   NaN             NaN   NaN             NaN   \n",
       "57268   NaN             NaN   NaN             NaN   NaN             NaN   NaN             NaN   NaN             NaN   \n",
       "\n",
       "       wdfg wdfg_attributes  wdfm wdfm_attributes  wdmv wdmv_attributes  wesd wesd_attributes  wsf1 wsf1_attributes  \\\n",
       "57266   NaN             NaN   NaN             NaN   NaN             NaN   NaN             NaN   NaN             NaN   \n",
       "57267   NaN             NaN   NaN             NaN   NaN             NaN   NaN             NaN   NaN             NaN   \n",
       "57268   NaN             NaN   NaN             NaN   NaN             NaN   NaN             NaN   NaN             NaN   \n",
       "\n",
       "       wsf2 wsf2_attributes  wsf5 wsf5_attributes  wsfg wsfg_attributes  wsfm wsfm_attributes  wt01 wt01_attributes  \\\n",
       "57266   NaN             NaN   NaN             NaN   NaN             NaN   NaN             NaN   NaN             NaN   \n",
       "57267   NaN             NaN   NaN             NaN   NaN             NaN   NaN             NaN   NaN             NaN   \n",
       "57268   NaN             NaN   NaN             NaN   NaN             NaN   NaN             NaN   NaN             NaN   \n",
       "\n",
       "       wt02 wt02_attributes  wt03 wt03_attributes  wt04 wt04_attributes  wt05 wt05_attributes  wt06 wt06_attributes  \\\n",
       "57266   NaN             NaN   NaN             NaN   NaN             NaN   NaN             NaN   NaN             NaN   \n",
       "57267   NaN             NaN   NaN             NaN   NaN             NaN   NaN             NaN   NaN             NaN   \n",
       "57268   NaN             NaN   NaN             NaN   NaN             NaN   NaN             NaN   NaN             NaN   \n",
       "\n",
       "       wt07 wt07_attributes  wt08 wt08_attributes  wt09 wt09_attributes  wt11 wt11_attributes  wt13 wt13_attributes  \\\n",
       "57266   NaN             NaN   NaN             NaN   NaN             NaN   NaN             NaN   NaN             NaN   \n",
       "57267   NaN             NaN   NaN             NaN   NaN             NaN   NaN             NaN   NaN             NaN   \n",
       "57268   NaN             NaN   NaN             NaN   NaN             NaN   NaN             NaN   NaN             NaN   \n",
       "\n",
       "       wt14 wt14_attributes  wt15 wt15_attributes  wt16 wt16_attributes  wt17 wt17_attributes  wt18 wt18_attributes  \\\n",
       "57266   NaN             NaN   NaN             NaN   NaN             NaN   NaN             NaN   NaN             NaN   \n",
       "57267   NaN             NaN   NaN             NaN   NaN             NaN   NaN             NaN   NaN             NaN   \n",
       "57268   NaN             NaN   NaN             NaN   NaN             NaN   NaN             NaN   NaN             NaN   \n",
       "\n",
       "       wt19 wt19_attributes  wt21 wt21_attributes  wt22 wt22_attributes  prcp_mm  snow_mm  awnd_ms  \n",
       "57266   NaN             NaN   NaN             NaN   NaN             NaN      0.0      0.0      NaN  \n",
       "57267   NaN             NaN   NaN             NaN   NaN             NaN      0.0      0.0      NaN  \n",
       "57268   NaN             NaN   NaN             NaN   NaN             NaN      0.0      0.0      NaN  "
      ]
     },
     "metadata": {},
     "output_type": "display_data"
    },
    {
     "name": "stdout",
     "output_type": "stream",
     "text": [
      "\n",
      "======================\n",
      "TRAFFIC DATA (monthly)\n",
      "======================\n",
      "[INFO] traffic_monthly: shape=(1, 2)\n",
      "[INFO] traffic_monthly: date range = 2025-10-01 00:00:00 → 2025-10-01 00:00:00\n",
      "[WARN] describe(include='all') failed for traffic_monthly: NDFrame.describe() got an unexpected keyword argument 'datetime_is_numeric'\n",
      "[WARN] numeric describe failed for traffic_monthly: NDFrame.describe() got an unexpected keyword argument 'datetime_is_numeric'\n",
      "[PREVIEW] traffic_monthly.head(3)\n"
     ]
    },
    {
     "data": {
      "text/html": [
       "<div>\n",
       "<style scoped>\n",
       "    .dataframe tbody tr th:only-of-type {\n",
       "        vertical-align: middle;\n",
       "    }\n",
       "\n",
       "    .dataframe tbody tr th {\n",
       "        vertical-align: top;\n",
       "    }\n",
       "\n",
       "    .dataframe thead th {\n",
       "        text-align: right;\n",
       "    }\n",
       "</style>\n",
       "<table border=\"1\" class=\"dataframe\">\n",
       "  <thead>\n",
       "    <tr style=\"text-align: right;\">\n",
       "      <th></th>\n",
       "      <th>date</th>\n",
       "      <th>mean_speed_mph</th>\n",
       "    </tr>\n",
       "  </thead>\n",
       "  <tbody>\n",
       "    <tr>\n",
       "      <th>0</th>\n",
       "      <td>2025-10-01</td>\n",
       "      <td>28.726503</td>\n",
       "    </tr>\n",
       "  </tbody>\n",
       "</table>\n",
       "</div>"
      ],
      "text/plain": [
       "        date  mean_speed_mph\n",
       "0 2025-10-01       28.726503"
      ]
     },
     "metadata": {},
     "output_type": "display_data"
    },
    {
     "name": "stdout",
     "output_type": "stream",
     "text": [
      "[PREVIEW] traffic_monthly.tail(3)\n"
     ]
    },
    {
     "data": {
      "text/html": [
       "<div>\n",
       "<style scoped>\n",
       "    .dataframe tbody tr th:only-of-type {\n",
       "        vertical-align: middle;\n",
       "    }\n",
       "\n",
       "    .dataframe tbody tr th {\n",
       "        vertical-align: top;\n",
       "    }\n",
       "\n",
       "    .dataframe thead th {\n",
       "        text-align: right;\n",
       "    }\n",
       "</style>\n",
       "<table border=\"1\" class=\"dataframe\">\n",
       "  <thead>\n",
       "    <tr style=\"text-align: right;\">\n",
       "      <th></th>\n",
       "      <th>date</th>\n",
       "      <th>mean_speed_mph</th>\n",
       "    </tr>\n",
       "  </thead>\n",
       "  <tbody>\n",
       "    <tr>\n",
       "      <th>0</th>\n",
       "      <td>2025-10-01</td>\n",
       "      <td>28.726503</td>\n",
       "    </tr>\n",
       "  </tbody>\n",
       "</table>\n",
       "</div>"
      ],
      "text/plain": [
       "        date  mean_speed_mph\n",
       "0 2025-10-01       28.726503"
      ]
     },
     "metadata": {},
     "output_type": "display_data"
    },
    {
     "name": "stdout",
     "output_type": "stream",
     "text": [
      "\n",
      "===============\n",
      "ALERTS SNAPSHOT\n",
      "===============\n",
      "[INFO] alerts_df: shape=(1, 2)\n",
      "[INFO] alerts_df: date range = 2025-10-23 00:00:00-04:00 → 2025-10-23 00:00:00-04:00\n",
      "[WARN] describe(include='all') failed for alerts_df: NDFrame.describe() got an unexpected keyword argument 'datetime_is_numeric'\n",
      "[WARN] numeric describe failed for alerts_df: NDFrame.describe() got an unexpected keyword argument 'datetime_is_numeric'\n",
      "\n",
      "===================\n",
      "SCHEMA & NULL SCANS\n",
      "===================\n",
      "[SCAN] bus dtypes:\n",
      "month                                   object\n",
      "borough                                 object\n",
      "day_type                                 int64\n",
      "trip_type                               object\n",
      "route_id                                object\n",
      "period                                  object\n",
      "number_of_trips_passing_wait             int64\n",
      "number_of_scheduled_trips                int64\n",
      "wait_assessment                        float64\n",
      "date                            datetime64[ns]\n",
      "dtype: object\n",
      "[SCAN] bus memory: 24.488 MB\n",
      "[SCAN] bus null counts (top 10):\n",
      "wait_assessment                 263\n",
      "month                             0\n",
      "borough                           0\n",
      "day_type                          0\n",
      "trip_type                         0\n",
      "route_id                          0\n",
      "period                            0\n",
      "number_of_trips_passing_wait      0\n",
      "number_of_scheduled_trips         0\n",
      "date                              0\n",
      "dtype: int64\n",
      "[SCAN] bus duplicated rows: 0\n",
      "[SCAN] bus.route_id unique: 335\n",
      "[SCAN] bus.borough unique: 5\n",
      "[SCAN] bus.period unique: 2\n",
      "[SCAN] weather dtypes:\n",
      "station                    object\n",
      "date               datetime64[ns]\n",
      "latitude                  float64\n",
      "longitude                 float64\n",
      "elevation                 float64\n",
      "                        ...      \n",
      "wt22                      float64\n",
      "wt22_attributes            object\n",
      "prcp_mm                   float64\n",
      "snow_mm                   float64\n",
      "awnd_ms                   float64\n",
      "Length: 127, dtype: object\n",
      "[SCAN] weather memory: 152.982 MB\n",
      "[SCAN] weather null counts (top 10):\n",
      "wt21_attributes    57268\n",
      "wt21               57268\n",
      "tobs_attributes    57267\n",
      "tobs               57267\n",
      "wt11               57264\n",
      "wt11_attributes    57264\n",
      "wesd_attributes    57257\n",
      "wesd               57257\n",
      "wt15               57249\n",
      "wt15_attributes    57249\n",
      "dtype: int64\n",
      "[SCAN] weather duplicated rows: 0\n",
      "[SCAN] traffic_monthly dtypes:\n",
      "date              datetime64[ns]\n",
      "mean_speed_mph           float64\n",
      "dtype: object\n",
      "[SCAN] traffic_monthly memory: 0.0 MB\n",
      "[SCAN] traffic_monthly null counts (top 10):\n",
      "date              0\n",
      "mean_speed_mph    0\n",
      "dtype: int64\n",
      "[SCAN] traffic_monthly duplicated rows: 0\n",
      "\n",
      "===================\n",
      "DATA QUALITY CHECKS\n",
      "===================\n",
      "\n",
      "[CHECK] Negative or zero scheduled trips in bus data:\n",
      "[INFO] rows with scheduled<=0: 263\n"
     ]
    },
    {
     "data": {
      "text/html": [
       "<div>\n",
       "<style scoped>\n",
       "    .dataframe tbody tr th:only-of-type {\n",
       "        vertical-align: middle;\n",
       "    }\n",
       "\n",
       "    .dataframe tbody tr th {\n",
       "        vertical-align: top;\n",
       "    }\n",
       "\n",
       "    .dataframe thead th {\n",
       "        text-align: right;\n",
       "    }\n",
       "</style>\n",
       "<table border=\"1\" class=\"dataframe\">\n",
       "  <thead>\n",
       "    <tr style=\"text-align: right;\">\n",
       "      <th></th>\n",
       "      <th>date</th>\n",
       "      <th>number_of_scheduled_trips</th>\n",
       "    </tr>\n",
       "  </thead>\n",
       "  <tbody>\n",
       "    <tr>\n",
       "      <th>994</th>\n",
       "      <td>2020-01-01</td>\n",
       "      <td>0</td>\n",
       "    </tr>\n",
       "    <tr>\n",
       "      <th>1020</th>\n",
       "      <td>2020-01-01</td>\n",
       "      <td>0</td>\n",
       "    </tr>\n",
       "    <tr>\n",
       "      <th>1022</th>\n",
       "      <td>2020-01-01</td>\n",
       "      <td>0</td>\n",
       "    </tr>\n",
       "    <tr>\n",
       "      <th>1044</th>\n",
       "      <td>2020-01-01</td>\n",
       "      <td>0</td>\n",
       "    </tr>\n",
       "    <tr>\n",
       "      <th>1046</th>\n",
       "      <td>2020-01-01</td>\n",
       "      <td>0</td>\n",
       "    </tr>\n",
       "    <tr>\n",
       "      <th>1048</th>\n",
       "      <td>2020-01-01</td>\n",
       "      <td>0</td>\n",
       "    </tr>\n",
       "    <tr>\n",
       "      <th>1050</th>\n",
       "      <td>2020-01-01</td>\n",
       "      <td>0</td>\n",
       "    </tr>\n",
       "    <tr>\n",
       "      <th>1164</th>\n",
       "      <td>2020-01-01</td>\n",
       "      <td>0</td>\n",
       "    </tr>\n",
       "    <tr>\n",
       "      <th>2273</th>\n",
       "      <td>2020-02-01</td>\n",
       "      <td>0</td>\n",
       "    </tr>\n",
       "    <tr>\n",
       "      <th>2287</th>\n",
       "      <td>2020-02-01</td>\n",
       "      <td>0</td>\n",
       "    </tr>\n",
       "  </tbody>\n",
       "</table>\n",
       "</div>"
      ],
      "text/plain": [
       "           date  number_of_scheduled_trips\n",
       "994  2020-01-01                          0\n",
       "1020 2020-01-01                          0\n",
       "1022 2020-01-01                          0\n",
       "1044 2020-01-01                          0\n",
       "1046 2020-01-01                          0\n",
       "1048 2020-01-01                          0\n",
       "1050 2020-01-01                          0\n",
       "1164 2020-01-01                          0\n",
       "2273 2020-02-01                          0\n",
       "2287 2020-02-01                          0"
      ]
     },
     "metadata": {},
     "output_type": "display_data"
    },
    {
     "name": "stdout",
     "output_type": "stream",
     "text": [
      "\n",
      "[CHECK] Out-of-range WA values (should be 0–1):\n",
      "[INFO] WA out-of-range rows: 0\n"
     ]
    },
    {
     "data": {
      "text/html": [
       "<div>\n",
       "<style scoped>\n",
       "    .dataframe tbody tr th:only-of-type {\n",
       "        vertical-align: middle;\n",
       "    }\n",
       "\n",
       "    .dataframe tbody tr th {\n",
       "        vertical-align: top;\n",
       "    }\n",
       "\n",
       "    .dataframe thead th {\n",
       "        text-align: right;\n",
       "    }\n",
       "</style>\n",
       "<table border=\"1\" class=\"dataframe\">\n",
       "  <thead>\n",
       "    <tr style=\"text-align: right;\">\n",
       "      <th></th>\n",
       "      <th>date</th>\n",
       "      <th>wait_assessment</th>\n",
       "    </tr>\n",
       "  </thead>\n",
       "  <tbody>\n",
       "  </tbody>\n",
       "</table>\n",
       "</div>"
      ],
      "text/plain": [
       "Empty DataFrame\n",
       "Columns: [date, wait_assessment]\n",
       "Index: []"
      ]
     },
     "metadata": {},
     "output_type": "display_data"
    },
    {
     "name": "stdout",
     "output_type": "stream",
     "text": [
      "[ASSERT] bus.wait_assessment outside [0, 1]: 0\n",
      "\n",
      "[CHECK] Traffic mean speed range (mph 0–70):\n",
      "[ASSERT] traffic_monthly.mean_speed_mph outside [0, 70]: 0\n",
      "\n",
      "[CHECK] Weather plausible ranges:\n",
      "[ASSERT] weather.tavg_C outside [-40, 50]: 0\n",
      "[ASSERT] weather.prcp_mm outside [0, 400]: 0\n",
      "[ASSERT] weather.snow_mm outside [0, 200]: 0\n",
      "[ASSERT] weather.awnd_ms outside [0, 40]: 0\n",
      "\n",
      "[DONE] EDA scan & sanity checks complete.\n"
     ]
    }
   ],
   "source": [
    "\n",
    "import numpy as np\n",
    "import pandas as pd\n",
    "from IPython.display import display\n",
    "\n",
    "def section(title):\n",
    "    print(\"\\n\" + \"=\"*len(title))\n",
    "    print(title)\n",
    "    print(\"=\"*len(title))\n",
    "\n",
    "def safe_display_df(df, name, numeric_only=False):\n",
    "    if df is None:\n",
    "        print(f\"[WARN] {name} is None\")\n",
    "        return\n",
    "    if not isinstance(df, pd.DataFrame):\n",
    "        print(f\"[WARN] {name} is not a DataFrame ({type(df)})\")\n",
    "        return\n",
    "    print(f\"[INFO] {name}: shape={df.shape}\")\n",
    "    if 'date' in df.columns:\n",
    "        try:\n",
    "            dmin, dmax = pd.to_datetime(df['date']).min(), pd.to_datetime(df['date']).max()\n",
    "            print(f\"[INFO] {name}: date range = {dmin} → {dmax}\")\n",
    "        except Exception as e:\n",
    "            print(f\"[WARN] {name}: couldn't compute date range ({e})\")\n",
    "    # describe\n",
    "    try:\n",
    "        desc = df.describe(include='all' if not numeric_only else None, datetime_is_numeric=True)\n",
    "        display(desc)\n",
    "    except Exception as e:\n",
    "        print(f\"[WARN] describe(include='all') failed for {name}: {e}\")\n",
    "        try:\n",
    "            display(df.describe(datetime_is_numeric=True))\n",
    "        except Exception as e2:\n",
    "            print(f\"[WARN] numeric describe failed for {name}: {e2}\")\n",
    "\n",
    "def mem_usage(df):\n",
    "    return (df.memory_usage(deep=True).sum() / (1024**2)).round(3)\n",
    "\n",
    "def scan_df(df, name):\n",
    "    if not isinstance(df, pd.DataFrame):\n",
    "        print(f\"[WARN] {name} not a DataFrame, skipping scan\")\n",
    "        return\n",
    "    print(f\"[SCAN] {name} dtypes:\")\n",
    "    print(df.dtypes)\n",
    "    print(f\"[SCAN] {name} memory: {mem_usage(df)} MB\")\n",
    "    nulls = df.isna().sum().sort_values(ascending=False)\n",
    "    print(f\"[SCAN] {name} null counts (top 10):\")\n",
    "    print(nulls.head(10))\n",
    "    dupes = df.duplicated().sum()\n",
    "    print(f\"[SCAN] {name} duplicated rows: {dupes}\")\n",
    "    # simple unique counts for key columns (if present)\n",
    "    for col in ['route_id','borough','period']:\n",
    "        if col in df.columns:\n",
    "            print(f\"[SCAN] {name}.{col} unique: {df[col].nunique()}\")\n",
    "\n",
    "def assert_range(series, lo, hi, name):\n",
    "    s = pd.to_numeric(series, errors='coerce').dropna()\n",
    "    bad = (~s.between(lo, hi)).sum()\n",
    "    print(f\"[ASSERT] {name} outside [{lo}, {hi}]: {bad}\")\n",
    "    if bad > 0:\n",
    "        print(s.loc[(s < lo) | (s > hi)].head())\n",
    "\n",
    "def show_head_tail(df, name, n=3):\n",
    "    if isinstance(df, pd.DataFrame) and len(df):\n",
    "        print(f\"[PREVIEW] {name}.head({n})\")\n",
    "        display(df.head(n))\n",
    "        print(f\"[PREVIEW] {name}.tail({n})\")\n",
    "        display(df.tail(n))\n",
    "\n",
    "# Grab objects from global scope if present\n",
    "bus_ = globals().get('bus')\n",
    "weather_ = globals().get('weather')\n",
    "traffic_monthly_ = globals().get('traffic_monthly')\n",
    "alerts_df_ = globals().get('alerts_df')\n",
    "\n",
    "# --- High-level summaries\n",
    "section('BUS DATA (raw)')\n",
    "safe_display_df(bus_, 'bus')\n",
    "show_head_tail(bus_, 'bus')\n",
    "\n",
    "section('WEATHER DATA (raw)')\n",
    "safe_display_df(weather_, 'weather')\n",
    "show_head_tail(weather_, 'weather')\n",
    "\n",
    "section('TRAFFIC DATA (monthly)')\n",
    "safe_display_df(traffic_monthly_, 'traffic_monthly', numeric_only=True)\n",
    "show_head_tail(traffic_monthly_, 'traffic_monthly')\n",
    "\n",
    "section('ALERTS SNAPSHOT')\n",
    "if isinstance(alerts_df_, pd.DataFrame) and len(alerts_df_):\n",
    "    safe_display_df(alerts_df_, 'alerts_df')\n",
    "else:\n",
    "    print(\"[INFO] alerts_df is empty or missing (this is okay if the feed returned nothing for the snapshot).\")\n",
    "\n",
    "# --- Detailed scans\n",
    "section('SCHEMA & NULL SCANS')\n",
    "scan_df(bus_, 'bus')\n",
    "scan_df(weather_, 'weather')\n",
    "scan_df(traffic_monthly_, 'traffic_monthly')\n",
    "\n",
    "# --- Issue checks\n",
    "section('DATA QUALITY CHECKS')\n",
    "\n",
    "# 1) Scheduled trips sanity\n",
    "print(\"\\n[CHECK] Negative or zero scheduled trips in bus data:\")\n",
    "if isinstance(bus_, pd.DataFrame):\n",
    "    if 'number_of_scheduled_trips' in bus_.columns:\n",
    "        bad_sched = bus_.loc[pd.to_numeric(bus_['number_of_scheduled_trips'], errors='coerce') <= 0,\n",
    "                             ['date','number_of_scheduled_trips']]\n",
    "        print(f\"[INFO] rows with scheduled<=0: {len(bad_sched)}\")\n",
    "        display(bad_sched.head(10))\n",
    "    else:\n",
    "        print(\"[WARN] number_of_scheduled_trips column missing after normalization\")\n",
    "else:\n",
    "    print(\"[WARN] bus DataFrame missing\")\n",
    "\n",
    "# 2) Wait Assessment range\n",
    "print(\"\\n[CHECK] Out-of-range WA values (should be 0–1):\")\n",
    "if isinstance(bus_, pd.DataFrame):\n",
    "    if 'wait_assessment' in bus_.columns:\n",
    "        wa_num = pd.to_numeric(bus_['wait_assessment'], errors='coerce')\n",
    "        out = bus_.loc[(wa_num < 0) | (wa_num > 1), ['date','wait_assessment']]\n",
    "        print(f\"[INFO] WA out-of-range rows: {len(out)}\")\n",
    "        display(out.head(10))\n",
    "        # Hard assertion report (non-fatal here)\n",
    "        assert_range(wa_num, 0, 1, 'bus.wait_assessment')\n",
    "    else:\n",
    "        print(\"[WARN] wait_assessment column missing after normalization\")\n",
    "else:\n",
    "    print(\"[WARN] bus DataFrame missing\")\n",
    "\n",
    "# 3) Traffic speed plausible range\n",
    "print(\"\\n[CHECK] Traffic mean speed range (mph 0–70):\")\n",
    "if isinstance(traffic_monthly_, pd.DataFrame) and 'mean_speed_mph' in traffic_monthly_.columns:\n",
    "    assert_range(traffic_monthly_['mean_speed_mph'], 0, 70, 'traffic_monthly.mean_speed_mph')\n",
    "else:\n",
    "    print(\"[WARN] traffic_monthly.mean_speed_mph missing\")\n",
    "\n",
    "# 4) Weather plausible ranges\n",
    "print(\"\\n[CHECK] Weather plausible ranges:\")\n",
    "if isinstance(weather_, pd.DataFrame):\n",
    "    if 'tavg' in weather_.columns:\n",
    "        assert_range(weather_['tavg'], -40, 50, 'weather.tavg_C')\n",
    "    if 'prcp_mm' in weather_.columns:\n",
    "        assert_range(weather_['prcp_mm'], 0, 400, 'weather.prcp_mm')\n",
    "    if 'snow_mm' in weather_.columns:\n",
    "        assert_range(weather_['snow_mm'], 0, 200, 'weather.snow_mm')\n",
    "    if 'awnd_ms' in weather_.columns:\n",
    "        assert_range(weather_['awnd_ms'], 0, 40, 'weather.awnd_ms')\n",
    "else:\n",
    "    print(\"[WARN] weather DataFrame missing\")\n",
    "\n",
    "print(\"\\n[DONE] EDA scan & sanity checks complete.\")\n"
   ]
  },
  {
   "cell_type": "markdown",
   "id": "e8586e43",
   "metadata": {},
   "source": [
    "### 🧮 Aggregate Monthly Metrics\n",
    "All sources are aligned at the **month** granularity for merging and comparison."
   ]
  },
  {
   "cell_type": "code",
   "execution_count": 33,
   "id": "927a8e87",
   "metadata": {},
   "outputs": [
    {
     "name": "stdout",
     "output_type": "stream",
     "text": [
      "[OK] bus_monthly shape=(60, 6) dates 2020-01-01 00:00:00 → 2024-12-01 00:00:00\n",
      "[OK] weather_monthly shape=(1882, 7) dates 1869-01-01 00:00:00 → 2025-10-01 00:00:00\n",
      "[OK] traffic_monthly shape=(1, 2) dates 2025-10-01 00:00:00 → 2025-10-01 00:00:00\n",
      "[OK] alerts_monthly shape=(1, 2)\n",
      "[OK] All WA values within [0,1] after aggregation\n",
      "[INFO] merged rows: 60; date span: 2020-01-01 00:00:00 → 2024-12-01 00:00:00\n"
     ]
    },
    {
     "data": {
      "text/html": [
       "<div>\n",
       "<style scoped>\n",
       "    .dataframe tbody tr th:only-of-type {\n",
       "        vertical-align: middle;\n",
       "    }\n",
       "\n",
       "    .dataframe tbody tr th {\n",
       "        vertical-align: top;\n",
       "    }\n",
       "\n",
       "    .dataframe thead th {\n",
       "        text-align: right;\n",
       "    }\n",
       "</style>\n",
       "<table border=\"1\" class=\"dataframe\">\n",
       "  <thead>\n",
       "    <tr style=\"text-align: right;\">\n",
       "      <th></th>\n",
       "      <th>date</th>\n",
       "      <th>wa_w</th>\n",
       "      <th>scheduled</th>\n",
       "      <th>passing</th>\n",
       "      <th>wa_weighted</th>\n",
       "      <th>pct_passing</th>\n",
       "      <th>tavg</th>\n",
       "      <th>tmax</th>\n",
       "      <th>tmin</th>\n",
       "      <th>prcp_mm</th>\n",
       "      <th>snow_mm</th>\n",
       "      <th>awnd_ms</th>\n",
       "      <th>mean_speed_mph</th>\n",
       "      <th>alert_count</th>\n",
       "    </tr>\n",
       "  </thead>\n",
       "  <tbody>\n",
       "    <tr>\n",
       "      <th>0</th>\n",
       "      <td>2020-01-01</td>\n",
       "      <td>4.683535e+06</td>\n",
       "      <td>6154918</td>\n",
       "      <td>4683535</td>\n",
       "      <td>0.760942</td>\n",
       "      <td>0.760942</td>\n",
       "      <td>3.991935</td>\n",
       "      <td>7.354839</td>\n",
       "      <td>0.629032</td>\n",
       "      <td>49.1</td>\n",
       "      <td>5.8</td>\n",
       "      <td>2.900000</td>\n",
       "      <td>NaN</td>\n",
       "      <td>NaN</td>\n",
       "    </tr>\n",
       "    <tr>\n",
       "      <th>1</th>\n",
       "      <td>2020-02-01</td>\n",
       "      <td>4.369651e+06</td>\n",
       "      <td>5752953</td>\n",
       "      <td>4369651</td>\n",
       "      <td>0.759549</td>\n",
       "      <td>0.759549</td>\n",
       "      <td>4.536207</td>\n",
       "      <td>8.055172</td>\n",
       "      <td>1.017241</td>\n",
       "      <td>64.7</td>\n",
       "      <td>0.0</td>\n",
       "      <td>2.693103</td>\n",
       "      <td>NaN</td>\n",
       "      <td>NaN</td>\n",
       "    </tr>\n",
       "    <tr>\n",
       "      <th>2</th>\n",
       "      <td>2020-03-01</td>\n",
       "      <td>3.110765e+06</td>\n",
       "      <td>4050039</td>\n",
       "      <td>3110765</td>\n",
       "      <td>0.768083</td>\n",
       "      <td>0.768083</td>\n",
       "      <td>8.882258</td>\n",
       "      <td>12.841935</td>\n",
       "      <td>4.922581</td>\n",
       "      <td>96.1</td>\n",
       "      <td>0.0</td>\n",
       "      <td>3.100000</td>\n",
       "      <td>NaN</td>\n",
       "      <td>NaN</td>\n",
       "    </tr>\n",
       "    <tr>\n",
       "      <th>3</th>\n",
       "      <td>2020-04-01</td>\n",
       "      <td>2.064197e+06</td>\n",
       "      <td>2780183</td>\n",
       "      <td>2064197</td>\n",
       "      <td>0.742468</td>\n",
       "      <td>0.742468</td>\n",
       "      <td>10.188333</td>\n",
       "      <td>14.273333</td>\n",
       "      <td>6.103333</td>\n",
       "      <td>114.2</td>\n",
       "      <td>0.0</td>\n",
       "      <td>2.956667</td>\n",
       "      <td>NaN</td>\n",
       "      <td>NaN</td>\n",
       "    </tr>\n",
       "    <tr>\n",
       "      <th>4</th>\n",
       "      <td>2020-05-01</td>\n",
       "      <td>3.821663e+06</td>\n",
       "      <td>5085236</td>\n",
       "      <td>3821663</td>\n",
       "      <td>0.751521</td>\n",
       "      <td>0.751521</td>\n",
       "      <td>15.716129</td>\n",
       "      <td>20.661290</td>\n",
       "      <td>10.770968</td>\n",
       "      <td>42.0</td>\n",
       "      <td>0.0</td>\n",
       "      <td>2.452941</td>\n",
       "      <td>NaN</td>\n",
       "      <td>NaN</td>\n",
       "    </tr>\n",
       "    <tr>\n",
       "      <th>5</th>\n",
       "      <td>2020-06-01</td>\n",
       "      <td>4.290996e+06</td>\n",
       "      <td>5885941</td>\n",
       "      <td>4290996</td>\n",
       "      <td>0.729025</td>\n",
       "      <td>0.729025</td>\n",
       "      <td>23.166667</td>\n",
       "      <td>27.670000</td>\n",
       "      <td>18.663333</td>\n",
       "      <td>44.7</td>\n",
       "      <td>0.0</td>\n",
       "      <td>1.275000</td>\n",
       "      <td>NaN</td>\n",
       "      <td>NaN</td>\n",
       "    </tr>\n",
       "    <tr>\n",
       "      <th>6</th>\n",
       "      <td>2020-07-01</td>\n",
       "      <td>4.689560e+06</td>\n",
       "      <td>6195575</td>\n",
       "      <td>4689560</td>\n",
       "      <td>0.756921</td>\n",
       "      <td>0.756921</td>\n",
       "      <td>26.683871</td>\n",
       "      <td>30.790323</td>\n",
       "      <td>22.577419</td>\n",
       "      <td>167.1</td>\n",
       "      <td>0.0</td>\n",
       "      <td>1.600000</td>\n",
       "      <td>NaN</td>\n",
       "      <td>NaN</td>\n",
       "    </tr>\n",
       "    <tr>\n",
       "      <th>7</th>\n",
       "      <td>2020-08-01</td>\n",
       "      <td>4.524167e+06</td>\n",
       "      <td>6116502</td>\n",
       "      <td>4524167</td>\n",
       "      <td>0.739666</td>\n",
       "      <td>0.739666</td>\n",
       "      <td>24.925806</td>\n",
       "      <td>28.758065</td>\n",
       "      <td>21.093548</td>\n",
       "      <td>127.9</td>\n",
       "      <td>0.0</td>\n",
       "      <td>1.851613</td>\n",
       "      <td>NaN</td>\n",
       "      <td>NaN</td>\n",
       "    </tr>\n",
       "    <tr>\n",
       "      <th>8</th>\n",
       "      <td>2020-09-01</td>\n",
       "      <td>4.529286e+06</td>\n",
       "      <td>5985257</td>\n",
       "      <td>4529286</td>\n",
       "      <td>0.756740</td>\n",
       "      <td>0.756740</td>\n",
       "      <td>20.425000</td>\n",
       "      <td>24.160000</td>\n",
       "      <td>16.690000</td>\n",
       "      <td>100.1</td>\n",
       "      <td>0.0</td>\n",
       "      <td>1.743333</td>\n",
       "      <td>NaN</td>\n",
       "      <td>NaN</td>\n",
       "    </tr>\n",
       "    <tr>\n",
       "      <th>9</th>\n",
       "      <td>2020-10-01</td>\n",
       "      <td>4.720970e+06</td>\n",
       "      <td>6235403</td>\n",
       "      <td>4720970</td>\n",
       "      <td>0.757123</td>\n",
       "      <td>0.757123</td>\n",
       "      <td>14.379032</td>\n",
       "      <td>17.725806</td>\n",
       "      <td>11.032258</td>\n",
       "      <td>128.3</td>\n",
       "      <td>0.0</td>\n",
       "      <td>1.941935</td>\n",
       "      <td>NaN</td>\n",
       "      <td>NaN</td>\n",
       "    </tr>\n",
       "  </tbody>\n",
       "</table>\n",
       "</div>"
      ],
      "text/plain": [
       "        date          wa_w  scheduled  passing  wa_weighted  pct_passing       tavg       tmax       tmin  prcp_mm  \\\n",
       "0 2020-01-01  4.683535e+06    6154918  4683535     0.760942     0.760942   3.991935   7.354839   0.629032     49.1   \n",
       "1 2020-02-01  4.369651e+06    5752953  4369651     0.759549     0.759549   4.536207   8.055172   1.017241     64.7   \n",
       "2 2020-03-01  3.110765e+06    4050039  3110765     0.768083     0.768083   8.882258  12.841935   4.922581     96.1   \n",
       "3 2020-04-01  2.064197e+06    2780183  2064197     0.742468     0.742468  10.188333  14.273333   6.103333    114.2   \n",
       "4 2020-05-01  3.821663e+06    5085236  3821663     0.751521     0.751521  15.716129  20.661290  10.770968     42.0   \n",
       "5 2020-06-01  4.290996e+06    5885941  4290996     0.729025     0.729025  23.166667  27.670000  18.663333     44.7   \n",
       "6 2020-07-01  4.689560e+06    6195575  4689560     0.756921     0.756921  26.683871  30.790323  22.577419    167.1   \n",
       "7 2020-08-01  4.524167e+06    6116502  4524167     0.739666     0.739666  24.925806  28.758065  21.093548    127.9   \n",
       "8 2020-09-01  4.529286e+06    5985257  4529286     0.756740     0.756740  20.425000  24.160000  16.690000    100.1   \n",
       "9 2020-10-01  4.720970e+06    6235403  4720970     0.757123     0.757123  14.379032  17.725806  11.032258    128.3   \n",
       "\n",
       "   snow_mm   awnd_ms  mean_speed_mph  alert_count  \n",
       "0      5.8  2.900000             NaN          NaN  \n",
       "1      0.0  2.693103             NaN          NaN  \n",
       "2      0.0  3.100000             NaN          NaN  \n",
       "3      0.0  2.956667             NaN          NaN  \n",
       "4      0.0  2.452941             NaN          NaN  \n",
       "5      0.0  1.275000             NaN          NaN  \n",
       "6      0.0  1.600000             NaN          NaN  \n",
       "7      0.0  1.851613             NaN          NaN  \n",
       "8      0.0  1.743333             NaN          NaN  \n",
       "9      0.0  1.941935             NaN          NaN  "
      ]
     },
     "metadata": {},
     "output_type": "display_data"
    }
   ],
   "source": [
    "\n",
    "\n",
    "def must_have_cols(df, cols, name):\n",
    "    missing = [c for c in cols if c not in df.columns]\n",
    "    if missing:\n",
    "        raise KeyError(f\"[FATAL] {name} missing required columns: {missing}\")\n",
    "\n",
    "def to_month_start(ts):\n",
    "    # Accepts datetime-like series; returns normalized month-start timestamps (naive)\n",
    "    s = pd.to_datetime(ts, errors='coerce')\n",
    "    return s.dt.to_period('M').dt.to_timestamp()\n",
    "\n",
    "# 1) BUS → monthly\n",
    "must_have_cols(bus, ['date', 'wait_assessment', 'number_of_scheduled_trips', 'number_of_trips_passing_wait'], 'bus')\n",
    "b = bus.copy()\n",
    "# Safety: ensure numerics\n",
    "b['number_of_scheduled_trips'] = pd.to_numeric(b['number_of_scheduled_trips'], errors='coerce')\n",
    "b['number_of_trips_passing_wait'] = pd.to_numeric(b['number_of_trips_passing_wait'], errors='coerce')\n",
    "b['wait_assessment'] = pd.to_numeric(b['wait_assessment'], errors='coerce')\n",
    "\n",
    "# Normalize date to month-start (in case it isn't already)\n",
    "b['date'] = to_month_start(b['date'])\n",
    "\n",
    "# Weighted WA across routes in a month\n",
    "b['wa_w'] = b['wait_assessment'] * b['number_of_scheduled_trips']\n",
    "bus_monthly = (\n",
    "    b.groupby('date', as_index=False)\n",
    "     .agg(\n",
    "         wa_w=('wa_w', 'sum'),\n",
    "         scheduled=('number_of_scheduled_trips', 'sum'),\n",
    "         passing=('number_of_trips_passing_wait', 'sum')\n",
    "     )\n",
    "     .assign(\n",
    "         wa_weighted=lambda x: x.wa_w / x.scheduled,\n",
    "         pct_passing=lambda x: x.passing / x.scheduled\n",
    "     )\n",
    ")\n",
    "print(f\"[OK] bus_monthly shape={bus_monthly.shape} dates {bus_monthly['date'].min()} → {bus_monthly['date'].max()}\")\n",
    "\n",
    "# 2) WEATHER → monthly (FIX: create a named grouping column first)\n",
    "must_have_cols(weather, ['date'], 'weather')\n",
    "w = weather.copy()\n",
    "w['date_m'] = to_month_start(w['date'])\n",
    "weather_monthly = (\n",
    "    w.groupby('date_m', as_index=False)\n",
    "     .agg(\n",
    "         tavg=('tavg', 'mean'),\n",
    "         tmax=('tmax', 'mean'),\n",
    "         tmin=('tmin', 'mean'),\n",
    "         prcp_mm=('prcp_mm', 'sum'),\n",
    "         snow_mm=('snow_mm', 'sum'),\n",
    "         awnd_ms=('awnd_ms', 'mean')\n",
    "     )\n",
    "     .rename(columns={'date_m': 'date'})\n",
    ")\n",
    "print(f\"[OK] weather_monthly shape={weather_monthly.shape} dates {weather_monthly['date'].min()} → {weather_monthly['date'].max()}\")\n",
    "\n",
    "# 3) TRAFFIC → ensure monthly index exists\n",
    "must_have_cols(traffic_monthly, ['date', 'mean_speed_mph'], 'traffic_monthly')\n",
    "tm = traffic_monthly.copy()\n",
    "tm['date'] = to_month_start(tm['date'])\n",
    "print(f\"[OK] traffic_monthly shape={tm.shape} dates {tm['date'].min()} → {tm['date'].max()}\")\n",
    "\n",
    "# 4) ALERTS → monthly (snapshot or counts)\n",
    "if 'date' in alerts_df.columns and 'alert_count' in alerts_df.columns:\n",
    "    a = alerts_df.copy()\n",
    "    a['date'] = to_month_start(a['date'])\n",
    "    # If multiple snapshots exist, aggregate; if just one row, this is effectively a no-op\n",
    "    alerts_monthly = a.groupby('date', as_index=False).agg(alert_count=('alert_count', 'sum'))\n",
    "    print(f\"[OK] alerts_monthly shape={alerts_monthly.shape}\")\n",
    "else:\n",
    "    print(\"[WARN] alerts_df missing 'date' or 'alert_count'; creating empty alerts_monthly\")\n",
    "    alerts_monthly = pd.DataFrame({'date': pd.to_datetime([], utc=False), 'alert_count': []})\n",
    "\n",
    "# 5) MERGE all sources on month-start date\n",
    "must_have_cols(bus_monthly, ['date', 'wa_weighted'], 'bus_monthly')\n",
    "must_have_cols(weather_monthly, ['date'], 'weather_monthly')\n",
    "\n",
    "merged = (\n",
    "    bus_monthly\n",
    "    .merge(weather_monthly, on='date', how='inner', validate='one_to_one')\n",
    "    .merge(tm, on='date', how='left', validate='one_to_one')\n",
    "    .merge(alerts_monthly, on='date', how='left', validate='one_to_one')\n",
    ")\n",
    "\n",
    "# Post-merge sanity\n",
    "if 'wa_weighted' in merged:\n",
    "    bad = merged[(merged['wa_weighted'] < 0) | (merged['wa_weighted'] > 1)]\n",
    "    if len(bad):\n",
    "        print(f\"[WARN] WA outside [0,1]: {len(bad)} rows (showing first 5)\")\n",
    "        display(bad.head())\n",
    "    else:\n",
    "        print(\"[OK] All WA values within [0,1] after aggregation\")\n",
    "\n",
    "print(f\"[INFO] merged rows: {len(merged)}; date span: {merged['date'].min()} → {merged['date'].max()}\")\n",
    "display(merged.head(10))\n"
   ]
  },
  {
   "cell_type": "markdown",
   "id": "1af42712",
   "metadata": {},
   "source": [
    "## 📊 Visualizations\n",
    "At least four distinct visualizations using multiple libraries. Short descriptions accompany each plot."
   ]
  },
  {
   "cell_type": "code",
   "execution_count": 37,
   "id": "eac452ed",
   "metadata": {},
   "outputs": [
    {
     "data": {
      "image/png": "[encoded data removed]",
      "text/plain": [
       "<Figure size 640x480 with 1 Axes>"
      ]
     },
     "metadata": {},
     "output_type": "display_data"
    },
    {
     "name": "stdout",
     "output_type": "stream",
     "text": [
      "Insight: Most months cluster between 0.70–0.74 Wait Assessment, showing generally consistent reliability with a few lower-performing months indicating occasional disruptions.\n"
     ]
    }
   ],
   "source": [
    "# 1) Distribution of Monthly Wait Assessment (Seaborn)\n",
    "sns.histplot(merged['wa_weighted'].dropna(), kde=True, bins=20)\n",
    "plt.title('Distribution of Monthly Wait Assessment (Weighted)')\n",
    "plt.xlabel('Wait Assessment (0–1)')\n",
    "plt.ylabel('Frequency')\n",
    "plt.show()\n",
    "print(\"Insight: Most months cluster between 0.70–0.74 Wait Assessment, showing generally consistent reliability with a few lower-performing months indicating occasional disruptions.\")"
   ]
  },
  {
   "cell_type": "code",
   "execution_count": null,
   "id": "020fddff",
   "metadata": {},
   "outputs": [
    {
     "data": {
      "image/png": "[encoded data removed]",
      "text/plain": [
       "<Figure size 640x480 with 2 Axes>"
      ]
     },
     "metadata": {},
     "output_type": "display_data"
    },
    {
     "name": "stdout",
     "output_type": "stream",
     "text": [
      "Insight: Negative correlation between precip/snow and WA suggests weather impact; positive correlation between mean traffic speed and WA suggests congestion effects.\n"
     ]
    }
   ],
   "source": [
    "# 2) Correlation Heatmap (Seaborn)\n",
    "num_cols = [c for c in ['wa_weighted','tavg','prcp_mm','snow_mm','awnd_ms','mean_speed_mph','alert_count'] if c in merged]\n",
    "corr = merged[num_cols].corr()\n",
    "sns.heatmap(corr, annot=True, cmap='coolwarm', fmt='.2f')\n",
    "plt.title('Correlation Heatmap: Weather, Traffic, Alerts vs Reliability')\n",
    "plt.show()\n",
    "print(\"Insight: Colder, wetter, and windier conditions slightly reduce reliability, while higher average traffic speeds strongly align with improved on-time bus performance.\")"
   ]
  },
  {
   "cell_type": "code",
   "execution_count": 42,
   "id": "d1ad0840",
   "metadata": {},
   "outputs": [
    {
     "data": {
      "image/png": "[encoded data removed]",
      "text/plain": [
       "<Figure size 640x480 with 1 Axes>"
      ]
     },
     "metadata": {},
     "output_type": "display_data"
    }
   ],
   "source": [
    "from requests.adapters import HTTPAdapter, Retry\n",
    "\n",
    "def fetch_traffic_df(url, limit=5000, max_pages=6, timeout=30):\n",
    "    s = requests.Session()\n",
    "    rty = Retry(total=6, backoff_factor=1.2, status_forcelist=[429,500,502,503,504], allowed_methods=frozenset(['GET']))\n",
    "    s.mount('https://', HTTPAdapter(max_retries=rty))\n",
    "    cols = \"id,speed,travel_time,status,data_as_of,borough,link_id,link_name\"\n",
    "    frames = []\n",
    "    offset = 0\n",
    "    for _ in range(max_pages):\n",
    "        params = {\n",
    "            \"$select\": cols,\n",
    "            \"$order\": \"data_as_of DESC\",\n",
    "            \"$limit\": limit,\n",
    "            \"$offset\": offset\n",
    "        }\n",
    "        resp = s.get(traffic_url, params=params, timeout=timeout)\n",
    "        resp.raise_for_status()\n",
    "        chunk = resp.json()\n",
    "        if not chunk:\n",
    "            break\n",
    "        frames.append(pd.DataFrame(chunk))\n",
    "        if len(chunk) < limit:\n",
    "            break\n",
    "        offset += limit\n",
    "    if not frames:\n",
    "        return pd.DataFrame(columns=cols.split(\",\"))\n",
    "    return pd.concat(frames, ignore_index=True)\n",
    "\n",
    "traffic = fetch_traffic_df(traffic_url, limit=4000, max_pages=8, timeout=30)\n",
    "traffic = traffic[['id','speed','travel_time','status','data_as_of','borough','link_id','link_name']]\n",
    "traffic['speed'] = pd.to_numeric(traffic['speed'], errors='coerce')\n",
    "traffic['travel_time'] = pd.to_numeric(traffic['travel_time'], errors='coerce')\n",
    "traffic['status'] = pd.to_numeric(traffic['status'], errors='coerce')\n",
    "traffic['data_as_of'] = pd.to_datetime(traffic['data_as_of'], errors='coerce', utc=True)\n",
    "traffic = traffic.dropna(subset=['data_as_of','speed'])\n",
    "traffic = traffic[traffic['speed'] >= 0]\n",
    "traffic['date'] = traffic['data_as_of'].dt.tz_convert('America/New_York').dt.to_period('M').dt.to_timestamp()\n",
    "traffic_monthly = traffic.groupby('date', as_index=False).agg(mean_speed_mph=('speed','mean'))\n",
    "\n",
    "merged = bus_monthly.merge(traffic_monthly, on='date', how='left', validate='1:1')\n",
    "plot_df = merged.dropna(subset=['mean_speed_mph','wa_weighted'])\n",
    "\n",
    "plt.scatter(plot_df['mean_speed_mph'], plot_df['wa_weighted'])\n",
    "plt.xlabel('Mean Traffic Speed (mph)')\n",
    "plt.ylabel('Wait Assessment (0–1)')\n",
    "plt.title('Bus Reliability vs Traffic Congestion')\n",
    "plt.grid(True, linewidth=0.4)\n",
    "plt.show()\n"
   ]
  },
  {
   "cell_type": "code",
   "execution_count": 40,
   "id": "1b7422bb",
   "metadata": {},
   "outputs": [
    {
     "data": {
      "application/vnd.plotly.v1+json": {
       "config": {
        "plotlyServerURL": "https://plot.ly"
       },
       "data": [
        {
         "hovertemplate": "variable=wa_weighted<br>date=%{x}<br>value=%{y}<extra></extra>",
         "legendgroup": "wa_weighted",
         "line": {
          "color": "#636efa",
          "dash": "solid"
         },
         "marker": {
          "symbol": "circle"
         },
         "mode": "lines",
         "name": "wa_weighted",
         "orientation": "v",
         "showlegend": true,
         "type": "scatter",
         "x": [
          "2020-01-01T00:00:00.000000000",
          "2020-02-01T00:00:00.000000000",
          "2020-03-01T00:00:00.000000000",
          "2020-04-01T00:00:00.000000000",
          "2020-05-01T00:00:00.000000000",
          "2020-06-01T00:00:00.000000000",
          "2020-07-01T00:00:00.000000000",
          "2020-08-01T00:00:00.000000000",
          "2020-09-01T00:00:00.000000000",
          "2020-10-01T00:00:00.000000000",
          "2020-11-01T00:00:00.000000000",
          "2020-12-01T00:00:00.000000000",
          "2021-01-01T00:00:00.000000000",
          "2021-02-01T00:00:00.000000000",
          "2021-03-01T00:00:00.000000000",
          "2021-04-01T00:00:00.000000000",
          "2021-05-01T00:00:00.000000000",
          "2021-06-01T00:00:00.000000000",
          "2021-07-01T00:00:00.000000000",
          "2021-08-01T00:00:00.000000000",
          "2021-09-01T00:00:00.000000000",
          "2021-10-01T00:00:00.000000000",
          "2021-11-01T00:00:00.000000000",
          "2021-12-01T00:00:00.000000000",
          "2022-01-01T00:00:00.000000000",
          "2022-02-01T00:00:00.000000000",
          "2022-03-01T00:00:00.000000000",
          "2022-04-01T00:00:00.000000000",
          "2022-05-01T00:00:00.000000000",
          "2022-06-01T00:00:00.000000000",
          "2022-07-01T00:00:00.000000000",
          "2022-08-01T00:00:00.000000000",
          "2022-09-01T00:00:00.000000000",
          "2022-10-01T00:00:00.000000000",
          "2022-11-01T00:00:00.000000000",
          "2022-12-01T00:00:00.000000000",
          "2023-01-01T00:00:00.000000000",
          "2023-02-01T00:00:00.000000000",
          "2023-03-01T00:00:00.000000000",
          "2023-04-01T00:00:00.000000000",
          "2023-05-01T00:00:00.000000000",
          "2023-06-01T00:00:00.000000000",
          "2023-07-01T00:00:00.000000000",
          "2023-08-01T00:00:00.000000000",
          "2023-09-01T00:00:00.000000000",
          "2023-10-01T00:00:00.000000000",
          "2023-11-01T00:00:00.000000000",
          "2023-12-01T00:00:00.000000000",
          "2024-01-01T00:00:00.000000000",
          "2024-02-01T00:00:00.000000000",
          "2024-03-01T00:00:00.000000000",
          "2024-04-01T00:00:00.000000000",
          "2024-05-01T00:00:00.000000000",
          "2024-06-01T00:00:00.000000000",
          "2024-07-01T00:00:00.000000000",
          "2024-08-01T00:00:00.000000000",
          "2024-09-01T00:00:00.000000000",
          "2024-10-01T00:00:00.000000000",
          "2024-11-01T00:00:00.000000000",
          "2024-12-01T00:00:00.000000000"
         ],
         "xaxis": "x",
         "y": {
          "bdata": "FckU1aJZ6D8lPfItOk7oP7m2pjoilOg/9I4OUUzC5z+Jt1ZTdgzoP5H8BHsrVOc/TGoZHLI46D8MaqJ9V6vnP9rdRLg3N+g/ZZXaA1s66D+PFJA63GDoPyR/ES2AUuc/+2JtKkMR6T9J3jyWXtPlPx4BvNufv+c/IHLG26Ny5z/e8zNlWPHmP8DpUx09KuY/y+FLHvKR5j98IQu/EkTmP0HBMMkEWuU/nRCABX+l5T8NSdQPAy/mP14PFfdXi+U/IPXe4yEs5T+Vt60KrsnmPxeKNFfwRec/VPsD6WVX5z+V7G9X5WfmP8l7yNFHf+Y/v1ex1F865z9B3DgfEPbmP1j651z2VuY/3NVt6VCq5j/3/4XpPIXmP/E3f6dsUOY/46Y3p2ma5z8ltYTLjIXnPywFJiXMhOc/ngKLP9iy5z8NrmTARLDmP4LZ/sXAseY/44oE7+X/5j+oMDbYdurmP1kjtS8A0eU/s+QUNN0S5j9dLW1JAwzmP6YUuBayzOU/vDdEconi5j9udvJZKoPmP6j9eVNVbeY/l+OSfgel5j9zOcteE3jlP7kMfpvPauU/HRrAFBrF5T/4zTWrRpzlPwQFuaFNFuU/u2i5TnvK5T/ibzJ8Z+LlP3a7ej7Hs+U/",
          "dtype": "f8"
         },
         "yaxis": "y"
        },
        {
         "hovertemplate": "variable=mean_speed_mph<br>date=%{x}<br>value=%{y}<extra></extra>",
         "legendgroup": "mean_speed_mph",
         "line": {
          "color": "#EF553B",
          "dash": "solid"
         },
         "marker": {
          "symbol": "circle"
         },
         "mode": "lines",
         "name": "mean_speed_mph",
         "orientation": "v",
         "showlegend": true,
         "type": "scatter",
         "x": [
          "2020-01-01T00:00:00.000000000",
          "2020-02-01T00:00:00.000000000",
          "2020-03-01T00:00:00.000000000",
          "2020-04-01T00:00:00.000000000",
          "2020-05-01T00:00:00.000000000",
          "2020-06-01T00:00:00.000000000",
          "2020-07-01T00:00:00.000000000",
          "2020-08-01T00:00:00.000000000",
          "2020-09-01T00:00:00.000000000",
          "2020-10-01T00:00:00.000000000",
          "2020-11-01T00:00:00.000000000",
          "2020-12-01T00:00:00.000000000",
          "2021-01-01T00:00:00.000000000",
          "2021-02-01T00:00:00.000000000",
          "2021-03-01T00:00:00.000000000",
          "2021-04-01T00:00:00.000000000",
          "2021-05-01T00:00:00.000000000",
          "2021-06-01T00:00:00.000000000",
          "2021-07-01T00:00:00.000000000",
          "2021-08-01T00:00:00.000000000",
          "2021-09-01T00:00:00.000000000",
          "2021-10-01T00:00:00.000000000",
          "2021-11-01T00:00:00.000000000",
          "2021-12-01T00:00:00.000000000",
          "2022-01-01T00:00:00.000000000",
          "2022-02-01T00:00:00.000000000",
          "2022-03-01T00:00:00.000000000",
          "2022-04-01T00:00:00.000000000",
          "2022-05-01T00:00:00.000000000",
          "2022-06-01T00:00:00.000000000",
          "2022-07-01T00:00:00.000000000",
          "2022-08-01T00:00:00.000000000",
          "2022-09-01T00:00:00.000000000",
          "2022-10-01T00:00:00.000000000",
          "2022-11-01T00:00:00.000000000",
          "2022-12-01T00:00:00.000000000",
          "2023-01-01T00:00:00.000000000",
          "2023-02-01T00:00:00.000000000",
          "2023-03-01T00:00:00.000000000",
          "2023-04-01T00:00:00.000000000",
          "2023-05-01T00:00:00.000000000",
          "2023-06-01T00:00:00.000000000",
          "2023-07-01T00:00:00.000000000",
          "2023-08-01T00:00:00.000000000",
          "2023-09-01T00:00:00.000000000",
          "2023-10-01T00:00:00.000000000",
          "2023-11-01T00:00:00.000000000",
          "2023-12-01T00:00:00.000000000",
          "2024-01-01T00:00:00.000000000",
          "2024-02-01T00:00:00.000000000",
          "2024-03-01T00:00:00.000000000",
          "2024-04-01T00:00:00.000000000",
          "2024-05-01T00:00:00.000000000",
          "2024-06-01T00:00:00.000000000",
          "2024-07-01T00:00:00.000000000",
          "2024-08-01T00:00:00.000000000",
          "2024-09-01T00:00:00.000000000",
          "2024-10-01T00:00:00.000000000",
          "2024-11-01T00:00:00.000000000",
          "2024-12-01T00:00:00.000000000"
         ],
         "xaxis": "x",
         "y": {
          "bdata": "AAAAAAAA+H8AAAAAAAD4fwAAAAAAAPh/AAAAAAAA+H8AAAAAAAD4fwAAAAAAAPh/AAAAAAAA+H8AAAAAAAD4fwAAAAAAAPh/AAAAAAAA+H8AAAAAAAD4fwAAAAAAAPh/AAAAAAAA+H8AAAAAAAD4fwAAAAAAAPh/AAAAAAAA+H8AAAAAAAD4fwAAAAAAAPh/AAAAAAAA+H8AAAAAAAD4fwAAAAAAAPh/AAAAAAAA+H8AAAAAAAD4fwAAAAAAAPh/AAAAAAAA+H8AAAAAAAD4fwAAAAAAAPh/AAAAAAAA+H8AAAAAAAD4fwAAAAAAAPh/AAAAAAAA+H8AAAAAAAD4fwAAAAAAAPh/AAAAAAAA+H8AAAAAAAD4fwAAAAAAAPh/AAAAAAAA+H8AAAAAAAD4fwAAAAAAAPh/AAAAAAAA+H8AAAAAAAD4fwAAAAAAAPh/AAAAAAAA+H8AAAAAAAD4fwAAAAAAAPh/AAAAAAAA+H8AAAAAAAD4fwAAAAAAAPh/AAAAAAAA+H8AAAAAAAD4fwAAAAAAAPh/AAAAAAAA+H8AAAAAAAD4fwAAAAAAAPh/AAAAAAAA+H8AAAAAAAD4fwAAAAAAAPh/AAAAAAAA+H8AAAAAAAD4fwAAAAAAAPh/",
          "dtype": "f8"
         },
         "yaxis": "y"
        }
       ],
       "layout": {
        "legend": {
         "title": {
          "text": "variable"
         },
         "tracegroupgap": 0
        },
        "template": {
         "data": {
          "bar": [
           {
            "error_x": {
             "color": "#2a3f5f"
            },
            "error_y": {
             "color": "#2a3f5f"
            },
            "marker": {
             "line": {
              "color": "#E5ECF6",
              "width": 0.5
             },
             "pattern": {
              "fillmode": "overlay",
              "size": 10,
              "solidity": 0.2
             }
            },
            "type": "bar"
           }
          ],
          "barpolar": [
           {
            "marker": {
             "line": {
              "color": "#E5ECF6",
              "width": 0.5
             },
             "pattern": {
              "fillmode": "overlay",
              "size": 10,
              "solidity": 0.2
             }
            },
            "type": "barpolar"
           }
          ],
          "carpet": [
           {
            "aaxis": {
             "endlinecolor": "#2a3f5f",
             "gridcolor": "white",
             "linecolor": "white",
             "minorgridcolor": "white",
             "startlinecolor": "#2a3f5f"
            },
            "baxis": {
             "endlinecolor": "#2a3f5f",
             "gridcolor": "white",
             "linecolor": "white",
             "minorgridcolor": "white",
             "startlinecolor": "#2a3f5f"
            },
            "type": "carpet"
           }
          ],
          "choropleth": [
           {
            "colorbar": {
             "outlinewidth": 0,
             "ticks": ""
            },
            "type": "choropleth"
           }
          ],
          "contour": [
           {
            "colorbar": {
             "outlinewidth": 0,
             "ticks": ""
            },
            "colorscale": [
             [
              0,
              "#0d0887"
             ],
             [
              0.1111111111111111,
              "#46039f"
             ],
             [
              0.2222222222222222,
              "#7201a8"
             ],
             [
              0.3333333333333333,
              "#9c179e"
             ],
             [
              0.4444444444444444,
              "#bd3786"
             ],
             [
              0.5555555555555556,
              "#d8576b"
             ],
             [
              0.6666666666666666,
              "#ed7953"
             ],
             [
              0.7777777777777778,
              "#fb9f3a"
             ],
             [
              0.8888888888888888,
              "#fdca26"
             ],
             [
              1,
              "#f0f921"
             ]
            ],
            "type": "contour"
           }
          ],
          "contourcarpet": [
           {
            "colorbar": {
             "outlinewidth": 0,
             "ticks": ""
            },
            "type": "contourcarpet"
           }
          ],
          "heatmap": [
           {
            "colorbar": {
             "outlinewidth": 0,
             "ticks": ""
            },
            "colorscale": [
             [
              0,
              "#0d0887"
             ],
             [
              0.1111111111111111,
              "#46039f"
             ],
             [
              0.2222222222222222,
              "#7201a8"
             ],
             [
              0.3333333333333333,
              "#9c179e"
             ],
             [
              0.4444444444444444,
              "#bd3786"
             ],
             [
              0.5555555555555556,
              "#d8576b"
             ],
             [
              0.6666666666666666,
              "#ed7953"
             ],
             [
              0.7777777777777778,
              "#fb9f3a"
             ],
             [
              0.8888888888888888,
              "#fdca26"
             ],
             [
              1,
              "#f0f921"
             ]
            ],
            "type": "heatmap"
           }
          ],
          "histogram": [
           {
            "marker": {
             "pattern": {
              "fillmode": "overlay",
              "size": 10,
              "solidity": 0.2
             }
            },
            "type": "histogram"
           }
          ],
          "histogram2d": [
           {
            "colorbar": {
             "outlinewidth": 0,
             "ticks": ""
            },
            "colorscale": [
             [
              0,
              "#0d0887"
             ],
             [
              0.1111111111111111,
              "#46039f"
             ],
             [
              0.2222222222222222,
              "#7201a8"
             ],
             [
              0.3333333333333333,
              "#9c179e"
             ],
             [
              0.4444444444444444,
              "#bd3786"
             ],
             [
              0.5555555555555556,
              "#d8576b"
             ],
             [
              0.6666666666666666,
              "#ed7953"
             ],
             [
              0.7777777777777778,
              "#fb9f3a"
             ],
             [
              0.8888888888888888,
              "#fdca26"
             ],
             [
              1,
              "#f0f921"
             ]
            ],
            "type": "histogram2d"
           }
          ],
          "histogram2dcontour": [
           {
            "colorbar": {
             "outlinewidth": 0,
             "ticks": ""
            },
            "colorscale": [
             [
              0,
              "#0d0887"
             ],
             [
              0.1111111111111111,
              "#46039f"
             ],
             [
              0.2222222222222222,
              "#7201a8"
             ],
             [
              0.3333333333333333,
              "#9c179e"
             ],
             [
              0.4444444444444444,
              "#bd3786"
             ],
             [
              0.5555555555555556,
              "#d8576b"
             ],
             [
              0.6666666666666666,
              "#ed7953"
             ],
             [
              0.7777777777777778,
              "#fb9f3a"
             ],
             [
              0.8888888888888888,
              "#fdca26"
             ],
             [
              1,
              "#f0f921"
             ]
            ],
            "type": "histogram2dcontour"
           }
          ],
          "mesh3d": [
           {
            "colorbar": {
             "outlinewidth": 0,
             "ticks": ""
            },
            "type": "mesh3d"
           }
          ],
          "parcoords": [
           {
            "line": {
             "colorbar": {
              "outlinewidth": 0,
              "ticks": ""
             }
            },
            "type": "parcoords"
           }
          ],
          "pie": [
           {
            "automargin": true,
            "type": "pie"
           }
          ],
          "scatter": [
           {
            "fillpattern": {
             "fillmode": "overlay",
             "size": 10,
             "solidity": 0.2
            },
            "type": "scatter"
           }
          ],
          "scatter3d": [
           {
            "line": {
             "colorbar": {
              "outlinewidth": 0,
              "ticks": ""
             }
            },
            "marker": {
             "colorbar": {
              "outlinewidth": 0,
              "ticks": ""
             }
            },
            "type": "scatter3d"
           }
          ],
          "scattercarpet": [
           {
            "marker": {
             "colorbar": {
              "outlinewidth": 0,
              "ticks": ""
             }
            },
            "type": "scattercarpet"
           }
          ],
          "scattergeo": [
           {
            "marker": {
             "colorbar": {
              "outlinewidth": 0,
              "ticks": ""
             }
            },
            "type": "scattergeo"
           }
          ],
          "scattergl": [
           {
            "marker": {
             "colorbar": {
              "outlinewidth": 0,
              "ticks": ""
             }
            },
            "type": "scattergl"
           }
          ],
          "scattermap": [
           {
            "marker": {
             "colorbar": {
              "outlinewidth": 0,
              "ticks": ""
             }
            },
            "type": "scattermap"
           }
          ],
          "scattermapbox": [
           {
            "marker": {
             "colorbar": {
              "outlinewidth": 0,
              "ticks": ""
             }
            },
            "type": "scattermapbox"
           }
          ],
          "scatterpolar": [
           {
            "marker": {
             "colorbar": {
              "outlinewidth": 0,
              "ticks": ""
             }
            },
            "type": "scatterpolar"
           }
          ],
          "scatterpolargl": [
           {
            "marker": {
             "colorbar": {
              "outlinewidth": 0,
              "ticks": ""
             }
            },
            "type": "scatterpolargl"
           }
          ],
          "scatterternary": [
           {
            "marker": {
             "colorbar": {
              "outlinewidth": 0,
              "ticks": ""
             }
            },
            "type": "scatterternary"
           }
          ],
          "surface": [
           {
            "colorbar": {
             "outlinewidth": 0,
             "ticks": ""
            },
            "colorscale": [
             [
              0,
              "#0d0887"
             ],
             [
              0.1111111111111111,
              "#46039f"
             ],
             [
              0.2222222222222222,
              "#7201a8"
             ],
             [
              0.3333333333333333,
              "#9c179e"
             ],
             [
              0.4444444444444444,
              "#bd3786"
             ],
             [
              0.5555555555555556,
              "#d8576b"
             ],
             [
              0.6666666666666666,
              "#ed7953"
             ],
             [
              0.7777777777777778,
              "#fb9f3a"
             ],
             [
              0.8888888888888888,
              "#fdca26"
             ],
             [
              1,
              "#f0f921"
             ]
            ],
            "type": "surface"
           }
          ],
          "table": [
           {
            "cells": {
             "fill": {
              "color": "#EBF0F8"
             },
             "line": {
              "color": "white"
             }
            },
            "header": {
             "fill": {
              "color": "#C8D4E3"
             },
             "line": {
              "color": "white"
             }
            },
            "type": "table"
           }
          ]
         },
         "layout": {
          "annotationdefaults": {
           "arrowcolor": "#2a3f5f",
           "arrowhead": 0,
           "arrowwidth": 1
          },
          "autotypenumbers": "strict",
          "coloraxis": {
           "colorbar": {
            "outlinewidth": 0,
            "ticks": ""
           }
          },
          "colorscale": {
           "diverging": [
            [
             0,
             "#8e0152"
            ],
            [
             0.1,
             "#c51b7d"
            ],
            [
             0.2,
             "#de77ae"
            ],
            [
             0.3,
             "#f1b6da"
            ],
            [
             0.4,
             "#fde0ef"
            ],
            [
             0.5,
             "#f7f7f7"
            ],
            [
             0.6,
             "#e6f5d0"
            ],
            [
             0.7,
             "#b8e186"
            ],
            [
             0.8,
             "#7fbc41"
            ],
            [
             0.9,
             "#4d9221"
            ],
            [
             1,
             "#276419"
            ]
           ],
           "sequential": [
            [
             0,
             "#0d0887"
            ],
            [
             0.1111111111111111,
             "#46039f"
            ],
            [
             0.2222222222222222,
             "#7201a8"
            ],
            [
             0.3333333333333333,
             "#9c179e"
            ],
            [
             0.4444444444444444,
             "#bd3786"
            ],
            [
             0.5555555555555556,
             "#d8576b"
            ],
            [
             0.6666666666666666,
             "#ed7953"
            ],
            [
             0.7777777777777778,
             "#fb9f3a"
            ],
            [
             0.8888888888888888,
             "#fdca26"
            ],
            [
             1,
             "#f0f921"
            ]
           ],
           "sequentialminus": [
            [
             0,
             "#0d0887"
            ],
            [
             0.1111111111111111,
             "#46039f"
            ],
            [
             0.2222222222222222,
             "#7201a8"
            ],
            [
             0.3333333333333333,
             "#9c179e"
            ],
            [
             0.4444444444444444,
             "#bd3786"
            ],
            [
             0.5555555555555556,
             "#d8576b"
            ],
            [
             0.6666666666666666,
             "#ed7953"
            ],
            [
             0.7777777777777778,
             "#fb9f3a"
            ],
            [
             0.8888888888888888,
             "#fdca26"
            ],
            [
             1,
             "#f0f921"
            ]
           ]
          },
          "colorway": [
           "#636efa",
           "#EF553B",
           "#00cc96",
           "#ab63fa",
           "#FFA15A",
           "#19d3f3",
           "#FF6692",
           "#B6E880",
           "#FF97FF",
           "#FECB52"
          ],
          "font": {
           "color": "#2a3f5f"
          },
          "geo": {
           "bgcolor": "white",
           "lakecolor": "white",
           "landcolor": "#E5ECF6",
           "showlakes": true,
           "showland": true,
           "subunitcolor": "white"
          },
          "hoverlabel": {
           "align": "left"
          },
          "hovermode": "closest",
          "mapbox": {
           "style": "light"
          },
          "paper_bgcolor": "white",
          "plot_bgcolor": "#E5ECF6",
          "polar": {
           "angularaxis": {
            "gridcolor": "white",
            "linecolor": "white",
            "ticks": ""
           },
           "bgcolor": "#E5ECF6",
           "radialaxis": {
            "gridcolor": "white",
            "linecolor": "white",
            "ticks": ""
           }
          },
          "scene": {
           "xaxis": {
            "backgroundcolor": "#E5ECF6",
            "gridcolor": "white",
            "gridwidth": 2,
            "linecolor": "white",
            "showbackground": true,
            "ticks": "",
            "zerolinecolor": "white"
           },
           "yaxis": {
            "backgroundcolor": "#E5ECF6",
            "gridcolor": "white",
            "gridwidth": 2,
            "linecolor": "white",
            "showbackground": true,
            "ticks": "",
            "zerolinecolor": "white"
           },
           "zaxis": {
            "backgroundcolor": "#E5ECF6",
            "gridcolor": "white",
            "gridwidth": 2,
            "linecolor": "white",
            "showbackground": true,
            "ticks": "",
            "zerolinecolor": "white"
           }
          },
          "shapedefaults": {
           "line": {
            "color": "#2a3f5f"
           }
          },
          "ternary": {
           "aaxis": {
            "gridcolor": "white",
            "linecolor": "white",
            "ticks": ""
           },
           "baxis": {
            "gridcolor": "white",
            "linecolor": "white",
            "ticks": ""
           },
           "bgcolor": "#E5ECF6",
           "caxis": {
            "gridcolor": "white",
            "linecolor": "white",
            "ticks": ""
           }
          },
          "title": {
           "x": 0.05
          },
          "xaxis": {
           "automargin": true,
           "gridcolor": "white",
           "linecolor": "white",
           "ticks": "",
           "title": {
            "standoff": 15
           },
           "zerolinecolor": "white",
           "zerolinewidth": 2
          },
          "yaxis": {
           "automargin": true,
           "gridcolor": "white",
           "linecolor": "white",
           "ticks": "",
           "title": {
            "standoff": 15
           },
           "zerolinecolor": "white",
           "zerolinewidth": 2
          }
         }
        },
        "title": {
         "text": "Trends: Wait Assessment & Mean Traffic Speed"
        },
        "xaxis": {
         "anchor": "y",
         "domain": [
          0,
          1
         ],
         "title": {
          "text": "Date"
         }
        },
        "yaxis": {
         "anchor": "x",
         "domain": [
          0,
          1
         ],
         "title": {
          "text": "Value"
         }
        }
       }
      }
     },
     "metadata": {},
     "output_type": "display_data"
    },
    {
     "name": "stdout",
     "output_type": "stream",
     "text": [
      "Insight: Co-movement over months hints at traffic-reliability coupling; decoupling suggests other factors (alerts, incidents, seasonal ops).\n"
     ]
    }
   ],
   "source": [
    "# 4) Trends: WA & Mean Traffic Speed over Time (Plotly)\n",
    "fig = px.line(\n",
    "    merged.sort_values('date'),\n",
    "    x='date', y=[c for c in ['wa_weighted','mean_speed_mph'] if c in merged],\n",
    "    title='Trends: Wait Assessment & Mean Traffic Speed'\n",
    ")\n",
    "fig.update_layout(xaxis_title='Date', yaxis_title='Value')\n",
    "fig.show()\n",
    "print(\"Insight: Co-movement over months hints at traffic-reliability coupling; decoupling suggests other factors (alerts, incidents, seasonal ops).\")"
   ]
  },
  {
   "cell_type": "code",
   "execution_count": 41,
   "id": "000669d5",
   "metadata": {},
   "outputs": [
    {
     "data": {
      "application/vnd.plotly.v1+json": {
       "config": {
        "plotlyServerURL": "https://plot.ly"
       },
       "data": [
        {
         "hovertemplate": "prcp_mm=%{x}<br>alert_count=%{y}<br>wa_weighted=%{marker.color}<extra></extra>",
         "legendgroup": "",
         "marker": {
          "color": {
           "bdata": "FckU1aJZ6D8lPfItOk7oP7m2pjoilOg/9I4OUUzC5z+Jt1ZTdgzoP5H8BHsrVOc/TGoZHLI46D8MaqJ9V6vnP9rdRLg3N+g/ZZXaA1s66D+PFJA63GDoPyR/ES2AUuc/+2JtKkMR6T9J3jyWXtPlPx4BvNufv+c/IHLG26Ny5z/e8zNlWPHmP8DpUx09KuY/y+FLHvKR5j98IQu/EkTmP0HBMMkEWuU/nRCABX+l5T8NSdQPAy/mP14PFfdXi+U/IPXe4yEs5T+Vt60KrsnmPxeKNFfwRec/VPsD6WVX5z+V7G9X5WfmP8l7yNFHf+Y/v1ex1F865z9B3DgfEPbmP1j651z2VuY/3NVt6VCq5j/3/4XpPIXmP/E3f6dsUOY/46Y3p2ma5z8ltYTLjIXnPywFJiXMhOc/ngKLP9iy5z8NrmTARLDmP4LZ/sXAseY/44oE7+X/5j+oMDbYdurmP1kjtS8A0eU/s+QUNN0S5j9dLW1JAwzmP6YUuBayzOU/vDdEconi5j9udvJZKoPmP6j9eVNVbeY/l+OSfgel5j9zOcteE3jlP7kMfpvPauU/HRrAFBrF5T/4zTWrRpzlPwQFuaFNFuU/u2i5TnvK5T/ibzJ8Z+LlP3a7ej7Hs+U/",
           "dtype": "f8"
          },
          "coloraxis": "coloraxis",
          "symbol": "circle"
         },
         "mode": "markers",
         "name": "",
         "orientation": "v",
         "showlegend": false,
         "type": "scatter",
         "x": {
          "bdata": "zczMzMyMSEDNzMzMzCxQQGdmZmZmBlhAzMzMzMyMXEAAAAAAAABFQJqZmZmZWUZAMzMzMzPjZECamZmZmflfQGZmZmZmBllAmpmZmZkJYECamZmZmVlZQMzMzMzMTF1AzMzMzMxMTUDNzMzMzExgQMzMzMzMrFVAAAAAAAAgUUAzMzMzM7NbQM3MzMzMrFBAZmZmZmaecUCZmZmZmWFwQJmZmZmZ2W9AZmZmZma2YECamZmZmZk8QDMzMzMzs0FAAAAAAABAW0BmZmZmZoZUQJmZmZmZWU5AAAAAAADAXEAzMzMzM7NcQGZmZmZmhlJAZmZmZmbmXEAzMzMzM7NFQGZmZmZmBlpAAAAAAAAgYECamZmZmflTQDMzMzMzg2JAAAAAAADgW0DNzMzMzExAQDMzMzMzE1VAZmZmZmZ2aEDNzMzMzExAQJqZmZmZmURAAAAAAADwYECamZmZmdlkQAAAAAAAoHZAZ2ZmZmbGWECZmZmZmblSQM3MzMzMTGVAMzMzMzPDYEDNzMzMzAxKQJmZmZmZyWxANDMzMzMTVkCZmZmZmRlaQDMzMzMzs0VAzczMzMysWkBmZmZmZkZmQM3MzMzMDERAMzMzMzMz0z8AAAAAAEBVQGZmZmZmxlxA",
          "dtype": "f8"
         },
         "xaxis": "x",
         "y": {
          "bdata": "AAAAAAAA+H8AAAAAAAD4fwAAAAAAAPh/AAAAAAAA+H8AAAAAAAD4fwAAAAAAAPh/AAAAAAAA+H8AAAAAAAD4fwAAAAAAAPh/AAAAAAAA+H8AAAAAAAD4fwAAAAAAAPh/AAAAAAAA+H8AAAAAAAD4fwAAAAAAAPh/AAAAAAAA+H8AAAAAAAD4fwAAAAAAAPh/AAAAAAAA+H8AAAAAAAD4fwAAAAAAAPh/AAAAAAAA+H8AAAAAAAD4fwAAAAAAAPh/AAAAAAAA+H8AAAAAAAD4fwAAAAAAAPh/AAAAAAAA+H8AAAAAAAD4fwAAAAAAAPh/AAAAAAAA+H8AAAAAAAD4fwAAAAAAAPh/AAAAAAAA+H8AAAAAAAD4fwAAAAAAAPh/AAAAAAAA+H8AAAAAAAD4fwAAAAAAAPh/AAAAAAAA+H8AAAAAAAD4fwAAAAAAAPh/AAAAAAAA+H8AAAAAAAD4fwAAAAAAAPh/AAAAAAAA+H8AAAAAAAD4fwAAAAAAAPh/AAAAAAAA+H8AAAAAAAD4fwAAAAAAAPh/AAAAAAAA+H8AAAAAAAD4fwAAAAAAAPh/AAAAAAAA+H8AAAAAAAD4fwAAAAAAAPh/AAAAAAAA+H8AAAAAAAD4fwAAAAAAAPh/",
          "dtype": "f8"
         },
         "yaxis": "y"
        }
       ],
       "layout": {
        "coloraxis": {
         "colorbar": {
          "title": {
           "text": "wa_weighted"
          }
         },
         "colorscale": [
          [
           0,
           "#0d0887"
          ],
          [
           0.1111111111111111,
           "#46039f"
          ],
          [
           0.2222222222222222,
           "#7201a8"
          ],
          [
           0.3333333333333333,
           "#9c179e"
          ],
          [
           0.4444444444444444,
           "#bd3786"
          ],
          [
           0.5555555555555556,
           "#d8576b"
          ],
          [
           0.6666666666666666,
           "#ed7953"
          ],
          [
           0.7777777777777778,
           "#fb9f3a"
          ],
          [
           0.8888888888888888,
           "#fdca26"
          ],
          [
           1,
           "#f0f921"
          ]
         ]
        },
        "legend": {
         "tracegroupgap": 0
        },
        "template": {
         "data": {
          "bar": [
           {
            "error_x": {
             "color": "#2a3f5f"
            },
            "error_y": {
             "color": "#2a3f5f"
            },
            "marker": {
             "line": {
              "color": "#E5ECF6",
              "width": 0.5
             },
             "pattern": {
              "fillmode": "overlay",
              "size": 10,
              "solidity": 0.2
             }
            },
            "type": "bar"
           }
          ],
          "barpolar": [
           {
            "marker": {
             "line": {
              "color": "#E5ECF6",
              "width": 0.5
             },
             "pattern": {
              "fillmode": "overlay",
              "size": 10,
              "solidity": 0.2
             }
            },
            "type": "barpolar"
           }
          ],
          "carpet": [
           {
            "aaxis": {
             "endlinecolor": "#2a3f5f",
             "gridcolor": "white",
             "linecolor": "white",
             "minorgridcolor": "white",
             "startlinecolor": "#2a3f5f"
            },
            "baxis": {
             "endlinecolor": "#2a3f5f",
             "gridcolor": "white",
             "linecolor": "white",
             "minorgridcolor": "white",
             "startlinecolor": "#2a3f5f"
            },
            "type": "carpet"
           }
          ],
          "choropleth": [
           {
            "colorbar": {
             "outlinewidth": 0,
             "ticks": ""
            },
            "type": "choropleth"
           }
          ],
          "contour": [
           {
            "colorbar": {
             "outlinewidth": 0,
             "ticks": ""
            },
            "colorscale": [
             [
              0,
              "#0d0887"
             ],
             [
              0.1111111111111111,
              "#46039f"
             ],
             [
              0.2222222222222222,
              "#7201a8"
             ],
             [
              0.3333333333333333,
              "#9c179e"
             ],
             [
              0.4444444444444444,
              "#bd3786"
             ],
             [
              0.5555555555555556,
              "#d8576b"
             ],
             [
              0.6666666666666666,
              "#ed7953"
             ],
             [
              0.7777777777777778,
              "#fb9f3a"
             ],
             [
              0.8888888888888888,
              "#fdca26"
             ],
             [
              1,
              "#f0f921"
             ]
            ],
            "type": "contour"
           }
          ],
          "contourcarpet": [
           {
            "colorbar": {
             "outlinewidth": 0,
             "ticks": ""
            },
            "type": "contourcarpet"
           }
          ],
          "heatmap": [
           {
            "colorbar": {
             "outlinewidth": 0,
             "ticks": ""
            },
            "colorscale": [
             [
              0,
              "#0d0887"
             ],
             [
              0.1111111111111111,
              "#46039f"
             ],
             [
              0.2222222222222222,
              "#7201a8"
             ],
             [
              0.3333333333333333,
              "#9c179e"
             ],
             [
              0.4444444444444444,
              "#bd3786"
             ],
             [
              0.5555555555555556,
              "#d8576b"
             ],
             [
              0.6666666666666666,
              "#ed7953"
             ],
             [
              0.7777777777777778,
              "#fb9f3a"
             ],
             [
              0.8888888888888888,
              "#fdca26"
             ],
             [
              1,
              "#f0f921"
             ]
            ],
            "type": "heatmap"
           }
          ],
          "histogram": [
           {
            "marker": {
             "pattern": {
              "fillmode": "overlay",
              "size": 10,
              "solidity": 0.2
             }
            },
            "type": "histogram"
           }
          ],
          "histogram2d": [
           {
            "colorbar": {
             "outlinewidth": 0,
             "ticks": ""
            },
            "colorscale": [
             [
              0,
              "#0d0887"
             ],
             [
              0.1111111111111111,
              "#46039f"
             ],
             [
              0.2222222222222222,
              "#7201a8"
             ],
             [
              0.3333333333333333,
              "#9c179e"
             ],
             [
              0.4444444444444444,
              "#bd3786"
             ],
             [
              0.5555555555555556,
              "#d8576b"
             ],
             [
              0.6666666666666666,
              "#ed7953"
             ],
             [
              0.7777777777777778,
              "#fb9f3a"
             ],
             [
              0.8888888888888888,
              "#fdca26"
             ],
             [
              1,
              "#f0f921"
             ]
            ],
            "type": "histogram2d"
           }
          ],
          "histogram2dcontour": [
           {
            "colorbar": {
             "outlinewidth": 0,
             "ticks": ""
            },
            "colorscale": [
             [
              0,
              "#0d0887"
             ],
             [
              0.1111111111111111,
              "#46039f"
             ],
             [
              0.2222222222222222,
              "#7201a8"
             ],
             [
              0.3333333333333333,
              "#9c179e"
             ],
             [
              0.4444444444444444,
              "#bd3786"
             ],
             [
              0.5555555555555556,
              "#d8576b"
             ],
             [
              0.6666666666666666,
              "#ed7953"
             ],
             [
              0.7777777777777778,
              "#fb9f3a"
             ],
             [
              0.8888888888888888,
              "#fdca26"
             ],
             [
              1,
              "#f0f921"
             ]
            ],
            "type": "histogram2dcontour"
           }
          ],
          "mesh3d": [
           {
            "colorbar": {
             "outlinewidth": 0,
             "ticks": ""
            },
            "type": "mesh3d"
           }
          ],
          "parcoords": [
           {
            "line": {
             "colorbar": {
              "outlinewidth": 0,
              "ticks": ""
             }
            },
            "type": "parcoords"
           }
          ],
          "pie": [
           {
            "automargin": true,
            "type": "pie"
           }
          ],
          "scatter": [
           {
            "fillpattern": {
             "fillmode": "overlay",
             "size": 10,
             "solidity": 0.2
            },
            "type": "scatter"
           }
          ],
          "scatter3d": [
           {
            "line": {
             "colorbar": {
              "outlinewidth": 0,
              "ticks": ""
             }
            },
            "marker": {
             "colorbar": {
              "outlinewidth": 0,
              "ticks": ""
             }
            },
            "type": "scatter3d"
           }
          ],
          "scattercarpet": [
           {
            "marker": {
             "colorbar": {
              "outlinewidth": 0,
              "ticks": ""
             }
            },
            "type": "scattercarpet"
           }
          ],
          "scattergeo": [
           {
            "marker": {
             "colorbar": {
              "outlinewidth": 0,
              "ticks": ""
             }
            },
            "type": "scattergeo"
           }
          ],
          "scattergl": [
           {
            "marker": {
             "colorbar": {
              "outlinewidth": 0,
              "ticks": ""
             }
            },
            "type": "scattergl"
           }
          ],
          "scattermap": [
           {
            "marker": {
             "colorbar": {
              "outlinewidth": 0,
              "ticks": ""
             }
            },
            "type": "scattermap"
           }
          ],
          "scattermapbox": [
           {
            "marker": {
             "colorbar": {
              "outlinewidth": 0,
              "ticks": ""
             }
            },
            "type": "scattermapbox"
           }
          ],
          "scatterpolar": [
           {
            "marker": {
             "colorbar": {
              "outlinewidth": 0,
              "ticks": ""
             }
            },
            "type": "scatterpolar"
           }
          ],
          "scatterpolargl": [
           {
            "marker": {
             "colorbar": {
              "outlinewidth": 0,
              "ticks": ""
             }
            },
            "type": "scatterpolargl"
           }
          ],
          "scatterternary": [
           {
            "marker": {
             "colorbar": {
              "outlinewidth": 0,
              "ticks": ""
             }
            },
            "type": "scatterternary"
           }
          ],
          "surface": [
           {
            "colorbar": {
             "outlinewidth": 0,
             "ticks": ""
            },
            "colorscale": [
             [
              0,
              "#0d0887"
             ],
             [
              0.1111111111111111,
              "#46039f"
             ],
             [
              0.2222222222222222,
              "#7201a8"
             ],
             [
              0.3333333333333333,
              "#9c179e"
             ],
             [
              0.4444444444444444,
              "#bd3786"
             ],
             [
              0.5555555555555556,
              "#d8576b"
             ],
             [
              0.6666666666666666,
              "#ed7953"
             ],
             [
              0.7777777777777778,
              "#fb9f3a"
             ],
             [
              0.8888888888888888,
              "#fdca26"
             ],
             [
              1,
              "#f0f921"
             ]
            ],
            "type": "surface"
           }
          ],
          "table": [
           {
            "cells": {
             "fill": {
              "color": "#EBF0F8"
             },
             "line": {
              "color": "white"
             }
            },
            "header": {
             "fill": {
              "color": "#C8D4E3"
             },
             "line": {
              "color": "white"
             }
            },
            "type": "table"
           }
          ]
         },
         "layout": {
          "annotationdefaults": {
           "arrowcolor": "#2a3f5f",
           "arrowhead": 0,
           "arrowwidth": 1
          },
          "autotypenumbers": "strict",
          "coloraxis": {
           "colorbar": {
            "outlinewidth": 0,
            "ticks": ""
           }
          },
          "colorscale": {
           "diverging": [
            [
             0,
             "#8e0152"
            ],
            [
             0.1,
             "#c51b7d"
            ],
            [
             0.2,
             "#de77ae"
            ],
            [
             0.3,
             "#f1b6da"
            ],
            [
             0.4,
             "#fde0ef"
            ],
            [
             0.5,
             "#f7f7f7"
            ],
            [
             0.6,
             "#e6f5d0"
            ],
            [
             0.7,
             "#b8e186"
            ],
            [
             0.8,
             "#7fbc41"
            ],
            [
             0.9,
             "#4d9221"
            ],
            [
             1,
             "#276419"
            ]
           ],
           "sequential": [
            [
             0,
             "#0d0887"
            ],
            [
             0.1111111111111111,
             "#46039f"
            ],
            [
             0.2222222222222222,
             "#7201a8"
            ],
            [
             0.3333333333333333,
             "#9c179e"
            ],
            [
             0.4444444444444444,
             "#bd3786"
            ],
            [
             0.5555555555555556,
             "#d8576b"
            ],
            [
             0.6666666666666666,
             "#ed7953"
            ],
            [
             0.7777777777777778,
             "#fb9f3a"
            ],
            [
             0.8888888888888888,
             "#fdca26"
            ],
            [
             1,
             "#f0f921"
            ]
           ],
           "sequentialminus": [
            [
             0,
             "#0d0887"
            ],
            [
             0.1111111111111111,
             "#46039f"
            ],
            [
             0.2222222222222222,
             "#7201a8"
            ],
            [
             0.3333333333333333,
             "#9c179e"
            ],
            [
             0.4444444444444444,
             "#bd3786"
            ],
            [
             0.5555555555555556,
             "#d8576b"
            ],
            [
             0.6666666666666666,
             "#ed7953"
            ],
            [
             0.7777777777777778,
             "#fb9f3a"
            ],
            [
             0.8888888888888888,
             "#fdca26"
            ],
            [
             1,
             "#f0f921"
            ]
           ]
          },
          "colorway": [
           "#636efa",
           "#EF553B",
           "#00cc96",
           "#ab63fa",
           "#FFA15A",
           "#19d3f3",
           "#FF6692",
           "#B6E880",
           "#FF97FF",
           "#FECB52"
          ],
          "font": {
           "color": "#2a3f5f"
          },
          "geo": {
           "bgcolor": "white",
           "lakecolor": "white",
           "landcolor": "#E5ECF6",
           "showlakes": true,
           "showland": true,
           "subunitcolor": "white"
          },
          "hoverlabel": {
           "align": "left"
          },
          "hovermode": "closest",
          "mapbox": {
           "style": "light"
          },
          "paper_bgcolor": "white",
          "plot_bgcolor": "#E5ECF6",
          "polar": {
           "angularaxis": {
            "gridcolor": "white",
            "linecolor": "white",
            "ticks": ""
           },
           "bgcolor": "#E5ECF6",
           "radialaxis": {
            "gridcolor": "white",
            "linecolor": "white",
            "ticks": ""
           }
          },
          "scene": {
           "xaxis": {
            "backgroundcolor": "#E5ECF6",
            "gridcolor": "white",
            "gridwidth": 2,
            "linecolor": "white",
            "showbackground": true,
            "ticks": "",
            "zerolinecolor": "white"
           },
           "yaxis": {
            "backgroundcolor": "#E5ECF6",
            "gridcolor": "white",
            "gridwidth": 2,
            "linecolor": "white",
            "showbackground": true,
            "ticks": "",
            "zerolinecolor": "white"
           },
           "zaxis": {
            "backgroundcolor": "#E5ECF6",
            "gridcolor": "white",
            "gridwidth": 2,
            "linecolor": "white",
            "showbackground": true,
            "ticks": "",
            "zerolinecolor": "white"
           }
          },
          "shapedefaults": {
           "line": {
            "color": "#2a3f5f"
           }
          },
          "ternary": {
           "aaxis": {
            "gridcolor": "white",
            "linecolor": "white",
            "ticks": ""
           },
           "baxis": {
            "gridcolor": "white",
            "linecolor": "white",
            "ticks": ""
           },
           "bgcolor": "#E5ECF6",
           "caxis": {
            "gridcolor": "white",
            "linecolor": "white",
            "ticks": ""
           }
          },
          "title": {
           "x": 0.05
          },
          "xaxis": {
           "automargin": true,
           "gridcolor": "white",
           "linecolor": "white",
           "ticks": "",
           "title": {
            "standoff": 15
           },
           "zerolinecolor": "white",
           "zerolinewidth": 2
          },
          "yaxis": {
           "automargin": true,
           "gridcolor": "white",
           "linecolor": "white",
           "ticks": "",
           "title": {
            "standoff": 15
           },
           "zerolinecolor": "white",
           "zerolinewidth": 2
          }
         }
        },
        "title": {
         "text": "Precipitation vs Alert Count (Colored by WA)"
        },
        "xaxis": {
         "anchor": "y",
         "domain": [
          0,
          1
         ],
         "title": {
          "text": "prcp_mm"
         }
        },
        "yaxis": {
         "anchor": "x",
         "domain": [
          0,
          1
         ],
         "title": {
          "text": "alert_count"
         }
        }
       }
      }
     },
     "metadata": {},
     "output_type": "display_data"
    },
    {
     "name": "stdout",
     "output_type": "stream",
     "text": [
      "Insight: Clusters at high precipitation and high alerts with lower WA would support the hypothesis that weather + disruptions degrade reliability.\n"
     ]
    }
   ],
   "source": [
    "# 5) Precipitation vs Alert Count (Plotly, colored by WA)\n",
    "if all(c in merged for c in ['prcp_mm','alert_count','wa_weighted']):\n",
    "    fig2 = px.scatter(\n",
    "        merged, x='prcp_mm', y='alert_count', color='wa_weighted',\n",
    "        title='Precipitation vs Alert Count (Colored by WA)'\n",
    "    )\n",
    "    fig2.show()\n",
    "    print(\"Insight: Clusters at high precipitation and high alerts with lower WA would support the hypothesis that weather + disruptions degrade reliability.\")\n",
    "else:\n",
    "    print('[WARN] Missing one of prcp_mm/alert_count/wa_weighted; skipping scatter.')"
   ]
  },
  {
   "cell_type": "markdown",
   "id": "901a7660",
   "metadata": {},
   "source": [
    "## 🧹 Data Cleaning & Transformation\n",
    "Actions reflect the issues found during EDA: outliers (precip/snow), missing values, duplicate rows, and data type coercions. The goal is a modeling-ready monthly dataset aligned across sources."
   ]
  },
  {
   "cell_type": "code",
   "execution_count": null,
   "id": "df7b409f",
   "metadata": {},
   "outputs": [],
   "source": [
    "model_df = merged.copy()\n",
    "\n",
    "# Drop rows lacking the target\n",
    "before = len(model_df)\n",
    "model_df = model_df.dropna(subset=['wa_weighted'])\n",
    "after = len(model_df)\n",
    "print(f\"[CLEAN] Dropped {before - after} rows without WA\")\n",
    "\n",
    "# Clip extreme precipitation/snow outliers using IQR\n",
    "for col in ['prcp_mm','snow_mm']:\n",
    "    if col in model_df:\n",
    "        q1, q3 = model_df[col].quantile([0.25,0.75])\n",
    "        iqr = q3 - q1\n",
    "        lower, upper = q1 - 1.5*iqr, q3 + 1.5*iqr\n",
    "        clipped = ((model_df[col] < lower) | (model_df[col] > upper)).sum()\n",
    "        model_df[col] = model_df[col].clip(lower, upper)\n",
    "        print(f\"[CLEAN] {col} clipped outliers: {clipped} (bounds {lower:.2f}..{upper:.2f})\")\n",
    "    else:\n",
    "        print(f\"[CLEAN] {col} not present; skipping outlier clipping\")\n",
    "\n",
    "# De-duplicate monthly rows if any\n",
    "dups = model_df.duplicated(subset=['date']).sum()\n",
    "if dups:\n",
    "    print(f\"[CLEAN] Found {dups} duplicate month rows; aggregating mean over duplicates\")\n",
    "    model_df = model_df.groupby('date', as_index=False).mean(numeric_only=True)\n",
    "else:\n",
    "    print(\"[CLEAN] No duplicate monthly rows detected\")\n",
    "\n",
    "display(model_df.head())\n",
    "print_range(model_df, 'wa_weighted', 'model_df')\n",
    "\n",
    "# Final schema sanity\n",
    "required_for_model = ['wa_weighted','tavg','prcp_mm','snow_mm','awnd_ms','mean_speed_mph','alert_count']\n",
    "missing_for_model = [c for c in required_for_model if c not in model_df.columns]\n",
    "if missing_for_model:\n",
    "    print(f\"[WARN] Model features missing: {missing_for_model}. Modeling section will handle partial features.\")\n",
    "else:\n",
    "    print('[OK] All planned model features present')"
   ]
  },
  {
   "cell_type": "markdown",
   "id": "6ce07528",
   "metadata": {},
   "source": [
    "### Cleaning Summary\n",
    "- **Missing values:** Dropped for `wa_weighted` and critical joins.\n",
    "- **Outliers:** Clipped for precipitation and snow via IQR.\n",
    "- **Duplicates:** Checked at monthly level; aggregated if present.\n",
    "- **Types:** Coerced numeric fields; standardized `date` to monthly timestamps.\n",
    "- **Sanity:** Asserted WA in [0,1]; scanned ranges and nulls for each dataset."
   ]
  },
  {
   "cell_type": "markdown",
   "id": "1d266147",
   "metadata": {},
   "source": [
    "## 🧩 Machine Learning Plan (Preview)\n",
    "- **Target:** `wa_weighted`\n",
    "- **Candidate features:** `tavg`, `prcp_mm`, `snow_mm`, `awnd_ms`, `mean_speed_mph`, `alert_count`\n",
    "- **Models:** Linear Regression → Random Forest → Ridge/Lasso\n",
    "- **Evaluation:** MAE, RMSE, R² using a time-based split (train on early months, validate on later months).\n",
    "- **Challenges:** Limited sample size at monthly granularity; collinearity (e.g., `tavg` and seasonality); missing alert coverage for past months (alerts snapshot is current). Consider aggregating alerts over history if API access allows or proxy with incident-rich periods.\n",
    "- **Mitigations:** Regularization (Ridge/Lasso), feature scaling where appropriate, and careful backtesting windows to avoid leakage."
   ]
  },
  {
   "cell_type": "markdown",
   "id": "1a555ac0",
   "metadata": {},
   "source": [
    "## 🔄 Prior Feedback & Updates\n",
    "- Expanded from weather-only to include **traffic** (JSON API) and **service alerts** (Protocol Buffers).\n",
    "- Added robust **sanity checks**, **debug messages**, and **assertions** to make failures explicit.\n",
    "- Ensured **4+ visualizations** across **multiple libraries** (Seaborn, Matplotlib, Plotly).\n",
    "- Strengthened cleaning and integration pipeline; enforced WA bounds and typed coercions."
   ]
  },
  {
   "cell_type": "code",
   "execution_count": null,
   "id": "c865410a",
   "metadata": {},
   "outputs": [],
   "source": [
    "# Keep this as the last cell for grading automation\n",
    "!jupyter nbconvert --to python source.ipynb"
   ]
  }
 ],
 "metadata": {
  "kernelspec": {
   "display_name": "IT4063C",
   "language": "python",
   "name": "python3"
  },
  "language_info": {
   "codemirror_mode": {
    "name": "ipython",
    "version": 3
   },
   "file_extension": ".py",
   "mimetype": "text/x-python",
   "name": "python",
   "nbconvert_exporter": "python",
   "pygments_lexer": "ipython3",
   "version": "3.11.14"
  }
 },
 "nbformat": 4,
 "nbformat_minor": 5
}
