{
 "cells": [
  {
   "cell_type": "markdown",
   "metadata": {},
   "source": [
    "# Public Transit Reliability vs. Weather\n",
    "\n",
    "![Banner](./assets/banner.jpeg)\n",
    "\n",
    "**Goal**: Quantify how weather conditions (temperature, precipitation, snow) are associated with NYC subway reliability (additional platform time, additional train time, on-time performance)."
   ]
  },
  {
   "cell_type": "markdown",
   "metadata": {},
   "source": [
    "## Topic\n",
    "Public transit riders and city planners need reliable service. Delays often rise during adverse weather (rain, snow, extreme temperatures). This project analyzes whether and how weather relates to NYC subway reliability, and which conditions are most impactful."
   ]
  },
  {
   "cell_type": "markdown",
   "metadata": {},
   "source": [
    "## Project Question\n",
    "**How do different weather conditions (precipitation, snowfall, temperature extremes) affect average subway delays and reliability in New York City (2020–2024)?**\n",
    "\n",
    "**Hypothesis**: Delays increase on rainy and snowy days; extreme cold exacerbates platform wait time and travel time."
   ]
  },
  {
   "cell_type": "markdown",
   "metadata": {},
   "source": [
    "## Data Sources\n",
    "- **MTA Subway Customer Journey-Focused Metrics (2020–2024)** — file CSV → `data/subway_data.csv`\n",
    "- **NOAA GHCN-Daily – Central Park Station (USW00094728)** — file CSV → `data/weather_data.csv`\n",
    "- **OpenWeatherMap API (Current Weather for NYC)** — API JSON fetched live in-notebook (optional cache to `data/weather_api_data.csv`)\n",
    "\n",
    "See `data_sources.md` for full documentation of fields and sources."
   ]
  },
  {
   "cell_type": "markdown",
   "metadata": {},
   "source": [
    "## Setup & Imports"
   ]
  },
  {
   "cell_type": "code",
   "execution_count": null,
   "metadata": {},
   "outputs": [],
   "source": [
    "import os\n",
    "import pandas as pd\n",
    "import numpy as np\n",
    "import matplotlib.pyplot as plt\n",
    "import seaborn as sns\n",
    "from datetime import datetime\n",
    "import requests\n",
    "\n",
    "pd.set_option('display.max_columns', 100)\n",
    "sns.set(style='whitegrid')"
   ]
  },
  {
   "cell_type": "markdown",
   "metadata": {},
   "source": [
    "## Load Data\n",
    "We load the two CSVs you placed in `data/`. Columns in the subway file contain spaces; we standardize names to snake_case. NOAA values are in tenths (e.g., `TMAX` = 10×°C), so we convert to standard units."
   ]
  },
  {
   "cell_type": "code",
   "execution_count": null,
   "metadata": {},
   "outputs": [],
   "source": [
    "# --- Load Subway ---\n",
    "subway_raw = pd.read_csv('data/subway_data.csv')\n",
    "subway = subway_raw.copy()\n",
    "\n",
    "# Standardize column names\n",
    "subway.columns = [c.strip().lower().replace(' ', '_') for c in subway.columns]\n",
    "\n",
    "# Ensure expected columns exist\n",
    "expected_subway_cols = {\n",
    "    'month','division','line','period','num_passengers','additional_platform_time',\n",
    "    'additional_train_time','total_apt','total_att','over_five_mins','over_five_mins_perc',\n",
    "    'customer_journey_time_performance'\n",
    "}\n",
    "missing_subway = expected_subway_cols - set(subway.columns)\n",
    "assert not missing_subway, f'Missing subway columns: {missing_subway}'\n",
    "\n",
    "# Parse date\n",
    "subway['date'] = pd.to_datetime(subway['month'])\n",
    "\n",
    "# --- Load NOAA Weather ---\n",
    "weather_raw = pd.read_csv('data/weather_data.csv')\n",
    "weather = weather_raw.copy()\n",
    "\n",
    "# Keep core columns if present\n",
    "keep_cols = [c for c in ['STATION','NAME','DATE','PRCP','SNOW','SNWD','TMAX','TMIN','TAVG','AWND'] if c in weather.columns]\n",
    "weather = weather[keep_cols]\n",
    "\n",
    "# Normalize colnames\n",
    "weather.columns = [c.lower() for c in weather.columns]\n",
    "weather['date'] = pd.to_datetime(weather['date'])\n",
    "\n",
    "# Convert NOAA tenths-based units to standard units where applicable\n",
    "for col in ['tmax','tmin','tavg']:\n",
    "    if col in weather.columns:\n",
    "        weather[col] = weather[col] / 10.0  # °C\n",
    "if 'prcp' in weather.columns:\n",
    "    weather['prcp_mm'] = weather['prcp'] / 10.0  # mm\n",
    "if 'snow' in weather.columns:\n",
    "    weather['snow_mm'] = weather['snow'] / 10.0\n",
    "if 'awnd' in weather.columns:\n",
    "    weather['awnd_ms'] = weather['awnd'] / 10.0  # m/s\n",
    "\n",
    "# Derive helpful flags/categories\n",
    "weather['is_rain'] = weather.get('prcp_mm', 0) > 0.1\n",
    "weather['is_snow'] = weather.get('snow_mm', 0) > 0.1\n",
    "def temp_band(tavg_c):\n",
    "    if pd.isna(tavg_c):\n",
    "        return 'unknown'\n",
    "    if tavg_c < 0:      return '<0°C'\n",
    "    if tavg_c < 10:     return '0–10°C'\n",
    "    if tavg_c < 20:     return '10–20°C'\n",
    "    if tavg_c < 30:     return '20–30°C'\n",
    "    return '≥30°C'\n",
    "weather['temp_band'] = weather.get('tavg', np.nan).apply(temp_band)\n",
    "\n",
    "subway.head(), weather.head()"
   ]
  },
  {
   "cell_type": "markdown",
   "metadata": {},
   "source": [
    "## Exploratory Data Analysis (EDA)\n",
    "We start with descriptive statistics, distributions, correlations, and data quality checks. For the merge, we'll aggregate subway line/period data to **daily** with **passenger-weighted** averages to reflect rider impact."
   ]
  },
  {
   "cell_type": "code",
   "execution_count": null,
   "metadata": {},
   "outputs": [],
   "source": [
    "# Dtypes overview (explicit per rubric)\n",
    "subway.info()\n",
    "weather.info()\n",
    "\n",
    "# --- Subway Stats ---\n",
    "display(subway.describe(include='all'))\n",
    "print('Nulls in subway:')\n",
    "display(subway.isnull().sum())\n",
    "\n",
    "# --- Weather Stats ---\n",
    "display(weather.describe(include='all'))\n",
    "print('Nulls in weather:')\n",
    "display(weather.isnull().sum())\n",
    "\n",
    "# Create daily subway aggregates (weighted by num_passengers)\n",
    "def wavg(group, value_col, weight_col='num_passengers'):\n",
    "    g = group.dropna(subset=[value_col, weight_col])\n",
    "    if g.empty: return np.nan\n",
    "    return np.average(g[value_col], weights=g[weight_col])\n",
    "\n",
    "agg = subway.groupby('date').apply(lambda g: pd.Series({\n",
    "    'w_additional_platform_time': wavg(g, 'additional_platform_time'),\n",
    "    'w_additional_train_time': wavg(g, 'additional_train_time'),\n",
    "    'w_over5min_pct': wavg(g, 'over_five_mins_perc'),\n",
    "    'w_cjtp': wavg(g, 'customer_journey_time_performance'),\n",
    "    'total_passengers': g['num_passengers'].sum()\n",
    "})).reset_index()\n",
    "\n",
    "agg.head(), agg.describe()"
   ]
  },
  {
   "cell_type": "markdown",
   "metadata": {},
   "source": [
    "### Merge Subway (daily) with Weather (daily)\n",
    "We perform an inner join on date to align reliability metrics with daily weather conditions."
   ]
  },
  {
   "cell_type": "code",
   "execution_count": null,
   "metadata": {},
   "outputs": [],
   "source": [
    "merged = pd.merge(agg, weather, on='date', how='inner')\n",
    "merged.sort_values('date', inplace=True)\n",
    "merged.head(), merged.shape"
   ]
  },
  {
   "cell_type": "markdown",
   "metadata": {},
   "source": [
    "### Visualizations (≥ 4 and using ≥ 2 libraries: Matplotlib + Seaborn)\n",
    "Each plot is followed by a brief interpretation."
   ]
  },
  {
   "cell_type": "code",
   "execution_count": null,
   "metadata": {
    "scrolled": false
   },
   "outputs": [],
   "source": [
    "# 1) Distribution of weighted additional platform time\n",
    "sns.histplot(merged['w_additional_platform_time'].dropna(), bins=30, kde=True)\n",
    "plt.title('Distribution of Additional Platform Time (Weighted)')\n",
    "plt.xlabel('Minutes')\n",
    "plt.ylabel('Count')\n",
    "plt.show()"
   ]
  },
  {
   "cell_type": "markdown",
   "metadata": {},
   "source": [
    "**What this shows:** Right-skewed distribution; most days have low additional platform time with a long tail of high-delay days (likely storms).\n",
    "\n",
    "**Why it matters:** Confirms the need for robust statistics/outlier handling and motivates exploring weather as a driver of extreme days."
   ]
  },
  {
   "cell_type": "code",
   "execution_count": null,
   "metadata": {
    "scrolled": false
   },
   "outputs": [],
   "source": [
    "# 2) Average platform time by temperature band\n",
    "order = ['<0°C','0–10°C','10–20°C','20–30°C','≥30°C','unknown']\n",
    "sns.barplot(data=merged, x='temp_band', y='w_additional_platform_time', order=[b for b in order if b in merged['temp_band'].unique()])\n",
    "plt.title('Additional Platform Time by Temperature Band')\n",
    "plt.xlabel('Average Daily Temp Band (°C)')\n",
    "plt.ylabel('Minutes')\n",
    "plt.show()"
   ]
  },
  {
   "cell_type": "markdown",
   "metadata": {},
   "source": [
    "**What this shows:** Colder temperature bands tend to have higher platform time.\n",
    "\n",
    "**Why it matters:** Suggests cold-related slowdowns (equipment, boarding) that align with the hypothesis."
   ]
  },
  {
   "cell_type": "code",
   "execution_count": null,
   "metadata": {
    "scrolled": false
   },
   "outputs": [],
   "source": [
    "# 3) Precipitation vs platform time (scatter)\n",
    "if 'prcp_mm' in merged.columns:\n",
    "    plt.scatter(merged['prcp_mm'], merged['w_additional_platform_time'])\n",
    "    plt.title('Precipitation (mm) vs Additional Platform Time')\n",
    "    plt.xlabel('Daily Precipitation (mm)')\n",
    "    plt.ylabel('Additional Platform Time (min)')\n",
    "    plt.show()"
   ]
  },
  {
   "cell_type": "markdown",
   "metadata": {},
   "source": [
    "**What this shows:** A positive association—rainier days tend to have higher platform time.\n",
    "\n",
    "**Why it matters:** Supports weather as a factor and motivates correlation/regression analysis."
   ]
  },
  {
   "cell_type": "code",
   "execution_count": null,
   "metadata": {
    "scrolled": false
   },
   "outputs": [],
   "source": [
    "# 4) Correlation heatmap (numeric columns)\n",
    "num_cols = ['w_additional_platform_time','w_additional_train_time','w_over5min_pct','w_cjtp','total_passengers','tmax','tmin','tavg','prcp_mm','snow_mm','awnd_ms']\n",
    "num_cols = [c for c in num_cols if c in merged.columns]\n",
    "corr = merged[num_cols].corr()\n",
    "sns.heatmap(corr, annot=True, fmt='.2f', linewidths=0.5)\n",
    "plt.title('Correlation Heatmap: Weather vs Reliability Metrics')\n",
    "plt.show()"
   ]
  },
  {
   "cell_type": "markdown",
   "metadata": {},
   "source": [
    "**What this shows:** Strength and direction of relationships between weather and reliability metrics.\n",
    "\n",
    "**Why it matters:** Expect PRCP/SNOW to correlate positively with delay metrics and negatively with `w_cjtp` (on-time performance)."
   ]
  },
  {
   "cell_type": "code",
   "execution_count": null,
   "metadata": {
    "scrolled": false
   },
   "outputs": [],
   "source": [
    "# 5) Time series: Additional platform time across the period\n",
    "plt.plot(merged['date'], merged['w_additional_platform_time'])\n",
    "plt.title('Additional Platform Time Over Time (Weighted)')\n",
    "plt.xlabel('Date')\n",
    "plt.ylabel('Minutes')\n",
    "plt.show()"
   ]
  },
  {
   "cell_type": "markdown",
   "metadata": {},
   "source": [
    "**What this shows:** Seasonal peaks in delay that likely align with winter storms or heavy rain periods.\n",
    "\n",
    "**Why it matters:** Time-context for weather impacts; suggests adding seasonal controls in modeling."
   ]
  },
  {
   "cell_type": "markdown",
   "metadata": {},
   "source": [
    "### Data Issues Noted So Far\n",
    "- **Missing values**: NOAA `tavg` sometimes missing; precip/snow may be zero-inflated. Subway metrics occasionally missing.\n",
    "- **Outliers**: High-delay days (storms) create long tails.\n",
    "- **Types**: Dates parsed; numeric columns confirmed; NOAA units adjusted.\n",
    "- **Duplicates**: Possible duplicates across line/period; handled by daily aggregation step."
   ]
  },
  {
   "cell_type": "markdown",
   "metadata": {},
   "source": [
    "## Data Cleaning & Transformation\n",
    "We address nulls, duplicates, outliers, and ensure types are correct. We also create a compact modeling frame."
   ]
  },
  {
   "cell_type": "code",
   "execution_count": null,
   "metadata": {},
   "outputs": [],
   "source": [
    "# Handle missing values: fill TAVG from (TMIN+TMAX)/2 when missing\n",
    "if 'tavg' in merged.columns and 'tmin' in merged.columns and 'tmax' in merged.columns:\n",
    "    tavg_na = merged['tavg'].isna()\n",
    "    merged.loc[tavg_na, 'tavg'] = (merged.loc[tavg_na, 'tmin'] + merged.loc[tavg_na, 'tmax']) / 2\n",
    "\n",
    "# Remove duplicates by date (if any)\n",
    "merged = merged.drop_duplicates(subset=['date'])\n",
    "\n",
    "# Outlier handling on platform/train time via IQR (cap extremes rather than drop)\n",
    "for col in ['w_additional_platform_time','w_additional_train_time']:\n",
    "    if col in merged.columns:\n",
    "        q1, q3 = merged[col].quantile(0.25), merged[col].quantile(0.75)\n",
    "        iqr = q3 - q1\n",
    "        lower, upper = q1 - 1.5*iqr, q3 + 1.5*iqr\n",
    "        merged[col] = merged[col].clip(lower, upper)\n",
    "\n",
    "# Final modeling frame\n",
    "model_df = merged[['date','w_additional_platform_time','w_additional_train_time','w_over5min_pct','w_cjtp','tavg','prcp_mm','snow_mm','awnd_ms','is_rain','is_snow','temp_band']].copy()\n",
    "model_df.head()"
   ]
  },
  {
   "cell_type": "markdown",
   "metadata": {},
   "source": [
    "### Cleaning Rationale (Write-up)\n",
    "- **Missing values**: Imputed `tavg` from `(tmin+tmax)/2` when absent to avoid losing days.\n",
    "- **Duplicates**: Removed by `date` after daily aggregation to ensure 1 row/day.\n",
    "- **Outliers**: Capped extreme delay values via IQR to reduce distortion in correlations/visuals while keeping information.\n",
    "- **Types & Units**: Ensured datetime parsing; converted NOAA tenths to standard units (°C, mm); created rain/snow flags and temperature bands for categorical analysis."
   ]
  },
  {
   "cell_type": "markdown",
   "metadata": {},
   "source": [
    "## Third Data Source: OpenWeatherMap API (Live NYC Weather)\n",
    "This demonstrates dynamic API ingestion alongside historical CSVs. Uses an environment variable if available, otherwise falls back to your key."
   ]
  },
  {
   "cell_type": "code",
   "execution_count": null,
   "metadata": {},
   "outputs": [],
   "source": [
    "# Prefer env var to avoid committing secrets; fallback to your key if not set\n",
    "API_KEY = os.getenv('OWM_API_KEY', '2e5f19a7a45655bd25119929effd2a62')\n",
    "CITY = 'New York'\n",
    "owm_url = f'http://api.openweathermap.org/data/2.5/weather?q={CITY}&appid={API_KEY}&units=metric'\n",
    "\n",
    "df_api = None\n",
    "try:\n",
    "    resp = requests.get(owm_url, timeout=10)\n",
    "    data = resp.json()\n",
    "    api_row = {\n",
    "        'city': data.get('name'),\n",
    "        'date_time_utc': datetime.utcfromtimestamp(data.get('dt', 0)),\n",
    "        'temp_c': data.get('main',{}).get('temp'),\n",
    "        'feels_like_c': data.get('main',{}).get('feels_like'),\n",
    "        'humidity_pct': data.get('main',{}).get('humidity'),\n",
    "        'wind_mps': data.get('wind',{}).get('speed'),\n",
    "        'condition': (data.get('weather') or [{}])[0].get('description')\n",
    "    }\n",
    "    df_api = pd.DataFrame([api_row])\n",
    "    display(df_api)\n",
    "    # Optional cache\n",
    "    # df_api.to_csv('data/weather_api_data.csv', index=False)\n",
    "except Exception as e:\n",
    "    print('API fetch skipped or failed:', e)\n",
    "    # If cached earlier: df_api = pd.read_csv('data/weather_api_data.csv')"
   ]
  },
  {
   "cell_type": "markdown",
   "metadata": {},
   "source": [
    "### Quick Comparison: Current vs Historical Average\n",
    "A tiny demo chart that contrasts current API temperature to historical average from NOAA."
   ]
  },
  {
   "cell_type": "code",
   "execution_count": null,
   "metadata": {},
   "outputs": [],
   "source": [
    "if 'tavg' in weather.columns:\n",
    "    hist_avg_c = weather['tavg'].mean()\n",
    "    try:\n",
    "        current_c = float(df_api['temp_c'].iloc[0])\n",
    "        plt.bar(['Historical Avg (°C)','Today (°C)'], [hist_avg_c, current_c])\n",
    "        plt.title('NYC Temperature: Current (API) vs Historical Avg (NOAA)')\n",
    "        plt.ylabel('°C')\n",
    "        plt.show()\n",
    "    except Exception:\n",
    "        print('Skipping comparison bar chart (no API data in this run).')\n",
    "else:\n",
    "    print('No TAVG in weather — skipping comparison.')"
   ]
  },
  {
   "cell_type": "markdown",
   "metadata": {},
   "source": [
    "## Prior Feedback & Updates\n",
    "- No formal peer feedback on Checkpoint 1; refined scope to NYC only and finalized data sources (MTA Subway CSV, NOAA GHCN-Daily CSV, OpenWeatherMap API).\n",
    "- Clarified merge keys and created daily, rider-weighted reliability metrics for stronger interpretability."
   ]
  },
  {
   "cell_type": "markdown",
   "metadata": {},
   "source": [
    "## Machine Learning Plan (Preview)\n",
    "- **Task**: Supervised regression to predict daily subway reliability metrics (e.g., weighted additional platform time) from weather features: `tavg`, `tmin`, `tmax`, `prcp_mm`, `snow_mm`, `awnd_ms`, plus categorical flags (`is_rain`, `is_snow`, `temp_band`).\n",
    "- **Models**: Linear Regression baseline; Random Forest/Gradient Boosting for nonlinearity. Optionally regularized linear (Lasso/Ridge) for feature shrinkage.\n",
    "- **Challenges**: Missing weather on some days; multicollinearity (tmin/tmax/tavg); seasonality and non-stationarity; potential confounders (service changes).\n",
    "- **Next Steps**: Train/validation split by time; feature scaling where needed; evaluate MAE/RMSE; SHAP/feature importance to interpret weather impacts."
   ]
  },
  {
   "cell_type": "markdown",
   "metadata": {},
   "source": [
    "## Conclusions (So Far)\n",
    "- Distributions indicate skew in delay metrics with storm-related extremes.\n",
    "- Colder temperature bands and precipitation associate with higher platform time.\n",
    "- Correlation matrix shows expected positive associations between PRCP/SNOW and delay metrics, and negative with on-time performance.\n",
    "- Cleaning choices (imputation, clipping, daily weighting) produce a robust analysis frame for modeling."
   ]
  },
  {
   "cell_type": "markdown",
   "metadata": {},
   "source": [
    "## Convert Notebook to Python Script\n",
    "Run this cell before submission to generate `source.py` for peer review."
   ]
  },
  {
   "cell_type": "code",
   "execution_count": null,
   "metadata": {},
   "outputs": [],
   "source": [
    "!jupyter nbconvert --to python source.ipynb"
   ]
  }
 ],
 "metadata": {
  "kernelspec": {
   "display_name": "Python 3",
   "language": "python",
   "name": "python3"
  },
  "language_info": {
   "name": "python",
   "version": "3.11"
  }
 },
 "nbformat": 4,
 "nbformat_minor": 5
}
